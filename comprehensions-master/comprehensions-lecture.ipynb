{
 "cells": [
  {
   "cell_type": "markdown",
   "metadata": {
    "slideshow": {
     "slide_type": "slide"
    }
   },
   "source": [
    "# ![](https://ga-dash.s3.amazonaws.com/production/assets/logo-9f88ae6c9c3871690e33280fcf557f33.png) Intro to Python: List Comprehensions"
   ]
  },
  {
   "cell_type": "markdown",
   "metadata": {
    "slideshow": {
     "slide_type": "slide"
    }
   },
   "source": [
    "### LEARNING OBJECTIVES\n",
    "*After this lesson, you will be able to:*\n",
    "- Understand list comprehensions in python and why the are useful\n",
    "- Use list comprehensions to efficiently manipulate list data\n",
    "- Use other types of comprehensions"
   ]
  },
  {
   "cell_type": "markdown",
   "metadata": {
    "slideshow": {
     "slide_type": "slide"
    }
   },
   "source": [
    "## Recap of what we've seen so far"
   ]
  },
  {
   "cell_type": "markdown",
   "metadata": {
    "slideshow": {
     "slide_type": "-"
    }
   },
   "source": [
    "This week we've talked about sequences and mappings (lists, tuples, dicts), we've also talked about control flow (if/elif/else), and we've talked about loops (for..in). Now, we're going to be putting all of that together with something called **comprehensions**.\n",
    "\n",
    "Although there are comprehensions for each of the \"container types\" we've discussed, the most common comprehension is a list comprehension, so we'll spend the majority of our time there."
   ]
  },
  {
   "cell_type": "markdown",
   "metadata": {
    "slideshow": {
     "slide_type": "slide"
    }
   },
   "source": [
    "## What is a list comprehension?"
   ]
  },
  {
   "cell_type": "markdown",
   "metadata": {
    "slideshow": {
     "slide_type": "-"
    }
   },
   "source": [
    "Python list comprehensions are a simple and powerful syntax that, once mastered, allow for fast, efficient, and intuitive manipulation of array-like data types.\n",
    "\n",
    "Though list comprehensions may seem confusing at first, they are easy to get used to and once understood make otherwise complex code readable and concise.\n",
    "\n",
    "List comprehensions are essentially replacements for iteration control statements. To help you understand what we're doing, we'll show the non-comprehension control flow method as well.\n",
    "\n",
    "**NOTE!!**: you can get away with coding in python and not writing comprehensions, *but* you need to be able to read and understand them because they are used *everywhere*.\n",
    "They are also deemed really \"pythonic\"."
   ]
  },
  {
   "cell_type": "markdown",
   "metadata": {
    "slideshow": {
     "slide_type": "slide"
    }
   },
   "source": [
    "## Example: The 10x-er"
   ]
  },
  {
   "cell_type": "markdown",
   "metadata": {
    "slideshow": {
     "slide_type": "-"
    }
   },
   "source": [
    "Let's suppose we have a list and want to create another list where every element in that new list is ten times the number in our original list. How do we do that using a for loop?\n",
    "<br>\n",
    "```python\n",
    "orig_list = [0, 1, 2, 3, 4, 5]\n",
    "```"
   ]
  },
  {
   "cell_type": "markdown",
   "metadata": {
    "slideshow": {
     "slide_type": "slide"
    }
   },
   "source": [
    "## As a standard for loop"
   ]
  },
  {
   "cell_type": "code",
   "execution_count": null,
   "metadata": {
    "ExecuteTime": {
     "end_time": "2017-11-07T18:01:34.065258Z",
     "start_time": "2017-11-07T18:01:34.056085Z"
    },
    "collapsed": true,
    "slideshow": {
     "slide_type": "-"
    }
   },
   "outputs": [],
   "source": [
    "orig_list = [0, 1, 2, 3, 4, 5]"
   ]
  },
  {
   "cell_type": "code",
   "execution_count": null,
   "metadata": {
    "ExecuteTime": {
     "end_time": "2017-11-07T18:01:36.114952Z",
     "start_time": "2017-11-07T18:01:36.089605Z"
    },
    "slideshow": {
     "slide_type": "-"
    }
   },
   "outputs": [],
   "source": [
    "tenx_list = []\n",
    "\n",
    "for x in orig_list:\n",
    "    tenx_list.append(x * 10)\n",
    "\n",
    "tenx_list"
   ]
  },
  {
   "cell_type": "markdown",
   "metadata": {
    "slideshow": {
     "slide_type": "slide"
    }
   },
   "source": [
    "## Now simplify with list comprehensions"
   ]
  },
  {
   "cell_type": "code",
   "execution_count": null,
   "metadata": {
    "ExecuteTime": {
     "end_time": "2017-11-07T18:01:52.464623Z",
     "start_time": "2017-11-07T18:01:52.457953Z"
    },
    "slideshow": {
     "slide_type": "-"
    }
   },
   "outputs": [],
   "source": [
    "tenx_list = [x*10 for x in orig_list]\n",
    "\n",
    "tenx_list"
   ]
  },
  {
   "cell_type": "markdown",
   "metadata": {
    "slideshow": {
     "slide_type": "slide"
    }
   },
   "source": [
    "## Another Example: First Letters Only"
   ]
  },
  {
   "cell_type": "markdown",
   "metadata": {
    "slideshow": {
     "slide_type": "-"
    }
   },
   "source": [
    "It doesn't need to only be mathematical operations, any type of operation that can occur in a standard loop, can occur in a comprehension."
   ]
  },
  {
   "cell_type": "markdown",
   "metadata": {
    "slideshow": {
     "slide_type": "slide"
    }
   },
   "source": [
    "## How would we append just the upper case of the first letter of each item in this list?"
   ]
  },
  {
   "cell_type": "code",
   "execution_count": null,
   "metadata": {
    "ExecuteTime": {
     "end_time": "2017-11-07T18:04:49.890075Z",
     "start_time": "2017-11-07T18:04:49.885784Z"
    },
    "slideshow": {
     "slide_type": "-"
    }
   },
   "outputs": [],
   "source": [
    "words = ['alpha', 'bravo', 'charlie', 'delta', 'echo']\n",
    "letters = []"
   ]
  },
  {
   "cell_type": "markdown",
   "metadata": {
    "slideshow": {
     "slide_type": "slide"
    }
   },
   "source": [
    "## Like this..."
   ]
  },
  {
   "cell_type": "code",
   "execution_count": null,
   "metadata": {
    "ExecuteTime": {
     "end_time": "2017-11-07T18:05:00.462397Z",
     "start_time": "2017-11-07T18:05:00.459303Z"
    },
    "collapsed": true,
    "slideshow": {
     "slide_type": "-"
    }
   },
   "outputs": [],
   "source": [
    "words = ['alpha', 'bravo', 'charlie', 'delta', 'echo']"
   ]
  },
  {
   "cell_type": "code",
   "execution_count": null,
   "metadata": {
    "ExecuteTime": {
     "end_time": "2017-11-07T18:05:01.973413Z",
     "start_time": "2017-11-07T18:05:01.960816Z"
    },
    "slideshow": {
     "slide_type": "-"
    }
   },
   "outputs": [],
   "source": [
    "# as a standard loop\n",
    "letters = []\n",
    "\n",
    "for w in words:\n",
    "    letters.append(w.upper()[0])\n",
    "\n",
    "letters"
   ]
  },
  {
   "cell_type": "code",
   "execution_count": null,
   "metadata": {
    "ExecuteTime": {
     "end_time": "2017-11-07T18:05:03.593999Z",
     "start_time": "2017-11-07T18:05:03.585941Z"
    },
    "slideshow": {
     "slide_type": "-"
    }
   },
   "outputs": [],
   "source": [
    "# as a list comprehension\n",
    "letters = [w.upper()[0] for w in words]\n",
    "\n",
    "letters"
   ]
  },
  {
   "cell_type": "markdown",
   "metadata": {
    "slideshow": {
     "slide_type": "slide"
    }
   },
   "source": [
    "## Exercise\n",
    "\n",
    "Your turn. Write a simple list comprehension that squares the values in the following list:\n",
    "\n",
    "tosq = [1, 2, 3, 4, 5]"
   ]
  },
  {
   "cell_type": "code",
   "execution_count": null,
   "metadata": {
    "collapsed": true,
    "slideshow": {
     "slide_type": "fragment"
    }
   },
   "outputs": [],
   "source": [
    "# solution\n",
    "tosq = [1, 2, 3, 4, 5]\n",
    "sqd = [x**2 for x in tosq]\n",
    "sqd"
   ]
  },
  {
   "cell_type": "markdown",
   "metadata": {
    "slideshow": {
     "slide_type": "slide"
    }
   },
   "source": [
    "## Example: Even Only"
   ]
  },
  {
   "cell_type": "markdown",
   "metadata": {
    "slideshow": {
     "slide_type": "-"
    }
   },
   "source": [
    "Now let's do another that uses control flow. We want to create a list from our original list again, but this time, we only want to have the even numbers in our new list. Let's see first how to do this in a standard for loop with control statements."
   ]
  },
  {
   "cell_type": "markdown",
   "metadata": {
    "slideshow": {
     "slide_type": "slide"
    }
   },
   "source": [
    "## Standard for loop with control..."
   ]
  },
  {
   "cell_type": "code",
   "execution_count": null,
   "metadata": {
    "ExecuteTime": {
     "end_time": "2017-11-07T18:06:47.538201Z",
     "start_time": "2017-11-07T18:06:47.532578Z"
    },
    "collapsed": true,
    "slideshow": {
     "slide_type": "-"
    }
   },
   "outputs": [],
   "source": [
    "orig_list = [0, 1, 2, 3, 4, 5]\n",
    "even_list = []\n",
    "\n",
    "for x in orig_list:\n",
    "    if x % 2 == 0:\n",
    "        even_list.append(x)"
   ]
  },
  {
   "cell_type": "code",
   "execution_count": null,
   "metadata": {
    "ExecuteTime": {
     "end_time": "2017-11-07T18:06:49.143950Z",
     "start_time": "2017-11-07T18:06:49.137915Z"
    },
    "slideshow": {
     "slide_type": "-"
    }
   },
   "outputs": [],
   "source": [
    "even_list"
   ]
  },
  {
   "cell_type": "markdown",
   "metadata": {
    "slideshow": {
     "slide_type": "slide"
    }
   },
   "source": [
    "## Now simpler with list comprehensions"
   ]
  },
  {
   "cell_type": "code",
   "execution_count": null,
   "metadata": {
    "ExecuteTime": {
     "end_time": "2017-11-07T18:08:46.758542Z",
     "start_time": "2017-11-07T18:08:46.754390Z"
    },
    "collapsed": true,
    "slideshow": {
     "slide_type": "-"
    }
   },
   "outputs": [],
   "source": [
    "even_list = [x for x in orig_list if x % 2 == 0]"
   ]
  },
  {
   "cell_type": "code",
   "execution_count": null,
   "metadata": {
    "ExecuteTime": {
     "end_time": "2017-11-07T18:08:49.396718Z",
     "start_time": "2017-11-07T18:08:49.390539Z"
    },
    "slideshow": {
     "slide_type": "-"
    }
   },
   "outputs": [],
   "source": [
    "even_list"
   ]
  },
  {
   "cell_type": "markdown",
   "metadata": {
    "slideshow": {
     "slide_type": "slide"
    }
   },
   "source": [
    "## N.B.\n",
    "\n",
    "What is to the left of the \"for\" statement is what gets added to the list you are creating. In fact, when reading these, it makes sense to start reading from the (leftmost) \"for\" and treat it like a normal for statement, then cicle back to the leftmost part -- the appended part.\n",
    "\n",
    "Let's look at another example:"
   ]
  },
  {
   "cell_type": "markdown",
   "metadata": {
    "slideshow": {
     "slide_type": "slide"
    }
   },
   "source": [
    "## Normal statement"
   ]
  },
  {
   "cell_type": "code",
   "execution_count": null,
   "metadata": {
    "collapsed": true,
    "slideshow": {
     "slide_type": "-"
    }
   },
   "outputs": [],
   "source": [
    "orig_list = [1,2,3,4,5,6]\n",
    "even_list = []\n",
    "\n",
    "for i in orig_list:\n",
    "    if i % 2 == 0:\n",
    "        even_list.append(\"Even: \" + str(i))\n",
    "        \n",
    "even_list"
   ]
  },
  {
   "cell_type": "markdown",
   "metadata": {
    "slideshow": {
     "slide_type": "slide"
    }
   },
   "source": [
    "## As a list comprehension"
   ]
  },
  {
   "cell_type": "code",
   "execution_count": null,
   "metadata": {
    "collapsed": true,
    "slideshow": {
     "slide_type": "-"
    }
   },
   "outputs": [],
   "source": [
    "orig_list = [1,2,3,4,5,6]\n",
    "even_list = [\"Even: \" + str(i) for i in orig_list if i % 2 == 0]\n",
    "even_list"
   ]
  },
  {
   "cell_type": "markdown",
   "metadata": {
    "slideshow": {
     "slide_type": "slide"
    }
   },
   "source": [
    "## Exercise\n",
    "\n",
    "1. Write a list comprehension that takes the following list of tuples and divides the first element by the second element of each tuple.<br>\n",
    "```myl = [(100, 20), (40, 10), (30, 10), (12, 6), (3, 3)]```\n",
    "<br><br>\n",
    "\n",
    "2. Write a list comprehension that puts a `True` in the list if the first digit divided by the second is greater than 2. (The list should be 3 long). \n",
    "\n"
   ]
  },
  {
   "cell_type": "code",
   "execution_count": null,
   "metadata": {
    "ExecuteTime": {
     "end_time": "2017-11-07T18:13:03.060013Z",
     "start_time": "2017-11-07T18:13:03.051591Z"
    },
    "slideshow": {
     "slide_type": "slide"
    }
   },
   "outputs": [],
   "source": [
    "# solution 1\n",
    "myl = [(100, 20), (40, 10), (30, 10), (12, 6), (3,3)]\n",
    "\n",
    "[x[0]/x[1] for x in myl]"
   ]
  },
  {
   "cell_type": "code",
   "execution_count": null,
   "metadata": {
    "ExecuteTime": {
     "end_time": "2017-11-07T18:13:04.865543Z",
     "start_time": "2017-11-07T18:13:04.858264Z"
    },
    "slideshow": {
     "slide_type": "slide"
    }
   },
   "outputs": [],
   "source": [
    "# solution 2\n",
    "myl = [(100, 20), (40, 10), (30, 10), (12, 6), (3,3)]\n",
    "\n",
    "[True for x in myl if x[0]/x[1] > 2]"
   ]
  },
  {
   "cell_type": "markdown",
   "metadata": {
    "slideshow": {
     "slide_type": "slide"
    }
   },
   "source": [
    "## What if we want to include and if-else type statement?\n",
    "For the below list, we want to add a 1 if the number is even, and add a 0 if it's odd.\n",
    "\n",
    "`orig_list = [1,2,3,4,5,6]`\n"
   ]
  },
  {
   "cell_type": "code",
   "execution_count": null,
   "metadata": {
    "ExecuteTime": {
     "end_time": "2017-11-07T18:19:12.259776Z",
     "start_time": "2017-11-07T18:19:12.246923Z"
    },
    "collapsed": true,
    "slideshow": {
     "slide_type": "-"
    }
   },
   "outputs": [],
   "source": [
    "eval_list = [1 if x % 2 == 0 else 0 for x in orig_list]"
   ]
  },
  {
   "cell_type": "code",
   "execution_count": null,
   "metadata": {
    "ExecuteTime": {
     "end_time": "2017-11-07T18:19:12.941418Z",
     "start_time": "2017-11-07T18:19:12.933697Z"
    },
    "slideshow": {
     "slide_type": "-"
    }
   },
   "outputs": [],
   "source": [
    "eval_list"
   ]
  },
  {
   "cell_type": "markdown",
   "metadata": {
    "slideshow": {
     "slide_type": "slide"
    }
   },
   "source": [
    "## What about elifs?\n",
    "\n",
    "Can we do them?"
   ]
  },
  {
   "cell_type": "markdown",
   "metadata": {
    "slideshow": {
     "slide_type": "fragment"
    }
   },
   "source": [
    "Yes!\n",
    "\n",
    "But they are harder to read..."
   ]
  },
  {
   "cell_type": "markdown",
   "metadata": {
    "slideshow": {
     "slide_type": "slide"
    }
   },
   "source": [
    "For the below list, let's re-create a version of version of fizzbuzz"
   ]
  },
  {
   "cell_type": "code",
   "execution_count": null,
   "metadata": {
    "ExecuteTime": {
     "end_time": "2017-11-07T18:19:25.999593Z",
     "start_time": "2017-11-07T18:19:25.991331Z"
    },
    "slideshow": {
     "slide_type": "-"
    }
   },
   "outputs": [],
   "source": [
    "fizzer = range(1,31)\n",
    "print fizzer"
   ]
  },
  {
   "cell_type": "code",
   "execution_count": null,
   "metadata": {
    "ExecuteTime": {
     "end_time": "2017-11-07T18:23:29.819560Z",
     "start_time": "2017-11-07T18:23:29.809231Z"
    },
    "slideshow": {
     "slide_type": "fragment"
    }
   },
   "outputs": [],
   "source": [
    "['fizzbuzz' if x%5==0 and x%3==0 else \"fizz\" if x%3==0 else \"buzz\" if x%5==0 else x for x in fizzer]"
   ]
  },
  {
   "cell_type": "markdown",
   "metadata": {
    "slideshow": {
     "slide_type": "slide"
    }
   },
   "source": [
    "## Nested Comprehensions"
   ]
  },
  {
   "cell_type": "markdown",
   "metadata": {
    "slideshow": {
     "slide_type": "-"
    }
   },
   "source": [
    "What if we have loops inside loops? Can we handle that in a list comprehension?"
   ]
  },
  {
   "cell_type": "markdown",
   "metadata": {
    "slideshow": {
     "slide_type": "slide"
    }
   },
   "source": [
    "## Example: Flattening a matrix"
   ]
  },
  {
   "cell_type": "markdown",
   "metadata": {
    "slideshow": {
     "slide_type": "-"
    }
   },
   "source": [
    "Let's say we have a 2D matrix like the following:\n",
    "\n",
    "```\n",
    "two_d = [['r1c1', 'r1c2', 'r1c3'], ['r2c1', 'r2c2', 'r2c3']]\n",
    "```\n",
    "\n",
    "Where the first element of the outer list is row one, the second is row two and so on. Within each list sequential elements represent increasing columns.\n",
    "\n",
    "How could we flatten that into a single 1D list?"
   ]
  },
  {
   "cell_type": "markdown",
   "metadata": {
    "slideshow": {
     "slide_type": "slide"
    }
   },
   "source": [
    "## With nested loops, it looks like this:"
   ]
  },
  {
   "cell_type": "code",
   "execution_count": null,
   "metadata": {
    "ExecuteTime": {
     "end_time": "2017-11-07T20:06:44.372853Z",
     "start_time": "2017-11-07T20:06:44.351284Z"
    },
    "collapsed": true,
    "slideshow": {
     "slide_type": "-"
    }
   },
   "outputs": [],
   "source": [
    "two_d = [['r1c1', 'r1c2', 'r1c3'], ['r2c1', 'r2c2', 'r2c3']]\n",
    "one_d = []\n",
    "\n",
    "for row in two_d:\n",
    "    for item in row:\n",
    "        one_d.append(item)"
   ]
  },
  {
   "cell_type": "code",
   "execution_count": null,
   "metadata": {
    "ExecuteTime": {
     "end_time": "2017-11-07T20:06:45.465910Z",
     "start_time": "2017-11-07T20:06:45.457986Z"
    },
    "slideshow": {
     "slide_type": "-"
    }
   },
   "outputs": [],
   "source": [
    "one_d"
   ]
  },
  {
   "cell_type": "markdown",
   "metadata": {
    "slideshow": {
     "slide_type": "slide"
    }
   },
   "source": [
    "## How does that look with list comprehensions?"
   ]
  },
  {
   "cell_type": "code",
   "execution_count": null,
   "metadata": {
    "ExecuteTime": {
     "end_time": "2017-11-07T20:06:58.639223Z",
     "start_time": "2017-11-07T20:06:58.635618Z"
    },
    "collapsed": true,
    "slideshow": {
     "slide_type": "-"
    }
   },
   "outputs": [],
   "source": [
    "one_d = [item for row in two_d for item in row]"
   ]
  },
  {
   "cell_type": "code",
   "execution_count": null,
   "metadata": {
    "ExecuteTime": {
     "end_time": "2017-11-07T20:06:59.040213Z",
     "start_time": "2017-11-07T20:06:59.034322Z"
    },
    "slideshow": {
     "slide_type": "-"
    }
   },
   "outputs": [],
   "source": [
    "one_d"
   ]
  },
  {
   "cell_type": "markdown",
   "metadata": {
    "slideshow": {
     "slide_type": "-"
    }
   },
   "source": [
    "The key is to start on the left with what gets appended, and then go from the top down (left to right in the comprehension)."
   ]
  },
  {
   "cell_type": "markdown",
   "metadata": {
    "slideshow": {
     "slide_type": "slide"
    }
   },
   "source": [
    "## Exercise: Try it now yourself with the same 2D array, but add to the flattened list only if the value is from column 2"
   ]
  },
  {
   "cell_type": "markdown",
   "metadata": {
    "slideshow": {
     "slide_type": "slide"
    }
   },
   "source": [
    "## Solution"
   ]
  },
  {
   "cell_type": "code",
   "execution_count": null,
   "metadata": {
    "ExecuteTime": {
     "end_time": "2017-11-07T20:09:12.748531Z",
     "start_time": "2017-11-07T20:09:12.744911Z"
    },
    "collapsed": true,
    "slideshow": {
     "slide_type": "-"
    }
   },
   "outputs": [],
   "source": [
    "two_d = [['r1c1', 'r1c2', 'r1c3'], ['r2c1', 'r2c2', 'r2c3']]"
   ]
  },
  {
   "cell_type": "code",
   "execution_count": null,
   "metadata": {
    "ExecuteTime": {
     "end_time": "2017-11-07T20:09:13.202065Z",
     "start_time": "2017-11-07T20:09:13.195920Z"
    },
    "slideshow": {
     "slide_type": "-"
    }
   },
   "outputs": [],
   "source": [
    "[item for row in two_d for item in row if 'c2' in item]"
   ]
  },
  {
   "cell_type": "code",
   "execution_count": null,
   "metadata": {
    "ExecuteTime": {
     "end_time": "2017-11-07T20:09:26.758081Z",
     "start_time": "2017-11-07T20:09:26.749838Z"
    },
    "slideshow": {
     "slide_type": "-"
    }
   },
   "outputs": [],
   "source": [
    "[row[1] for row in two_d] # another solution"
   ]
  },
  {
   "cell_type": "markdown",
   "metadata": {
    "slideshow": {
     "slide_type": "slide"
    }
   },
   "source": [
    "## Dictionary Comprehension"
   ]
  },
  {
   "cell_type": "code",
   "execution_count": null,
   "metadata": {
    "ExecuteTime": {
     "end_time": "2017-11-07T20:10:46.625059Z",
     "start_time": "2017-11-07T20:10:46.620249Z"
    },
    "collapsed": true,
    "slideshow": {
     "slide_type": "-"
    }
   },
   "outputs": [],
   "source": [
    "list_one = ['a', 'b', 'c', 'd']\n",
    "list_two = [1, 2, 3, 4, 5]"
   ]
  },
  {
   "cell_type": "code",
   "execution_count": null,
   "metadata": {
    "ExecuteTime": {
     "end_time": "2017-11-07T20:10:47.038887Z",
     "start_time": "2017-11-07T20:10:47.028969Z"
    }
   },
   "outputs": [],
   "source": [
    "zip(list_one, list_two)"
   ]
  },
  {
   "cell_type": "markdown",
   "metadata": {},
   "source": [
    ">Check: what does zip do?"
   ]
  },
  {
   "cell_type": "code",
   "execution_count": null,
   "metadata": {
    "ExecuteTime": {
     "end_time": "2017-11-07T20:10:59.922203Z",
     "start_time": "2017-11-07T20:10:59.914314Z"
    },
    "collapsed": true,
    "slideshow": {
     "slide_type": "slide"
    }
   },
   "outputs": [],
   "source": [
    "d_comp = {k: v  for k,v in zip(list_one, list_two)}"
   ]
  },
  {
   "cell_type": "code",
   "execution_count": null,
   "metadata": {
    "ExecuteTime": {
     "end_time": "2017-11-07T20:11:00.410549Z",
     "start_time": "2017-11-07T20:11:00.403115Z"
    },
    "slideshow": {
     "slide_type": "-"
    }
   },
   "outputs": [],
   "source": [
    "d_comp"
   ]
  },
  {
   "cell_type": "markdown",
   "metadata": {
    "slideshow": {
     "slide_type": "-"
    }
   },
   "source": [
    ">Check: how were we able to get each item out of the tuples?"
   ]
  },
  {
   "cell_type": "markdown",
   "metadata": {
    "slideshow": {
     "slide_type": "slide"
    }
   },
   "source": [
    "## Exercise: \n",
    "\n",
    "Use the following list to create a dictionary comprehension called real_animals.\n",
    "\n",
    "```\n",
    "animals = [('cat', 'feline'),\n",
    "           ('dog', 'canine'), \n",
    "           ('horse', 'equine'),\n",
    "           ('pikachu', 'pokemon')]\n",
    "```\n",
    "\n",
    "The keys of the dictionary should be the animal name. The value should be a list containing two elements - the length of the animal name and the species of animal. All imaginary animals in the animals list should be excluded from the dictionary.\n",
    "\n",
    "The answer should look something like this:\n",
    "\n",
    "```\n",
    "{'cow' : [3, 'bovine']}\n",
    "```"
   ]
  },
  {
   "cell_type": "markdown",
   "metadata": {
    "slideshow": {
     "slide_type": "slide"
    }
   },
   "source": [
    "## Solution:"
   ]
  },
  {
   "cell_type": "code",
   "execution_count": null,
   "metadata": {
    "ExecuteTime": {
     "end_time": "2017-11-07T20:20:07.488370Z",
     "start_time": "2017-11-07T20:20:07.472074Z"
    },
    "slideshow": {
     "slide_type": "-"
    }
   },
   "outputs": [],
   "source": [
    "animals = [('cat', 'feline'),\n",
    "           ('dog', 'canine'), \n",
    "           ('horse', 'equine'),\n",
    "           ('pikachu', 'pokemon')]\n",
    "\n",
    "real_animals = {x[0]:[len(x[0]), x[1]] \\\n",
    "                for x in animals if x[1] != 'pokemon'}"
   ]
  },
  {
   "cell_type": "code",
   "execution_count": null,
   "metadata": {
    "ExecuteTime": {
     "end_time": "2017-11-07T20:20:08.601623Z",
     "start_time": "2017-11-07T20:20:08.591272Z"
    },
    "slideshow": {
     "slide_type": "-"
    }
   },
   "outputs": [],
   "source": [
    "real_animals"
   ]
  },
  {
   "cell_type": "markdown",
   "metadata": {
    "slideshow": {
     "slide_type": "slide"
    }
   },
   "source": [
    "## Independent Practice/Lab:\n",
    "\n",
    "- In the starter-code folder in this repo is a workbook to practice\n"
   ]
  }
 ],
 "metadata": {
  "anaconda-cloud": {},
  "celltoolbar": "Slideshow",
  "kernelspec": {
   "display_name": "Python 2",
   "language": "python",
   "name": "python2"
  },
  "language_info": {
   "codemirror_mode": {
    "name": "ipython",
    "version": 2
   },
   "file_extension": ".py",
   "mimetype": "text/x-python",
   "name": "python",
   "nbconvert_exporter": "python",
   "pygments_lexer": "ipython2",
   "version": "2.7.13"
  }
 },
 "nbformat": 4,
 "nbformat_minor": 1
}
