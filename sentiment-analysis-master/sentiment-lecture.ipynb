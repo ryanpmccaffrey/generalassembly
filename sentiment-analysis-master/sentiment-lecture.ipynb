{
 "cells": [
  {
   "cell_type": "code",
   "execution_count": 4,
   "metadata": {
    "collapsed": false,
    "slideshow": {
     "slide_type": "skip"
    }
   },
   "outputs": [],
   "source": [
    "from __future__ import division\n",
    "from IPython.core.display import Image\n",
    "\n",
    "import numpy as np\n",
    "import pandas as pd\n",
    "\n",
    "import matplotlib.pyplot as plt\n",
    "%matplotlib inline\n",
    "\n",
    "from sklearn.feature_extraction.text import CountVectorizer\n",
    "from sklearn.linear_model import LogisticRegression\n",
    "\n",
    "from sklearn.model_selection import cross_val_score, train_test_split\n",
    "from sklearn.metrics import accuracy_score\n"
   ]
  },
  {
   "cell_type": "markdown",
   "metadata": {
    "slideshow": {
     "slide_type": "slide"
    }
   },
   "source": [
    "# ![](https://ga-dash.s3.amazonaws.com/production/assets/logo-9f88ae6c9c3871690e33280fcf557f33.png) Intro to Sentiment Analysis\n",
    "Week 8| Lesson 5.1"
   ]
  },
  {
   "cell_type": "markdown",
   "metadata": {
    "slideshow": {
     "slide_type": "slide"
    }
   },
   "source": [
    "### LEARNING OBJECTIVES\n",
    "*After this lesson, you will be able to:*\n",
    "- Understand basic approaches to sentiment analysis\n",
    "- Implement simplified sentiment analysis using inverters, incrementers, decrementers\n",
    "- Use a sentiment analyzer from NLKT"
   ]
  },
  {
   "cell_type": "markdown",
   "metadata": {
    "slideshow": {
     "slide_type": "slide"
    }
   },
   "source": [
    "## Reminder: what have we already looked at?"
   ]
  },
  {
   "cell_type": "markdown",
   "metadata": {
    "slideshow": {
     "slide_type": "slide"
    }
   },
   "source": [
    "## What have we still not really addressed?"
   ]
  },
  {
   "cell_type": "markdown",
   "metadata": {
    "slideshow": {
     "slide_type": "fragment"
    }
   },
   "source": [
    "Many, many things...\n",
    "\n",
    "Including sentiment!  Is the text expressing positive, negative or neutral ideas?"
   ]
  },
  {
   "cell_type": "markdown",
   "metadata": {
    "slideshow": {
     "slide_type": "slide"
    }
   },
   "source": [
    "\"This is crazy good\"\n",
    "\n",
    "\"This is crazy\"\n",
    "\n",
    "\"I am happy\"\n",
    "\n",
    "\"I am so happy\"\n",
    "\n",
    "\"I am so not happy\"\n",
    "\n",
    "\"I am ever so slightly happy\"\n"
   ]
  },
  {
   "cell_type": "markdown",
   "metadata": {
    "slideshow": {
     "slide_type": "fragment"
    }
   },
   "source": [
    "It's tricky...\n",
    "\n",
    "What problems might we encounter?"
   ]
  },
  {
   "cell_type": "markdown",
   "metadata": {
    "slideshow": {
     "slide_type": "slide"
    }
   },
   "source": [
    "## How might we approach calculating the sentiment of a piece of text?"
   ]
  },
  {
   "cell_type": "markdown",
   "metadata": {
    "slideshow": {
     "slide_type": "fragment"
    }
   },
   "source": [
    "1) Use pre-labelled documents and use their labels and features to learn about sentiment\n",
    "\n",
    "2) Use pre-labelled words and use their sentiment to categorize documents"
   ]
  },
  {
   "cell_type": "markdown",
   "metadata": {
    "slideshow": {
     "slide_type": "slide"
    }
   },
   "source": [
    "## Use pre-labelled documents and use their labels and features to learn about sentiment\n",
    "\n",
    "NLKT provides a set of corpora for use, including a pre-labelled corpus of 2000 movie reviews."
   ]
  },
  {
   "cell_type": "code",
   "execution_count": 5,
   "metadata": {
    "collapsed": false,
    "slideshow": {
     "slide_type": "fragment"
    }
   },
   "outputs": [
    {
     "data": {
      "text/html": [
       "<div>\n",
       "<table border=\"1\" class=\"dataframe\">\n",
       "  <thead>\n",
       "    <tr style=\"text-align: right;\">\n",
       "      <th></th>\n",
       "      <th>review</th>\n",
       "      <th>sentiment</th>\n",
       "    </tr>\n",
       "  </thead>\n",
       "  <tbody>\n",
       "    <tr>\n",
       "      <th>0</th>\n",
       "      <td>films adapted from comic books have had plenty...</td>\n",
       "      <td>pos</td>\n",
       "    </tr>\n",
       "    <tr>\n",
       "      <th>1</th>\n",
       "      <td>every now and then a movie comes along from a ...</td>\n",
       "      <td>pos</td>\n",
       "    </tr>\n",
       "    <tr>\n",
       "      <th>2</th>\n",
       "      <td>you've got mail works alot better than it dese...</td>\n",
       "      <td>pos</td>\n",
       "    </tr>\n",
       "    <tr>\n",
       "      <th>3</th>\n",
       "      <td>\" jaws \" is a rare film that grabs your attent...</td>\n",
       "      <td>pos</td>\n",
       "    </tr>\n",
       "    <tr>\n",
       "      <th>4</th>\n",
       "      <td>moviemaking is a lot like being the general ma...</td>\n",
       "      <td>pos</td>\n",
       "    </tr>\n",
       "  </tbody>\n",
       "</table>\n",
       "</div>"
      ],
      "text/plain": [
       "                                              review sentiment\n",
       "0  films adapted from comic books have had plenty...       pos\n",
       "1  every now and then a movie comes along from a ...       pos\n",
       "2  you've got mail works alot better than it dese...       pos\n",
       "3  \" jaws \" is a rare film that grabs your attent...       pos\n",
       "4  moviemaking is a lot like being the general ma...       pos"
      ]
     },
     "execution_count": 5,
     "metadata": {},
     "output_type": "execute_result"
    }
   ],
   "source": [
    "df = pd.read_csv(\"./assets/datasets/revs.csv\")\n",
    "df.head()"
   ]
  },
  {
   "cell_type": "markdown",
   "metadata": {
    "slideshow": {
     "slide_type": "slide"
    }
   },
   "source": [
    "## Let's do some feature extraction on the text to try to predict whether films are positive or negative"
   ]
  },
  {
   "cell_type": "code",
   "execution_count": 6,
   "metadata": {
    "collapsed": false,
    "slideshow": {
     "slide_type": "-"
    }
   },
   "outputs": [
    {
     "data": {
      "text/html": [
       "<div>\n",
       "<table border=\"1\" class=\"dataframe\">\n",
       "  <thead>\n",
       "    <tr style=\"text-align: right;\">\n",
       "      <th></th>\n",
       "      <th>000</th>\n",
       "      <th>10</th>\n",
       "      <th>100</th>\n",
       "      <th>11</th>\n",
       "      <th>12</th>\n",
       "      <th>13</th>\n",
       "      <th>14</th>\n",
       "      <th>15</th>\n",
       "      <th>16</th>\n",
       "      <th>17</th>\n",
       "      <th>...</th>\n",
       "      <th>yeah</th>\n",
       "      <th>year</th>\n",
       "      <th>years</th>\n",
       "      <th>yes</th>\n",
       "      <th>york</th>\n",
       "      <th>young</th>\n",
       "      <th>younger</th>\n",
       "      <th>youth</th>\n",
       "      <th>zero</th>\n",
       "      <th>zone</th>\n",
       "    </tr>\n",
       "  </thead>\n",
       "  <tbody>\n",
       "    <tr>\n",
       "      <th>0</th>\n",
       "      <td>0</td>\n",
       "      <td>0</td>\n",
       "      <td>0</td>\n",
       "      <td>0</td>\n",
       "      <td>1</td>\n",
       "      <td>0</td>\n",
       "      <td>0</td>\n",
       "      <td>0</td>\n",
       "      <td>0</td>\n",
       "      <td>0</td>\n",
       "      <td>...</td>\n",
       "      <td>0</td>\n",
       "      <td>0</td>\n",
       "      <td>0</td>\n",
       "      <td>0</td>\n",
       "      <td>0</td>\n",
       "      <td>0</td>\n",
       "      <td>0</td>\n",
       "      <td>0</td>\n",
       "      <td>0</td>\n",
       "      <td>0</td>\n",
       "    </tr>\n",
       "    <tr>\n",
       "      <th>1</th>\n",
       "      <td>0</td>\n",
       "      <td>0</td>\n",
       "      <td>0</td>\n",
       "      <td>0</td>\n",
       "      <td>0</td>\n",
       "      <td>0</td>\n",
       "      <td>0</td>\n",
       "      <td>0</td>\n",
       "      <td>0</td>\n",
       "      <td>0</td>\n",
       "      <td>...</td>\n",
       "      <td>0</td>\n",
       "      <td>1</td>\n",
       "      <td>0</td>\n",
       "      <td>0</td>\n",
       "      <td>0</td>\n",
       "      <td>0</td>\n",
       "      <td>0</td>\n",
       "      <td>0</td>\n",
       "      <td>0</td>\n",
       "      <td>0</td>\n",
       "    </tr>\n",
       "    <tr>\n",
       "      <th>2</th>\n",
       "      <td>0</td>\n",
       "      <td>0</td>\n",
       "      <td>0</td>\n",
       "      <td>0</td>\n",
       "      <td>0</td>\n",
       "      <td>0</td>\n",
       "      <td>0</td>\n",
       "      <td>0</td>\n",
       "      <td>0</td>\n",
       "      <td>0</td>\n",
       "      <td>...</td>\n",
       "      <td>0</td>\n",
       "      <td>2</td>\n",
       "      <td>0</td>\n",
       "      <td>0</td>\n",
       "      <td>0</td>\n",
       "      <td>0</td>\n",
       "      <td>0</td>\n",
       "      <td>0</td>\n",
       "      <td>0</td>\n",
       "      <td>0</td>\n",
       "    </tr>\n",
       "    <tr>\n",
       "      <th>3</th>\n",
       "      <td>1</td>\n",
       "      <td>0</td>\n",
       "      <td>0</td>\n",
       "      <td>0</td>\n",
       "      <td>0</td>\n",
       "      <td>0</td>\n",
       "      <td>0</td>\n",
       "      <td>0</td>\n",
       "      <td>0</td>\n",
       "      <td>0</td>\n",
       "      <td>...</td>\n",
       "      <td>0</td>\n",
       "      <td>0</td>\n",
       "      <td>1</td>\n",
       "      <td>0</td>\n",
       "      <td>1</td>\n",
       "      <td>1</td>\n",
       "      <td>0</td>\n",
       "      <td>0</td>\n",
       "      <td>0</td>\n",
       "      <td>0</td>\n",
       "    </tr>\n",
       "    <tr>\n",
       "      <th>4</th>\n",
       "      <td>0</td>\n",
       "      <td>0</td>\n",
       "      <td>0</td>\n",
       "      <td>0</td>\n",
       "      <td>0</td>\n",
       "      <td>0</td>\n",
       "      <td>0</td>\n",
       "      <td>0</td>\n",
       "      <td>0</td>\n",
       "      <td>0</td>\n",
       "      <td>...</td>\n",
       "      <td>0</td>\n",
       "      <td>0</td>\n",
       "      <td>0</td>\n",
       "      <td>0</td>\n",
       "      <td>1</td>\n",
       "      <td>0</td>\n",
       "      <td>0</td>\n",
       "      <td>0</td>\n",
       "      <td>0</td>\n",
       "      <td>0</td>\n",
       "    </tr>\n",
       "  </tbody>\n",
       "</table>\n",
       "<p>5 rows × 3718 columns</p>\n",
       "</div>"
      ],
      "text/plain": [
       "   000  10  100  11  12  13  14  15  16  17  ...   yeah  year  years  yes  \\\n",
       "0    0   0    0   0   1   0   0   0   0   0  ...      0     0      0    0   \n",
       "1    0   0    0   0   0   0   0   0   0   0  ...      0     1      0    0   \n",
       "2    0   0    0   0   0   0   0   0   0   0  ...      0     2      0    0   \n",
       "3    1   0    0   0   0   0   0   0   0   0  ...      0     0      1    0   \n",
       "4    0   0    0   0   0   0   0   0   0   0  ...      0     0      0    0   \n",
       "\n",
       "   york  young  younger  youth  zero  zone  \n",
       "0     0      0        0      0     0     0  \n",
       "1     0      0        0      0     0     0  \n",
       "2     0      0        0      0     0     0  \n",
       "3     1      1        0      0     0     0  \n",
       "4     1      0        0      0     0     0  \n",
       "\n",
       "[5 rows x 3718 columns]"
      ]
     },
     "execution_count": 6,
     "metadata": {},
     "output_type": "execute_result"
    }
   ],
   "source": [
    "cv = CountVectorizer(min_df=25, stop_words='english')\n",
    "cv.fit(df['review'])\n",
    "word_df = pd.DataFrame(cv.transform(df['review']).todense(), columns = cv.get_feature_names())\n",
    "word_df.head()"
   ]
  },
  {
   "cell_type": "markdown",
   "metadata": {
    "slideshow": {
     "slide_type": "slide"
    }
   },
   "source": [
    "## Let's build a simple classification model using logistic regression"
   ]
  },
  {
   "cell_type": "code",
   "execution_count": 7,
   "metadata": {
    "collapsed": false,
    "slideshow": {
     "slide_type": "-"
    }
   },
   "outputs": [
    {
     "data": {
      "text/plain": [
       "array([ 0.82784431,  0.83483483,  0.82882883])"
      ]
     },
     "execution_count": 7,
     "metadata": {},
     "output_type": "execute_result"
    }
   ],
   "source": [
    "lr = LogisticRegression()\n",
    "y = df['sentiment'].apply(lambda x: 1 if x=='pos' else 0)\n",
    "X = word_df.values\n",
    "cross_val_score(lr, X, y)"
   ]
  },
  {
   "cell_type": "markdown",
   "metadata": {
    "slideshow": {
     "slide_type": "fragment"
    }
   },
   "source": [
    "The model predicts with ~82% accuracy which is pretty great!"
   ]
  },
  {
   "cell_type": "markdown",
   "metadata": {
    "slideshow": {
     "slide_type": "slide"
    }
   },
   "source": [
    "## Let's do a train test split, and see which reviews our model predicts as the least and most likely to be negative"
   ]
  },
  {
   "cell_type": "code",
   "execution_count": 8,
   "metadata": {
    "collapsed": false,
    "slideshow": {
     "slide_type": "-"
    }
   },
   "outputs": [],
   "source": [
    "X_train, X_test, y_train, y_test = train_test_split(X, y, \n",
    "                                                        test_size=0.30,\n",
    "                                                        random_state=14)\n",
    "lr.fit(X_train, y_train)\n",
    "preds = lr.predict_proba(X_test)[:,0]"
   ]
  },
  {
   "cell_type": "code",
   "execution_count": 9,
   "metadata": {
    "collapsed": false,
    "slideshow": {
     "slide_type": "slide"
    }
   },
   "outputs": [
    {
     "data": {
      "text/html": [
       "<div>\n",
       "<table border=\"1\" class=\"dataframe\">\n",
       "  <thead>\n",
       "    <tr style=\"text-align: right;\">\n",
       "      <th></th>\n",
       "      <th>index</th>\n",
       "      <th>sentiment</th>\n",
       "      <th>prob</th>\n",
       "    </tr>\n",
       "  </thead>\n",
       "  <tbody>\n",
       "    <tr>\n",
       "      <th>74</th>\n",
       "      <td>345</td>\n",
       "      <td>1</td>\n",
       "      <td>5.823519e-11</td>\n",
       "    </tr>\n",
       "    <tr>\n",
       "      <th>311</th>\n",
       "      <td>862</td>\n",
       "      <td>1</td>\n",
       "      <td>3.678860e-09</td>\n",
       "    </tr>\n",
       "    <tr>\n",
       "      <th>402</th>\n",
       "      <td>433</td>\n",
       "      <td>1</td>\n",
       "      <td>4.077185e-09</td>\n",
       "    </tr>\n",
       "    <tr>\n",
       "      <th>388</th>\n",
       "      <td>556</td>\n",
       "      <td>1</td>\n",
       "      <td>7.257252e-09</td>\n",
       "    </tr>\n",
       "    <tr>\n",
       "      <th>114</th>\n",
       "      <td>922</td>\n",
       "      <td>1</td>\n",
       "      <td>2.684623e-08</td>\n",
       "    </tr>\n",
       "  </tbody>\n",
       "</table>\n",
       "</div>"
      ],
      "text/plain": [
       "     index  sentiment          prob\n",
       "74     345          1  5.823519e-11\n",
       "311    862          1  3.678860e-09\n",
       "402    433          1  4.077185e-09\n",
       "388    556          1  7.257252e-09\n",
       "114    922          1  2.684623e-08"
      ]
     },
     "execution_count": 9,
     "metadata": {},
     "output_type": "execute_result"
    }
   ],
   "source": [
    "pred_df = y_test.reset_index()\n",
    "pred_df['prob'] = preds\n",
    "pred_df.sort_values('prob').head()"
   ]
  },
  {
   "cell_type": "markdown",
   "metadata": {
    "slideshow": {
     "slide_type": "fragment"
    }
   },
   "source": [
    "Film number 345 is the least likely to be negative according to our model"
   ]
  },
  {
   "cell_type": "code",
   "execution_count": 10,
   "metadata": {
    "collapsed": false,
    "slideshow": {
     "slide_type": "slide"
    }
   },
   "outputs": [
    {
     "name": "stdout",
     "output_type": "stream",
     "text": [
      "pos\n",
      "alien 3 is the only alien film i have seen in theaters . i saw it when i was 13 years old , and i must admit that i didn't like it . of course , i was expecting aliens again , and i believe this was my fault . in order to appreciate alien 3 , you need to see aliens , but you also have to wipe away all the expectations from its predecessor . james cameron's aliens was an action film , and many people consider it the best in the series . i am among that group , but alien 3 is an extremely entertaining film , which critics have bashed for its originality . many thought the final chase scene went on for too long , and many others thought that the film was too much dialogue and not enough action . both are untrue , because the film has quite a bit of action , and the dialogue was essential and well - written . as for the chase sequence , it was long , but not overly long , creating quite a bit of suspense from confusion . perhaps watching alien 3 on video helped . on the big screen , i was overwhelmed by something i normally didn't see . it was a very dark film , and the language was extremely harsh . i had always figured the alien series to rely on smart dialogue instead of moronic profanities . don't get me wrong -- i'm not saying films should eliminate swearing , but when a film substitutes dialogue with these profane remarks , it gets rather distracting . however , since seeing it again , i realize that the swearing is mainly just an aspect of the restrained hatred in the characters . as a result , alien 3's only flaw ( albeit a major one ) is the underdeveloped characters . we never really care about any of them , and i get the feeling that many scenes were cut in order to shorten the length of the movie . there were only two characters i liked , and of course one was lt . ripley ( sigourney weaver ) , although we have gotten to know her through two other films . the other character was dr . clemens ( charles dance ) , but because we like him , the inevitable occurs . alien 3 begins exactly where aliens left off . the prologue of alien 3 is a pure cinematic achievement by director david fincher , who had only directed music videos before his chance with this alien entry . without using a single line of dialogue ( unless you count computer warnings ) , fincher sets up the entire film . an impressive aspect of this is that fincher only shows a few seconds of film before cutting to a title card . we see lt . ripley and the little girl in their cryogenic compartments . . . ( title ) . . . a shot of an alien egg . . . ( title ) . . . alien legs stretch up into the air . . . ( title ) . . . and so on and so on . during these first ten minutes , i learned everything i had to in order for alien 3 to proceed . it's quite a remarkable opening , and one which will remain in my mind for a long time . because of this face - hugger which has been hatched aboard the vessel from aliens , the hypersleep containers are sent into an escape pod , and sent down to the nearest planet : fiorina fury - 161 , an ore refinery which has been turned into a maximum security prison . however , the face - hugger managed to attach itself to one of the cryo - tubes , and is sent down with the escape pod . unfortunately , during the landing , all but one of the survivors from aliens is killed . ripley is discovered by some of the inmates and taken back to the refinery . of course , you need a carrier for this face - hugger , and it attachs itself to the dog which came with the team of inmates . ripley is revived and asks to see the ship . after seeing a mysterious acid - eaten section , ripley asks to see the dead bodies , and then have them cremated . this cremation scene is one of the most powerful and impressive of all the alien films . featuring a monologue from dillon ( charles s . dutton ) , a prisoner who has found god , the movie cuts back and forth from the ceremony to the dog's demise . it's one of the most memorable moments , as the speech reflects exactly what is going on with the dog . and this is where alien 3 succeeds . fincher normally injects a lot of symbolism into his films , and i can easily see him becoming the next stanley kubrick or alfred hitchcock ( in fact , he is the mixture of both ) . fincher knows exactly what to film and how to film it , and i figure that he will be one of the few directors with complete control over his films . alien 3 is riddled with symbolic speeches and metaphorical images . by doing so , fincher creates some of the best scenes in the entire alien franchise . many people have criticized fincher's filming of the death scene of ripley ( i reveal nothing by saying this ) as looking too fake , but i enjoy and relish in the portrayal . showing ripley fall in slow motion is a nice touch , but by actually not showing her hit the vat of iron , a great deal of symbolism is derived . i feel that it would have spoiled the mood of the entire film if they had actually shown her splash into the molten iron . however , most people seem to want to witness ripley die ( which creates a paradox , as she is the character i didn't want to see die ) . why she is killed is one of the surprises of the film , and i don't plan on spoiling that in this review . > from every alien film comes several memorable moments which seem to stick with you forever . in alien , it was , of course , the moment the alien burst out of kane's stomach . in aliens , it was the showdown between alien and ripley in a machine . alien 3 has several , but most memorable is the terrific shot involving the alien and ripley . ripley is pushed up against a wall , and the alien stands inches away from her . why it doesn't kill her is a shocker , which later leads to a surprise ending . fincher apparently loves to use close - ups of actors'faces ( michael douglas and the clown face - off in the game in the same style ) , and by shaving off the actors'hair , the only thing we have to look at is their faces . many critics didn't like all the actors being bald , but it makes complete sense when taken in context of the plot . most of alien 3 works when you take it in context of the story , but when you try to compare it to its predecessors , fincher's turn seems a bit gloomy and dark , though that's not always a bad thing . the plot is pretty much a rehash of the first two films , with some major twists . again , we are setup with several different characters , and one by one , they are picked off . however , while the first two had tons of arsenal ( especially cameron's film ) , alien 3 takes place on a planet devoid of human life except for this run - down prison . as a result , no weapons are to be found . this creates a lot of tension , although i must admit that fincher could have added a lot more suspense . as an alien film , alien 3 is the worst of the series , but by itself , it is an extremely well - made motion picture , with a lot more merits than not . the unfortunate thing surrounding this second sequel is the one - dimensional characters . i never was really emotionally involved on screen because most of the characters are hardcore criminals whom i really could care less about . despite this , ripley was the central figure , and that's what is important . we care for her , even though she began to act just like one of the guys . again , the technical side of this film is remarkable , and better than the two previous versions . while cameron's version was a pumped up action film with massive artillary , fincher uses brilliant camera angles , terrific lighting , and moody sets . the cinematography , by alex thomson , is very well done , with a terrific chase sequence towards the end of the movie . the confusion of the ending draws the viewer in , as we are just as confused as the actors who are being chased around . the yellows , reds , and oranges of the lights create a dark mood , and by themselves create a lot of suspense . shadows dance on the walls , and yet those shadows could easily be the alien . the alien is different from its predecessors this time around , and the swiftness of this alien is quite intense . the camera likes to take up the perspective of the alien , racing after the characters . the sets are quite incredible , which are reminiscient of the nostromo from alien . the narrow corridors and labrynthine hallways is well constructed . the sets appear to be in the future , but not too far in the future . one of the set pieces even aids in the destruction of the alien ( nothing surprising there ) . sigourney weaver turns out yet another good performance , equaling her portrayal of ripley in aliens . she was snubbed at the oscars for this one , mainly because the film was a critical bomb . her reactions are far more realistic in this film , with her crying over the loss of the little child she risked her life saving in her previous encounter . it's quite touching really . charles s . dutton is very strong in his performance as one of the inmates , and i was on the brink of actually caring for him . charles dance turns in a nice low - key performance , and as a result , i cared for him immediately . lance henriksen makes a brief appearance as bishop ii , but he was more entertaining in aliens . the rest of the cast is pretty stale , though pete postlethwaite sticks out due to his recent turns in the usual suspects and the lost world . alien 3 is rated r for strong violence and language , and sex . although it has its flaws , alien 3 is highly entertaining with rich symbolism . this film reminds you how much fun it is to spot metaphorical images throughout a movie . while kubrick may have a moral message throughout his films , fincher relies on cinematic devices to bring his meanings out . it's a film like fincher's which reminds us that it is okay for a film to sacrifice quality for quantity ( the final scene ) . in fact , it tells us that we , as a society , have become too critical of things which may happen to look a little \" fake . \" whenever something looks fake on screen , we immediately point it out as a mistake . but perhaps it isn't a mistake .\n"
     ]
    }
   ],
   "source": [
    "print df.loc[345,'sentiment']\n",
    "print df.loc[345,'review']"
   ]
  },
  {
   "cell_type": "code",
   "execution_count": 11,
   "metadata": {
    "collapsed": false,
    "slideshow": {
     "slide_type": "slide"
    }
   },
   "outputs": [
    {
     "data": {
      "text/html": [
       "<div>\n",
       "<table border=\"1\" class=\"dataframe\">\n",
       "  <thead>\n",
       "    <tr style=\"text-align: right;\">\n",
       "      <th></th>\n",
       "      <th>index</th>\n",
       "      <th>sentiment</th>\n",
       "      <th>prob</th>\n",
       "    </tr>\n",
       "  </thead>\n",
       "  <tbody>\n",
       "    <tr>\n",
       "      <th>547</th>\n",
       "      <td>1772</td>\n",
       "      <td>0</td>\n",
       "      <td>0.999996</td>\n",
       "    </tr>\n",
       "    <tr>\n",
       "      <th>482</th>\n",
       "      <td>1367</td>\n",
       "      <td>0</td>\n",
       "      <td>0.999999</td>\n",
       "    </tr>\n",
       "    <tr>\n",
       "      <th>374</th>\n",
       "      <td>1676</td>\n",
       "      <td>0</td>\n",
       "      <td>1.000000</td>\n",
       "    </tr>\n",
       "    <tr>\n",
       "      <th>176</th>\n",
       "      <td>1766</td>\n",
       "      <td>0</td>\n",
       "      <td>1.000000</td>\n",
       "    </tr>\n",
       "    <tr>\n",
       "      <th>384</th>\n",
       "      <td>1807</td>\n",
       "      <td>0</td>\n",
       "      <td>1.000000</td>\n",
       "    </tr>\n",
       "  </tbody>\n",
       "</table>\n",
       "</div>"
      ],
      "text/plain": [
       "     index  sentiment      prob\n",
       "547   1772          0  0.999996\n",
       "482   1367          0  0.999999\n",
       "374   1676          0  1.000000\n",
       "176   1766          0  1.000000\n",
       "384   1807          0  1.000000"
      ]
     },
     "execution_count": 11,
     "metadata": {},
     "output_type": "execute_result"
    }
   ],
   "source": [
    "pred_df.sort_values('prob').tail()"
   ]
  },
  {
   "cell_type": "markdown",
   "metadata": {
    "slideshow": {
     "slide_type": "-"
    }
   },
   "source": [
    "Film number 1772 is the most likely to be negative according to our model"
   ]
  },
  {
   "cell_type": "code",
   "execution_count": 12,
   "metadata": {
    "collapsed": false,
    "slideshow": {
     "slide_type": "slide"
    }
   },
   "outputs": [
    {
     "name": "stdout",
     "output_type": "stream",
     "text": [
      "neg\n",
      "it happens every year -- the days get longer , the weather gets warmer and the studios start releasing their big - budget blockbusters . this year's crop already seems inferior to that of past summers , even 1997's lackluster trio of batman & robin , the fifth element and the lost world . the marketing blitz in 1998 has been centered on godzilla ( \" heeere , lee - zerd , lee - zerd . . . \" ) , which doesn't make me optimistic about future summers . godzilla is , of course , based on a series of cult movies ( translation : really bad movies only a few people can tolerate ) from japan that turn up really late at night on ted turner - owned cable stations . that this big - budget remake won't rise above its roots is fairly obvious . the credits show us the origin of godzilla . in five words : nuclear explosion creates giant lizard . sounds like an enquirer headline , doesn't it ? the mushroom cloud is followed by the inevitable \" discovery \" sequence . this time , a japanese guy is eating noodles with chopsticks while watching sumo wrestling ( if that ain't a stereotype . . . ) when he discovers the telltale radar blip . people die . cut to our protagonist , played by matthew broderick . he makes his first appearance wearing headphones , warbling along to \" singin'in the rain . \" it's a none - too - subtle sign that he wishes he were in a classier movie . no dice , bueller . from the beginning , poor matthew has to do embarassing things like fondle giant earthworms and stand in godzilla's enormous footprint . every disaster movie has to have a know - it - all scientist , and this time broderick is it . as the world's leading expert on radiated earthworms ( and wouldn't you love to have that printed on your business card ? ) , broderick is invaluable to the government . he immediately dispels vicki lewis'theory that godzilla is a dinosaur because , hey , you can't take seriously the intellectual arguments of \" newsradio \" cast members . broderick instead hits the nail on the head , announcing godzilla is a radiated lizard . \" the radiation isn't an anamoly , \" he announces , and lightning strikes . \" i believe this is a mutated abberation , \" he continues , and lightning strikes again . it's vocabulary lightning , you see , activated by words of four syllables or more . meanwhile , we're introduced to our new york cast , headed by an ambitious broadcast journalist ( maria patillo ) , broderick's former love . gee , what are the odds their paths will cross again at a dramatically important time ? poor patillo has been trying to get ahead in the news business for years but has been held down by heartless anchorman harry shearer . italian cameraman hank azaria tells her she's not ruthless enough : \" nice doesn't get you anywhere in this town . it's dog eat dog . \" actually , it's lizard eat city , as godzilla emerges from the atlantic to begin a rampage on the big apple's core . the filmmakers provide us with a one - note drunk fisherman who hooks godzilla . \" i think i've got a bite , \" he announces as a gigantic tidal wave begins rushing toward him . you can guess what happens next . similar reactions spring forth as the monster prowls the city . hearing the rumble of approaching footsteps , one new yorker remarks , \" please don't tell me that's another parade . \" please don't tell me that's the best line you could come up with . mayor ebert is not pleased . played by the principal from \" head of the class , \" he continually makes the wrong decision when given an option , and bickers with his assistant gene . i guess the filmmakers knew they'd be getting two thumbs down from the critics and didn't even bother to kiss ass . the problem is , if you're going to attack siskel and ebert , you should at least make it funny . dialogue like , \" didn't we agree that we weren't going to have any sweets until after the election ? \" followed by , \" back off , gene , \" just doesn't work for me . other lame running jokes include everyone mispronouncing the broderick character's last name and frenchman jean reno's inability to find a good cup of coffee in new york . there's even more fun to be had as godzilla progresses . as the beast heads back into hiding , broderick suggests the military lure it out with food . cue twelve dump trucks , all dropping fish into a new york intersection . ( broderick : that's a lot of fish . ) that ambush fails , but broderick soon figures out why godzilla came to new york by buying $ 50 worth of home pregnancy tests and running lizard blood through them . yep , godzilla's with children , which makes you wonder just what kind of creature would be horny enough to have sex with godzilla . that's until broderick explains that godzilla reproduces asexually , like linda tripp . godzilla comes to us from the makers of independence day , so it has a lot of dumb action scenes , destructive special effects and shallow subplots . look no further than patillo's betrayal of broderick ( patillo : what have i done , animal ? what have i become ? ) and the climactic \" godzilla's nest \" sequence in madison square garden . the main difference is , independence day was about the experience . it had a real global , patriotic element to it , and some genuinely fun characters . godzilla has lots of rain and lightning , reptilian action ripped off from jurassic park and endless product placement from the likes of kodak , blockbuster , juicy fruit , swatch , sprint and bumble bee tuna . yes , bumble bee actually paid to be known as the official tuna of godzilla . that fact alone is twice as interesting as anything in the movie .\n"
     ]
    }
   ],
   "source": [
    "print df.loc[1772,'sentiment']\n",
    "print df.loc[1772,'review']"
   ]
  },
  {
   "cell_type": "markdown",
   "metadata": {},
   "source": [
    "Add predicting the most likely bad review...\n",
    "\n",
    "Add ratios!"
   ]
  },
  {
   "cell_type": "markdown",
   "metadata": {
    "slideshow": {
     "slide_type": "slide"
    }
   },
   "source": [
    "## Let's say we want to know which words are most associated with good / bad reviews.  How might we do that?"
   ]
  },
  {
   "cell_type": "markdown",
   "metadata": {
    "slideshow": {
     "slide_type": "fragment"
    }
   },
   "source": [
    "We could count how many times a particular word appears in a positive review, and how many times it appears in a negative review, and measure the difference."
   ]
  },
  {
   "cell_type": "code",
   "execution_count": 13,
   "metadata": {
    "collapsed": true,
    "slideshow": {
     "slide_type": "slide"
    }
   },
   "outputs": [],
   "source": [
    "def count_word(x):\n",
    "    '''Return number of postive / negative reviews which mention x'''\n",
    "    pos = []\n",
    "    neg = []\n",
    "    for rev, sentiment in zip(df['review'], df['sentiment']):\n",
    "        if x in rev and sentiment==\"pos\":\n",
    "            pos.append(x)\n",
    "        elif x in rev and sentiment==\"neg\":\n",
    "            neg.append(x)\n",
    "    return len(pos), len(neg)"
   ]
  },
  {
   "cell_type": "code",
   "execution_count": 14,
   "metadata": {
    "collapsed": false
   },
   "outputs": [
    {
     "data": {
      "text/html": [
       "<div>\n",
       "<table border=\"1\" class=\"dataframe\">\n",
       "  <thead>\n",
       "    <tr style=\"text-align: right;\">\n",
       "      <th></th>\n",
       "      <th>words</th>\n",
       "      <th>ratio</th>\n",
       "      <th>pos</th>\n",
       "      <th>neg</th>\n",
       "    </tr>\n",
       "  </thead>\n",
       "  <tbody>\n",
       "    <tr>\n",
       "      <th>0</th>\n",
       "      <td>000</td>\n",
       "      <td>(65, 85)</td>\n",
       "      <td>65</td>\n",
       "      <td>85</td>\n",
       "    </tr>\n",
       "    <tr>\n",
       "      <th>1</th>\n",
       "      <td>10</td>\n",
       "      <td>(145, 175)</td>\n",
       "      <td>145</td>\n",
       "      <td>175</td>\n",
       "    </tr>\n",
       "    <tr>\n",
       "      <th>2</th>\n",
       "      <td>100</td>\n",
       "      <td>(45, 43)</td>\n",
       "      <td>45</td>\n",
       "      <td>43</td>\n",
       "    </tr>\n",
       "    <tr>\n",
       "      <th>3</th>\n",
       "      <td>11</td>\n",
       "      <td>(25, 26)</td>\n",
       "      <td>25</td>\n",
       "      <td>26</td>\n",
       "    </tr>\n",
       "    <tr>\n",
       "      <th>4</th>\n",
       "      <td>12</td>\n",
       "      <td>(41, 32)</td>\n",
       "      <td>41</td>\n",
       "      <td>32</td>\n",
       "    </tr>\n",
       "  </tbody>\n",
       "</table>\n",
       "</div>"
      ],
      "text/plain": [
       "  words       ratio  pos  neg\n",
       "0   000    (65, 85)   65   85\n",
       "1    10  (145, 175)  145  175\n",
       "2   100    (45, 43)   45   43\n",
       "3    11    (25, 26)   25   26\n",
       "4    12    (41, 32)   41   32"
      ]
     },
     "execution_count": 14,
     "metadata": {},
     "output_type": "execute_result"
    }
   ],
   "source": [
    "feature_df = pd.DataFrame()\n",
    "feature_df['words'] = cv.get_feature_names()\n",
    "feature_df['ratio'] = feature_df['words'].apply(count_word)\n",
    "feature_df['pos'] = feature_df['ratio'].apply(lambda x: x[0])\n",
    "feature_df['neg'] = feature_df['ratio'].apply(lambda x: x[1])\n",
    "feature_df.head()"
   ]
  },
  {
   "cell_type": "markdown",
   "metadata": {
    "slideshow": {
     "slide_type": "slide"
    }
   },
   "source": [
    "## Words most associated with negative reviews"
   ]
  },
  {
   "cell_type": "code",
   "execution_count": 15,
   "metadata": {
    "collapsed": false,
    "slideshow": {
     "slide_type": "-"
    }
   },
   "outputs": [
    {
     "data": {
      "text/html": [
       "<div>\n",
       "<table border=\"1\" class=\"dataframe\">\n",
       "  <thead>\n",
       "    <tr style=\"text-align: right;\">\n",
       "      <th></th>\n",
       "      <th>words</th>\n",
       "      <th>ratio</th>\n",
       "      <th>pos</th>\n",
       "      <th>neg</th>\n",
       "      <th>net</th>\n",
       "    </tr>\n",
       "  </thead>\n",
       "  <tbody>\n",
       "    <tr>\n",
       "      <th>274</th>\n",
       "      <td>bad</td>\n",
       "      <td>(280, 545)</td>\n",
       "      <td>280</td>\n",
       "      <td>545</td>\n",
       "      <td>-265</td>\n",
       "    </tr>\n",
       "    <tr>\n",
       "      <th>3603</th>\n",
       "      <td>waste</td>\n",
       "      <td>(44, 202)</td>\n",
       "      <td>44</td>\n",
       "      <td>202</td>\n",
       "      <td>-158</td>\n",
       "    </tr>\n",
       "    <tr>\n",
       "      <th>3692</th>\n",
       "      <td>worst</td>\n",
       "      <td>(44, 194)</td>\n",
       "      <td>44</td>\n",
       "      <td>194</td>\n",
       "      <td>-150</td>\n",
       "    </tr>\n",
       "    <tr>\n",
       "      <th>2452</th>\n",
       "      <td>plot</td>\n",
       "      <td>(426, 576)</td>\n",
       "      <td>426</td>\n",
       "      <td>576</td>\n",
       "      <td>-150</td>\n",
       "    </tr>\n",
       "    <tr>\n",
       "      <th>3198</th>\n",
       "      <td>stupid</td>\n",
       "      <td>(41, 186)</td>\n",
       "      <td>41</td>\n",
       "      <td>186</td>\n",
       "      <td>-145</td>\n",
       "    </tr>\n",
       "  </tbody>\n",
       "</table>\n",
       "</div>"
      ],
      "text/plain": [
       "       words       ratio  pos  neg  net\n",
       "274      bad  (280, 545)  280  545 -265\n",
       "3603   waste   (44, 202)   44  202 -158\n",
       "3692   worst   (44, 194)   44  194 -150\n",
       "2452    plot  (426, 576)  426  576 -150\n",
       "3198  stupid   (41, 186)   41  186 -145"
      ]
     },
     "execution_count": 15,
     "metadata": {},
     "output_type": "execute_result"
    }
   ],
   "source": [
    "feature_df['net'] = feature_df['pos'] - feature_df['neg']\n",
    "feature_df.sort_values('net').head()"
   ]
  },
  {
   "cell_type": "markdown",
   "metadata": {
    "slideshow": {
     "slide_type": "slide"
    }
   },
   "source": [
    "## Words most associated with positive reviews"
   ]
  },
  {
   "cell_type": "code",
   "execution_count": 16,
   "metadata": {
    "collapsed": false,
    "slideshow": {
     "slide_type": "-"
    }
   },
   "outputs": [
    {
     "data": {
      "text/html": [
       "<div>\n",
       "<table border=\"1\" class=\"dataframe\">\n",
       "  <thead>\n",
       "    <tr style=\"text-align: right;\">\n",
       "      <th></th>\n",
       "      <th>words</th>\n",
       "      <th>ratio</th>\n",
       "      <th>pos</th>\n",
       "      <th>neg</th>\n",
       "      <th>net</th>\n",
       "    </tr>\n",
       "  </thead>\n",
       "  <tbody>\n",
       "    <tr>\n",
       "      <th>1931</th>\n",
       "      <td>life</td>\n",
       "      <td>(517, 378)</td>\n",
       "      <td>517</td>\n",
       "      <td>378</td>\n",
       "      <td>139</td>\n",
       "    </tr>\n",
       "    <tr>\n",
       "      <th>2393</th>\n",
       "      <td>perform</td>\n",
       "      <td>(521, 377)</td>\n",
       "      <td>521</td>\n",
       "      <td>377</td>\n",
       "      <td>144</td>\n",
       "    </tr>\n",
       "    <tr>\n",
       "      <th>2390</th>\n",
       "      <td>perfect</td>\n",
       "      <td>(278, 125)</td>\n",
       "      <td>278</td>\n",
       "      <td>125</td>\n",
       "      <td>153</td>\n",
       "    </tr>\n",
       "    <tr>\n",
       "      <th>2394</th>\n",
       "      <td>performance</td>\n",
       "      <td>(480, 321)</td>\n",
       "      <td>480</td>\n",
       "      <td>321</td>\n",
       "      <td>159</td>\n",
       "    </tr>\n",
       "    <tr>\n",
       "      <th>1467</th>\n",
       "      <td>great</td>\n",
       "      <td>(485, 320)</td>\n",
       "      <td>485</td>\n",
       "      <td>320</td>\n",
       "      <td>165</td>\n",
       "    </tr>\n",
       "  </tbody>\n",
       "</table>\n",
       "</div>"
      ],
      "text/plain": [
       "            words       ratio  pos  neg  net\n",
       "1931         life  (517, 378)  517  378  139\n",
       "2393      perform  (521, 377)  521  377  144\n",
       "2390      perfect  (278, 125)  278  125  153\n",
       "2394  performance  (480, 321)  480  321  159\n",
       "1467        great  (485, 320)  485  320  165"
      ]
     },
     "execution_count": 16,
     "metadata": {},
     "output_type": "execute_result"
    }
   ],
   "source": [
    "feature_df.sort_values('net').tail()"
   ]
  },
  {
   "cell_type": "markdown",
   "metadata": {
    "slideshow": {
     "slide_type": "slide"
    }
   },
   "source": [
    "## But this required prelabelled documents..."
   ]
  },
  {
   "cell_type": "markdown",
   "metadata": {
    "slideshow": {
     "slide_type": "slide"
    }
   },
   "source": [
    "## Let's use pre-labelled words\n",
    "\n",
    "There are many corpora online which include words and their associated sentiment (again, though, this is subjective)"
   ]
  },
  {
   "cell_type": "code",
   "execution_count": 17,
   "metadata": {
    "collapsed": false,
    "slideshow": {
     "slide_type": "-"
    }
   },
   "outputs": [
    {
     "data": {
      "text/html": [
       "<div>\n",
       "<table border=\"1\" class=\"dataframe\">\n",
       "  <thead>\n",
       "    <tr style=\"text-align: right;\">\n",
       "      <th></th>\n",
       "      <th>POS</th>\n",
       "      <th>PosScore</th>\n",
       "      <th>NegScore</th>\n",
       "      <th>word</th>\n",
       "    </tr>\n",
       "  </thead>\n",
       "  <tbody>\n",
       "    <tr>\n",
       "      <th>0</th>\n",
       "      <td>a</td>\n",
       "      <td>0.125</td>\n",
       "      <td>0.00</td>\n",
       "      <td>able</td>\n",
       "    </tr>\n",
       "    <tr>\n",
       "      <th>1</th>\n",
       "      <td>a</td>\n",
       "      <td>0.000</td>\n",
       "      <td>0.75</td>\n",
       "      <td>unable</td>\n",
       "    </tr>\n",
       "    <tr>\n",
       "      <th>2</th>\n",
       "      <td>a</td>\n",
       "      <td>0.000</td>\n",
       "      <td>0.00</td>\n",
       "      <td>dorsal</td>\n",
       "    </tr>\n",
       "    <tr>\n",
       "      <th>3</th>\n",
       "      <td>a</td>\n",
       "      <td>0.000</td>\n",
       "      <td>0.00</td>\n",
       "      <td>ventral</td>\n",
       "    </tr>\n",
       "    <tr>\n",
       "      <th>4</th>\n",
       "      <td>a</td>\n",
       "      <td>0.000</td>\n",
       "      <td>0.00</td>\n",
       "      <td>acroscopic</td>\n",
       "    </tr>\n",
       "  </tbody>\n",
       "</table>\n",
       "</div>"
      ],
      "text/plain": [
       "  POS  PosScore  NegScore        word\n",
       "0   a     0.125      0.00        able\n",
       "1   a     0.000      0.75      unable\n",
       "2   a     0.000      0.00      dorsal\n",
       "3   a     0.000      0.00     ventral\n",
       "4   a     0.000      0.00  acroscopic"
      ]
     },
     "execution_count": 17,
     "metadata": {},
     "output_type": "execute_result"
    }
   ],
   "source": [
    "sent_words = pd.read_csv(\"./assets/datasets/sent_words.csv\")\n",
    "sent_words.head()"
   ]
  },
  {
   "cell_type": "markdown",
   "metadata": {
    "slideshow": {
     "slide_type": "slide"
    }
   },
   "source": [
    "## For now, we're going to ignore piece of speech...\n",
    "\n",
    "To speed up computation, let's create a dictionary that has the word as the key, and the postivity / negativity scores as the values"
   ]
  },
  {
   "cell_type": "code",
   "execution_count": 18,
   "metadata": {
    "collapsed": false,
    "slideshow": {
     "slide_type": "fragment"
    }
   },
   "outputs": [
    {
     "data": {
      "text/plain": [
       "{'neg_score': 0.125, 'pos_score': 0.0}"
      ]
     },
     "execution_count": 18,
     "metadata": {},
     "output_type": "execute_result"
    }
   ],
   "source": [
    "sen_agg_dict = {}\n",
    "for i, row in enumerate(sent_words.itertuples()):\n",
    "    sen_agg_dict[row[4]] = {'pos_score':row[2], 'neg_score':row[3]}\n",
    "    \n",
    "sen_agg_dict['grotesque']"
   ]
  },
  {
   "cell_type": "markdown",
   "metadata": {
    "slideshow": {
     "slide_type": "slide"
    }
   },
   "source": [
    "## Scoring our sentences\n",
    "\n",
    "Let's create a function that will provide the sentiment score for each word in a sentence.  \n",
    "\n",
    "We're also going to add the notion of \"objectivity\" which we'll define as:\n",
    "\n",
    "1 - (positive_score + negative_score)\n"
   ]
  },
  {
   "cell_type": "code",
   "execution_count": 19,
   "metadata": {
    "collapsed": false,
    "slideshow": {
     "slide_type": "slide"
    }
   },
   "outputs": [
    {
     "data": {
      "text/plain": [
       "[[0.0, 0.0, 0.0, 0.0, 0.25, 0.0],\n",
       " [0.0, 0.0, 0.0, 0.75, 0.0, 0.0],\n",
       " [1.0, 1.0, 1.0, 0.25, 0.75, 1.0]]"
      ]
     },
     "execution_count": 19,
     "metadata": {},
     "output_type": "execute_result"
    }
   ],
   "source": [
    "def agg_scorer(x):\n",
    "    x = x.split()\n",
    "    pos_scores, neg_scores, obj_scores = [], [], []\n",
    "    for token in x:\n",
    "        try:\n",
    "            pos_scores.append(sen_agg_dict[token]['pos_score'])\n",
    "            neg_scores.append(sen_agg_dict[token]['neg_score'])\n",
    "            obj_scores.append((1. - (pos_scores[-1] + neg_scores[-1])))\n",
    "        except:\n",
    "            pos_scores.append(0.)\n",
    "            neg_scores.append(0.)\n",
    "            obj_scores.append(1.)\n",
    "    return [pos_scores, neg_scores, obj_scores]\n",
    "\n",
    "agg_scorer(\"Why does everyone hate linear algebra?\")"
   ]
  },
  {
   "cell_type": "code",
   "execution_count": 20,
   "metadata": {
    "collapsed": false,
    "slideshow": {
     "slide_type": "slide"
    }
   },
   "outputs": [
    {
     "data": {
      "text/html": [
       "<div>\n",
       "<table border=\"1\" class=\"dataframe\">\n",
       "  <thead>\n",
       "    <tr style=\"text-align: right;\">\n",
       "      <th></th>\n",
       "      <th>review</th>\n",
       "      <th>sentiment</th>\n",
       "      <th>scores</th>\n",
       "    </tr>\n",
       "  </thead>\n",
       "  <tbody>\n",
       "    <tr>\n",
       "      <th>0</th>\n",
       "      <td>films adapted from comic books have had plenty...</td>\n",
       "      <td>pos</td>\n",
       "      <td>[[0.0, 0.0, 0.0, 0.0, 0.0, 0.0, 0.0, 0.125, 0....</td>\n",
       "    </tr>\n",
       "    <tr>\n",
       "      <th>1</th>\n",
       "      <td>every now and then a movie comes along from a ...</td>\n",
       "      <td>pos</td>\n",
       "      <td>[[0.125, 0.0, 0.0, 0.0, 0.0, 0.0, 0.0, 0.0, 0....</td>\n",
       "    </tr>\n",
       "    <tr>\n",
       "      <th>2</th>\n",
       "      <td>you've got mail works alot better than it dese...</td>\n",
       "      <td>pos</td>\n",
       "      <td>[[0.0, 0.0, 0.0, 0.0, 0.0, 0.0, 0.0, 0.0, 0.0,...</td>\n",
       "    </tr>\n",
       "    <tr>\n",
       "      <th>3</th>\n",
       "      <td>\" jaws \" is a rare film that grabs your attent...</td>\n",
       "      <td>pos</td>\n",
       "      <td>[[0.0, 0.0, 0.0, 0.0, 0.0, 0.0, 0.0, 0.0, 0.0,...</td>\n",
       "    </tr>\n",
       "    <tr>\n",
       "      <th>4</th>\n",
       "      <td>moviemaking is a lot like being the general ma...</td>\n",
       "      <td>pos</td>\n",
       "      <td>[[0.0, 0.0, 0.0, 0.0, 0.125, 0.0, 0.0, 0.0, 0....</td>\n",
       "    </tr>\n",
       "  </tbody>\n",
       "</table>\n",
       "</div>"
      ],
      "text/plain": [
       "                                              review sentiment  \\\n",
       "0  films adapted from comic books have had plenty...       pos   \n",
       "1  every now and then a movie comes along from a ...       pos   \n",
       "2  you've got mail works alot better than it dese...       pos   \n",
       "3  \" jaws \" is a rare film that grabs your attent...       pos   \n",
       "4  moviemaking is a lot like being the general ma...       pos   \n",
       "\n",
       "                                              scores  \n",
       "0  [[0.0, 0.0, 0.0, 0.0, 0.0, 0.0, 0.0, 0.125, 0....  \n",
       "1  [[0.125, 0.0, 0.0, 0.0, 0.0, 0.0, 0.0, 0.0, 0....  \n",
       "2  [[0.0, 0.0, 0.0, 0.0, 0.0, 0.0, 0.0, 0.0, 0.0,...  \n",
       "3  [[0.0, 0.0, 0.0, 0.0, 0.0, 0.0, 0.0, 0.0, 0.0,...  \n",
       "4  [[0.0, 0.0, 0.0, 0.0, 0.125, 0.0, 0.0, 0.0, 0....  "
      ]
     },
     "execution_count": 20,
     "metadata": {},
     "output_type": "execute_result"
    }
   ],
   "source": [
    "score_list = []\n",
    "for rev in df['review']:\n",
    "    score_list.append(agg_scorer(rev))\n",
    "df['scores'] = score_list\n",
    "df.head()"
   ]
  },
  {
   "cell_type": "markdown",
   "metadata": {
    "slideshow": {
     "slide_type": "slide"
    }
   },
   "source": [
    "## Let's create features which are the average postive, negative and neutral sentiment\n"
   ]
  },
  {
   "cell_type": "code",
   "execution_count": 21,
   "metadata": {
    "collapsed": false,
    "slideshow": {
     "slide_type": "slide"
    }
   },
   "outputs": [
    {
     "data": {
      "text/html": [
       "<div>\n",
       "<table border=\"1\" class=\"dataframe\">\n",
       "  <thead>\n",
       "    <tr style=\"text-align: right;\">\n",
       "      <th></th>\n",
       "      <th>review</th>\n",
       "      <th>sentiment</th>\n",
       "      <th>scores</th>\n",
       "      <th>avg_pos</th>\n",
       "      <th>avg_neg</th>\n",
       "      <th>avg_neu</th>\n",
       "    </tr>\n",
       "  </thead>\n",
       "  <tbody>\n",
       "    <tr>\n",
       "      <th>0</th>\n",
       "      <td>films adapted from comic books have had plenty...</td>\n",
       "      <td>pos</td>\n",
       "      <td>[[0.0, 0.0, 0.0, 0.0, 0.0, 0.0, 0.0, 0.125, 0....</td>\n",
       "      <td>0.017549</td>\n",
       "      <td>0.020782</td>\n",
       "      <td>0.961669</td>\n",
       "    </tr>\n",
       "    <tr>\n",
       "      <th>1</th>\n",
       "      <td>every now and then a movie comes along from a ...</td>\n",
       "      <td>pos</td>\n",
       "      <td>[[0.125, 0.0, 0.0, 0.0, 0.0, 0.0, 0.0, 0.0, 0....</td>\n",
       "      <td>0.020833</td>\n",
       "      <td>0.021955</td>\n",
       "      <td>0.957212</td>\n",
       "    </tr>\n",
       "    <tr>\n",
       "      <th>2</th>\n",
       "      <td>you've got mail works alot better than it dese...</td>\n",
       "      <td>pos</td>\n",
       "      <td>[[0.0, 0.0, 0.0, 0.0, 0.0, 0.0, 0.0, 0.0, 0.0,...</td>\n",
       "      <td>0.037672</td>\n",
       "      <td>0.026545</td>\n",
       "      <td>0.935782</td>\n",
       "    </tr>\n",
       "    <tr>\n",
       "      <th>3</th>\n",
       "      <td>\" jaws \" is a rare film that grabs your attent...</td>\n",
       "      <td>pos</td>\n",
       "      <td>[[0.0, 0.0, 0.0, 0.0, 0.0, 0.0, 0.0, 0.0, 0.0,...</td>\n",
       "      <td>0.017103</td>\n",
       "      <td>0.027555</td>\n",
       "      <td>0.955342</td>\n",
       "    </tr>\n",
       "    <tr>\n",
       "      <th>4</th>\n",
       "      <td>moviemaking is a lot like being the general ma...</td>\n",
       "      <td>pos</td>\n",
       "      <td>[[0.0, 0.0, 0.0, 0.0, 0.125, 0.0, 0.0, 0.0, 0....</td>\n",
       "      <td>0.013065</td>\n",
       "      <td>0.014677</td>\n",
       "      <td>0.972258</td>\n",
       "    </tr>\n",
       "  </tbody>\n",
       "</table>\n",
       "</div>"
      ],
      "text/plain": [
       "                                              review sentiment  \\\n",
       "0  films adapted from comic books have had plenty...       pos   \n",
       "1  every now and then a movie comes along from a ...       pos   \n",
       "2  you've got mail works alot better than it dese...       pos   \n",
       "3  \" jaws \" is a rare film that grabs your attent...       pos   \n",
       "4  moviemaking is a lot like being the general ma...       pos   \n",
       "\n",
       "                                              scores   avg_pos   avg_neg  \\\n",
       "0  [[0.0, 0.0, 0.0, 0.0, 0.0, 0.0, 0.0, 0.125, 0....  0.017549  0.020782   \n",
       "1  [[0.125, 0.0, 0.0, 0.0, 0.0, 0.0, 0.0, 0.0, 0....  0.020833  0.021955   \n",
       "2  [[0.0, 0.0, 0.0, 0.0, 0.0, 0.0, 0.0, 0.0, 0.0,...  0.037672  0.026545   \n",
       "3  [[0.0, 0.0, 0.0, 0.0, 0.0, 0.0, 0.0, 0.0, 0.0,...  0.017103  0.027555   \n",
       "4  [[0.0, 0.0, 0.0, 0.0, 0.125, 0.0, 0.0, 0.0, 0....  0.013065  0.014677   \n",
       "\n",
       "    avg_neu  \n",
       "0  0.961669  \n",
       "1  0.957212  \n",
       "2  0.935782  \n",
       "3  0.955342  \n",
       "4  0.972258  "
      ]
     },
     "execution_count": 21,
     "metadata": {},
     "output_type": "execute_result"
    }
   ],
   "source": [
    "df['avg_pos'] = df['scores'].apply(lambda x: np.mean(x[0]))\n",
    "df['avg_neg'] = df['scores'].apply(lambda x: np.mean(x[1]))\n",
    "df['avg_neu'] = df['scores'].apply(lambda x: np.mean(x[2]))\n",
    "df.head()"
   ]
  },
  {
   "cell_type": "markdown",
   "metadata": {
    "slideshow": {
     "slide_type": "slide"
    }
   },
   "source": [
    "## Let's see how well we can classify positive vs negative films"
   ]
  },
  {
   "cell_type": "code",
   "execution_count": 22,
   "metadata": {
    "collapsed": false,
    "slideshow": {
     "slide_type": "fragment"
    }
   },
   "outputs": [
    {
     "data": {
      "text/plain": [
       "array([ 0.59730539,  0.57807808,  0.65615616])"
      ]
     },
     "execution_count": 22,
     "metadata": {},
     "output_type": "execute_result"
    }
   ],
   "source": [
    "X = df[['avg_pos', 'avg_neg', 'avg_neu']]\n",
    "lr = LogisticRegression()\n",
    "cross_val_score(lr, X, y)\n"
   ]
  },
  {
   "cell_type": "markdown",
   "metadata": {
    "slideshow": {
     "slide_type": "fragment"
    }
   },
   "source": [
    "This doesn't perform as well as the first approach... why not?"
   ]
  },
  {
   "cell_type": "markdown",
   "metadata": {
    "slideshow": {
     "slide_type": "slide"
    }
   },
   "source": [
    "## Let's look back at our original examples:\n",
    "\n",
    "\"This is crazy good\"\n",
    "\n",
    "\"This is crazy\"\n",
    "\n",
    "\"I am happy\"\n",
    "\n",
    "\"I am so happy\"\n",
    "\n",
    "\"I am so not happy\"\n",
    "\n",
    "\"I am ever so slightly happy\"\n",
    "\n",
    "## What can we do to improve our model?"
   ]
  },
  {
   "cell_type": "markdown",
   "metadata": {
    "slideshow": {
     "slide_type": "slide"
    }
   },
   "source": [
    "## Let's define a list of inverters, incrementers and decrementers.\n",
    "\n",
    "Inverters will flip the sentiment\n",
    "\n",
    "Amplifiers will double the sentiment\n",
    "\n",
    "Attenuators will halve the sentiment"
   ]
  },
  {
   "cell_type": "code",
   "execution_count": 23,
   "metadata": {
    "collapsed": true,
    "slideshow": {
     "slide_type": "fragment"
    }
   },
   "outputs": [],
   "source": [
    "inverters = ['not', 'lacked', \"isn't\", \"wasn't\", \"hasn't\"]\n",
    "amplifiers = ['very', 'extremely', 'more', 'too', 'greater']\n",
    "attenuators = ['barely', 'little', 'few', 'slightly']"
   ]
  },
  {
   "cell_type": "markdown",
   "metadata": {
    "slideshow": {
     "slide_type": "slide"
    }
   },
   "source": [
    "## Let's change our scoring function to take these into account"
   ]
  },
  {
   "cell_type": "code",
   "execution_count": 24,
   "metadata": {
    "collapsed": true,
    "slideshow": {
     "slide_type": "-"
    }
   },
   "outputs": [],
   "source": [
    "def agg_scorer2(x):\n",
    "    x = x.split()\n",
    "    pos_scores, neg_scores, obj_scores = [], [], []\n",
    "    for i, token in enumerate(x):\n",
    "        try:\n",
    "            if x[i-1] in inverters:\n",
    "                pos_scores.append(sen_agg_dict[token]['pos_score']*-1)\n",
    "                neg_scores.append(sen_agg_dict[token]['neg_score']*-1)\n",
    "                obj_scores.append((1. - (pos_scores[-1] + neg_scores[-1])))\n",
    "            elif x[i-1] in amplifiers:\n",
    "                pos_scores.append(sen_agg_dict[token]['pos_score']*2)\n",
    "                neg_scores.append(sen_agg_dict[token]['neg_score']*2)\n",
    "                obj_scores.append((1. - (pos_scores[-1] + neg_scores[-1])))\n",
    "            elif x[i-1] in attenuators:\n",
    "                pos_scores.append(sen_agg_dict[token]['pos_score']*0.5)\n",
    "                neg_scores.append(sen_agg_dict[token]['neg_score']*0.5)\n",
    "                obj_scores.append((1. - (pos_scores[-1] + neg_scores[-1])))          \n",
    "            else:\n",
    "                pos_scores.append(sen_agg_dict[token]['pos_score'])\n",
    "                neg_scores.append(sen_agg_dict[token]['neg_score'])\n",
    "                obj_scores.append((1. - (pos_scores[-1] + neg_scores[-1])))  \n",
    "        except:\n",
    "            pos_scores.append(0.)\n",
    "            neg_scores.append(0.)\n",
    "            obj_scores.append(1.)\n",
    "    return [pos_scores, neg_scores, obj_scores]"
   ]
  },
  {
   "cell_type": "code",
   "execution_count": 25,
   "metadata": {
    "collapsed": false,
    "slideshow": {
     "slide_type": "slide"
    }
   },
   "outputs": [
    {
     "data": {
      "text/html": [
       "<div>\n",
       "<table border=\"1\" class=\"dataframe\">\n",
       "  <thead>\n",
       "    <tr style=\"text-align: right;\">\n",
       "      <th></th>\n",
       "      <th>review</th>\n",
       "      <th>sentiment</th>\n",
       "      <th>scores</th>\n",
       "      <th>avg_pos</th>\n",
       "      <th>avg_neg</th>\n",
       "      <th>avg_neu</th>\n",
       "    </tr>\n",
       "  </thead>\n",
       "  <tbody>\n",
       "    <tr>\n",
       "      <th>0</th>\n",
       "      <td>films adapted from comic books have had plenty...</td>\n",
       "      <td>pos</td>\n",
       "      <td>[[0.0, 0.0, 0.0, 0.0, 0.0, 0.0, 0.0, 0.125, 0....</td>\n",
       "      <td>0.016549</td>\n",
       "      <td>0.020551</td>\n",
       "      <td>0.962900</td>\n",
       "    </tr>\n",
       "    <tr>\n",
       "      <th>1</th>\n",
       "      <td>every now and then a movie comes along from a ...</td>\n",
       "      <td>pos</td>\n",
       "      <td>[[0.125, 0.0, 0.0, 0.0, 0.0, 0.0, 0.0, 0.0, 0....</td>\n",
       "      <td>0.020032</td>\n",
       "      <td>0.021955</td>\n",
       "      <td>0.958013</td>\n",
       "    </tr>\n",
       "    <tr>\n",
       "      <th>2</th>\n",
       "      <td>you've got mail works alot better than it dese...</td>\n",
       "      <td>pos</td>\n",
       "      <td>[[0.0, 0.0, 0.0, 0.0, 0.0, 0.0, 0.0, 0.0, 0.0,...</td>\n",
       "      <td>0.038465</td>\n",
       "      <td>0.026017</td>\n",
       "      <td>0.935518</td>\n",
       "    </tr>\n",
       "    <tr>\n",
       "      <th>3</th>\n",
       "      <td>\" jaws \" is a rare film that grabs your attent...</td>\n",
       "      <td>pos</td>\n",
       "      <td>[[0.0, 0.0, 0.0, 0.0, 0.0, 0.0, 0.0, 0.0, 0.0,...</td>\n",
       "      <td>0.017103</td>\n",
       "      <td>0.028083</td>\n",
       "      <td>0.954814</td>\n",
       "    </tr>\n",
       "    <tr>\n",
       "      <th>4</th>\n",
       "      <td>moviemaking is a lot like being the general ma...</td>\n",
       "      <td>pos</td>\n",
       "      <td>[[0.0, 0.0, 0.0, 0.0, 0.125, 0.0, 0.0, 0.0, 0....</td>\n",
       "      <td>0.012742</td>\n",
       "      <td>0.014677</td>\n",
       "      <td>0.972581</td>\n",
       "    </tr>\n",
       "  </tbody>\n",
       "</table>\n",
       "</div>"
      ],
      "text/plain": [
       "                                              review sentiment  \\\n",
       "0  films adapted from comic books have had plenty...       pos   \n",
       "1  every now and then a movie comes along from a ...       pos   \n",
       "2  you've got mail works alot better than it dese...       pos   \n",
       "3  \" jaws \" is a rare film that grabs your attent...       pos   \n",
       "4  moviemaking is a lot like being the general ma...       pos   \n",
       "\n",
       "                                              scores   avg_pos   avg_neg  \\\n",
       "0  [[0.0, 0.0, 0.0, 0.0, 0.0, 0.0, 0.0, 0.125, 0....  0.016549  0.020551   \n",
       "1  [[0.125, 0.0, 0.0, 0.0, 0.0, 0.0, 0.0, 0.0, 0....  0.020032  0.021955   \n",
       "2  [[0.0, 0.0, 0.0, 0.0, 0.0, 0.0, 0.0, 0.0, 0.0,...  0.038465  0.026017   \n",
       "3  [[0.0, 0.0, 0.0, 0.0, 0.0, 0.0, 0.0, 0.0, 0.0,...  0.017103  0.028083   \n",
       "4  [[0.0, 0.0, 0.0, 0.0, 0.125, 0.0, 0.0, 0.0, 0....  0.012742  0.014677   \n",
       "\n",
       "    avg_neu  \n",
       "0  0.962900  \n",
       "1  0.958013  \n",
       "2  0.935518  \n",
       "3  0.954814  \n",
       "4  0.972581  "
      ]
     },
     "execution_count": 25,
     "metadata": {},
     "output_type": "execute_result"
    }
   ],
   "source": [
    "score_list = []\n",
    "for rev in df['review']:\n",
    "    score_list.append(agg_scorer2(rev))\n",
    "df['scores'] = score_list\n",
    "df['avg_pos'] = df['scores'].apply(lambda x: np.mean(x[0]))\n",
    "df['avg_neg'] = df['scores'].apply(lambda x: np.mean(x[1]))\n",
    "df['avg_neu'] = df['scores'].apply(lambda x: np.mean(x[2]))\n",
    "df.head()"
   ]
  },
  {
   "cell_type": "markdown",
   "metadata": {
    "slideshow": {
     "slide_type": "slide"
    }
   },
   "source": [
    "## Let's see if our model is better..."
   ]
  },
  {
   "cell_type": "code",
   "execution_count": 26,
   "metadata": {
    "collapsed": false,
    "slideshow": {
     "slide_type": "fragment"
    }
   },
   "outputs": [
    {
     "data": {
      "text/plain": [
       "array([ 0.61826347,  0.59309309,  0.66366366])"
      ]
     },
     "execution_count": 26,
     "metadata": {},
     "output_type": "execute_result"
    }
   ],
   "source": [
    "X = df[['avg_pos', 'avg_neg', 'avg_neu']]\n",
    "lr = LogisticRegression()\n",
    "cross_val_score(lr, X, y)"
   ]
  },
  {
   "cell_type": "markdown",
   "metadata": {
    "slideshow": {
     "slide_type": "-"
    }
   },
   "source": [
    "It's a little better!\n",
    "\n",
    "But still not as good as training on the reviews."
   ]
  },
  {
   "cell_type": "markdown",
   "metadata": {
    "slideshow": {
     "slide_type": "slide"
    }
   },
   "source": [
    "## Other options!\n",
    "\n",
    "## There are some excellent pre-trained sentiment analyzers you can also use, including..."
   ]
  },
  {
   "cell_type": "markdown",
   "metadata": {
    "slideshow": {
     "slide_type": "fragment"
    }
   },
   "source": [
    "## VADER"
   ]
  },
  {
   "cell_type": "code",
   "execution_count": 27,
   "metadata": {
    "collapsed": false,
    "slideshow": {
     "slide_type": "fragment"
    }
   },
   "outputs": [
    {
     "data": {
      "image/jpeg": "[encoded data removed]",
      "text/plain": [
       "<IPython.core.display.Image object>"
      ]
     },
     "execution_count": 27,
     "metadata": {},
     "output_type": "execute_result"
    }
   ],
   "source": [
    "Image('http://the-indie-pendent.com/wp-content/uploads/2016/06/darth-vader-face1.jpg')"
   ]
  },
  {
   "cell_type": "markdown",
   "metadata": {
    "slideshow": {
     "slide_type": "slide"
    }
   },
   "source": [
    "## Not quite.\n",
    "\n",
    "## Valence Aware Dictionary for sEntiment Reasoning\n",
    "\n",
    "[background](http://comp.social.gatech.edu/papers/icwsm14.vader.hutto.pdf)\n",
    "\n",
    "Vader is specially tuned to microblogging."
   ]
  },
  {
   "cell_type": "code",
   "execution_count": 28,
   "metadata": {
    "collapsed": false
   },
   "outputs": [
    {
     "name": "stdout",
     "output_type": "stream",
     "text": [
      "Arnold Schwarzenegger isn't voluntarily leaving the Apprentice, he was fired by his bad (pathetic) ratings, not by me. Sad end to great show\n"
     ]
    },
    {
     "name": "stderr",
     "output_type": "stream",
     "text": [
      "/Users/pt/anaconda/lib/python2.7/site-packages/nltk/twitter/__init__.py:20: UserWarning: The twython library has not been installed. Some functionality from the twitter package will not be available.\n",
      "  warnings.warn(\"The twython library has not been installed. \"\n"
     ]
    },
    {
     "data": {
      "text/plain": [
       "{'compound': -0.1144, 'neg': 0.217, 'neu': 0.58, 'pos': 0.203}"
      ]
     },
     "execution_count": 28,
     "metadata": {},
     "output_type": "execute_result"
    }
   ],
   "source": [
    "from nltk.sentiment.vader import SentimentIntensityAnalyzer\n",
    "sia = SentimentIntensityAnalyzer()\n",
    "tweet = \"Arnold Schwarzenegger isn't voluntarily leaving the Apprentice, he was fired by his bad (pathetic) ratings, not by me. Sad end to great show\"\n",
    "print tweet\n",
    "sia.polarity_scores(tweet)"
   ]
  },
  {
   "cell_type": "markdown",
   "metadata": {
    "slideshow": {
     "slide_type": "slide"
    }
   },
   "source": [
    "## VADER is just the tip of the iceberg....\n",
    "\n",
    "There are many other pre-trained / pre-structured text analysis tools"
   ]
  },
  {
   "cell_type": "markdown",
   "metadata": {
    "slideshow": {
     "slide_type": "slide"
    }
   },
   "source": [
    "## Conclusion"
   ]
  },
  {
   "cell_type": "markdown",
   "metadata": {
    "slideshow": {
     "slide_type": "fragment"
    }
   },
   "source": [
    "In this lesson we learned some of the basics of sentiment analysis including:\n",
    "- pre-labelled corpus of documents\n",
    "- pre-labelled corpus of words\n",
    "\n",
    "There are many, many more text analysis tools available for use (including the very powerful [gensim](http://radimrehurek.com/gensim/tutorial.html))"
   ]
  }
 ],
 "metadata": {
  "celltoolbar": "Slideshow",
  "kernelspec": {
   "display_name": "Python 2",
   "language": "python",
   "name": "python2"
  },
  "language_info": {
   "codemirror_mode": {
    "name": "ipython",
    "version": 2
   },
   "file_extension": ".py",
   "mimetype": "text/x-python",
   "name": "python",
   "nbconvert_exporter": "python",
   "pygments_lexer": "ipython2",
   "version": "2.7.12"
  }
 },
 "nbformat": 4,
 "nbformat_minor": 0
}
