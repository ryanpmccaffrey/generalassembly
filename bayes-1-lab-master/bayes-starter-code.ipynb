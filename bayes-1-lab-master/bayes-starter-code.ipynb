{
 "cells": [
  {
   "cell_type": "markdown",
   "metadata": {},
   "source": [
    "# Monty Hall\n",
    "\n",
    "If you've ever heard of the \"Monty Hall Problem,\" it is a famous problem in statistics based on the game show \"Let's Make a Deal.\" (Monty Hall was the original host of this game show.) \n",
    "\n",
    "As part of \"Let's Make a Deal,\" there are three doors labeled \"A,\" \"B,\" and \"C.\" You are the contestant and are informed that behind exactly one door, there is a new car. Behind the other two doors are goats. Obviously, your goal as the contestant is to select the door with the car.\n",
    "\n",
    "The game goes as follows:\n",
    "1. You select a door.\n",
    "2. The game show host, knowing which door hides the car, opens one of the doors you do not select to reveal a goat. (Important: If you selected a door with a goat, the host picks the other door with a goat. If you started by selecting the door with the car, the host picks from the remaining two doors at random.)\n",
    "3. The host then asks you if you would like to stick with the door you originally picked, or if you would want to switch to the other remaining door.\n",
    "\n",
    "### Part 1:\n",
    "\n",
    "Using Bayes, demonstrate that switching to the other door is the right strategy!  You can either write out the math in code, or you can just write it out by hand.  **You can take a stab at this without direction, or follow the prompts below**\n",
    "\n",
    "\n",
    "### Part 2:\n",
    "\n",
    "Write a function to empirically test this strategy.  Simulate 10,000 games where the person always switched. What proportion of time does the person win the car?\n"
   ]
  },
  {
   "cell_type": "markdown",
   "metadata": {},
   "source": [
    "## Part 1:\n",
    "\n",
    "**Q1**:  Let's say you pick door 1 to start.  What is the probability that the car is there?"
   ]
  },
  {
   "cell_type": "code",
   "execution_count": 6,
   "metadata": {
    "collapsed": false
   },
   "outputs": [
    {
     "data": {
      "text/plain": [
       "0.3333333333333333"
      ]
     },
     "execution_count": 6,
     "metadata": {},
     "output_type": "execute_result"
    }
   ],
   "source": [
    "P(C1) = 1/3"
   ]
  },
  {
   "cell_type": "markdown",
   "metadata": {},
   "source": [
    "**Q2**: Let's say that the host shows you door 3, and reveals a goat.  What is the probability that the car is behind door 1?\n",
    "\n"
   ]
  },
  {
   "cell_type": "markdown",
   "metadata": {},
   "source": [
    "We'll use the following notation:<br>\n",
    "C1 = car is behind door 1<br>\n",
    "C2 = car is behind door 2<br>\n",
    "C3 = car is behind door 3<br>\n",
    "H1 = host opens door 1<br>\n",
    "H2 = host opens door 2<br>\n",
    "H3 = host opens door 3\n",
    "\n",
    "\n",
    "You can think of this as:\n",
    "$$P(C1|H3) = \\frac{P(H3|C1)P(C1)}{P(H3)}$$\n"
   ]
  },
  {
   "cell_type": "code",
   "execution_count": null,
   "metadata": {
    "collapsed": true
   },
   "outputs": [],
   "source": [
    "P(C1|H3) = P(H3|C1)*P(C1)/P(H3)\n",
    "= (1/2)*(1/3)/(1/2)\n",
    "= 1/3"
   ]
  },
  {
   "cell_type": "markdown",
   "metadata": {},
   "source": [
    "**Q3**: Let's say that the host shows you door 3, and reveals a goat.  What is the probability that the car is behind door 2?\n",
    "\n"
   ]
  },
  {
   "cell_type": "code",
   "execution_count": null,
   "metadata": {
    "collapsed": true
   },
   "outputs": [],
   "source": [
    "P(C2|H3)= P(H3|C2)*P(C2)/P(H3)\n",
    "= (1)*(1/3)/(1/2)\n",
    "= 2/3"
   ]
  },
  {
   "cell_type": "markdown",
   "metadata": {},
   "source": [
    "**Q4:** so based on your calculations, should you switch?"
   ]
  },
  {
   "cell_type": "markdown",
   "metadata": {
    "collapsed": true
   },
   "source": [
    "Yes."
   ]
  },
  {
   "cell_type": "markdown",
   "metadata": {},
   "source": [
    "## Part 2:## "
   ]
  },
  {
   "cell_type": "code",
   "execution_count": 33,
   "metadata": {
    "collapsed": false
   },
   "outputs": [
    {
     "name": "stdout",
     "output_type": "stream",
     "text": [
      "If you switch doors you will win 66.82% of the time!\n"
     ]
    }
   ],
   "source": [
    "import random\n",
    "\n",
    "correct_pick = []\n",
    "\n",
    "for i in range(1,10000):\n",
    "    door_pick = randint(1,3)\n",
    "    car = randint(1,3)\n",
    "    if door_pick == car:\n",
    "        # Set to zero since you picked the correct door then switched to lose\n",
    "        correct_pick.append(0)\n",
    "    else:\n",
    "        # Set to one since you switched to the correct door\n",
    "        correct_pick.append(1)\n",
    "        \n",
    "print 'If you switch doors you will win {0:.2f}% of the time!'.format(100*float(sum(correct_pick))/float(len(correct_pick)))\n",
    "    "
   ]
  },
  {
   "cell_type": "code",
   "execution_count": null,
   "metadata": {
    "collapsed": true
   },
   "outputs": [],
   "source": []
  }
 ],
 "metadata": {
  "anaconda-cloud": {},
  "kernelspec": {
   "display_name": "Python 2",
   "language": "python",
   "name": "python2"
  },
  "language_info": {
   "codemirror_mode": {
    "name": "ipython",
    "version": 2
   },
   "file_extension": ".py",
   "mimetype": "text/x-python",
   "name": "python",
   "nbconvert_exporter": "python",
   "pygments_lexer": "ipython2",
   "version": "2.7.13"
  }
 },
 "nbformat": 4,
 "nbformat_minor": 1
}
