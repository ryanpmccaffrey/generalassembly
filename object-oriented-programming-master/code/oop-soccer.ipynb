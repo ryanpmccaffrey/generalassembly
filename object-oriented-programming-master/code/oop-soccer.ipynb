{
 "cells": [
  {
   "cell_type": "markdown",
   "metadata": {},
   "source": [
    "![](diagram.png)"
   ]
  },
  {
   "cell_type": "code",
   "execution_count": 1,
   "metadata": {
    "collapsed": true
   },
   "outputs": [],
   "source": [
    "class player:\n",
    "    def __init__(self, name, number):\n",
    "        self.name = name\n",
    "        self.number = number\n",
    "        self.team = \"no team\"\n",
    "    "
   ]
  },
  {
   "cell_type": "code",
   "execution_count": 2,
   "metadata": {
    "collapsed": true
   },
   "outputs": [],
   "source": [
    "class team:\n",
    "    def __init__(self, name):\n",
    "        self.name = name\n",
    "        self.roster = []\n",
    "    \n",
    "    def draft(self, draftee):\n",
    "        self.roster.append(draftee)\n",
    "        \n",
    "    def trade(self, player, other_team):\n",
    "        if player in other_team.roster:\n",
    "            self.roster.append(player)\n",
    "            other_team.roster.remove(player)\n",
    "        else:\n",
    "            print \"Can't trade.  {} doesn't play for {}\".format(player.name, other_team.name)\n"
   ]
  },
  {
   "cell_type": "code",
   "execution_count": 3,
   "metadata": {
    "collapsed": true
   },
   "outputs": [],
   "source": [
    "class league:\n",
    "    def __init__(self):\n",
    "        self.teams = []\n",
    "    def add_team(self, team):\n",
    "        self.teams.append(team)    \n"
   ]
  },
  {
   "cell_type": "code",
   "execution_count": 4,
   "metadata": {
    "collapsed": true
   },
   "outputs": [],
   "source": [
    "# create a league\n",
    "premiership = league()"
   ]
  },
  {
   "cell_type": "code",
   "execution_count": 5,
   "metadata": {
    "collapsed": false
   },
   "outputs": [
    {
     "data": {
      "text/plain": [
       "[]"
      ]
     },
     "execution_count": 5,
     "metadata": {},
     "output_type": "execute_result"
    }
   ],
   "source": [
    "# check the teams in the league\n",
    "premiership.teams"
   ]
  },
  {
   "cell_type": "code",
   "execution_count": 6,
   "metadata": {
    "collapsed": true
   },
   "outputs": [],
   "source": [
    "# create two teams\n",
    "arsenal = team(\"Arsenal\")\n",
    "man_u = team(\"Manchester United\")"
   ]
  },
  {
   "cell_type": "code",
   "execution_count": 7,
   "metadata": {
    "collapsed": false
   },
   "outputs": [],
   "source": [
    "# add those teams to the league\n",
    "premiership.add_team(arsenal)\n",
    "premiership.add_team(man_u)"
   ]
  },
  {
   "cell_type": "code",
   "execution_count": 8,
   "metadata": {
    "collapsed": false
   },
   "outputs": [
    {
     "data": {
      "text/plain": [
       "[<__main__.team instance at 0x1041f9d88>,\n",
       " <__main__.team instance at 0x103ef2098>]"
      ]
     },
     "execution_count": 8,
     "metadata": {},
     "output_type": "execute_result"
    }
   ],
   "source": [
    "premiership.teams"
   ]
  },
  {
   "cell_type": "code",
   "execution_count": 9,
   "metadata": {
    "collapsed": false
   },
   "outputs": [
    {
     "name": "stdout",
     "output_type": "stream",
     "text": [
      "arsenal\n",
      "manchester united\n"
     ]
    }
   ],
   "source": [
    "for i in premiership.teams:\n",
    "    print i.name"
   ]
  },
  {
   "cell_type": "code",
   "execution_count": 10,
   "metadata": {
    "collapsed": false
   },
   "outputs": [],
   "source": [
    "# create some players\n",
    "petr = player(\"Petr Cech\", 1)\n",
    "theo = player(\"Theo Walcott\", 9)\n",
    "wayne = player(\"Wayne Rooney\", 9)\n",
    "zlatan = player(\"Zlatan Ibrahimovich\", 17)"
   ]
  },
  {
   "cell_type": "code",
   "execution_count": 11,
   "metadata": {
    "collapsed": false
   },
   "outputs": [
    {
     "name": "stdout",
     "output_type": "stream",
     "text": [
      "[]\n",
      "Wayne Rooney 9\n",
      "Zlatan Ibrahimovich 17\n"
     ]
    }
   ],
   "source": [
    "# man u drafts\n",
    "print man_u.roster\n",
    "man_u.draft(wayne)\n",
    "man_u.draft(zlatan)\n",
    "for footballer in man_u.roster:\n",
    "    print footballer.name, footballer.number"
   ]
  },
  {
   "cell_type": "code",
   "execution_count": 12,
   "metadata": {
    "collapsed": false
   },
   "outputs": [
    {
     "name": "stdout",
     "output_type": "stream",
     "text": [
      "Petr Cech 1\n",
      "Theo Walcott 9\n"
     ]
    }
   ],
   "source": [
    "# arsenal drafts\n",
    "arsenal.draft(petr)\n",
    "arsenal.draft(theo)\n",
    "for footballer in arsenal.roster:\n",
    "    print footballer.name, footballer.number"
   ]
  },
  {
   "cell_type": "code",
   "execution_count": 13,
   "metadata": {
    "collapsed": false
   },
   "outputs": [
    {
     "name": "stdout",
     "output_type": "stream",
     "text": [
      "arsenal's roster:\n",
      "Petr Cech 1\n",
      "Theo Walcott 9\n",
      "Wayne Rooney 9\n",
      "man u's roster:\n",
      "Zlatan Ibrahimovich 17\n"
     ]
    }
   ],
   "source": [
    "# a trade happens!\n",
    "arsenal.trade(wayne, man_u)\n",
    "\n",
    "print \"arsenal's roster:\"\n",
    "for footballer in arsenal.roster:\n",
    "    print footballer.name, footballer.number\n",
    "\n",
    "print \"man u's roster:\"    \n",
    "for footballer in man_u.roster:\n",
    "    print footballer.name, footballer.number"
   ]
  },
  {
   "cell_type": "code",
   "execution_count": 14,
   "metadata": {
    "collapsed": false
   },
   "outputs": [],
   "source": [
    "# create david beckham... he's retired\n",
    "becks = player(\"David Beckham\", 7)"
   ]
  },
  {
   "cell_type": "code",
   "execution_count": 15,
   "metadata": {
    "collapsed": false
   },
   "outputs": [
    {
     "name": "stdout",
     "output_type": "stream",
     "text": [
      "Can't trade.  David Beckham doesn't play for arsenal\n"
     ]
    }
   ],
   "source": [
    "man_u.trade(becks, arsenal)"
   ]
  }
 ],
 "metadata": {
  "kernelspec": {
   "display_name": "Python 2",
   "language": "python",
   "name": "python2"
  },
  "language_info": {
   "codemirror_mode": {
    "name": "ipython",
    "version": 2
   },
   "file_extension": ".py",
   "mimetype": "text/x-python",
   "name": "python",
   "nbconvert_exporter": "python",
   "pygments_lexer": "ipython2",
   "version": "2.7.12"
  }
 },
 "nbformat": 4,
 "nbformat_minor": 0
}
