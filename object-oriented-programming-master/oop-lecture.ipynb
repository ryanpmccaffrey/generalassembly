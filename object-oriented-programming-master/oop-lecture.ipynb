{
 "cells": [
  {
   "cell_type": "code",
   "execution_count": 1,
   "metadata": {
    "collapsed": true,
    "slideshow": {
     "slide_type": "skip"
    }
   },
   "outputs": [],
   "source": [
    "import numpy as np"
   ]
  },
  {
   "cell_type": "markdown",
   "metadata": {
    "slideshow": {
     "slide_type": "slide"
    }
   },
   "source": [
    "<img src=\"https://ga-dash.s3.amazonaws.com/production/assets/logo-9f88ae6c9c3871690e33280fcf557f33.png\" style=\"float: left; margin: 15px;\">\n",
    "\n",
    "## Object Oriented Programming\n",
    "\n",
    "Week 6 | 1.2\n",
    "\n",
    "---"
   ]
  },
  {
   "cell_type": "markdown",
   "metadata": {},
   "source": [
    "### LEARNING OBJECTIVES\n",
    "*After this lesson, you will be able to:*\n",
    "- Understand the structure of a class in python\n",
    "- Describe the difference between attributes and methods"
   ]
  },
  {
   "cell_type": "markdown",
   "metadata": {
    "slideshow": {
     "slide_type": "slide"
    }
   },
   "source": [
    "\n",
    "## Classes and Objects\n",
    "\n",
    "Python is an object oriented programming language.  It is based around the notion of objects.\n",
    "\n",
    "A class is a type of object. You can think of a class definition as a sort of \"blueprint\" that specifies the construction of a new object when instantiated.\n",
    "\n",
    "> We have encountered these already.  Can you name a few examples? Where have we seen them?\n",
    "\n"
   ]
  },
  {
   "cell_type": "markdown",
   "metadata": {
    "slideshow": {
     "slide_type": "slide"
    }
   },
   "source": [
    "## Everywhere"
   ]
  },
  {
   "cell_type": "markdown",
   "metadata": {
    "slideshow": {
     "slide_type": "slide"
    }
   },
   "source": [
    "## Simplified Introduction\n",
    "\n",
    "Classes can have characteristics / data attached to them (typically referred to as *attributes*) and procedures that define actions (typically referred to as *methods*).  Simplified, attributes can be thought of as information, and methods as functions.\n",
    "\n",
    "> Can you name an example of an attribute / method you've seen?"
   ]
  },
  {
   "cell_type": "markdown",
   "metadata": {
    "slideshow": {
     "slide_type": "slide"
    }
   },
   "source": [
    "## Creating a Class for DSI Student"
   ]
  },
  {
   "cell_type": "code",
   "execution_count": 2,
   "metadata": {
    "collapsed": true,
    "slideshow": {
     "slide_type": "-"
    }
   },
   "outputs": [],
   "source": [
    "class dsi_student(object):\n",
    "    def __init__(self, name, cohort, mood):\n",
    "        self.name = name\n",
    "        self.cohort = cohort\n",
    "        self.mood = mood\n",
    "        "
   ]
  },
  {
   "cell_type": "markdown",
   "metadata": {
    "slideshow": {
     "slide_type": "-"
    }
   },
   "source": [
    "> What are methods / attributes here?  What is init?"
   ]
  },
  {
   "cell_type": "markdown",
   "metadata": {
    "slideshow": {
     "slide_type": "slide"
    }
   },
   "source": [
    "What are the components of this?\n",
    "\n",
    "**`class`**\n",
    "\n",
    "- The `class` is like `def`, but instead of defining a function it defines a class.\n",
    "\n",
    "**`object`**\n",
    "\n",
    "- `object` in the parentheses of the class definition indicates that this class \"inherits\" from the `object` class. The object class is a very general, very fundamental class in python. Inheritance means that whatever properties and function are part of the `object` class are passed down to our `dsi_student` class.\n"
   ]
  },
  {
   "cell_type": "markdown",
   "metadata": {
    "slideshow": {
     "slide_type": "slide"
    }
   },
   "source": [
    "**`def __init__(self)`**\n",
    "\n",
    "- The `def __init__(self):` is our class's initialization function. This function is called when you instantiate the class by typing `dsi_student()`\n",
    "\n",
    "**`self`**\n",
    "\n",
    "- `self` is the (confusing) first argument to class definitions. It is a variable that refers to the **current instantiation of the class**. What does this mean? When you instantiate a class and assign it to a variable with `student = dsi_student()`, the `self` argument is now a reference to the current instantiation of the class `student`. \n",
    "\n",
    "**class attributes**\n",
    "\n",
    "- `self.name_`, `self.cohort_`, and `self.mood`  are \"attributes\" (variables) that are connected to the instantiation of the class. "
   ]
  },
  {
   "cell_type": "markdown",
   "metadata": {
    "slideshow": {
     "slide_type": "slide"
    }
   },
   "source": [
    "## Let's create a student"
   ]
  },
  {
   "cell_type": "code",
   "execution_count": 3,
   "metadata": {
    "collapsed": true,
    "slideshow": {
     "slide_type": "-"
    }
   },
   "outputs": [],
   "source": [
    "mike = dsi_student(\"Michael Roman\", \"Hoppers\", \"exuberant\")"
   ]
  },
  {
   "cell_type": "code",
   "execution_count": 4,
   "metadata": {
    "collapsed": false,
    "scrolled": true,
    "slideshow": {
     "slide_type": "fragment"
    }
   },
   "outputs": [
    {
     "name": "stdout",
     "output_type": "stream",
     "text": [
      "Michael Roman\n",
      "Hoppers\n",
      "exuberant\n"
     ]
    }
   ],
   "source": [
    "print mike.name\n",
    "print mike.cohort\n",
    "print mike.mood"
   ]
  },
  {
   "cell_type": "markdown",
   "metadata": {
    "slideshow": {
     "slide_type": "slide"
    }
   },
   "source": [
    "## We have three attributes.  Let's create a method\n",
    "Let's say something upsets Mike and changes his mood.  We need a way to change Mike's mood.\n",
    "\n",
    "\n",
    "\n"
   ]
  },
  {
   "cell_type": "code",
   "execution_count": 5,
   "metadata": {
    "collapsed": true,
    "slideshow": {
     "slide_type": "-"
    }
   },
   "outputs": [],
   "source": [
    "class dsi_student(object):\n",
    "    def __init__(self, name, cohort, mood):\n",
    "        self.name = name\n",
    "        self.cohort = cohort\n",
    "        self.mood = mood\n",
    "        \n",
    "    def change_mood(self, new_mood):\n",
    "        self.mood = new_mood"
   ]
  },
  {
   "cell_type": "code",
   "execution_count": 6,
   "metadata": {
    "collapsed": false,
    "slideshow": {
     "slide_type": "slide"
    }
   },
   "outputs": [
    {
     "name": "stdout",
     "output_type": "stream",
     "text": [
      "exuberant\n",
      "melancholy\n"
     ]
    }
   ],
   "source": [
    "mike = dsi_student(\"Michael Roman\", \"Hoppers\", \"exuberant\")\n",
    "print mike.mood\n",
    "mike.change_mood(\"melancholy\")\n",
    "print mike.mood"
   ]
  },
  {
   "cell_type": "markdown",
   "metadata": {
    "slideshow": {
     "slide_type": "-"
    }
   },
   "source": [
    "We can use methods to change attributes, and do many more things!"
   ]
  },
  {
   "cell_type": "markdown",
   "metadata": {
    "slideshow": {
     "slide_type": "slide"
    }
   },
   "source": [
    "## A slightly more complex example...\n",
    "\n",
    "[soccer / football](./code/oop-soccer.ipynb)"
   ]
  },
  {
   "cell_type": "markdown",
   "metadata": {
    "slideshow": {
     "slide_type": "slide"
    }
   },
   "source": [
    "## Now we're going to build a simple linear regression class, similar to what's in scikit-learn"
   ]
  },
  {
   "cell_type": "markdown",
   "metadata": {
    "slideshow": {
     "slide_type": "slide"
    }
   },
   "source": [
    "## A quick dive into linear algebra...\n",
    "\n",
    "\n",
    "### Deriving the least squares solution to linear regression\n",
    "\n",
    "With target vector $y$ and prediction matrix $X$, we can formulate a regression as:\n",
    "\n",
    "### $$ y = \\beta X + \\epsilon $$\n",
    "\n",
    "Where $\\beta$ is our vector of coefficients and $\\epsilon$ is our vector of errors, or residuals.\n",
    "\n",
    "We can equivalently formulate this as a calculation of the residuals:\n",
    "\n",
    "### $$ \\epsilon = \\beta X - y $$\n",
    "\n",
    "Our goal is to minimize the sum of squared residuals. The sum of squared residuals is equivalent to the dot product of the vector of residuals:\n",
    "\n",
    "### $$ \\sum_{i=1}^n \\epsilon_i^2 = \n",
    "\\left[\\begin{array}{cc}\n",
    "\\epsilon_1 \\cdots \\epsilon_n\n",
    "\\end{array}\\right] \n",
    "\\left[\\begin{array}{cc}\n",
    "\\epsilon_1 \\\\ \\cdots \\\\ \\epsilon_n\n",
    "\\end{array}\\right] = \\epsilon' \\epsilon\n",
    "$$\n",
    "\n"
   ]
  },
  {
   "cell_type": "markdown",
   "metadata": {
    "slideshow": {
     "slide_type": "slide"
    }
   },
   "source": [
    "Therefore we can write the sum of squared residuals as:\n",
    "\n",
    "### $$ \\epsilon' \\epsilon = (\\beta X - y)' (\\beta X - y) $$\n",
    "\n",
    "Which becomes:\n",
    "\n",
    "### $$ \\epsilon' \\epsilon = y'y - y'X\\beta - \\beta' X' y + \\beta' X' X \\beta $$\n",
    "\n",
    "Now take the derivative with respect to $\\beta$:\n",
    "\n",
    "### $$ \\frac{\\partial \\epsilon' \\epsilon}{\\partial \\beta} = \n",
    "-2X'y + 2X'X\\beta$$\n",
    "\n",
    "We want to minimize the sum of squared errors, and so we set the derivative to zero and solve for the beta coefficient vector:\n",
    "\n",
    "### $$ 0 = -2X'y + 2X'X\\beta \\\\\n",
    "X'X\\beta = X'y \\\\\n",
    "\\beta = (X'X)^{-1}X'y$$"
   ]
  },
  {
   "cell_type": "markdown",
   "metadata": {
    "slideshow": {
     "slide_type": "slide"
    }
   },
   "source": [
    "## The starting point"
   ]
  },
  {
   "cell_type": "code",
   "execution_count": 7,
   "metadata": {
    "collapsed": true,
    "slideshow": {
     "slide_type": "-"
    }
   },
   "outputs": [],
   "source": [
    "class SimpleLinearRegression(object):\n",
    "    \n",
    "    def __init__(self):\n",
    "        self.coef_ = None\n",
    "        self.intercept_ = None"
   ]
  },
  {
   "cell_type": "markdown",
   "metadata": {
    "slideshow": {
     "slide_type": "slide"
    }
   },
   "source": [
    "### 2. Adding a class function\n",
    "\n",
    "Now, just like with `__init__`, we can add functions to the class.\n",
    "\n",
    "Let's add a `calculate_betas()` method that will calculate the coefficients for a linear regression."
   ]
  },
  {
   "cell_type": "code",
   "execution_count": 8,
   "metadata": {
    "collapsed": true,
    "slideshow": {
     "slide_type": "-"
    }
   },
   "outputs": [],
   "source": [
    "class SimpleLinearRegression(object):\n",
    "    \n",
    "    def __init__(self):\n",
    "        self.coef_ = None\n",
    "        self.intercept_ = None\n",
    "        \n",
    "    def fit(self, X, y):\n",
    "        # betas = (X'X)^-1 X'Y\n",
    "        \n",
    "        XtX = np.dot(X.T, X)\n",
    "        XtX_inv = np.linalg.inv(XtX)\n",
    "        XtX_inv_Xt = np.dot(XtX_inv, X.T)\n",
    "        self.coef_ = np.dot(XtX_inv_Xt, y)"
   ]
  },
  {
   "cell_type": "markdown",
   "metadata": {
    "slideshow": {
     "slide_type": "-"
    }
   },
   "source": [
    "Notice that we assigned `self.coef_` inside of the `calculate_betas()` function.\n",
    "This will set the class attribute `self.coef_`, and this attribute can be accessed by any other function in the class without passing it as an argument!\n",
    "It can also be accessed by you after instantiating the class."
   ]
  },
  {
   "cell_type": "markdown",
   "metadata": {
    "slideshow": {
     "slide_type": "slide"
    }
   },
   "source": [
    "## 3. Assigning attributes during instantiation\n",
    "There is an issue here - we may pass an X matrix in without an intercept.\n",
    "Add a keyword argument to the __init__ function which will specify whether the X matrix should have an intercept added or not."
   ]
  },
  {
   "cell_type": "code",
   "execution_count": 9,
   "metadata": {
    "collapsed": true,
    "slideshow": {
     "slide_type": "-"
    }
   },
   "outputs": [],
   "source": [
    "class SimpleLinearRegression(object):\n",
    "    \n",
    "    def __init__(self, fit_intercept=True):\n",
    "        self.coef_ = None\n",
    "        self.intercept_ = None\n",
    "        self.fit_intercept = fit_intercept\n",
    "        \n",
    "    def fit(self, X, y):\n",
    "        \n",
    "        XtX = np.dot(X.T, X)\n",
    "        XtX_inv = np.linalg.inv(XtX)\n",
    "        XtX_inv_Xt = np.dot(XtX_inv, X.T)\n",
    "        self.coef_ = np.dot(XtX_inv_Xt, y)"
   ]
  },
  {
   "cell_type": "markdown",
   "metadata": {
    "slideshow": {
     "slide_type": "slide"
    }
   },
   "source": [
    "Now, if we instantiate the class, it will assign `fit_intercept` to the class attribute `fit_intercept`, like so:"
   ]
  },
  {
   "cell_type": "code",
   "execution_count": 10,
   "metadata": {
    "collapsed": false,
    "slideshow": {
     "slide_type": "fragment"
    }
   },
   "outputs": [
    {
     "data": {
      "text/plain": [
       "True"
      ]
     },
     "execution_count": 10,
     "metadata": {},
     "output_type": "execute_result"
    }
   ],
   "source": [
    "slr = SimpleLinearRegression(fit_intercept=True)\n",
    "slr.fit_intercept"
   ]
  },
  {
   "cell_type": "code",
   "execution_count": 11,
   "metadata": {
    "collapsed": false,
    "slideshow": {
     "slide_type": "fragment"
    }
   },
   "outputs": [
    {
     "data": {
      "text/plain": [
       "False"
      ]
     },
     "execution_count": 11,
     "metadata": {},
     "output_type": "execute_result"
    }
   ],
   "source": [
    "slr = SimpleLinearRegression(fit_intercept=False)\n",
    "slr.fit_intercept"
   ]
  },
  {
   "cell_type": "markdown",
   "metadata": {
    "slideshow": {
     "slide_type": "slide"
    }
   },
   "source": [
    "### 4. Add a function to add an intercept to the `X` matrix if necessary\n",
    "\n",
    "This function will be called from inside the `fit` function."
   ]
  },
  {
   "cell_type": "code",
   "execution_count": 12,
   "metadata": {
    "collapsed": true,
    "slideshow": {
     "slide_type": "-"
    }
   },
   "outputs": [],
   "source": [
    "class SimpleLinearRegression(object):\n",
    "    \n",
    "    def __init__(self, fit_intercept=True):\n",
    "        self.coef_ = None\n",
    "        self.intercept_ = None\n",
    "        self.fit_intercept = fit_intercept\n",
    "        \n",
    "    def add_intercept(self, X):\n",
    "        intercept = np.ones((X.shape[0], 1))\n",
    "        X = np.concatenate([intercept, X], axis=1)\n",
    "        return X\n",
    "        \n",
    "    def fit(self, X, y):\n",
    "        \n",
    "        if self.fit_intercept:\n",
    "            X = self.add_intercept(X)\n",
    "        \n",
    "        XtX = np.dot(X.T, X)\n",
    "        XtX_inv = np.linalg.inv(XtX)\n",
    "        XtX_inv_Xt = np.dot(XtX_inv, X.T)\n",
    "        betas = np.dot(XtX_inv_Xt, y)\n",
    "        \n",
    "        self.coef_ = betas[1:]\n",
    "        self.intercept_ = betas[0]"
   ]
  },
  {
   "cell_type": "markdown",
   "metadata": {
    "slideshow": {
     "slide_type": "slide"
    }
   },
   "source": [
    "### 5. Try out the class...\n",
    "\n",
    "Let's instantiate the class and try out the coefficient fitting function on the housing data."
   ]
  },
  {
   "cell_type": "code",
   "execution_count": 13,
   "metadata": {
    "collapsed": false,
    "slideshow": {
     "slide_type": "-"
    }
   },
   "outputs": [],
   "source": [
    "import pandas as pd\n",
    "house = pd.read_csv(\"housing-data.csv\")\n",
    "y = house.price.values\n",
    "X = house[['sqft','bdrms','age']].values"
   ]
  },
  {
   "cell_type": "code",
   "execution_count": 14,
   "metadata": {
    "collapsed": false,
    "slideshow": {
     "slide_type": "fragment"
    }
   },
   "outputs": [
    {
     "name": "stdout",
     "output_type": "stream",
     "text": [
      "True\n",
      "None\n",
      "None\n"
     ]
    }
   ],
   "source": [
    "slr = SimpleLinearRegression(fit_intercept=True)\n",
    "print slr.fit_intercept\n",
    "print slr.coef_\n",
    "print slr.intercept_"
   ]
  },
  {
   "cell_type": "code",
   "execution_count": 15,
   "metadata": {
    "collapsed": false,
    "slideshow": {
     "slide_type": "slide"
    }
   },
   "outputs": [
    {
     "name": "stdout",
     "output_type": "stream",
     "text": [
      "[  139.33484671 -8621.47045953   -81.21787764]\n",
      "92451.6278416\n"
     ]
    }
   ],
   "source": [
    "slr.fit(X, y)\n",
    "print slr.coef_\n",
    "print slr.intercept_"
   ]
  },
  {
   "cell_type": "markdown",
   "metadata": {
    "slideshow": {
     "slide_type": "slide"
    }
   },
   "source": [
    "### 6. Add the `predict` function.\n",
    "\n",
    "Let's another one of the class methods that are in the real `LinearRegression` class.\n",
    "\n",
    "Let's add the `predict` function. It will take a design matrix `X` and return predictions for those rows."
   ]
  },
  {
   "cell_type": "code",
   "execution_count": 16,
   "metadata": {
    "collapsed": true,
    "slideshow": {
     "slide_type": "slide"
    }
   },
   "outputs": [],
   "source": [
    "class SimpleLinearRegression(object):\n",
    "    \n",
    "    def __init__(self, fit_intercept=True):\n",
    "        self.coef_ = None\n",
    "        self.intercept_ = None\n",
    "        self.fit_intercept = fit_intercept\n",
    "        \n",
    "    def add_intercept(self, X):\n",
    "        intercept = np.ones((X.shape[0], 1))\n",
    "        X = np.concatenate([intercept, X], axis=1)\n",
    "        return X\n",
    "        \n",
    "    def fit(self, X, y):\n",
    "        \n",
    "        if self.fit_intercept:\n",
    "            X = self.add_intercept(X)\n",
    "        \n",
    "        XtX = np.dot(X.T, X)\n",
    "        XtX_inv = np.linalg.inv(XtX)\n",
    "        XtX_inv_Xt = np.dot(XtX_inv, X.T)\n",
    "        betas = np.dot(XtX_inv_Xt, y)\n",
    "        \n",
    "        self.coef_ = betas[1:]\n",
    "        self.intercept_ = betas[0]\n",
    "        \n",
    "    def predict(self, X):\n",
    "        if self.fit_intercept:\n",
    "            X = self.add_intercept(X)\n",
    "            \n",
    "        return np.dot(X, np.concatenate([[self.intercept_], self.coef_]))"
   ]
  },
  {
   "cell_type": "code",
   "execution_count": 17,
   "metadata": {
    "collapsed": true,
    "slideshow": {
     "slide_type": "slide"
    }
   },
   "outputs": [],
   "source": [
    "slr = SimpleLinearRegression(fit_intercept=True)\n",
    "slr.fit(X,y)\n",
    "y_hat = slr.predict(X)"
   ]
  },
  {
   "cell_type": "code",
   "execution_count": 18,
   "metadata": {
    "collapsed": false,
    "slideshow": {
     "slide_type": "-"
    }
   },
   "outputs": [
    {
     "data": {
      "text/plain": [
       "array([ 354062.48251176,  287248.87062952,  397417.26195747,\n",
       "        268527.1538634 ,  469878.94531868,  329591.12619219,\n",
       "        279352.25678876,  260788.62369656,  257732.25463971,\n",
       "        273535.20928732,  327706.82348284,  343064.02719228,\n",
       "        326275.2722563 ,  669306.04311939,  238553.16519158,\n",
       "        372182.11686444,  254095.17616961,  232470.09254391,\n",
       "        421084.27168899,  478584.09095951,  309218.30398827,\n",
       "        331856.66518255,  289024.47818102,  327036.16773894,\n",
       "        605675.92658069,  214982.47518854,  267382.10451866,\n",
       "        417491.20685022,  370849.7786572 ,  431982.76030362,\n",
       "        328196.7549217 ,  222758.9147067 ,  336117.4924744 ,\n",
       "        498239.03279902,  308351.92433696,  262750.49730719,\n",
       "        237436.29823206,  352753.5386212 ,  639901.74497352,\n",
       "        355715.31585793,  303813.15674696,  375413.5419335 ,\n",
       "        411008.87848962,  227616.47381753,  188236.72488687,\n",
       "        310815.93794646,  233313.64040447])"
      ]
     },
     "execution_count": 18,
     "metadata": {},
     "output_type": "execute_result"
    }
   ],
   "source": [
    "y_hat"
   ]
  },
  {
   "cell_type": "markdown",
   "metadata": {
    "slideshow": {
     "slide_type": "slide"
    }
   },
   "source": [
    "## Compare to scikit-learn"
   ]
  },
  {
   "cell_type": "code",
   "execution_count": 19,
   "metadata": {
    "collapsed": false,
    "slideshow": {
     "slide_type": "fragment"
    }
   },
   "outputs": [
    {
     "data": {
      "text/plain": [
       "array([ 354062.48251176,  287248.87062952,  397417.26195747,\n",
       "        268527.15386339,  469878.94531868,  329591.12619219,\n",
       "        279352.25678876,  260788.62369656,  257732.25463971,\n",
       "        273535.20928732,  327706.82348284,  343064.02719228,\n",
       "        326275.2722563 ,  669306.04311939,  238553.16519158,\n",
       "        372182.11686444,  254095.17616961,  232470.09254391,\n",
       "        421084.27168899,  478584.0909595 ,  309218.30398827,\n",
       "        331856.66518254,  289024.47818102,  327036.16773894,\n",
       "        605675.92658069,  214982.47518854,  267382.10451866,\n",
       "        417491.20685022,  370849.7786572 ,  431982.76030362,\n",
       "        328196.7549217 ,  222758.9147067 ,  336117.4924744 ,\n",
       "        498239.03279901,  308351.92433696,  262750.49730719,\n",
       "        237436.29823206,  352753.5386212 ,  639901.74497352,\n",
       "        355715.31585793,  303813.15674696,  375413.5419335 ,\n",
       "        411008.87848962,  227616.47381753,  188236.72488687,\n",
       "        310815.93794646,  233313.64040447])"
      ]
     },
     "execution_count": 19,
     "metadata": {},
     "output_type": "execute_result"
    }
   ],
   "source": [
    "from sklearn.linear_model import LinearRegression\n",
    "lr = LinearRegression()\n",
    "lr.fit(X,y)\n",
    "lr.predict(X)"
   ]
  },
  {
   "cell_type": "markdown",
   "metadata": {
    "slideshow": {
     "slide_type": "slide"
    }
   },
   "source": [
    "## Conclusion\n",
    "In this class we looked at the basic structure of classes in python, and explained the difference between attributes and methods.  We saw that attributes can be set at instantiation, or set by methods within the class.\n",
    "\n"
   ]
  },
  {
   "cell_type": "markdown",
   "metadata": {
    "slideshow": {
     "slide_type": "slide"
    }
   },
   "source": [
    "## Independent work:\n",
    "\n",
    "Now your turn!\n",
    "\n",
    "Take your pick of the two scenarios below.\n",
    "\n",
    "**Option 1. Design a bank system**.  A bank (one class) can have multiple accounts (also a class), each with a balance and account holder.  \n",
    "    - Write methods to deposit, withdraw and transfer money between accounts.\n",
    "    - Consider what attributes the bank and accounts should hae\n",
    "    - What restrictions should you create on your methods?\n",
    "    \n",
    "\n",
    "\n",
    "** Option 2. (harder) Write a tic-tac-toe game!** \n",
    "Things to think about:\n",
    "    - Initialize the board as an attribute variable: self.board\n",
    "    - Here are some methods you make want to write: turn(), play(), update_board(), check_win()\n",
    "    - Consider creating booleans self.over and self.win to check if the game is over after each move\n",
    "    - Start by having the computer make random moves. Then, once the game mechanics work, start to improve the AI. See if you can have it block losses. Then, have it check where it can win."
   ]
  },
  {
   "cell_type": "code",
   "execution_count": null,
   "metadata": {
    "collapsed": true
   },
   "outputs": [],
   "source": []
  }
 ],
 "metadata": {
  "celltoolbar": "Slideshow",
  "kernelspec": {
   "display_name": "Python 2",
   "language": "python",
   "name": "python2"
  },
  "language_info": {
   "codemirror_mode": {
    "name": "ipython",
    "version": 2
   },
   "file_extension": ".py",
   "mimetype": "text/x-python",
   "name": "python",
   "nbconvert_exporter": "python",
   "pygments_lexer": "ipython2",
   "version": "2.7.12"
  }
 },
 "nbformat": 4,
 "nbformat_minor": 0
}
