{
 "cells": [
  {
   "cell_type": "code",
   "execution_count": 211,
   "metadata": {
    "collapsed": true,
    "slideshow": {
     "slide_type": "skip"
    }
   },
   "outputs": [],
   "source": [
    "import numpy as np\n",
    "import pandas as pd\n",
    "import matplotlib.pyplot as plt\n",
    "%matplotlib inline"
   ]
  },
  {
   "cell_type": "markdown",
   "metadata": {
    "slideshow": {
     "slide_type": "slide"
    }
   },
   "source": [
    "# ![](https://ga-dash.s3.amazonaws.com/production/assets/logo-9f88ae6c9c3871690e33280fcf557f33.png) Missing Data\n",
    "\n",
    "Week 4 | Day 4"
   ]
  },
  {
   "cell_type": "markdown",
   "metadata": {
    "slideshow": {
     "slide_type": "slide"
    }
   },
   "source": [
    "### LEARNING OBJECTIVES\n",
    "*After this lesson, you will be able to:*\n",
    "- Identify missing data\n",
    "- Understand a few techniques to deal with missing data\n",
    "- Outline the limitations of these techniques"
   ]
  },
  {
   "cell_type": "markdown",
   "metadata": {
    "slideshow": {
     "slide_type": "slide"
    }
   },
   "source": [
    "## What is missing data?\n",
    "\n",
    "- missing data point for a given variable\n",
    "- more high level, it's missing information\n"
   ]
  },
  {
   "cell_type": "markdown",
   "metadata": {
    "slideshow": {
     "slide_type": "slide"
    }
   },
   "source": [
    "### Which of these are examples of missing data?\n",
    "\n",
    "- no record of a person's data of birth\n",
    "- no answer to a question because the survey-giver forgot to ask it\n",
    "- no answer to a question because the survey-taker refused to answer it\n",
    "- income level encoded as >$100k\n",
    "- effect of a medical treatment for the placebo group"
   ]
  },
  {
   "cell_type": "markdown",
   "metadata": {
    "slideshow": {
     "slide_type": "slide"
    }
   },
   "source": [
    "## They are all types of missing data!\n",
    "\n",
    "And they all can have an effect on the conclusions we can draw"
   ]
  },
  {
   "cell_type": "markdown",
   "metadata": {
    "slideshow": {
     "slide_type": "slide"
    }
   },
   "source": [
    "## Why do we care about missing data?\n",
    "\n",
    "- we have lost information (less information to work with and learn from)\n",
    "- we might bias our findings if we don't \"handle\" it properly (selection bias)\n"
   ]
  },
  {
   "cell_type": "markdown",
   "metadata": {
    "slideshow": {
     "slide_type": "slide"
    }
   },
   "source": [
    "## An example.... (completely fictitious, of course...)\n",
    "\n",
    "Exit polls!\n",
    "\n",
    "\n",
    "\n"
   ]
  },
  {
   "cell_type": "markdown",
   "metadata": {
    "slideshow": {
     "slide_type": "slide"
    }
   },
   "source": [
    "**Hypothetical Situation:** \n",
    "\n",
    "Country A has been a member of a large international economic union for 40+ years.  There is some unhappiness about the arragement, so a plebiscite is held to determine future membership.\n",
    "\n",
    "Leading up to the vote, it seems that the majority will vote to remain in the union.  Most newspapers / media outlets are in favour of staying, and there is some suggestion that a vote to leave is a product of ignorance (in other words, it's decidedly \"uncool\" to vote to leave)."
   ]
  },
  {
   "cell_type": "markdown",
   "metadata": {
    "slideshow": {
     "slide_type": "slide"
    }
   },
   "source": [
    "On the day of the vote, pollsters stand outside voting stations and ask people how they voted. \n",
    "\n",
    "Some people refuse to answer."
   ]
  },
  {
   "cell_type": "markdown",
   "metadata": {
    "slideshow": {
     "slide_type": "slide"
    }
   },
   "source": [
    "The pollsters collect the following data:\n",
    "\n",
    "- Remain: 57\n",
    "- Leave: 43\n",
    "- No Answer: 26\n",
    "\n",
    "The pollsters need to consider what to do with the missing values.  \n"
   ]
  },
  {
   "cell_type": "markdown",
   "metadata": {
    "slideshow": {
     "slide_type": "slide"
    }
   },
   "source": [
    "They decide to just disregard the \"No Answers\" \n",
    "\n",
    "So they conclude:\n",
    "\n",
    "*57% of people voted to remain!*\n",
    "\n",
    "\n",
    "Any concerns with this?"
   ]
  },
  {
   "cell_type": "markdown",
   "metadata": {
    "slideshow": {
     "slide_type": "slide"
    }
   },
   "source": [
    "## What assumption did they make?\n",
    "\n",
    "By ignoring the \"No Answers\" the pollsters were assuming that of the people who didn't answer, 57% voted to remain and 43% voted to leave.\n",
    "\n",
    "Is this a reasonable assumption?"
   ]
  },
  {
   "cell_type": "markdown",
   "metadata": {
    "slideshow": {
     "slide_type": "slide"
    }
   },
   "source": [
    "## A better assumption?\n",
    "\n",
    "What if they assumed that people who didn't asnwer were equally split between remain and leave.  So the numbers should have looked like this:\n",
    "\n",
    "- Remain: 70\n",
    "- Leave: 56\n",
    "\n",
    "So 56% of people voted to stay!\n",
    "\n",
    "Is this likely?"
   ]
  },
  {
   "cell_type": "markdown",
   "metadata": {
    "slideshow": {
     "slide_type": "slide"
    }
   },
   "source": [
    "Actually, people who voted to leave were much more likely to decline to answer (since it was believed to be the less popular choice).  So the data actually should have looked like this:\n",
    "\n",
    "- Remain: 62\n",
    "- Leave: 64\n",
    "\n",
    "50.7% of people voted to leave\n",
    "\n",
    "So what you do with missing data can have a significant impact on your findings."
   ]
  },
  {
   "cell_type": "markdown",
   "metadata": {
    "slideshow": {
     "slide_type": "slide"
    }
   },
   "source": [
    "## How do we know we have missing data?\n",
    "\n",
    "Ok, so we know we need to think about what to do with missing data.  But how do we know that we have it?\n",
    "\n",
    "Broadly speaking, by exploring the data!\n",
    "\n"
   ]
  },
  {
   "cell_type": "markdown",
   "metadata": {
    "slideshow": {
     "slide_type": "slide"
    }
   },
   "source": [
    "## What does it look like?\n",
    "\n",
    "It can be hard to find.  Some datasets have missing value sentinels (\"*\", -999, -1, \"n/a\").\n",
    "\n",
    "You can find these by using things like value_counts(), or by reading the notes that came with the data source (sometimes the source will tell you how missing values are encoded)\n",
    "\n"
   ]
  },
  {
   "cell_type": "markdown",
   "metadata": {
    "slideshow": {
     "slide_type": "slide"
    }
   },
   "source": [
    "## Special missing value markers\n",
    "\n",
    "Python recognizes None and np.nan as missing values, and allows you to perform specific tasks on them"
   ]
  },
  {
   "cell_type": "code",
   "execution_count": 197,
   "metadata": {
    "collapsed": false,
    "slideshow": {
     "slide_type": "-"
    }
   },
   "outputs": [
    {
     "data": {
      "text/html": [
       "<div>\n",
       "<table border=\"1\" class=\"dataframe\">\n",
       "  <thead>\n",
       "    <tr style=\"text-align: right;\">\n",
       "      <th></th>\n",
       "      <th>first</th>\n",
       "      <th>second</th>\n",
       "    </tr>\n",
       "  </thead>\n",
       "  <tbody>\n",
       "    <tr>\n",
       "      <th>0</th>\n",
       "      <td>1.0</td>\n",
       "      <td>None</td>\n",
       "    </tr>\n",
       "    <tr>\n",
       "      <th>1</th>\n",
       "      <td>2.0</td>\n",
       "      <td>a</td>\n",
       "    </tr>\n",
       "    <tr>\n",
       "      <th>2</th>\n",
       "      <td>3.0</td>\n",
       "      <td>b</td>\n",
       "    </tr>\n",
       "    <tr>\n",
       "      <th>3</th>\n",
       "      <td>4.0</td>\n",
       "      <td>c</td>\n",
       "    </tr>\n",
       "    <tr>\n",
       "      <th>4</th>\n",
       "      <td>5.0</td>\n",
       "      <td>NaN</td>\n",
       "    </tr>\n",
       "    <tr>\n",
       "      <th>5</th>\n",
       "      <td>NaN</td>\n",
       "      <td>d</td>\n",
       "    </tr>\n",
       "  </tbody>\n",
       "</table>\n",
       "</div>"
      ],
      "text/plain": [
       "   first second\n",
       "0    1.0   None\n",
       "1    2.0      a\n",
       "2    3.0      b\n",
       "3    4.0      c\n",
       "4    5.0    NaN\n",
       "5    NaN      d"
      ]
     },
     "execution_count": 197,
     "metadata": {},
     "output_type": "execute_result"
    }
   ],
   "source": [
    "a =[1,2,3,4,5,np.nan]\n",
    "b = [None, \"a\", \"b\", \"c\", np.nan, \"d\"]\n",
    "df=pd.DataFrame()\n",
    "df['first'] = a\n",
    "df['second'] = b\n",
    "df"
   ]
  },
  {
   "cell_type": "code",
   "execution_count": 198,
   "metadata": {
    "collapsed": false,
    "slideshow": {
     "slide_type": "slide"
    }
   },
   "outputs": [
    {
     "data": {
      "text/plain": [
       "first     1\n",
       "second    2\n",
       "dtype: int64"
      ]
     },
     "execution_count": 198,
     "metadata": {},
     "output_type": "execute_result"
    }
   ],
   "source": [
    "# find the number of missing values in each column\n",
    "df.isnull().sum()"
   ]
  },
  {
   "cell_type": "code",
   "execution_count": 199,
   "metadata": {
    "collapsed": false,
    "slideshow": {
     "slide_type": "-"
    }
   },
   "outputs": [
    {
     "data": {
      "text/plain": [
       "0    1\n",
       "1    0\n",
       "2    0\n",
       "3    0\n",
       "4    1\n",
       "5    1\n",
       "dtype: int64"
      ]
     },
     "execution_count": 199,
     "metadata": {},
     "output_type": "execute_result"
    }
   ],
   "source": [
    "# find the number of missing values in each row\n",
    "df.isnull().sum(axis=1)"
   ]
  },
  {
   "cell_type": "markdown",
   "metadata": {
    "slideshow": {
     "slide_type": "slide"
    }
   },
   "source": [
    "## What can we do to fix the missingness?\n",
    "\n",
    "So we know how to find missing data, and we know we need to do something to it, but what can we do?\n",
    "\n",
    "The best (but least feasible) approach is to go out and get the missing values!\n",
    "\n",
    "But this might be too expensive, too hard, or just impossible"
   ]
  },
  {
   "cell_type": "markdown",
   "metadata": {
    "slideshow": {
     "slide_type": "slide"
    }
   },
   "source": [
    "## We can drop missing data\n",
    "\n",
    "But as we saw earlier, this might have some unintended consequences.  We lose some statistical power, and unless the data are missing completely at random (we'll touch on this later), the findings will be biased.\n",
    "\n",
    "But maybe we just want to build a cheap model, and don't believe excluding the missing data will bias findings meaningfully.  Or maybe there aren't that many missing values, and the effect is de minimis"
   ]
  },
  {
   "cell_type": "code",
   "execution_count": 200,
   "metadata": {
    "collapsed": false,
    "slideshow": {
     "slide_type": "slide"
    }
   },
   "outputs": [
    {
     "data": {
      "text/html": [
       "<div>\n",
       "<table border=\"1\" class=\"dataframe\">\n",
       "  <thead>\n",
       "    <tr style=\"text-align: right;\">\n",
       "      <th></th>\n",
       "      <th>first</th>\n",
       "      <th>second</th>\n",
       "    </tr>\n",
       "  </thead>\n",
       "  <tbody>\n",
       "    <tr>\n",
       "      <th>1</th>\n",
       "      <td>2.0</td>\n",
       "      <td>a</td>\n",
       "    </tr>\n",
       "    <tr>\n",
       "      <th>2</th>\n",
       "      <td>3.0</td>\n",
       "      <td>b</td>\n",
       "    </tr>\n",
       "    <tr>\n",
       "      <th>3</th>\n",
       "      <td>4.0</td>\n",
       "      <td>c</td>\n",
       "    </tr>\n",
       "  </tbody>\n",
       "</table>\n",
       "</div>"
      ],
      "text/plain": [
       "   first second\n",
       "1    2.0      a\n",
       "2    3.0      b\n",
       "3    4.0      c"
      ]
     },
     "execution_count": 200,
     "metadata": {},
     "output_type": "execute_result"
    }
   ],
   "source": [
    "df2 = df.dropna()\n",
    "df2"
   ]
  },
  {
   "cell_type": "markdown",
   "metadata": {
    "slideshow": {
     "slide_type": "slide"
    }
   },
   "source": [
    "## We can impute the missing values\n",
    "\n",
    "We can fill the missing values in with our best estimate of what the value should be.  How could we do this?"
   ]
  },
  {
   "cell_type": "markdown",
   "metadata": {
    "slideshow": {
     "slide_type": "fragment"
    }
   },
   "source": [
    "To keep it simple, we could use the mean, median, mode of the non-missing data"
   ]
  },
  {
   "cell_type": "code",
   "execution_count": 220,
   "metadata": {
    "collapsed": false,
    "slideshow": {
     "slide_type": "slide"
    }
   },
   "outputs": [],
   "source": [
    "# generate some data with missingness\n",
    "keys= ['a', 'b', 'c', 'd']\n",
    "temp_dict = {}\n",
    "for key in keys:\n",
    "    temp_dict[key] = np.random.randn(100)*25+100\n",
    "df = pd.DataFrame(temp_dict)\n",
    "for i in range(20):\n",
    "    x = np.random.randint(4)\n",
    "    y = np.random.randint(100)\n",
    "    df.iloc[y,x] = np.nan"
   ]
  },
  {
   "cell_type": "code",
   "execution_count": 221,
   "metadata": {
    "collapsed": false
   },
   "outputs": [
    {
     "data": {
      "text/html": [
       "<div>\n",
       "<table border=\"1\" class=\"dataframe\">\n",
       "  <thead>\n",
       "    <tr style=\"text-align: right;\">\n",
       "      <th></th>\n",
       "      <th>a</th>\n",
       "      <th>b</th>\n",
       "      <th>c</th>\n",
       "      <th>d</th>\n",
       "    </tr>\n",
       "  </thead>\n",
       "  <tbody>\n",
       "    <tr>\n",
       "      <th>0</th>\n",
       "      <td>116.795231</td>\n",
       "      <td>79.821561</td>\n",
       "      <td>65.205099</td>\n",
       "      <td>87.718436</td>\n",
       "    </tr>\n",
       "    <tr>\n",
       "      <th>1</th>\n",
       "      <td>107.037741</td>\n",
       "      <td>96.360369</td>\n",
       "      <td>72.124985</td>\n",
       "      <td>64.968264</td>\n",
       "    </tr>\n",
       "    <tr>\n",
       "      <th>2</th>\n",
       "      <td>NaN</td>\n",
       "      <td>67.520001</td>\n",
       "      <td>101.587350</td>\n",
       "      <td>120.183513</td>\n",
       "    </tr>\n",
       "    <tr>\n",
       "      <th>3</th>\n",
       "      <td>99.873116</td>\n",
       "      <td>44.045472</td>\n",
       "      <td>102.794585</td>\n",
       "      <td>80.539873</td>\n",
       "    </tr>\n",
       "    <tr>\n",
       "      <th>4</th>\n",
       "      <td>69.793821</td>\n",
       "      <td>75.139646</td>\n",
       "      <td>50.050609</td>\n",
       "      <td>108.102391</td>\n",
       "    </tr>\n",
       "  </tbody>\n",
       "</table>\n",
       "</div>"
      ],
      "text/plain": [
       "            a          b           c           d\n",
       "0  116.795231  79.821561   65.205099   87.718436\n",
       "1  107.037741  96.360369   72.124985   64.968264\n",
       "2         NaN  67.520001  101.587350  120.183513\n",
       "3   99.873116  44.045472  102.794585   80.539873\n",
       "4   69.793821  75.139646   50.050609  108.102391"
      ]
     },
     "execution_count": 221,
     "metadata": {},
     "output_type": "execute_result"
    }
   ],
   "source": [
    "df.head()"
   ]
  },
  {
   "cell_type": "code",
   "execution_count": 202,
   "metadata": {
    "collapsed": false,
    "slideshow": {
     "slide_type": "-"
    }
   },
   "outputs": [
    {
     "data": {
      "text/plain": [
       "a    4\n",
       "b    4\n",
       "c    5\n",
       "d    7\n",
       "dtype: int64"
      ]
     },
     "execution_count": 202,
     "metadata": {},
     "output_type": "execute_result"
    }
   ],
   "source": [
    "df.isnull().sum()"
   ]
  },
  {
   "cell_type": "markdown",
   "metadata": {
    "slideshow": {
     "slide_type": "slide"
    }
   },
   "source": [
    "## Impute with Mean"
   ]
  },
  {
   "cell_type": "code",
   "execution_count": 203,
   "metadata": {
    "collapsed": false,
    "slideshow": {
     "slide_type": "-"
    }
   },
   "outputs": [
    {
     "data": {
      "text/plain": [
       "a    0\n",
       "b    0\n",
       "c    0\n",
       "d    0\n",
       "dtype: int64"
      ]
     },
     "execution_count": 203,
     "metadata": {},
     "output_type": "execute_result"
    }
   ],
   "source": [
    "from sklearn.preprocessing import Imputer\n",
    "imp_mean = Imputer(strategy='mean', axis=0)\n",
    "df_mean = imp_mean.fit_transform(df)\n",
    "df_mean = pd.DataFrame(df_mean, columns=df.columns)\n",
    "df_mean.isnull().sum()"
   ]
  },
  {
   "cell_type": "markdown",
   "metadata": {
    "slideshow": {
     "slide_type": "slide"
    }
   },
   "source": [
    "We can use similar methodology to impute with the median or the mode.\n",
    "\n",
    "[docs](http://scikit-learn.org/stable/modules/generated/sklearn.preprocessing.Imputer.html#sklearn.preprocessing.Imputer)\n",
    "\n",
    "\n",
    "What are the concerns with this type of imputation?"
   ]
  },
  {
   "cell_type": "markdown",
   "metadata": {
    "slideshow": {
     "slide_type": "slide"
    }
   },
   "source": [
    "### Mean is unchanged"
   ]
  },
  {
   "cell_type": "code",
   "execution_count": 204,
   "metadata": {
    "collapsed": false,
    "slideshow": {
     "slide_type": "-"
    }
   },
   "outputs": [
    {
     "data": {
      "text/html": [
       "<div>\n",
       "<table border=\"1\" class=\"dataframe\">\n",
       "  <thead>\n",
       "    <tr style=\"text-align: right;\">\n",
       "      <th></th>\n",
       "      <th>original</th>\n",
       "      <th>imputed</th>\n",
       "    </tr>\n",
       "  </thead>\n",
       "  <tbody>\n",
       "    <tr>\n",
       "      <th>0</th>\n",
       "      <td>102.303281</td>\n",
       "      <td>102.303281</td>\n",
       "    </tr>\n",
       "    <tr>\n",
       "      <th>1</th>\n",
       "      <td>97.227687</td>\n",
       "      <td>97.227687</td>\n",
       "    </tr>\n",
       "    <tr>\n",
       "      <th>2</th>\n",
       "      <td>101.723029</td>\n",
       "      <td>101.723029</td>\n",
       "    </tr>\n",
       "    <tr>\n",
       "      <th>3</th>\n",
       "      <td>96.243045</td>\n",
       "      <td>96.243045</td>\n",
       "    </tr>\n",
       "  </tbody>\n",
       "</table>\n",
       "</div>"
      ],
      "text/plain": [
       "     original     imputed\n",
       "0  102.303281  102.303281\n",
       "1   97.227687   97.227687\n",
       "2  101.723029  101.723029\n",
       "3   96.243045   96.243045"
      ]
     },
     "execution_count": 204,
     "metadata": {},
     "output_type": "execute_result"
    }
   ],
   "source": [
    "pd.DataFrame(zip(df.mean(), df_mean.mean()), columns=['original', 'imputed'])"
   ]
  },
  {
   "cell_type": "markdown",
   "metadata": {
    "slideshow": {
     "slide_type": "slide"
    }
   },
   "source": [
    "## But variance is smaller"
   ]
  },
  {
   "cell_type": "code",
   "execution_count": 205,
   "metadata": {
    "collapsed": false,
    "slideshow": {
     "slide_type": "-"
    }
   },
   "outputs": [
    {
     "data": {
      "text/html": [
       "<div>\n",
       "<table border=\"1\" class=\"dataframe\">\n",
       "  <thead>\n",
       "    <tr style=\"text-align: right;\">\n",
       "      <th></th>\n",
       "      <th>original</th>\n",
       "      <th>imputed</th>\n",
       "    </tr>\n",
       "  </thead>\n",
       "  <tbody>\n",
       "    <tr>\n",
       "      <th>0</th>\n",
       "      <td>527.050690</td>\n",
       "      <td>505.755712</td>\n",
       "    </tr>\n",
       "    <tr>\n",
       "      <th>1</th>\n",
       "      <td>660.432900</td>\n",
       "      <td>633.748742</td>\n",
       "    </tr>\n",
       "    <tr>\n",
       "      <th>2</th>\n",
       "      <td>573.332988</td>\n",
       "      <td>544.376776</td>\n",
       "    </tr>\n",
       "    <tr>\n",
       "      <th>3</th>\n",
       "      <td>635.450183</td>\n",
       "      <td>590.519362</td>\n",
       "    </tr>\n",
       "  </tbody>\n",
       "</table>\n",
       "</div>"
      ],
      "text/plain": [
       "     original     imputed\n",
       "0  527.050690  505.755712\n",
       "1  660.432900  633.748742\n",
       "2  573.332988  544.376776\n",
       "3  635.450183  590.519362"
      ]
     },
     "execution_count": 205,
     "metadata": {},
     "output_type": "execute_result"
    }
   ],
   "source": [
    "pd.DataFrame(zip(df.var(), df_mean.var()), columns=['original', 'imputed'])\n"
   ]
  },
  {
   "cell_type": "markdown",
   "metadata": {
    "slideshow": {
     "slide_type": "slide"
    }
   },
   "source": [
    "Also, what are we assuming about the missing data points? \n",
    "\n",
    "Can we think of a way to improve on this?"
   ]
  },
  {
   "cell_type": "markdown",
   "metadata": {
    "slideshow": {
     "slide_type": "fragment"
    }
   },
   "source": [
    "We can use other information we have about the record to inform our imputation."
   ]
  },
  {
   "cell_type": "markdown",
   "metadata": {
    "slideshow": {
     "slide_type": "slide"
    }
   },
   "source": [
    "## Hot Deck Imputation\n",
    "\n",
    "This is a fairly commonly used technique, but there is no standard implementation in python.\n",
    "\n",
    "Essentially, you find the most similar record that has no missing value, and use that to impute.\n",
    "\n",
    "<img src=\"./assets/hot-deck.png\" width=\"300\" />\n",
    "\n",
    "> Check: what might be the concerns with this?"
   ]
  },
  {
   "cell_type": "markdown",
   "metadata": {
    "slideshow": {
     "slide_type": "slide"
    }
   },
   "source": [
    "## Now that we know how to build models, we could impute using regression"
   ]
  },
  {
   "cell_type": "code",
   "execution_count": 206,
   "metadata": {
    "collapsed": false
   },
   "outputs": [
    {
     "data": {
      "text/plain": [
       "a     0\n",
       "b     0\n",
       "c     0\n",
       "d    17\n",
       "dtype: int64"
      ]
     },
     "execution_count": 206,
     "metadata": {},
     "output_type": "execute_result"
    }
   ],
   "source": [
    "keys= ['a', 'b', 'c', 'd']\n",
    "temp_dict = {}\n",
    "for key in keys:\n",
    "    temp_dict[key] = np.random.randn(100)*25+100\n",
    "df = pd.DataFrame(temp_dict)\n",
    "errs = [np.random.randn(1)[0]*25 for i in range(100)]\n",
    "df['d'] = 2*df['c']+errs\n",
    "\n",
    "for i in range(20):\n",
    "    y = np.random.randint(100)\n",
    "    df.iloc[y,3] = np.nan\n",
    "df.isnull().sum()"
   ]
  },
  {
   "cell_type": "markdown",
   "metadata": {
    "slideshow": {
     "slide_type": "slide"
    }
   },
   "source": [
    "We only have missingness on d.  And we believe that d might be correlated with other variables in the data set."
   ]
  },
  {
   "cell_type": "code",
   "execution_count": 207,
   "metadata": {
    "collapsed": false,
    "slideshow": {
     "slide_type": "-"
    }
   },
   "outputs": [
    {
     "data": {
      "text/html": [
       "<div>\n",
       "<table border=\"1\" class=\"dataframe\">\n",
       "  <thead>\n",
       "    <tr style=\"text-align: right;\">\n",
       "      <th></th>\n",
       "      <th>a</th>\n",
       "      <th>b</th>\n",
       "      <th>c</th>\n",
       "      <th>d</th>\n",
       "    </tr>\n",
       "  </thead>\n",
       "  <tbody>\n",
       "    <tr>\n",
       "      <th>a</th>\n",
       "      <td>1.000000</td>\n",
       "      <td>-0.001478</td>\n",
       "      <td>0.076715</td>\n",
       "      <td>0.041537</td>\n",
       "    </tr>\n",
       "    <tr>\n",
       "      <th>b</th>\n",
       "      <td>-0.001478</td>\n",
       "      <td>1.000000</td>\n",
       "      <td>0.080055</td>\n",
       "      <td>0.158752</td>\n",
       "    </tr>\n",
       "    <tr>\n",
       "      <th>c</th>\n",
       "      <td>0.076715</td>\n",
       "      <td>0.080055</td>\n",
       "      <td>1.000000</td>\n",
       "      <td>0.915284</td>\n",
       "    </tr>\n",
       "    <tr>\n",
       "      <th>d</th>\n",
       "      <td>0.041537</td>\n",
       "      <td>0.158752</td>\n",
       "      <td>0.915284</td>\n",
       "      <td>1.000000</td>\n",
       "    </tr>\n",
       "  </tbody>\n",
       "</table>\n",
       "</div>"
      ],
      "text/plain": [
       "          a         b         c         d\n",
       "a  1.000000 -0.001478  0.076715  0.041537\n",
       "b -0.001478  1.000000  0.080055  0.158752\n",
       "c  0.076715  0.080055  1.000000  0.915284\n",
       "d  0.041537  0.158752  0.915284  1.000000"
      ]
     },
     "execution_count": 207,
     "metadata": {},
     "output_type": "execute_result"
    }
   ],
   "source": [
    "df.corr()"
   ]
  },
  {
   "cell_type": "markdown",
   "metadata": {
    "slideshow": {
     "slide_type": "fragment"
    }
   },
   "source": [
    "How could we use regression to impute the missing d values?"
   ]
  },
  {
   "cell_type": "code",
   "execution_count": 208,
   "metadata": {
    "collapsed": false,
    "slideshow": {
     "slide_type": "slide"
    }
   },
   "outputs": [],
   "source": [
    "# create a subset of the data with no missing values\n",
    "sub = df.dropna()\n",
    "from sklearn.linear_model import LinearRegression\n",
    "from math import isnan\n",
    "# fit a linear regression on the subset\n",
    "lr = LinearRegression()\n",
    "lr.fit(sub[['a', 'b', 'c']], sub['d'])\n",
    "imputed = lr.predict(df[['a', 'b', 'c']])\n",
    "# if value in column d is missing, replace it with the imputed value\n",
    "df2 = df.copy()\n",
    "temp = df2['d']\n",
    "df2['d'] = [j if isnan(j)==False else imputed[i] for i,j in \\\n",
    "            enumerate(temp)]\n",
    "\n"
   ]
  },
  {
   "cell_type": "code",
   "execution_count": 210,
   "metadata": {
    "collapsed": false,
    "slideshow": {
     "slide_type": "slide"
    }
   },
   "outputs": [
    {
     "data": {
      "text/html": [
       "<div>\n",
       "<table border=\"1\" class=\"dataframe\">\n",
       "  <thead>\n",
       "    <tr style=\"text-align: right;\">\n",
       "      <th></th>\n",
       "      <th>original</th>\n",
       "      <th>imputed</th>\n",
       "    </tr>\n",
       "  </thead>\n",
       "  <tbody>\n",
       "    <tr>\n",
       "      <th>0</th>\n",
       "      <td>458.268194</td>\n",
       "      <td>458.268194</td>\n",
       "    </tr>\n",
       "    <tr>\n",
       "      <th>1</th>\n",
       "      <td>546.105340</td>\n",
       "      <td>546.105340</td>\n",
       "    </tr>\n",
       "    <tr>\n",
       "      <th>2</th>\n",
       "      <td>728.724916</td>\n",
       "      <td>728.724916</td>\n",
       "    </tr>\n",
       "    <tr>\n",
       "      <th>3</th>\n",
       "      <td>3910.173062</td>\n",
       "      <td>3636.790860</td>\n",
       "    </tr>\n",
       "  </tbody>\n",
       "</table>\n",
       "</div>"
      ],
      "text/plain": [
       "      original      imputed\n",
       "0   458.268194   458.268194\n",
       "1   546.105340   546.105340\n",
       "2   728.724916   728.724916\n",
       "3  3910.173062  3636.790860"
      ]
     },
     "execution_count": 210,
     "metadata": {},
     "output_type": "execute_result"
    }
   ],
   "source": [
    "pd.DataFrame(zip(df.var(), df2.var()), columns = ['original', 'imputed'])"
   ]
  },
  {
   "cell_type": "code",
   "execution_count": 219,
   "metadata": {
    "collapsed": false,
    "slideshow": {
     "slide_type": "slide"
    }
   },
   "outputs": [
    {
     "data": {
      "text/plain": [
       "<seaborn.axisgrid.FacetGrid at 0x1160afd50>"
      ]
     },
     "execution_count": 219,
     "metadata": {},
     "output_type": "execute_result"
    },
    {
     "data": {
      "image/png": "[encoded data removed]",
      "text/plain": [
       "<matplotlib.figure.Figure at 0x11609bbd0>"
      ]
     },
     "metadata": {},
     "output_type": "display_data"
    }
   ],
   "source": [
    "import seaborn as sns\n",
    "sns.lmplot(x='c', y='d', data=df, x_ci=None)"
   ]
  },
  {
   "cell_type": "markdown",
   "metadata": {
    "slideshow": {
     "slide_type": "slide"
    }
   },
   "source": [
    "## Multiple Imputation Chained Equations (MICE) - The As-Of-Now Gold Standard!\n",
    "\n",
    "- incorporates the uncertainty component\n",
    "- involves imputing values multiple times, and pooling the results in your model\n",
    "- may not be feasible, and is also poorly implemented in python (for now)\n",
    "\n",
    "Side note: beware googling *python + mice*\n",
    "\n",
    "[more info on MICE](https://www.ncbi.nlm.nih.gov/pmc/articles/PMC3074241/)\n"
   ]
  },
  {
   "cell_type": "markdown",
   "metadata": {
    "slideshow": {
     "slide_type": "slide"
    }
   },
   "source": [
    "## Things to consider when deciding how to treat missing data\n",
    "\n",
    "- how much is missing?\n",
    "    - if de minimis, course of action may be different!\n",
    "- time / cost / technology considerations\n",
    "- why is it missing?\n",
    "    - this may inform which imputation methods you choose  \n"
   ]
  },
  {
   "cell_type": "markdown",
   "metadata": {
    "slideshow": {
     "slide_type": "slide"
    }
   },
   "source": [
    "## Types of missingess\n",
    "\n",
    "- Missing Completely at Random (MCAR)\n",
    "- Missing at Random (MAR)\n",
    "- Not Missing at Random"
   ]
  },
  {
   "cell_type": "markdown",
   "metadata": {
    "slideshow": {
     "slide_type": "slide"
    }
   },
   "source": [
    "## MCAR\n",
    "\n",
    "Data is missing completely at random.  \n",
    "\n",
    "E.g., a survey giver randomly selects a subset of questions to ask survey-takers.  The fact that the data are missing is totally random.\n",
    "\n",
    "In this case, simply deleting the records with missing data does not bias findings.  But you may still want to impute values to increase the number of complete records to analyze.\n",
    "\n",
    "**BUT:** this is almost never the case"
   ]
  },
  {
   "cell_type": "markdown",
   "metadata": {
    "slideshow": {
     "slide_type": "slide"
    }
   },
   "source": [
    "## MAR\n",
    "\n",
    "Data is missing *conditionally* at random.\n",
    "\n",
    "E.g., we ask British and American people to tell us how happy they feel on a scale on 1-10.  Some people refuse to answer.  British people (because they are more reserved) and older people (because they are old-fashioned) are more likely to refuse.  We fully observe nationality and age.\n",
    "\n",
    "So, the fact that the data are missing depends on things we can observe!  Multiple Imputation using the observed features is effective!\n",
    "\n",
    "**BUT:** this is generally hard to prove.  \n"
   ]
  },
  {
   "cell_type": "markdown",
   "metadata": {
    "slideshow": {
     "slide_type": "slide"
    }
   },
   "source": [
    "## MNAR\n",
    "\n",
    "Data are not missing at random.  \n",
    "\n",
    "E.g., we ask people to self-report their happiness.  People who are unhappy are less likely to agree to answer.\n",
    "\n",
    "So, the fact that the data are missing depends on things we cannot or have not observed.\n",
    "\n",
    "This is a difficult situation.  And theoretically, there is no way to \"correctly\" impute the missing data.\n",
    "\n",
    "**And**: this quite possibly is the most common situation"
   ]
  },
  {
   "cell_type": "markdown",
   "metadata": {
    "slideshow": {
     "slide_type": "slide"
    }
   },
   "source": [
    "## Final Thoughts / Best Practices\n",
    "\n",
    "Missing data is complicated!  It is rarely possibly to do the \"right\" thing.  But being aware of the issues may allow you to make informed decisions.  Or at least, you may have a better sense of the limitations of your analyses.\n",
    "\n",
    "- it is rarely a bad idea to impute\n",
    "- you may often choose a \"bad\" methodolgy because it is \"good enough\".  That is ok."
   ]
  }
 ],
 "metadata": {
  "celltoolbar": "Slideshow",
  "kernelspec": {
   "display_name": "Python 3",
   "language": "python",
   "name": "python3"
  },
  "language_info": {
   "codemirror_mode": {
    "name": "ipython",
    "version": 3
   },
   "file_extension": ".py",
   "mimetype": "text/x-python",
   "name": "python",
   "nbconvert_exporter": "python",
   "pygments_lexer": "ipython3",
   "version": "3.7.1"
  }
 },
 "nbformat": 4,
 "nbformat_minor": 2
}
