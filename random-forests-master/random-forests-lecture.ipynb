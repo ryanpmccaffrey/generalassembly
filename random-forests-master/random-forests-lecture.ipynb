{
 "cells": [
  {
   "cell_type": "code",
   "execution_count": 1,
   "metadata": {
    "collapsed": false,
    "slideshow": {
     "slide_type": "skip"
    }
   },
   "outputs": [],
   "source": [
    "import numpy as np\n",
    "import pandas as pd\n",
    "\n",
    "from sklearn.tree import DecisionTreeClassifier\n",
    "from sklearn.datasets import make_blobs\n",
    "\n",
    "import matplotlib.pyplot as plt\n",
    "plt.style.use('seaborn-white')\n",
    "%matplotlib inline"
   ]
  },
  {
   "cell_type": "markdown",
   "metadata": {
    "slideshow": {
     "slide_type": "slide"
    }
   },
   "source": [
    "# ![](https://ga-dash.s3.amazonaws.com/production/assets/logo-9f88ae6c9c3871690e33280fcf557f33.png) <br>Boosting & Random Forests\n",
    "\n",
    "Week 6 | Day 4"
   ]
  },
  {
   "cell_type": "markdown",
   "metadata": {
    "slideshow": {
     "slide_type": "slide"
    }
   },
   "source": [
    "## Learning Objectives\n",
    "\n",
    "- Explain what a Random Forest is\n",
    "- Explain what Extra Trees models are\n",
    "- Apply both techniques to classification\n",
    "- Describe boosting and how it differs from bagging\n",
    "- Apply Adaboost and Gradient Boosting to classification problems"
   ]
  },
  {
   "cell_type": "markdown",
   "metadata": {
    "slideshow": {
     "slide_type": "slide"
    }
   },
   "source": [
    "## Yesterday, we learned about bagging trees"
   ]
  },
  {
   "cell_type": "markdown",
   "metadata": {
    "slideshow": {
     "slide_type": "slide"
    }
   },
   "source": [
    "## What is bagging?"
   ]
  },
  {
   "cell_type": "markdown",
   "metadata": {
    "slideshow": {
     "slide_type": "fragment"
    }
   },
   "source": [
    "> Bagging or bootstrap aggregration means **pulling samples (with replacement) from our training data uniformly** across our set of features"
   ]
  },
  {
   "cell_type": "code",
   "execution_count": 2,
   "metadata": {
    "collapsed": true,
    "hideCode": true,
    "hidePrompt": true,
    "slideshow": {
     "slide_type": "skip"
    }
   },
   "outputs": [],
   "source": [
    "def visualize_tree(estimator, X, y, boundaries=True,\n",
    "                   xlim=None, ylim=None):\n",
    "    estimator.fit(X, y)\n",
    "\n",
    "    if xlim is None:\n",
    "        xlim = (X[:, 0].min() - 0.1, X[:, 0].max() + 0.1)\n",
    "    if ylim is None:\n",
    "        ylim = (X[:, 1].min() - 0.1, X[:, 1].max() + 0.1)\n",
    "\n",
    "    x_min, x_max = xlim\n",
    "    y_min, y_max = ylim\n",
    "    xx, yy = np.meshgrid(np.linspace(x_min, x_max, 100),\n",
    "                         np.linspace(y_min, y_max, 100))\n",
    "    Z = estimator.predict(np.c_[xx.ravel(), yy.ravel()])\n",
    "\n",
    "    # Put the result into a color plot\n",
    "    Z = Z.reshape(xx.shape)\n",
    "    plt.figure(figsize=(10, 6))\n",
    "    plt.pcolormesh(xx, yy, Z, alpha=0.2, cmap=plt.cm.gist_heat)\n",
    "    plt.clim(y.min(), y.max())\n",
    "\n",
    "    # Plot also the training points\n",
    "    plt.scatter(X[:, 0], X[:, 1], c=y, s=50, cmap=plt.cm.gist_heat)\n",
    "    plt.axis('off')\n",
    "\n",
    "    plt.xlim(x_min, x_max)\n",
    "    plt.ylim(y_min, y_max)        \n",
    "    plt.clim(y.min(), y.max())\n",
    "    \n",
    "    # Plot the decision boundaries\n",
    "    def plot_boundaries(i, xlim, ylim):\n",
    "        if i < 0:\n",
    "            return\n",
    "\n",
    "        tree = estimator.tree_\n",
    "        \n",
    "        if tree.feature[i] == 0:\n",
    "            plt.plot([tree.threshold[i], tree.threshold[i]], ylim, '-k')\n",
    "            plot_boundaries(tree.children_left[i],\n",
    "                            [xlim[0], tree.threshold[i]], ylim)\n",
    "            plot_boundaries(tree.children_right[i],\n",
    "                            [tree.threshold[i], xlim[1]], ylim)\n",
    "        \n",
    "        elif tree.feature[i] == 1:\n",
    "            plt.plot(xlim, [tree.threshold[i], tree.threshold[i]], '-k')\n",
    "            plot_boundaries(tree.children_left[i], xlim,\n",
    "                            [ylim[0], tree.threshold[i]])\n",
    "            plot_boundaries(tree.children_right[i], xlim,\n",
    "                            [tree.threshold[i], ylim[1]])\n",
    "            \n",
    "    if boundaries:\n",
    "        plot_boundaries(0, plt.xlim(), plt.ylim())\n",
    "        \n",
    "def plot_tree_interactive(X, y):\n",
    "    from sklearn.tree import DecisionTreeClassifier\n",
    "\n",
    "    def interactive_tree(depth=1):\n",
    "        clf = DecisionTreeClassifier(max_depth=depth, random_state=0)\n",
    "        visualize_tree(clf, X, y)\n",
    "\n",
    "    from IPython.html.widgets import interact\n",
    "    return interact(interactive_tree, depth=[1, 10])"
   ]
  },
  {
   "cell_type": "markdown",
   "metadata": {
    "slideshow": {
     "slide_type": "slide"
    }
   },
   "source": [
    "## All the data"
   ]
  },
  {
   "cell_type": "code",
   "execution_count": 4,
   "metadata": {
    "collapsed": false,
    "hideCode": true,
    "hidePrompt": true,
    "slideshow": {
     "slide_type": "-"
    }
   },
   "outputs": [
    {
     "data": {
      "image/png": "[encoded data removed]",
      "text/plain": [
       "<matplotlib.figure.Figure at 0x1142cba90>"
      ]
     },
     "metadata": {},
     "output_type": "display_data"
    }
   ],
   "source": [
    "fig = plt.figure(figsize=(14, 7))\n",
    "ax = plt.gca()\n",
    "\n",
    "X, y = make_blobs(n_samples=99, centers=3,\n",
    "                  random_state=0, cluster_std=1)\n",
    "\n",
    "labels = ['{0}'.format(i) for i in range(len(X))]\n",
    "\n",
    "plt.scatter(X[:, 0], X[:, 1], c=y, s=200, cmap=plt.cm.gist_heat, edgecolors='k');\n",
    "ax.set_xticks([]);\n",
    "ax.set_yticks([]);\n",
    "\n",
    "for label, x, yz in zip(labels, X[:, 0], X[:, 1]):\n",
    "    plt.annotate(\n",
    "        label, \n",
    "        xy = (x, yz), xytext = (0, -10),\n",
    "        textcoords = 'offset points', ha = 'center', va = 'top',\n",
    "        bbox = dict(boxstyle = 'round, pad=0.3', alpha=0.0),\n",
    "        arrowprops = dict(arrowstyle = '->', connectionstyle = 'arc3, rad=0'))"
   ]
  },
  {
   "cell_type": "markdown",
   "metadata": {
    "slideshow": {
     "slide_type": "slide"
    }
   },
   "source": [
    "## With Bagging, one model might see this:"
   ]
  },
  {
   "cell_type": "code",
   "execution_count": 5,
   "metadata": {
    "collapsed": false,
    "hideCode": true,
    "hidePrompt": true,
    "slideshow": {
     "slide_type": "-"
    }
   },
   "outputs": [
    {
     "data": {
      "image/png": "[encoded data removed]",
      "text/plain": [
       "<matplotlib.figure.Figure at 0x114722ad0>"
      ]
     },
     "metadata": {},
     "output_type": "display_data"
    }
   ],
   "source": [
    "fig = plt.figure(figsize=(14, 7))\n",
    "ax = plt.gca()\n",
    "\n",
    "sample_sz = int(np.floor(len(X)/3))\n",
    "randz1 = np.random.randint(1, len(X), sample_sz)\n",
    "\n",
    "Xrz1 = X[randz1,:]\n",
    "y1 = y[randz1]\n",
    "\n",
    "\n",
    "labels = ['{0}'.format(i) for i in range(len(X))]\n",
    "\n",
    "plt.scatter(Xrz1[:, 0], Xrz1[:, 1], c=y1, s=200, cmap=plt.cm.gist_heat, edgecolors='k');\n",
    "ax.set_xticks([]);\n",
    "ax.set_yticks([]);\n",
    "\n",
    "for label, x, yz in zip(labels, Xrz1[:, 0], Xrz1[:, 1]):\n",
    "    plt.annotate(\n",
    "        label, \n",
    "        xy = (x, yz), xytext = (0, -10),\n",
    "        textcoords = 'offset points', ha = 'center', va = 'top',\n",
    "        bbox = dict(boxstyle = 'round, pad=0.3', alpha=0.0),\n",
    "        arrowprops = dict(arrowstyle = '->', connectionstyle = 'arc3, rad=0'))"
   ]
  },
  {
   "cell_type": "markdown",
   "metadata": {
    "slideshow": {
     "slide_type": "slide"
    }
   },
   "source": [
    "## Another might see this:"
   ]
  },
  {
   "cell_type": "code",
   "execution_count": 6,
   "metadata": {
    "collapsed": false,
    "hideCode": true,
    "hidePrompt": true,
    "slideshow": {
     "slide_type": "-"
    }
   },
   "outputs": [
    {
     "data": {
      "image/png": "[encoded data removed]",
      "text/plain": [
       "<matplotlib.figure.Figure at 0x114760090>"
      ]
     },
     "metadata": {},
     "output_type": "display_data"
    }
   ],
   "source": [
    "fig = plt.figure(figsize=(14, 7))\n",
    "ax = plt.gca()\n",
    "\n",
    "sample_sz = int(np.floor(len(X)/3))\n",
    "randz2 = np.random.randint(1, len(X), sample_sz)\n",
    "\n",
    "Xrz2 = X[randz2,:]\n",
    "y2 = y[randz2]\n",
    "\n",
    "labels = ['{0}'.format(i) for i in range(len(X))]\n",
    "\n",
    "plt.scatter(Xrz2[:, 0], Xrz2[:, 1], c=y2, s=200, cmap=plt.cm.gist_heat, edgecolors='k');\n",
    "ax.set_xticks([]);\n",
    "ax.set_yticks([]);\n",
    "\n",
    "for label, x, yz in zip(labels, Xrz2[:, 0], Xrz2[:, 1]):\n",
    "    plt.annotate(\n",
    "        label, \n",
    "        xy = (x, yz), xytext = (0, -10),\n",
    "        textcoords = 'offset points', ha = 'center', va = 'top',\n",
    "        bbox = dict(boxstyle = 'round, pad=0.3', alpha=0.0),\n",
    "        arrowprops = dict(arrowstyle = '->', connectionstyle = 'arc3, rad=0'))"
   ]
  },
  {
   "cell_type": "markdown",
   "metadata": {
    "slideshow": {
     "slide_type": "slide"
    }
   },
   "source": [
    "## And another this:"
   ]
  },
  {
   "cell_type": "code",
   "execution_count": 9,
   "metadata": {
    "collapsed": false,
    "hideCode": true,
    "hidePrompt": true,
    "slideshow": {
     "slide_type": "-"
    }
   },
   "outputs": [
    {
     "data": {
      "image/png": "[encoded data removed]",
      "text/plain": [
       "<matplotlib.figure.Figure at 0x11529d6d0>"
      ]
     },
     "metadata": {},
     "output_type": "display_data"
    }
   ],
   "source": [
    "fig = plt.figure(figsize=(14, 7))\n",
    "ax = plt.gca()\n",
    "\n",
    "sample_sz = int(np.floor(len(X)/3))\n",
    "randz3 = np.random.randint(1, len(X), sample_sz)\n",
    "\n",
    "Xrz3 = X[randz3,:]\n",
    "y3 = y[randz3]\n",
    "\n",
    "\n",
    "labels = ['{0}'.format(i) for i in range(len(X))]\n",
    "\n",
    "plt.scatter(Xrz3[:, 0], Xrz3[:, 1], c=y3, s=200, cmap=plt.cm.gist_heat, edgecolors='k');\n",
    "ax.set_xticks([]);\n",
    "ax.set_yticks([]);\n",
    "\n",
    "for label, x, yz in zip(labels, Xrz3[:, 0], Xrz3[:, 1]):\n",
    "    plt.annotate(\n",
    "        label, \n",
    "        xy = (x, yz), xytext = (0, -10),\n",
    "        textcoords = 'offset points', ha = 'center', va = 'top',\n",
    "        bbox = dict(boxstyle = 'round, pad=0.3', alpha=0.0),\n",
    "        arrowprops = dict(arrowstyle = '->', connectionstyle = 'arc3, rad=0'))"
   ]
  },
  {
   "cell_type": "markdown",
   "metadata": {
    "slideshow": {
     "slide_type": "slide"
    }
   },
   "source": [
    "## So what do we have?\n",
    "\n",
    "In this example, with bagging, we would have 3 models that had some portion of the training data. Each model would make some prediction for given point. The model would then be combined using voting (classification) or averaging (regression) over each the models, to get the final result.\n",
    "\n",
    "\n",
    "\n",
    "## Why bother with bagging?\n",
    "\n",
    "We use bagging with complex models (read deep tress) so that we can take many slightly different overfit models and average them together. This reduces the final variance of our overall model without having to accept a large increase in bias."
   ]
  },
  {
   "cell_type": "markdown",
   "metadata": {
    "slideshow": {
     "slide_type": "slide"
    }
   },
   "source": [
    "## Decision trees as deterministic model\n",
    "\n",
    "Earlier this week we discussed decision trees. And we discused deterministic models. Should decision trees be deterministic?\n",
    "Why might they not be?"
   ]
  },
  {
   "cell_type": "markdown",
   "metadata": {
    "slideshow": {
     "slide_type": "slide"
    }
   },
   "source": [
    "## Why bagging decision trees gives different answers in sk-learn\n",
    "\n",
    "1. Because of the bagging!\n",
    "2. [But also this](https://github.com/scikit-learn/scikit-learn/issues/2386)"
   ]
  },
  {
   "cell_type": "markdown",
   "metadata": {
    "slideshow": {
     "slide_type": "slide"
    }
   },
   "source": [
    "## But that is bagging trees. How is a Random Forest different?"
   ]
  },
  {
   "cell_type": "markdown",
   "metadata": {
    "slideshow": {
     "slide_type": "fragment"
    }
   },
   "source": [
    "A Random Forest not only uses sub-sampling, but also constrains the model by only giving it a **random sample of the total set of features with which to make a split on**. This is sometimes called feature bagging."
   ]
  },
  {
   "cell_type": "markdown",
   "metadata": {
    "slideshow": {
     "slide_type": "slide"
    }
   },
   "source": [
    "## Diving deeper...\n",
    "\n",
    "<img src=\"http://i.imgur.com/BXeysRC.png\" width=950><br>\n",
    "[Documentation for Ensembles in SkLearn](http://scikit-learn.org/stable/modules/ensemble.html)"
   ]
  },
  {
   "cell_type": "markdown",
   "metadata": {
    "slideshow": {
     "slide_type": "slide"
    }
   },
   "source": [
    "## Why do this?"
   ]
  },
  {
   "cell_type": "markdown",
   "metadata": {
    "slideshow": {
     "slide_type": "fragment"
    }
   },
   "source": [
    "The reason for doing this is the correlation of the trees in an ordinary bootstrap sample: if one or a few features are very strong predictors for the response variable (target output), these features will be selected in many of the bagging base trees, causing them to become correlated. By selecting a random subset of the features at each split, we counter this correlation between base trees, strengthening the overall model."
   ]
  },
  {
   "cell_type": "markdown",
   "metadata": {
    "slideshow": {
     "slide_type": "slide"
    }
   },
   "source": [
    "## What percent of the total features is seen in each split?"
   ]
  },
  {
   "cell_type": "markdown",
   "metadata": {
    "slideshow": {
     "slide_type": "-"
    }
   },
   "source": [
    "Typically, for a classification problem with $p$ features, $\\sqrt{p}$ (rounded down) features are used in each split. For regression problems the inventors recommend $p/3$ (rounded down) with a minimum node size of 5 as the default.\n"
   ]
  },
  {
   "cell_type": "markdown",
   "metadata": {
    "slideshow": {
     "slide_type": "slide"
    }
   },
   "source": [
    "## So, then a Random Forest looks something like this:"
   ]
  },
  {
   "cell_type": "markdown",
   "metadata": {
    "slideshow": {
     "slide_type": "fragment"
    }
   },
   "source": [
    "```python\n",
    "for n in n_estimators:\n",
    "    get a sub sample\n",
    "    while depth < max_depth:\n",
    "        select m predictors at random for the set of all p predictors (m < p)\n",
    "        make optimal split at each node\n",
    "```"
   ]
  },
  {
   "cell_type": "markdown",
   "metadata": {
    "slideshow": {
     "slide_type": "slide"
    }
   },
   "source": [
    "## Can we get more random than random forests?"
   ]
  },
  {
   "cell_type": "code",
   "execution_count": 124,
   "metadata": {
    "collapsed": false,
    "hideCode": true,
    "hidePrompt": true,
    "slideshow": {
     "slide_type": "fragment"
    }
   },
   "outputs": [
    {
     "data": {
      "text/html": [
       "<img src=\"http://www.kappit.com/img/pics/201511_2229_gagih.png\"/>"
      ],
      "text/plain": [
       "<IPython.core.display.Image object>"
      ]
     },
     "execution_count": 124,
     "metadata": {},
     "output_type": "execute_result"
    }
   ],
   "source": [
    "Image(url='http://www.kappit.com/img/pics/201511_2229_gagih.png')"
   ]
  },
  {
   "cell_type": "markdown",
   "metadata": {
    "slideshow": {
     "slide_type": "-"
    }
   },
   "source": [
    "## Yes, yes we can."
   ]
  },
  {
   "cell_type": "markdown",
   "metadata": {
    "slideshow": {
     "slide_type": "slide"
    }
   },
   "source": [
    "### Extremely Randomized Trees (ExtraTrees)"
   ]
  },
  {
   "cell_type": "markdown",
   "metadata": {
    "slideshow": {
     "slide_type": "-"
    }
   },
   "source": [
    "Adding one further step of randomization yields extremely randomized trees, or ExtraTrees. These are trained using bagging and the random subspace method, like in an ordinary random forest, but an additional layer of randomness is introduced. Instead of computing the locally optimal feature/split combination (based on, e.g., information gain or the Gini impurity), for each feature under consideration, **thresholds are drawn at random for each candidate feature and the best of these randomly-generated thresholds is picked as the splitting rule**.\n",
    "\n",
    "N.B. ExtraTrees has bagging (bootstrap aggregation) off by default"
   ]
  },
  {
   "cell_type": "markdown",
   "metadata": {
    "slideshow": {
     "slide_type": "slide"
    }
   },
   "source": [
    "## Implementing the Classifiers in Scikit-Learn"
   ]
  },
  {
   "cell_type": "markdown",
   "metadata": {
    "slideshow": {
     "slide_type": "-"
    }
   },
   "source": [
    "## Load the Data"
   ]
  },
  {
   "cell_type": "code",
   "execution_count": 10,
   "metadata": {
    "collapsed": false,
    "slideshow": {
     "slide_type": "-"
    }
   },
   "outputs": [
    {
     "data": {
      "text/html": [
       "<div>\n",
       "<table border=\"1\" class=\"dataframe\">\n",
       "  <thead>\n",
       "    <tr style=\"text-align: right;\">\n",
       "      <th></th>\n",
       "      <th>buy_price</th>\n",
       "      <th>maint_cost</th>\n",
       "      <th>doors</th>\n",
       "      <th>persons</th>\n",
       "      <th>lug_boot</th>\n",
       "      <th>safety</th>\n",
       "      <th>acceptability</th>\n",
       "    </tr>\n",
       "  </thead>\n",
       "  <tbody>\n",
       "    <tr>\n",
       "      <th>0</th>\n",
       "      <td>vhigh</td>\n",
       "      <td>vhigh</td>\n",
       "      <td>2</td>\n",
       "      <td>2</td>\n",
       "      <td>small</td>\n",
       "      <td>med</td>\n",
       "      <td>unacc</td>\n",
       "    </tr>\n",
       "    <tr>\n",
       "      <th>1</th>\n",
       "      <td>vhigh</td>\n",
       "      <td>vhigh</td>\n",
       "      <td>2</td>\n",
       "      <td>2</td>\n",
       "      <td>small</td>\n",
       "      <td>high</td>\n",
       "      <td>unacc</td>\n",
       "    </tr>\n",
       "    <tr>\n",
       "      <th>2</th>\n",
       "      <td>vhigh</td>\n",
       "      <td>vhigh</td>\n",
       "      <td>2</td>\n",
       "      <td>2</td>\n",
       "      <td>med</td>\n",
       "      <td>low</td>\n",
       "      <td>unacc</td>\n",
       "    </tr>\n",
       "    <tr>\n",
       "      <th>3</th>\n",
       "      <td>vhigh</td>\n",
       "      <td>vhigh</td>\n",
       "      <td>2</td>\n",
       "      <td>2</td>\n",
       "      <td>med</td>\n",
       "      <td>med</td>\n",
       "      <td>unacc</td>\n",
       "    </tr>\n",
       "    <tr>\n",
       "      <th>4</th>\n",
       "      <td>vhigh</td>\n",
       "      <td>vhigh</td>\n",
       "      <td>2</td>\n",
       "      <td>2</td>\n",
       "      <td>med</td>\n",
       "      <td>high</td>\n",
       "      <td>unacc</td>\n",
       "    </tr>\n",
       "  </tbody>\n",
       "</table>\n",
       "</div>"
      ],
      "text/plain": [
       "  buy_price maint_cost doors persons lug_boot safety acceptability\n",
       "0     vhigh      vhigh     2       2    small    med         unacc\n",
       "1     vhigh      vhigh     2       2    small   high         unacc\n",
       "2     vhigh      vhigh     2       2      med    low         unacc\n",
       "3     vhigh      vhigh     2       2      med    med         unacc\n",
       "4     vhigh      vhigh     2       2      med   high         unacc"
      ]
     },
     "execution_count": 10,
     "metadata": {},
     "output_type": "execute_result"
    }
   ],
   "source": [
    "df = pd.read_csv('https://archive.ics.uci.edu/ml/machine-learning-databases/car/car.data')\n",
    "df.columns = ['buy_price', 'maint_cost', 'doors', 'persons', 'lug_boot', 'safety', 'acceptability']        \n",
    "df.head()"
   ]
  },
  {
   "cell_type": "markdown",
   "metadata": {
    "slideshow": {
     "slide_type": "slide"
    }
   },
   "source": [
    "## Pre-process the data"
   ]
  },
  {
   "cell_type": "markdown",
   "metadata": {
    "slideshow": {
     "slide_type": "-"
    }
   },
   "source": [
    "We will encode the features using **one hot encoding**, i.e. we will consider them as categorical variables. We also need to encode the label using the LabelEncoder."
   ]
  },
  {
   "cell_type": "code",
   "execution_count": 12,
   "metadata": {
    "collapsed": false,
    "slideshow": {
     "slide_type": "-"
    }
   },
   "outputs": [],
   "source": [
    "from sklearn.preprocessing import LabelEncoder\n",
    "\n",
    "y = LabelEncoder().fit_transform(df['acceptability'])\n",
    "X = pd.get_dummies(df.drop('acceptability', axis=1))"
   ]
  },
  {
   "cell_type": "code",
   "execution_count": 16,
   "metadata": {
    "collapsed": false,
    "slideshow": {
     "slide_type": "-"
    }
   },
   "outputs": [
    {
     "data": {
      "text/plain": [
       "array([2, 2, 2, ..., 2, 1, 3])"
      ]
     },
     "execution_count": 16,
     "metadata": {},
     "output_type": "execute_result"
    }
   ],
   "source": [
    "y"
   ]
  },
  {
   "cell_type": "code",
   "execution_count": 15,
   "metadata": {
    "collapsed": false,
    "slideshow": {
     "slide_type": "-"
    }
   },
   "outputs": [
    {
     "data": {
      "text/html": [
       "<div>\n",
       "<table border=\"1\" class=\"dataframe\">\n",
       "  <thead>\n",
       "    <tr style=\"text-align: right;\">\n",
       "      <th></th>\n",
       "      <th>buy_price_high</th>\n",
       "      <th>buy_price_low</th>\n",
       "      <th>buy_price_med</th>\n",
       "      <th>buy_price_vhigh</th>\n",
       "      <th>maint_cost_high</th>\n",
       "      <th>maint_cost_low</th>\n",
       "      <th>maint_cost_med</th>\n",
       "      <th>maint_cost_vhigh</th>\n",
       "      <th>doors_2</th>\n",
       "      <th>doors_3</th>\n",
       "      <th>...</th>\n",
       "      <th>doors_5more</th>\n",
       "      <th>persons_2</th>\n",
       "      <th>persons_4</th>\n",
       "      <th>persons_more</th>\n",
       "      <th>lug_boot_big</th>\n",
       "      <th>lug_boot_med</th>\n",
       "      <th>lug_boot_small</th>\n",
       "      <th>safety_high</th>\n",
       "      <th>safety_low</th>\n",
       "      <th>safety_med</th>\n",
       "    </tr>\n",
       "  </thead>\n",
       "  <tbody>\n",
       "    <tr>\n",
       "      <th>0</th>\n",
       "      <td>0</td>\n",
       "      <td>0</td>\n",
       "      <td>0</td>\n",
       "      <td>1</td>\n",
       "      <td>0</td>\n",
       "      <td>0</td>\n",
       "      <td>0</td>\n",
       "      <td>1</td>\n",
       "      <td>1</td>\n",
       "      <td>0</td>\n",
       "      <td>...</td>\n",
       "      <td>0</td>\n",
       "      <td>1</td>\n",
       "      <td>0</td>\n",
       "      <td>0</td>\n",
       "      <td>0</td>\n",
       "      <td>0</td>\n",
       "      <td>1</td>\n",
       "      <td>0</td>\n",
       "      <td>0</td>\n",
       "      <td>1</td>\n",
       "    </tr>\n",
       "    <tr>\n",
       "      <th>1</th>\n",
       "      <td>0</td>\n",
       "      <td>0</td>\n",
       "      <td>0</td>\n",
       "      <td>1</td>\n",
       "      <td>0</td>\n",
       "      <td>0</td>\n",
       "      <td>0</td>\n",
       "      <td>1</td>\n",
       "      <td>1</td>\n",
       "      <td>0</td>\n",
       "      <td>...</td>\n",
       "      <td>0</td>\n",
       "      <td>1</td>\n",
       "      <td>0</td>\n",
       "      <td>0</td>\n",
       "      <td>0</td>\n",
       "      <td>0</td>\n",
       "      <td>1</td>\n",
       "      <td>1</td>\n",
       "      <td>0</td>\n",
       "      <td>0</td>\n",
       "    </tr>\n",
       "    <tr>\n",
       "      <th>2</th>\n",
       "      <td>0</td>\n",
       "      <td>0</td>\n",
       "      <td>0</td>\n",
       "      <td>1</td>\n",
       "      <td>0</td>\n",
       "      <td>0</td>\n",
       "      <td>0</td>\n",
       "      <td>1</td>\n",
       "      <td>1</td>\n",
       "      <td>0</td>\n",
       "      <td>...</td>\n",
       "      <td>0</td>\n",
       "      <td>1</td>\n",
       "      <td>0</td>\n",
       "      <td>0</td>\n",
       "      <td>0</td>\n",
       "      <td>1</td>\n",
       "      <td>0</td>\n",
       "      <td>0</td>\n",
       "      <td>1</td>\n",
       "      <td>0</td>\n",
       "    </tr>\n",
       "  </tbody>\n",
       "</table>\n",
       "<p>3 rows × 21 columns</p>\n",
       "</div>"
      ],
      "text/plain": [
       "   buy_price_high  buy_price_low  buy_price_med  buy_price_vhigh  \\\n",
       "0               0              0              0                1   \n",
       "1               0              0              0                1   \n",
       "2               0              0              0                1   \n",
       "\n",
       "   maint_cost_high  maint_cost_low  maint_cost_med  maint_cost_vhigh  doors_2  \\\n",
       "0                0               0               0                 1        1   \n",
       "1                0               0               0                 1        1   \n",
       "2                0               0               0                 1        1   \n",
       "\n",
       "   doors_3     ...      doors_5more  persons_2  persons_4  persons_more  \\\n",
       "0        0     ...                0          1          0             0   \n",
       "1        0     ...                0          1          0             0   \n",
       "2        0     ...                0          1          0             0   \n",
       "\n",
       "   lug_boot_big  lug_boot_med  lug_boot_small  safety_high  safety_low  \\\n",
       "0             0             0               1            0           0   \n",
       "1             0             0               1            1           0   \n",
       "2             0             1               0            0           1   \n",
       "\n",
       "   safety_med  \n",
       "0           1  \n",
       "1           0  \n",
       "2           0  \n",
       "\n",
       "[3 rows x 21 columns]"
      ]
     },
     "execution_count": 15,
     "metadata": {},
     "output_type": "execute_result"
    }
   ],
   "source": [
    "X.head(3)"
   ]
  },
  {
   "cell_type": "markdown",
   "metadata": {
    "slideshow": {
     "slide_type": "slide"
    }
   },
   "source": [
    "We would like to compare the performance of the following 4 algorithms:\n",
    "\n",
    "- Decision Trees\n",
    "- Bagging + Decision Trees\n",
    "- Random Forest\n",
    "- Extra Trees\n",
    "\n",
    "Note that in order for our results to be consistent we have to expose the models to exactly the same Cross Validation scheme. Let's start by initializing that."
   ]
  },
  {
   "cell_type": "code",
   "execution_count": 33,
   "metadata": {
    "collapsed": false,
    "slideshow": {
     "slide_type": "slide"
    }
   },
   "outputs": [],
   "source": [
    "from sklearn.model_selection import cross_val_score, StratifiedKFold\n",
    "from sklearn.tree import DecisionTreeClassifier\n",
    "from sklearn.ensemble import RandomForestClassifier, ExtraTreesClassifier, BaggingClassifier\n",
    "\n",
    "cv = StratifiedKFold(n_splits=3, random_state=21, shuffle=True)"
   ]
  },
  {
   "cell_type": "code",
   "execution_count": 37,
   "metadata": {
    "collapsed": false,
    "slideshow": {
     "slide_type": "-"
    }
   },
   "outputs": [
    {
     "name": "stdout",
     "output_type": "stream",
     "text": [
      "Decision Tree Score:\t0.959 ± 0.007\n"
     ]
    }
   ],
   "source": [
    "dt = DecisionTreeClassifier(class_weight='balanced')\n",
    "s = cross_val_score(dt, X, y, cv=cv)\n",
    "print(\"{} Score:\\t{:0.3} ± {:0.3}\".format(\"Decision Tree\", s.mean().round(3), s.std().round(3)))"
   ]
  },
  {
   "cell_type": "markdown",
   "metadata": {
    "slideshow": {
     "slide_type": "slide"
    }
   },
   "source": [
    "## Exercise: <br><br>Complete for the following models:"
   ]
  },
  {
   "cell_type": "markdown",
   "metadata": {
    "slideshow": {
     "slide_type": "-"
    }
   },
   "source": [
    "Initialize the following models and check their performance:\n",
    "\n",
    "- Bagging + Decision Trees\n",
    "- Random Forest\n",
    "- Extra Trees\n",
    "\n",
    "You can also create a function to speed up your work..."
   ]
  },
  {
   "cell_type": "markdown",
   "metadata": {
    "slideshow": {
     "slide_type": "slide"
    }
   },
   "source": [
    "## Solution"
   ]
  },
  {
   "cell_type": "code",
   "execution_count": 36,
   "metadata": {
    "collapsed": false,
    "slideshow": {
     "slide_type": "-"
    }
   },
   "outputs": [
    {
     "name": "stdout",
     "output_type": "stream",
     "text": [
      "Decision Tree Score:\t0.96 ± 0.011\n",
      "Bagging DT Score:\t0.966 ± 0.005\n",
      "Random Forest Score:\t0.958 ± 0.007\n",
      "Extra Trees Score:\t0.957 ± 0.003\n"
     ]
    }
   ],
   "source": [
    "bdt = BaggingClassifier(DecisionTreeClassifier())\n",
    "rf = RandomForestClassifier(class_weight='balanced', n_jobs=-1, n_estimators=100)\n",
    "et = ExtraTreesClassifier(class_weight='balanced', n_jobs=-1)\n",
    "\n",
    "def score(model, name):\n",
    "    s = cross_val_score(model, X, y, cv=cv)\n",
    "    print(\"{} Score:\\t{:0.3} ± {:0.3}\".format(name, s.mean().round(3), s.std().round(3)))\n",
    "\n",
    "score(dt, \"Decision Tree\")\n",
    "score(bdt, \"Bagging DT\")\n",
    "score(rf, \"Random Forest\")\n",
    "score(et, \"Extra Trees\")"
   ]
  },
  {
   "cell_type": "markdown",
   "metadata": {
    "slideshow": {
     "slide_type": "slide"
    }
   },
   "source": [
    "# Boosting"
   ]
  },
  {
   "cell_type": "markdown",
   "metadata": {
    "collapsed": false,
    "hideCode": true,
    "hidePrompt": true,
    "slideshow": {
     "slide_type": "-"
    }
   },
   "source": [
    "<img src=\"http://i.imgur.com/2oABnJe.jpg\" width=400>"
   ]
  },
  {
   "cell_type": "markdown",
   "metadata": {
    "slideshow": {
     "slide_type": "slide"
    }
   },
   "source": [
    "## What is Boosting?"
   ]
  },
  {
   "cell_type": "markdown",
   "metadata": {
    "slideshow": {
     "slide_type": "-"
    }
   },
   "source": [
    "Boosting is an iterative procedure that adaptively changes the sampling distribution of training records at each iteration in order to correct the errors of the previous iteration of models. The first iteration uses uniform weights (like bagging) for all samples. In subsequent iterations, the weights are adjusted to emphasize records that were misclassified in previous iterations. The final prediction is constructed by a weighted vote (where the weights for a base classifier depends on its training error)."
   ]
  },
  {
   "cell_type": "markdown",
   "metadata": {
    "slideshow": {
     "slide_type": "slide"
    }
   },
   "source": [
    "## What is Boosting?"
   ]
  },
  {
   "cell_type": "markdown",
   "metadata": {
    "slideshow": {
     "slide_type": "-"
    }
   },
   "source": [
    "Since the base classifiers focus more and more closely on records that are difficult to classify as the sequence of iterations progresses, they are faced with progressively more difficult learning problems.\n",
    "\n",
    "Boosting takes a **weak base learner** and tries to make it a strong learner by re-training it on the misclassified samples.\n",
    "\n",
    "There are several algorithms for boosting, in particular we will mention AdaBoost, GradientBoostingClassifier that are implemented in scikit learn."
   ]
  },
  {
   "cell_type": "markdown",
   "metadata": {
    "slideshow": {
     "slide_type": "slide"
    }
   },
   "source": [
    "## Check: What is the difference between boosting and bagging?"
   ]
  },
  {
   "cell_type": "markdown",
   "metadata": {
    "slideshow": {
     "slide_type": "fragment"
    }
   },
   "source": [
    ">- Bagging (or bootstrap aggregation) is sampling with replacement to create an unweighted average of simultaneous models\n",
    ">- Boosting is a weighted average of sequential models"
   ]
  },
  {
   "cell_type": "markdown",
   "metadata": {
    "slideshow": {
     "slide_type": "slide"
    }
   },
   "source": [
    "## AdaBoost\n",
    "\n",
    "The core principle of AdaBoost is to **fit a sequence of weak learners**, i.e., models that are only slightly better than random guessing, such as decision stump (a single split tree) **on repeatedly modified versions of the data**. The predictions from all of them are then combined through a weighted majority vote (or sum) to produce the final prediction. \n",
    "\n",
    "The data **modifications** at each so-called boosting iteration **consist of applying weights $w_1, w_2, ..., w_N$ to each of the training samples**. Initially, those weights are all set to $w_i = 1/N$, so that the first step simply trains a weak learner on the original data. \n",
    "\n",
    "For each successive iteration, the sample weights are individually modified and the learning algorithm is reapplied to the reweighted data. At a given step, those training examples that were incorrectly predicted by the boosted model induced at the previous step have their weights increased, whereas the weights are decreased for those that were predicted correctly. \n",
    "\n",
    "As iterations proceed, **examples that are difficult to predict receive ever-increasing influence**. Each subsequent weak learner is thereby forced to concentrate on the examples that are missed by the previous ones in the sequence"
   ]
  },
  {
   "cell_type": "markdown",
   "metadata": {
    "collapsed": false,
    "hideCode": false,
    "hidePrompt": true,
    "slideshow": {
     "slide_type": "slide"
    }
   },
   "source": [
    "<img src=\"http://i.imgur.com/koLE9KE.png\" width=600>\n",
    "[Source](https://www.youtube.com/watch?v=ix6IvwbVpw0)"
   ]
  },
  {
   "cell_type": "markdown",
   "metadata": {
    "slideshow": {
     "slide_type": "slide"
    }
   },
   "source": [
    "## Gradient Boosting\n",
    "\n",
    "Gradient Boosting is a generalization of boosting to arbitrary differentiable loss functions. \n",
    "\n",
    "Rather than re-weighting the data at each iteration, the model solves for the net loss of the prior model. That\n",
    "is, each subsequent model fits the residuals of the last model.\n",
    "\n",
    "The \"gradient\" in GB refers to the use of gradient of the loss function used to update the $\\hat{y}$ in subsequent iterations. \n",
    "\n",
    "The ensemble then is the sum over all predictors."
   ]
  },
  {
   "cell_type": "markdown",
   "metadata": {
    "slideshow": {
     "slide_type": "slide"
    }
   },
   "source": [
    "<img src=\"http://i.imgur.com/FDQhd4m.png\" width=600>"
   ]
  },
  {
   "cell_type": "markdown",
   "metadata": {
    "slideshow": {
     "slide_type": "slide"
    }
   },
   "source": [
    "## The key difference between the two?"
   ]
  },
  {
   "cell_type": "markdown",
   "metadata": {
    "slideshow": {
     "slide_type": "-"
    }
   },
   "source": [
    "- AdaBoost is about re-weighting the preceding model's errors in subsequent iterations \n",
    "- Gradient Boosting is about fitting subsequent models to the residuals of the last model\n",
    "\n",
    "AdaBoost came first as a classification method and was generalized for regression with GB, but there are now implementations of classifiers and regressors for both AdaBoost and GB."
   ]
  },
  {
   "cell_type": "markdown",
   "metadata": {
    "slideshow": {
     "slide_type": "slide"
    }
   },
   "source": [
    "## Pros of Boosting:"
   ]
  },
  {
   "cell_type": "markdown",
   "metadata": {
    "slideshow": {
     "slide_type": "-"
    }
   },
   "source": [
    "- In practice, these models provide the best performance -- even besting deep learning in some cases\n",
    "- Easy to apply a custom cost function that is directly optimized"
   ]
  },
  {
   "cell_type": "markdown",
   "metadata": {
    "slideshow": {
     "slide_type": "slide"
    }
   },
   "source": [
    "## Check: What might be a downside to boosting?"
   ]
  },
  {
   "cell_type": "markdown",
   "metadata": {
    "slideshow": {
     "slide_type": "slide"
    }
   },
   "source": [
    "## Independent Practice:"
   ]
  },
  {
   "cell_type": "markdown",
   "metadata": {
    "slideshow": {
     "slide_type": "-"
    }
   },
   "source": [
    "Test the performance of the AdaBoost and GradientBoostingClassifier models on the car dataset. Use the code you developed above as a starter code."
   ]
  },
  {
   "cell_type": "markdown",
   "metadata": {
    "slideshow": {
     "slide_type": "slide"
    }
   },
   "source": [
    "## Solution"
   ]
  },
  {
   "cell_type": "code",
   "execution_count": 38,
   "metadata": {
    "collapsed": false,
    "slideshow": {
     "slide_type": "-"
    }
   },
   "outputs": [
    {
     "name": "stdout",
     "output_type": "stream",
     "text": [
      "AdaBoost Score:\t0.819 ± 0.023\n",
      "Gradient Boosting Classifier Score:\t0.976 ± 0.004\n"
     ]
    }
   ],
   "source": [
    "from sklearn.ensemble import AdaBoostClassifier, GradientBoostingClassifier\n",
    "ab = AdaBoostClassifier()\n",
    "gb = GradientBoostingClassifier()\n",
    "\n",
    "score(ab, \"AdaBoost\")\n",
    "score(gb, \"Gradient Boosting Classifier\")"
   ]
  },
  {
   "cell_type": "markdown",
   "metadata": {
    "slideshow": {
     "slide_type": "slide"
    }
   },
   "source": [
    "## Conclusion"
   ]
  },
  {
   "cell_type": "markdown",
   "metadata": {
    "slideshow": {
     "slide_type": "-"
    }
   },
   "source": [
    "In this class we learned about Random Forest, extremely randomized trees (ExtraTrees), and Boosting. They are different ways to improve the performance of a weak learner.\n",
    "\n",
    "Some of these methods will perform better in some cases, some better in other cases. For example, Decision Trees are more nimble and easier to communicate, but have a tendency to overfit. On the other hand ensemble methods perform better in more complex scenarios, but may become very complicated and harder to explain."
   ]
  },
  {
   "cell_type": "markdown",
   "metadata": {
    "slideshow": {
     "slide_type": "slide"
    }
   },
   "source": [
    "## Additional Materials\n",
    "\n",
    "- [AdaBoost](https://www.youtube.com/watch?v=ix6IvwbVpw0)\n",
    "- [Gradient Boosting](https://www.youtube.com/watch?v=sRktKszFmSk)"
   ]
  }
 ],
 "metadata": {
  "anaconda-cloud": {},
  "celltoolbar": "Slideshow",
  "kernelspec": {
   "display_name": "Python [default]",
   "language": "python",
   "name": "python2"
  },
  "language_info": {
   "codemirror_mode": {
    "name": "ipython",
    "version": 2
   },
   "file_extension": ".py",
   "mimetype": "text/x-python",
   "name": "python",
   "nbconvert_exporter": "python",
   "pygments_lexer": "ipython2",
   "version": "2.7.12"
  }
 },
 "nbformat": 4,
 "nbformat_minor": 0
}
