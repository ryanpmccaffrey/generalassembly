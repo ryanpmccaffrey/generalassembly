{
 "cells": [
  {
   "cell_type": "markdown",
   "metadata": {},
   "source": [
    "# ![](https://ga-dash.s3.amazonaws.com/production/assets/logo-9f88ae6c9c3871690e33280fcf557f33.png) Review: Class Objects\n",
    "\n",
    "## Cookie Funtime"
   ]
  },
  {
   "cell_type": "markdown",
   "metadata": {},
   "source": [
    "![](../assets/Chocolate_Chip_Cookies.jpg)"
   ]
  },
  {
   "cell_type": "markdown",
   "metadata": {},
   "source": [
    "&nbsp;&nbsp;&nbsp;&nbsp;&nbsp;&nbsp;&nbsp;&nbsp;&nbsp;Everyone knows students like cookies.  Students also like to share!  If they are low on cookies, they can ask a friend for one or they can try to empty a cookie jar."
   ]
  },
  {
   "cell_type": "markdown",
   "metadata": {},
   "source": [
    "&nbsp;&nbsp;&nbsp;&nbsp;&nbsp;&nbsp;&nbsp;&nbsp;&nbsp;Let's create a 'Cohort' class to hold the students.  It have will no methods and just one attribute; namely, the number of students it contains."
   ]
  },
  {
   "cell_type": "code",
   "execution_count": 1,
   "metadata": {
    "collapsed": true
   },
   "outputs": [],
   "source": [
    "class Cohort():\n",
    "    \n",
    "    def __init__(self, num_students = 0):\n",
    "        self.num_students_ = num_students"
   ]
  },
  {
   "cell_type": "markdown",
   "metadata": {},
   "source": [
    "&nbsp;&nbsp;&nbsp;&nbsp;&nbsp;&nbsp;&nbsp;&nbsp;&nbsp;Create an instance (note that it will have the default number of students, which is 0):"
   ]
  },
  {
   "cell_type": "code",
   "execution_count": 2,
   "metadata": {
    "collapsed": true
   },
   "outputs": [],
   "source": [
    "hoppers = Cohort()"
   ]
  },
  {
   "cell_type": "code",
   "execution_count": 3,
   "metadata": {
    "collapsed": false
   },
   "outputs": [
    {
     "data": {
      "text/plain": [
       "0"
      ]
     },
     "execution_count": 3,
     "metadata": {},
     "output_type": "execute_result"
    }
   ],
   "source": [
    "hoppers.num_students_"
   ]
  },
  {
   "cell_type": "markdown",
   "metadata": {},
   "source": [
    "&nbsp;&nbsp;&nbsp;&nbsp;&nbsp;&nbsp;&nbsp;&nbsp;&nbsp;Now, let's create a class for the cookie jars.  Every instance needs to have the number of cookies in it explicitly stated as an argument.  ('attempts' and 'broken' are part of the solution to exercises at the bottom; each cookie jar starts unbroken, with no prior attempts to break it open.)"
   ]
  },
  {
   "cell_type": "code",
   "execution_count": 4,
   "metadata": {
    "collapsed": true
   },
   "outputs": [],
   "source": [
    "class CookieJar():\n",
    "    \n",
    "    def __init__(self, num_cookies, attempts = 0, broken = False):\n",
    "        self.num_cookies_ = num_cookies\n",
    "        self.is_broken_ = broken\n",
    "        self.attempts_ = attempts"
   ]
  },
  {
   "cell_type": "markdown",
   "metadata": {},
   "source": [
    "This jar starts with 20 cookies in it:"
   ]
  },
  {
   "cell_type": "code",
   "execution_count": 5,
   "metadata": {
    "collapsed": false
   },
   "outputs": [],
   "source": [
    "theHopperJar = CookieJar(20)"
   ]
  },
  {
   "cell_type": "code",
   "execution_count": 6,
   "metadata": {
    "collapsed": false
   },
   "outputs": [
    {
     "data": {
      "text/plain": [
       "20"
      ]
     },
     "execution_count": 6,
     "metadata": {},
     "output_type": "execute_result"
    }
   ],
   "source": [
    "theHopperJar.num_cookies_"
   ]
  },
  {
   "cell_type": "markdown",
   "metadata": {},
   "source": [
    "&nbsp;&nbsp;&nbsp;&nbsp;&nbsp;&nbsp;&nbsp;&nbsp;&nbsp;Each instance of the student class begins with an explictly-stated number of cookies (no default), a cohort to which the student belongs, and a Boolean for whether the student has a hammer to use for breaking open the cookie jar.  The student class also a method, 'ask_cookie', to call when a student would like to ask a friend for a cookie.  A student can try using 'drastic_measures' to get cookies out of a cookie jar... but only with a hammer, because they're very hard to open.  ('eat_cookie' is part of the solution to exercises at the bottom.)"
   ]
  },
  {
   "cell_type": "code",
   "execution_count": 7,
   "metadata": {
    "collapsed": false
   },
   "outputs": [],
   "source": [
    "class HungryStudent():\n",
    "    \n",
    "    def __init__(self, num_cookies, cohort, has_hammer = False):\n",
    "        cohort.num_students_ += 1\n",
    "        self.num_cookies_ = num_cookies\n",
    "        self.has_hammer_ = has_hammer\n",
    "        \n",
    "         \n",
    "    def ask_cookie(self, friend):\n",
    "        if friend.num_cookies_ > 1:\n",
    "            friend.num_cookies_ = friend.num_cookies_ - 1\n",
    "            self.num_cookies_ += 1\n",
    "            print 'Of course you can have a cookie!  %s is plenty for me.' %friend.num_cookies_\n",
    "              \n",
    "        else:\n",
    "            if friend.num_cookies_ == 0:\n",
    "                print 'I\\'m sorry, I have no cookies.'\n",
    "            elif friend.num_cookies_ == 1:\n",
    "                print 'I\\'m sorry, I only have 1 cookie.'\n",
    "            \n",
    "\n",
    "    def drastic_measures(self, jar):\n",
    "        if jar.is_broken_ == False:\n",
    "            if jar.attempts_ >= 1:\n",
    "                if self.num_cookies_ <= 1:\n",
    "                    if self.has_hammer_ == True:\n",
    "                        if jar.num_cookies_ == 0:\n",
    "                            print 'Jar: I\\'m so sorry, I have no cookies left.'\n",
    "                        else:\n",
    "                            self.num_cookies_ += jar.num_cookies_\n",
    "                            jar.num_cookies_ = 0\n",
    "                            jar.is_broken_ = True\n",
    "                            print 'Jar: I understand that you needed more cookies.  Enjoy.'\n",
    "                    else:\n",
    "                        print 'Jar: You don\\'t have a hammer!  No cookies for you.'\n",
    "                else:\n",
    "                    print 'Jar: You have enough cookies!  Don\\'t be greedy.' \n",
    "            else:\n",
    "                if self.has_hammer_ == False:\n",
    "                    print 'Jar: You don\\'t have a hammer!  No cookies for you.'\n",
    "                else:\n",
    "                    print 'Jar: Try harder.'\n",
    "                    jar.attempts_ += 1\n",
    "        else:\n",
    "            print 'Jar: I\\'m empty, what can I do for you?'\n",
    "\n",
    "            \n",
    "    def eat_cookie(self):\n",
    "        if self.num_cookies_ >= 1:\n",
    "            self.num_cookies_ -= 1\n",
    "        else:\n",
    "            print 'Silly me, I can\\'t eat cookies that don\\'t exist!'"
   ]
  },
  {
   "cell_type": "markdown",
   "metadata": {},
   "source": [
    "&nbsp;&nbsp;&nbsp;&nbsp;&nbsp;&nbsp;&nbsp;&nbsp;&nbsp;Let's create two students!"
   ]
  },
  {
   "cell_type": "code",
   "execution_count": 8,
   "metadata": {
    "collapsed": false
   },
   "outputs": [
    {
     "name": "stdout",
     "output_type": "stream",
     "text": [
      "This cohort has 2 students!\n",
      "\n",
      "Rebecca has 5 cookies; she has a hammer: True\n",
      "Brunhilde has 0 cookies; she has a hammer: False\n"
     ]
    }
   ],
   "source": [
    "rebecca = HungryStudent(5, hoppers, True)\n",
    "brunhilde = HungryStudent(0, hoppers, False)\n",
    "\n",
    "print 'This cohort has %s students!' %hoppers.num_students_\n",
    "print \n",
    "print 'Rebecca has %s cookies; she has a hammer: %s' %(rebecca.num_cookies_, rebecca.has_hammer_)\n",
    "print 'Brunhilde has %s cookies; she has a hammer: %s' %(brunhilde.num_cookies_, brunhilde.has_hammer_)"
   ]
  },
  {
   "cell_type": "markdown",
   "metadata": {},
   "source": [
    "### Time to exchange some cookies:"
   ]
  },
  {
   "cell_type": "markdown",
   "metadata": {},
   "source": [
    "Rebecca likes cookies so much, she asks people for them when she already has enough:"
   ]
  },
  {
   "cell_type": "code",
   "execution_count": 9,
   "metadata": {
    "collapsed": false
   },
   "outputs": [
    {
     "name": "stdout",
     "output_type": "stream",
     "text": [
      "I'm sorry, I have no cookies.\n"
     ]
    }
   ],
   "source": [
    "rebecca.ask_cookie(brunhilde)"
   ]
  },
  {
   "cell_type": "markdown",
   "metadata": {},
   "source": [
    "Brunhilde realizes she wants some cookies because she has none, so she tries to get some out of the jar:"
   ]
  },
  {
   "cell_type": "code",
   "execution_count": 10,
   "metadata": {
    "collapsed": false
   },
   "outputs": [
    {
     "name": "stdout",
     "output_type": "stream",
     "text": [
      "Jar: You don't have a hammer!  No cookies for you.\n"
     ]
    }
   ],
   "source": [
    "brunhilde.drastic_measures(theHopperJar)"
   ]
  },
  {
   "cell_type": "markdown",
   "metadata": {},
   "source": [
    "She checks to see if she has a hammer:"
   ]
  },
  {
   "cell_type": "code",
   "execution_count": 11,
   "metadata": {
    "collapsed": false
   },
   "outputs": [
    {
     "data": {
      "text/plain": [
       "False"
      ]
     },
     "execution_count": 11,
     "metadata": {},
     "output_type": "execute_result"
    }
   ],
   "source": [
    "brunhilde.has_hammer_"
   ]
  },
  {
   "cell_type": "markdown",
   "metadata": {},
   "source": [
    "Rebecca realizes being generous is better, so she gives Brunhilde some cookies when asked:"
   ]
  },
  {
   "cell_type": "code",
   "execution_count": 12,
   "metadata": {
    "collapsed": false
   },
   "outputs": [
    {
     "name": "stdout",
     "output_type": "stream",
     "text": [
      "Of course you can have a cookie!  4 is plenty for me.\n"
     ]
    }
   ],
   "source": [
    "brunhilde.ask_cookie(rebecca)"
   ]
  },
  {
   "cell_type": "code",
   "execution_count": 13,
   "metadata": {
    "collapsed": false
   },
   "outputs": [
    {
     "name": "stdout",
     "output_type": "stream",
     "text": [
      "Of course you can have a cookie!  3 is plenty for me.\n"
     ]
    }
   ],
   "source": [
    "brunhilde.ask_cookie(rebecca)"
   ]
  },
  {
   "cell_type": "code",
   "execution_count": 14,
   "metadata": {
    "collapsed": false
   },
   "outputs": [
    {
     "name": "stdout",
     "output_type": "stream",
     "text": [
      "Of course you can have a cookie!  2 is plenty for me.\n"
     ]
    }
   ],
   "source": [
    "brunhilde.ask_cookie(rebecca)"
   ]
  },
  {
   "cell_type": "code",
   "execution_count": 15,
   "metadata": {
    "collapsed": false
   },
   "outputs": [
    {
     "name": "stdout",
     "output_type": "stream",
     "text": [
      "Of course you can have a cookie!  1 is plenty for me.\n"
     ]
    }
   ],
   "source": [
    "brunhilde.ask_cookie(rebecca)"
   ]
  },
  {
   "cell_type": "code",
   "execution_count": 16,
   "metadata": {
    "collapsed": false
   },
   "outputs": [
    {
     "name": "stdout",
     "output_type": "stream",
     "text": [
      "I'm sorry, I only have 1 cookie.\n"
     ]
    }
   ],
   "source": [
    "brunhilde.ask_cookie(rebecca)"
   ]
  },
  {
   "cell_type": "code",
   "execution_count": 17,
   "metadata": {
    "collapsed": false
   },
   "outputs": [
    {
     "name": "stdout",
     "output_type": "stream",
     "text": [
      "Rebecca has 1 cookies; she has a hammer: True\n",
      "Brunhilde has 4 cookies; she has a hammer: False\n"
     ]
    }
   ],
   "source": [
    "print 'Rebecca has %s cookies; she has a hammer: %s' %(rebecca.num_cookies_, rebecca.has_hammer_)\n",
    "print 'Brunhilde has %s cookies; she has a hammer: %s' %(brunhilde.num_cookies_, brunhilde.has_hammer_)"
   ]
  },
  {
   "cell_type": "markdown",
   "metadata": {},
   "source": [
    "Rebecca realizes she only has one cookie left and wants to get in the jar.  She checks to see if she has a hammer:"
   ]
  },
  {
   "cell_type": "code",
   "execution_count": 18,
   "metadata": {
    "collapsed": false
   },
   "outputs": [
    {
     "data": {
      "text/plain": [
       "True"
      ]
     },
     "execution_count": 18,
     "metadata": {},
     "output_type": "execute_result"
    }
   ],
   "source": [
    "rebecca.has_hammer_"
   ]
  },
  {
   "cell_type": "code",
   "execution_count": 19,
   "metadata": {
    "collapsed": false
   },
   "outputs": [
    {
     "name": "stdout",
     "output_type": "stream",
     "text": [
      "Jar: Try harder.\n"
     ]
    }
   ],
   "source": [
    "rebecca.drastic_measures(theHopperJar)"
   ]
  },
  {
   "cell_type": "markdown",
   "metadata": {},
   "source": [
    "&nbsp;&nbsp;&nbsp;&nbsp;&nbsp;&nbsp;&nbsp;&nbsp;&nbsp;The jars don't break on the first try!"
   ]
  },
  {
   "cell_type": "code",
   "execution_count": 20,
   "metadata": {
    "collapsed": false
   },
   "outputs": [
    {
     "data": {
      "text/plain": [
       "1"
      ]
     },
     "execution_count": 20,
     "metadata": {},
     "output_type": "execute_result"
    }
   ],
   "source": [
    "rebecca.num_cookies_"
   ]
  },
  {
   "cell_type": "code",
   "execution_count": 21,
   "metadata": {
    "collapsed": false
   },
   "outputs": [
    {
     "name": "stdout",
     "output_type": "stream",
     "text": [
      "Jar: I understand that you needed more cookies.  Enjoy.\n"
     ]
    }
   ],
   "source": [
    "rebecca.drastic_measures(theHopperJar)"
   ]
  },
  {
   "cell_type": "code",
   "execution_count": 22,
   "metadata": {
    "collapsed": false
   },
   "outputs": [
    {
     "data": {
      "text/plain": [
       "21"
      ]
     },
     "execution_count": 22,
     "metadata": {},
     "output_type": "execute_result"
    }
   ],
   "source": [
    "rebecca.num_cookies_"
   ]
  },
  {
   "cell_type": "markdown",
   "metadata": {},
   "source": [
    "Sven joins the cohort and wants cookies from the jar:"
   ]
  },
  {
   "cell_type": "code",
   "execution_count": 23,
   "metadata": {
    "collapsed": true
   },
   "outputs": [],
   "source": [
    "sven = HungryStudent(3, hoppers, True)"
   ]
  },
  {
   "cell_type": "code",
   "execution_count": 24,
   "metadata": {
    "collapsed": false
   },
   "outputs": [
    {
     "data": {
      "text/plain": [
       "3"
      ]
     },
     "execution_count": 24,
     "metadata": {},
     "output_type": "execute_result"
    }
   ],
   "source": [
    "hoppers.num_students_"
   ]
  },
  {
   "cell_type": "markdown",
   "metadata": {},
   "source": [
    "He gives it a shot:"
   ]
  },
  {
   "cell_type": "code",
   "execution_count": 25,
   "metadata": {
    "collapsed": false
   },
   "outputs": [
    {
     "data": {
      "text/plain": [
       "True"
      ]
     },
     "execution_count": 25,
     "metadata": {},
     "output_type": "execute_result"
    }
   ],
   "source": [
    "sven.has_hammer_"
   ]
  },
  {
   "cell_type": "code",
   "execution_count": 26,
   "metadata": {
    "collapsed": false
   },
   "outputs": [
    {
     "name": "stdout",
     "output_type": "stream",
     "text": [
      "Jar: I'm empty, what can I do for you?\n"
     ]
    }
   ],
   "source": [
    "sven.drastic_measures(theHopperJar)"
   ]
  },
  {
   "cell_type": "markdown",
   "metadata": {},
   "source": [
    "  "
   ]
  },
  {
   "cell_type": "markdown",
   "metadata": {},
   "source": [
    "## Comprehension:"
   ]
  },
  {
   "cell_type": "markdown",
   "metadata": {},
   "source": [
    "#### 1) How many cookies does each student have?"
   ]
  },
  {
   "cell_type": "code",
   "execution_count": 27,
   "metadata": {
    "collapsed": false
   },
   "outputs": [
    {
     "data": {
      "text/plain": [
       "21"
      ]
     },
     "execution_count": 27,
     "metadata": {},
     "output_type": "execute_result"
    }
   ],
   "source": [
    "rebecca.num_cookies_"
   ]
  },
  {
   "cell_type": "code",
   "execution_count": 28,
   "metadata": {
    "collapsed": false
   },
   "outputs": [
    {
     "data": {
      "text/plain": [
       "4"
      ]
     },
     "execution_count": 28,
     "metadata": {},
     "output_type": "execute_result"
    }
   ],
   "source": [
    "brunhilde.num_cookies_"
   ]
  },
  {
   "cell_type": "code",
   "execution_count": 29,
   "metadata": {
    "collapsed": false
   },
   "outputs": [
    {
     "data": {
      "text/plain": [
       "3"
      ]
     },
     "execution_count": 29,
     "metadata": {},
     "output_type": "execute_result"
    }
   ],
   "source": [
    "sven.num_cookies_"
   ]
  },
  {
   "cell_type": "markdown",
   "metadata": {},
   "source": [
    "#### 2) How many classes are there?  How many methods does each class have?  How many attributes?"
   ]
  },
  {
   "cell_type": "code",
   "execution_count": null,
   "metadata": {
    "collapsed": true
   },
   "outputs": [],
   "source": []
  },
  {
   "cell_type": "markdown",
   "metadata": {},
   "source": [
    "#### 3)  Add a method to HungryStudent class called \"eat_cookie\" which has the student eat one of his or her own cookies."
   ]
  },
  {
   "cell_type": "code",
   "execution_count": 30,
   "metadata": {
    "collapsed": false
   },
   "outputs": [],
   "source": [
    "sven.eat_cookie()"
   ]
  },
  {
   "cell_type": "code",
   "execution_count": 31,
   "metadata": {
    "collapsed": false
   },
   "outputs": [
    {
     "data": {
      "text/plain": [
       "2"
      ]
     },
     "execution_count": 31,
     "metadata": {},
     "output_type": "execute_result"
    }
   ],
   "source": [
    "sven.num_cookies_"
   ]
  },
  {
   "cell_type": "code",
   "execution_count": 32,
   "metadata": {
    "collapsed": true
   },
   "outputs": [],
   "source": [
    "sven.eat_cookie()"
   ]
  },
  {
   "cell_type": "code",
   "execution_count": 33,
   "metadata": {
    "collapsed": true
   },
   "outputs": [],
   "source": [
    "sven.eat_cookie()"
   ]
  },
  {
   "cell_type": "code",
   "execution_count": 34,
   "metadata": {
    "collapsed": false
   },
   "outputs": [
    {
     "name": "stdout",
     "output_type": "stream",
     "text": [
      "Silly me, I can't eat cookies that don't exist!\n"
     ]
    }
   ],
   "source": [
    "sven.eat_cookie()"
   ]
  },
  {
   "cell_type": "markdown",
   "metadata": {},
   "source": [
    "#### 4) Make it so that a given jar only breaks after two attempts with a hammer."
   ]
  },
  {
   "cell_type": "markdown",
   "metadata": {},
   "source": [
    "Another cookie jar appears!"
   ]
  },
  {
   "cell_type": "code",
   "execution_count": 35,
   "metadata": {
    "collapsed": true
   },
   "outputs": [],
   "source": [
    "theOtherJar = CookieJar(10)"
   ]
  },
  {
   "cell_type": "markdown",
   "metadata": {},
   "source": [
    "&nbsp;&nbsp;&nbsp;&nbsp;&nbsp;&nbsp;&nbsp;&nbsp;&nbsp;Sven doesn't get it on the first try:"
   ]
  },
  {
   "cell_type": "code",
   "execution_count": 36,
   "metadata": {
    "collapsed": false
   },
   "outputs": [
    {
     "name": "stdout",
     "output_type": "stream",
     "text": [
      "Jar: Try harder.\n"
     ]
    }
   ],
   "source": [
    "sven.drastic_measures(theOtherJar)"
   ]
  },
  {
   "cell_type": "markdown",
   "metadata": {},
   "source": [
    "&nbsp;&nbsp;&nbsp;&nbsp;&nbsp;&nbsp;&nbsp;&nbsp;&nbsp;Rebecca tries even though she doesn't need more cookies:"
   ]
  },
  {
   "cell_type": "code",
   "execution_count": 37,
   "metadata": {
    "collapsed": false
   },
   "outputs": [
    {
     "name": "stdout",
     "output_type": "stream",
     "text": [
      "Jar: You have enough cookies!  Don't be greedy.\n"
     ]
    }
   ],
   "source": [
    "rebecca.drastic_measures(theOtherJar)"
   ]
  },
  {
   "cell_type": "markdown",
   "metadata": {},
   "source": [
    "&nbsp;&nbsp;&nbsp;&nbsp;&nbsp;&nbsp;&nbsp;&nbsp;&nbsp;Finally, Sven gets his cookies:"
   ]
  },
  {
   "cell_type": "code",
   "execution_count": 38,
   "metadata": {
    "collapsed": false
   },
   "outputs": [
    {
     "name": "stdout",
     "output_type": "stream",
     "text": [
      "Jar: I understand that you needed more cookies.  Enjoy.\n"
     ]
    }
   ],
   "source": [
    "sven.drastic_measures(theOtherJar)"
   ]
  }
 ],
 "metadata": {
  "kernelspec": {
   "display_name": "Python 2",
   "language": "python",
   "name": "python2"
  },
  "language_info": {
   "codemirror_mode": {
    "name": "ipython",
    "version": 2
   },
   "file_extension": ".py",
   "mimetype": "text/x-python",
   "name": "python",
   "nbconvert_exporter": "python",
   "pygments_lexer": "ipython2",
   "version": "2.7.12"
  }
 },
 "nbformat": 4,
 "nbformat_minor": 0
}
