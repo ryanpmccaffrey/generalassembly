{
 "cells": [
  {
   "cell_type": "markdown",
   "metadata": {},
   "source": [
    "# Loops and Functions review"
   ]
  },
  {
   "cell_type": "code",
   "execution_count": 1,
   "metadata": {
    "collapsed": true
   },
   "outputs": [],
   "source": [
    "import numpy as np\n",
    "import pandas as pd"
   ]
  },
  {
   "cell_type": "markdown",
   "metadata": {},
   "source": [
    "Let's try printing a period every 100 iterations:"
   ]
  },
  {
   "cell_type": "code",
   "execution_count": 2,
   "metadata": {
    "collapsed": false
   },
   "outputs": [
    {
     "name": "stdout",
     "output_type": "stream",
     "text": [
      ".\n"
     ]
    }
   ],
   "source": [
    "count = 0\n",
    "for number in range(0, 500):\n",
    "    if count%100 == 0:\n",
    "        count += 1\n",
    "        print '.',\n",
    "    else:\n",
    "        pass"
   ]
  },
  {
   "cell_type": "markdown",
   "metadata": {},
   "source": [
    "What happened?  'Count' is in the wrong loop!  We're only incrementing it whenever it's evenly divisible by 100, which is at 0 and then not again.  This is what we want:"
   ]
  },
  {
   "cell_type": "code",
   "execution_count": 3,
   "metadata": {
    "collapsed": false
   },
   "outputs": [
    {
     "name": "stdout",
     "output_type": "stream",
     "text": [
      ". . . . .\n"
     ]
    }
   ],
   "source": [
    "count = 0\n",
    "for number in range(0, 500):\n",
    "    if count%100 == 0:\n",
    "        print '.',\n",
    "    else:\n",
    "        pass\n",
    "    count += 1"
   ]
  },
  {
   "cell_type": "markdown",
   "metadata": {},
   "source": [
    "  "
   ]
  },
  {
   "cell_type": "markdown",
   "metadata": {},
   "source": [
    "  "
   ]
  },
  {
   "cell_type": "markdown",
   "metadata": {},
   "source": [
    "Write a loop to find all numbers between 100 and 200 which are divisible by 7 and multiples of 5:"
   ]
  },
  {
   "cell_type": "code",
   "execution_count": 4,
   "metadata": {
    "collapsed": false
   },
   "outputs": [
    {
     "name": "stdout",
     "output_type": "stream",
     "text": [
      "105\n",
      "140\n",
      "175\n"
     ]
    }
   ],
   "source": [
    "for number in range(100, 201):\n",
    "    if (number%7 == 0) & (number%5 == 0):\n",
    "        print number\n",
    "    else:\n",
    "        pass"
   ]
  },
  {
   "cell_type": "markdown",
   "metadata": {},
   "source": [
    "Place a comma after the print statement and see what happens:"
   ]
  },
  {
   "cell_type": "code",
   "execution_count": 5,
   "metadata": {
    "collapsed": false
   },
   "outputs": [
    {
     "name": "stdout",
     "output_type": "stream",
     "text": [
      "105 140 175\n"
     ]
    }
   ],
   "source": [
    "for number in range(100, 201):\n",
    "    if (number%7 == 0) & (number%5 == 0):\n",
    "        print number,\n",
    "    else:\n",
    "        pass"
   ]
  },
  {
   "cell_type": "markdown",
   "metadata": {},
   "source": [
    "Here is a function \"seven_fiver\" defined to return the same result, but for any range of integers:"
   ]
  },
  {
   "cell_type": "code",
   "execution_count": 6,
   "metadata": {
    "collapsed": false
   },
   "outputs": [],
   "source": [
    "def seven_fiver(low, high):\n",
    "    for number in range(low, high):\n",
    "        if (number%7 == 0) & (number%5 == 0):\n",
    "            print number,\n",
    "        else:\n",
    "            pass\n",
    "    return"
   ]
  },
  {
   "cell_type": "markdown",
   "metadata": {},
   "source": [
    "We'll try it on the same range as above, here:"
   ]
  },
  {
   "cell_type": "code",
   "execution_count": 7,
   "metadata": {
    "collapsed": false
   },
   "outputs": [
    {
     "name": "stdout",
     "output_type": "stream",
     "text": [
      "105 140 175\n"
     ]
    }
   ],
   "source": [
    "seven_fiver(100, 200)"
   ]
  },
  {
   "cell_type": "markdown",
   "metadata": {},
   "source": [
    "Yep, same result returned!  What happens if we try to save it as a variable?"
   ]
  },
  {
   "cell_type": "code",
   "execution_count": 8,
   "metadata": {
    "collapsed": false
   },
   "outputs": [
    {
     "name": "stdout",
     "output_type": "stream",
     "text": [
      "105 140 175\n"
     ]
    }
   ],
   "source": [
    "x = seven_fiver(100, 200)"
   ]
  },
  {
   "cell_type": "code",
   "execution_count": 9,
   "metadata": {
    "collapsed": true
   },
   "outputs": [],
   "source": [
    "x"
   ]
  },
  {
   "cell_type": "markdown",
   "metadata": {},
   "source": [
    "That doesn't work, because seven_fiver doesn't return an object; it only prints results while it's calculating.  Let's try appending to a list within the function and then returning the list, instead of printing as it calculates:"
   ]
  },
  {
   "cell_type": "code",
   "execution_count": 10,
   "metadata": {
    "collapsed": true
   },
   "outputs": [],
   "source": [
    "def other_seven_fiver(low, high):\n",
    "    listy = []\n",
    "    for number in range(low, high):\n",
    "        if (number%7 == 0) & (number%5 == 0):\n",
    "            listy.append(number)\n",
    "        else:\n",
    "            pass\n",
    "    return listy"
   ]
  },
  {
   "cell_type": "code",
   "execution_count": 11,
   "metadata": {
    "collapsed": false
   },
   "outputs": [
    {
     "data": {
      "text/plain": [
       "[105, 140, 175]"
      ]
     },
     "execution_count": 11,
     "metadata": {},
     "output_type": "execute_result"
    }
   ],
   "source": [
    "other_seven_fiver(100, 200)"
   ]
  },
  {
   "cell_type": "markdown",
   "metadata": {},
   "source": [
    "Cool, then we have a list instead but it has all the results within in it.  And if we try saving that function return as a variable?  Let's see:"
   ]
  },
  {
   "cell_type": "code",
   "execution_count": 12,
   "metadata": {
    "collapsed": true
   },
   "outputs": [],
   "source": [
    "x = other_seven_fiver(100, 200)"
   ]
  },
  {
   "cell_type": "code",
   "execution_count": 13,
   "metadata": {
    "collapsed": false
   },
   "outputs": [
    {
     "data": {
      "text/plain": [
       "[105, 140, 175]"
      ]
     },
     "execution_count": 13,
     "metadata": {},
     "output_type": "execute_result"
    }
   ],
   "source": [
    "x"
   ]
  },
  {
   "cell_type": "markdown",
   "metadata": {},
   "source": [
    "Great."
   ]
  },
  {
   "cell_type": "markdown",
   "metadata": {},
   "source": [
    "Now, let's run the function on a bunch of ranges (done twice here to demonstrate that it doesn't matter what you call the interation variable):"
   ]
  },
  {
   "cell_type": "code",
   "execution_count": 14,
   "metadata": {
    "collapsed": false
   },
   "outputs": [
    {
     "name": "stdout",
     "output_type": "stream",
     "text": [
      "(50, 100) [70]\n",
      "(50, 200) [70, 105, 140, 175]\n",
      "(50, 300) [70, 105, 140, 175, 210, 245, 280]\n",
      "\n",
      "\n",
      "(50, 300) [70]\n",
      "(50, 300) [70, 105, 140, 175]\n",
      "(50, 300) [70, 105, 140, 175, 210, 245, 280]\n"
     ]
    }
   ],
   "source": [
    "ranges = [(50, 100), (50, 200), (50, 300)]\n",
    "\n",
    "for rangelet in ranges:\n",
    "    x = other_seven_fiver(rangelet[0], rangelet[1])\n",
    "    print rangelet, x\n",
    "    \n",
    "print '\\n'\n",
    "    \n",
    "for i in ranges:\n",
    "    x = other_seven_fiver(i[0], i[1])\n",
    "    print rangelet, x   "
   ]
  },
  {
   "cell_type": "markdown",
   "metadata": {},
   "source": [
    "Let's write a function that will take a range of ranges and print the same result:"
   ]
  },
  {
   "cell_type": "code",
   "execution_count": 15,
   "metadata": {
    "collapsed": true
   },
   "outputs": [],
   "source": [
    "def big_seven_fiver(big_range):\n",
    "    for rangelet in big_range:\n",
    "        x = other_seven_fiver(rangelet[0], rangelet[1])\n",
    "        print rangelet, x\n",
    "    return"
   ]
  },
  {
   "cell_type": "code",
   "execution_count": 16,
   "metadata": {
    "collapsed": false
   },
   "outputs": [
    {
     "name": "stdout",
     "output_type": "stream",
     "text": [
      "(50, 100) [70]\n",
      "(50, 200) [70, 105, 140, 175]\n",
      "(50, 300) [70, 105, 140, 175, 210, 245, 280]\n"
     ]
    }
   ],
   "source": [
    "big_seven_fiver(ranges)"
   ]
  },
  {
   "cell_type": "code",
   "execution_count": 17,
   "metadata": {
    "collapsed": false
   },
   "outputs": [
    {
     "name": "stdout",
     "output_type": "stream",
     "text": [
      "(50, 100) [70]\n",
      "(50, 200) [70, 105, 140, 175]\n",
      "(50, 300) [70, 105, 140, 175, 210, 245, 280]\n"
     ]
    }
   ],
   "source": [
    "x = big_seven_fiver(ranges)"
   ]
  },
  {
   "cell_type": "code",
   "execution_count": 18,
   "metadata": {
    "collapsed": true
   },
   "outputs": [],
   "source": [
    "x"
   ]
  },
  {
   "cell_type": "markdown",
   "metadata": {},
   "source": [
    "Let's save each loop result in a list so we can return them all when the function is called:"
   ]
  },
  {
   "cell_type": "code",
   "execution_count": 19,
   "metadata": {
    "collapsed": true
   },
   "outputs": [],
   "source": [
    "def other_big_seven_fiver(big_range):\n",
    "    listy = []\n",
    "    for rangelet in big_range:\n",
    "        x = other_seven_fiver(rangelet[0], rangelet[1])\n",
    "        listy.append(x)\n",
    "    return"
   ]
  },
  {
   "cell_type": "code",
   "execution_count": 20,
   "metadata": {
    "collapsed": true
   },
   "outputs": [],
   "source": [
    "other_big_seven_fiver(ranges)"
   ]
  },
  {
   "cell_type": "markdown",
   "metadata": {},
   "source": [
    "What happened??  We forgot to return the list... let's try again:"
   ]
  },
  {
   "cell_type": "code",
   "execution_count": 21,
   "metadata": {
    "collapsed": true
   },
   "outputs": [],
   "source": [
    "def other_big_seven_fiver2(big_range):\n",
    "    listy = []\n",
    "    for rangelet in big_range:\n",
    "        x = other_seven_fiver(rangelet[0], rangelet[1])\n",
    "        listy.append(x)\n",
    "    return listy"
   ]
  },
  {
   "cell_type": "code",
   "execution_count": 22,
   "metadata": {
    "collapsed": false
   },
   "outputs": [
    {
     "data": {
      "text/plain": [
       "[[70], [70, 105, 140, 175], [70, 105, 140, 175, 210, 245, 280]]"
      ]
     },
     "execution_count": 22,
     "metadata": {},
     "output_type": "execute_result"
    }
   ],
   "source": [
    "other_big_seven_fiver2(ranges)"
   ]
  },
  {
   "cell_type": "markdown",
   "metadata": {},
   "source": [
    "What happens if we call an argument that we didn't give?"
   ]
  },
  {
   "cell_type": "code",
   "execution_count": 23,
   "metadata": {
    "collapsed": true
   },
   "outputs": [],
   "source": [
    "def other_big_seven_fiver3(big_range):\n",
    "    listy = []\n",
    "    for rangelet in big_range:\n",
    "        x = other_seven_fiver(rangelet[0], rangelet[1])\n",
    "        listy.append(x)\n",
    "        whatisthis.append(x)\n",
    "    return listy"
   ]
  },
  {
   "cell_type": "code",
   "execution_count": 24,
   "metadata": {
    "collapsed": false
   },
   "outputs": [
    {
     "ename": "NameError",
     "evalue": "global name 'whatisthis' is not defined",
     "output_type": "error",
     "traceback": [
      "\u001b[0;31m---------------------------------------------------------------------------\u001b[0m",
      "\u001b[0;31mNameError\u001b[0m                                 Traceback (most recent call last)",
      "\u001b[0;32m<ipython-input-24-adf1849412c5>\u001b[0m in \u001b[0;36m<module>\u001b[0;34m()\u001b[0m\n\u001b[0;32m----> 1\u001b[0;31m \u001b[0mother_big_seven_fiver3\u001b[0m\u001b[0;34m(\u001b[0m\u001b[0mranges\u001b[0m\u001b[0;34m)\u001b[0m\u001b[0;34m\u001b[0m\u001b[0m\n\u001b[0m",
      "\u001b[0;32m<ipython-input-23-8014968394d6>\u001b[0m in \u001b[0;36mother_big_seven_fiver3\u001b[0;34m(big_range)\u001b[0m\n\u001b[1;32m      4\u001b[0m         \u001b[0mx\u001b[0m \u001b[0;34m=\u001b[0m \u001b[0mother_seven_fiver\u001b[0m\u001b[0;34m(\u001b[0m\u001b[0mrangelet\u001b[0m\u001b[0;34m[\u001b[0m\u001b[0;36m0\u001b[0m\u001b[0;34m]\u001b[0m\u001b[0;34m,\u001b[0m \u001b[0mrangelet\u001b[0m\u001b[0;34m[\u001b[0m\u001b[0;36m1\u001b[0m\u001b[0;34m]\u001b[0m\u001b[0;34m)\u001b[0m\u001b[0;34m\u001b[0m\u001b[0m\n\u001b[1;32m      5\u001b[0m         \u001b[0mlisty\u001b[0m\u001b[0;34m.\u001b[0m\u001b[0mappend\u001b[0m\u001b[0;34m(\u001b[0m\u001b[0mx\u001b[0m\u001b[0;34m)\u001b[0m\u001b[0;34m\u001b[0m\u001b[0m\n\u001b[0;32m----> 6\u001b[0;31m         \u001b[0mwhatisthis\u001b[0m\u001b[0;34m.\u001b[0m\u001b[0mappend\u001b[0m\u001b[0;34m(\u001b[0m\u001b[0mx\u001b[0m\u001b[0;34m)\u001b[0m\u001b[0;34m\u001b[0m\u001b[0m\n\u001b[0m\u001b[1;32m      7\u001b[0m     \u001b[0;32mreturn\u001b[0m \u001b[0mlisty\u001b[0m\u001b[0;34m\u001b[0m\u001b[0m\n",
      "\u001b[0;31mNameError\u001b[0m: global name 'whatisthis' is not defined"
     ]
    }
   ],
   "source": [
    "other_big_seven_fiver3(ranges)"
   ]
  },
  {
   "cell_type": "markdown",
   "metadata": {},
   "source": [
    "Clearly, that doesn't work.  What happens if we don't provide an argument that's requested?"
   ]
  },
  {
   "cell_type": "code",
   "execution_count": 25,
   "metadata": {
    "collapsed": true
   },
   "outputs": [],
   "source": [
    "def other_big_seven_fiver4(big_range, whatisthis):\n",
    "    listy = []\n",
    "    for rangelet in big_range:\n",
    "        x = other_seven_fiver(rangelet[0], rangelet[1])\n",
    "        listy.append(x)\n",
    "    return listy"
   ]
  },
  {
   "cell_type": "code",
   "execution_count": 26,
   "metadata": {
    "collapsed": false
   },
   "outputs": [
    {
     "ename": "TypeError",
     "evalue": "other_big_seven_fiver4() takes exactly 2 arguments (1 given)",
     "output_type": "error",
     "traceback": [
      "\u001b[0;31m---------------------------------------------------------------------------\u001b[0m",
      "\u001b[0;31mTypeError\u001b[0m                                 Traceback (most recent call last)",
      "\u001b[0;32m<ipython-input-26-b195c765e8c2>\u001b[0m in \u001b[0;36m<module>\u001b[0;34m()\u001b[0m\n\u001b[0;32m----> 1\u001b[0;31m \u001b[0mother_big_seven_fiver4\u001b[0m\u001b[0;34m(\u001b[0m\u001b[0mranges\u001b[0m\u001b[0;34m)\u001b[0m\u001b[0;34m\u001b[0m\u001b[0m\n\u001b[0m",
      "\u001b[0;31mTypeError\u001b[0m: other_big_seven_fiver4() takes exactly 2 arguments (1 given)"
     ]
    }
   ],
   "source": [
    "other_big_seven_fiver4(ranges)"
   ]
  },
  {
   "cell_type": "markdown",
   "metadata": {},
   "source": [
    "Let's initialize a list here, outside of the function, and then call the function using this externally-initialized list as the second function argument.  Notice the return of the function contains more than one item; the two objects will be returned as a tuple:"
   ]
  },
  {
   "cell_type": "code",
   "execution_count": 27,
   "metadata": {
    "collapsed": true
   },
   "outputs": [],
   "source": [
    "what = [4]"
   ]
  },
  {
   "cell_type": "code",
   "execution_count": 28,
   "metadata": {
    "collapsed": true
   },
   "outputs": [],
   "source": [
    "def other_big_seven_fiver4(big_range, whatisthis):\n",
    "    listy = []\n",
    "    for rangelet in big_range:\n",
    "        x = other_seven_fiver(rangelet[0], rangelet[1])\n",
    "        listy.append(x)\n",
    "        whatisthis.append(x)\n",
    "    return listy, whatisthis"
   ]
  },
  {
   "cell_type": "code",
   "execution_count": 29,
   "metadata": {
    "collapsed": false
   },
   "outputs": [
    {
     "data": {
      "text/plain": [
       "([[70], [70, 105, 140, 175], [70, 105, 140, 175, 210, 245, 280]],\n",
       " [4, [70], [70, 105, 140, 175], [70, 105, 140, 175, 210, 245, 280]])"
      ]
     },
     "execution_count": 29,
     "metadata": {},
     "output_type": "execute_result"
    }
   ],
   "source": [
    "other_big_seven_fiver4(ranges, what)"
   ]
  },
  {
   "cell_type": "markdown",
   "metadata": {},
   "source": [
    "'whatisthis' is a list brought in from outside the function; it does not get reinitialized within the function itself, so it is changed in place.  If we call the function again and save as x, calling x we get: "
   ]
  },
  {
   "cell_type": "code",
   "execution_count": 30,
   "metadata": {
    "collapsed": false
   },
   "outputs": [
    {
     "data": {
      "text/plain": [
       "([[70], [70, 105, 140, 175], [70, 105, 140, 175, 210, 245, 280]],\n",
       " [4,\n",
       "  [70],\n",
       "  [70, 105, 140, 175],\n",
       "  [70, 105, 140, 175, 210, 245, 280],\n",
       "  [70],\n",
       "  [70, 105, 140, 175],\n",
       "  [70, 105, 140, 175, 210, 245, 280]])"
      ]
     },
     "execution_count": 30,
     "metadata": {},
     "output_type": "execute_result"
    }
   ],
   "source": [
    "x = other_big_seven_fiver4(ranges, what)\n",
    "\n",
    "x"
   ]
  },
  {
   "cell_type": "markdown",
   "metadata": {},
   "source": [
    "Since the function returns a tuple, if we assign the correct number of variable names when calling the function, it will save one return element per variable name, in order:"
   ]
  },
  {
   "cell_type": "code",
   "execution_count": 31,
   "metadata": {
    "collapsed": true
   },
   "outputs": [],
   "source": [
    "hi, hello = other_big_seven_fiver4(ranges, what)"
   ]
  },
  {
   "cell_type": "code",
   "execution_count": 32,
   "metadata": {
    "collapsed": false
   },
   "outputs": [
    {
     "data": {
      "text/plain": [
       "[[70], [70, 105, 140, 175], [70, 105, 140, 175, 210, 245, 280]]"
      ]
     },
     "execution_count": 32,
     "metadata": {},
     "output_type": "execute_result"
    }
   ],
   "source": [
    "hi"
   ]
  },
  {
   "cell_type": "code",
   "execution_count": 33,
   "metadata": {
    "collapsed": false
   },
   "outputs": [
    {
     "data": {
      "text/plain": [
       "[4,\n",
       " [70],\n",
       " [70, 105, 140, 175],\n",
       " [70, 105, 140, 175, 210, 245, 280],\n",
       " [70],\n",
       " [70, 105, 140, 175],\n",
       " [70, 105, 140, 175, 210, 245, 280],\n",
       " [70],\n",
       " [70, 105, 140, 175],\n",
       " [70, 105, 140, 175, 210, 245, 280]]"
      ]
     },
     "execution_count": 33,
     "metadata": {},
     "output_type": "execute_result"
    }
   ],
   "source": [
    "hello"
   ]
  },
  {
   "cell_type": "markdown",
   "metadata": {},
   "source": [
    "Here is another illustration of this:"
   ]
  },
  {
   "cell_type": "code",
   "execution_count": 34,
   "metadata": {
    "collapsed": true
   },
   "outputs": [],
   "source": [
    "def my_numbers(list_o_numbers):\n",
    "    x = np.std(list_o_numbers)\n",
    "    y = np.mean(list_o_numbers)\n",
    "    z = np.median(list_o_numbers)\n",
    "    return x, y, z"
   ]
  },
  {
   "cell_type": "code",
   "execution_count": 35,
   "metadata": {
    "collapsed": false
   },
   "outputs": [],
   "source": [
    "blah = [1,3,10, 30]\n",
    "\n",
    "my_std, my_mean, my_median = my_numbers(blah)"
   ]
  },
  {
   "cell_type": "code",
   "execution_count": 36,
   "metadata": {
    "collapsed": false
   },
   "outputs": [
    {
     "data": {
      "text/plain": [
       "11.467344941179714"
      ]
     },
     "execution_count": 36,
     "metadata": {},
     "output_type": "execute_result"
    }
   ],
   "source": [
    "my_std"
   ]
  },
  {
   "cell_type": "code",
   "execution_count": 37,
   "metadata": {
    "collapsed": false
   },
   "outputs": [
    {
     "data": {
      "text/plain": [
       "11.0"
      ]
     },
     "execution_count": 37,
     "metadata": {},
     "output_type": "execute_result"
    }
   ],
   "source": [
    "my_mean"
   ]
  },
  {
   "cell_type": "code",
   "execution_count": 38,
   "metadata": {
    "collapsed": false
   },
   "outputs": [
    {
     "data": {
      "text/plain": [
       "6.5"
      ]
     },
     "execution_count": 38,
     "metadata": {},
     "output_type": "execute_result"
    }
   ],
   "source": [
    "my_median"
   ]
  },
  {
   "cell_type": "markdown",
   "metadata": {},
   "source": [
    "  -------------------------------------------"
   ]
  },
  {
   "cell_type": "markdown",
   "metadata": {},
   "source": [
    "Now, write a loop to count the number of odd and even numbers in a series, except count multiples of 5 as even regardless of whether they actually are:"
   ]
  },
  {
   "cell_type": "code",
   "execution_count": 39,
   "metadata": {
    "collapsed": false
   },
   "outputs": [
    {
     "name": "stdout",
     "output_type": "stream",
     "text": [
      "20\n",
      "30\n"
     ]
    }
   ],
   "source": [
    "a = range(0, 50)\n",
    "\n",
    "odd = 0\n",
    "even = 0\n",
    "\n",
    "for number in a:\n",
    "    if number%2 == 0:\n",
    "        even += 1\n",
    "    elif number%5 == 0:\n",
    "        even += 1\n",
    "    else:\n",
    "        odd += 1\n",
    "        \n",
    "print odd\n",
    "print even"
   ]
  },
  {
   "cell_type": "markdown",
   "metadata": {},
   "source": [
    " "
   ]
  },
  {
   "cell_type": "markdown",
   "metadata": {},
   "source": [
    "The following is taken from the [previous review's notebook](https://git.generalassemb.ly/dsi-nyc-4-hoppers-resources/pythonpractice/blob/master/Iris_funtime.ipynb):"
   ]
  },
  {
   "cell_type": "code",
   "execution_count": 40,
   "metadata": {
    "collapsed": false
   },
   "outputs": [
    {
     "data": {
      "text/html": [
       "<div>\n",
       "<table border=\"1\" class=\"dataframe\">\n",
       "  <thead>\n",
       "    <tr style=\"text-align: right;\">\n",
       "      <th></th>\n",
       "      <th>A</th>\n",
       "      <th>B</th>\n",
       "      <th>C</th>\n",
       "      <th>D</th>\n",
       "    </tr>\n",
       "  </thead>\n",
       "  <tbody>\n",
       "    <tr>\n",
       "      <th>0</th>\n",
       "      <td>1</td>\n",
       "      <td>5</td>\n",
       "      <td>9</td>\n",
       "      <td>13</td>\n",
       "    </tr>\n",
       "    <tr>\n",
       "      <th>1</th>\n",
       "      <td>2</td>\n",
       "      <td>6</td>\n",
       "      <td>10</td>\n",
       "      <td>14</td>\n",
       "    </tr>\n",
       "    <tr>\n",
       "      <th>2</th>\n",
       "      <td>3</td>\n",
       "      <td>7</td>\n",
       "      <td>11</td>\n",
       "      <td>15</td>\n",
       "    </tr>\n",
       "    <tr>\n",
       "      <th>3</th>\n",
       "      <td>4</td>\n",
       "      <td>8</td>\n",
       "      <td>12</td>\n",
       "      <td>16</td>\n",
       "    </tr>\n",
       "  </tbody>\n",
       "</table>\n",
       "</div>"
      ],
      "text/plain": [
       "   A  B   C   D\n",
       "0  1  5   9  13\n",
       "1  2  6  10  14\n",
       "2  3  7  11  15\n",
       "3  4  8  12  16"
      ]
     },
     "execution_count": 40,
     "metadata": {},
     "output_type": "execute_result"
    }
   ],
   "source": [
    "import pandas as pd\n",
    "my_dict = {\n",
    "    'A' : [1,2,3,4],\n",
    "    'B' : [5,6,7,8],\n",
    "    'C' : [9,10,11,12],\n",
    "    'D' : [13,14,15,16]\n",
    "}\n",
    "\n",
    "my_df = pd.DataFrame(my_dict)\n",
    "\n",
    "my_df"
   ]
  },
  {
   "cell_type": "markdown",
   "metadata": {},
   "source": [
    "Now, increase the value of each entry on the main diagonal by 1:"
   ]
  },
  {
   "cell_type": "code",
   "execution_count": 41,
   "metadata": {
    "collapsed": false
   },
   "outputs": [
    {
     "data": {
      "text/html": [
       "<div>\n",
       "<table border=\"1\" class=\"dataframe\">\n",
       "  <thead>\n",
       "    <tr style=\"text-align: right;\">\n",
       "      <th></th>\n",
       "      <th>A</th>\n",
       "      <th>B</th>\n",
       "      <th>C</th>\n",
       "      <th>D</th>\n",
       "    </tr>\n",
       "  </thead>\n",
       "  <tbody>\n",
       "    <tr>\n",
       "      <th>0</th>\n",
       "      <td>2</td>\n",
       "      <td>5</td>\n",
       "      <td>9</td>\n",
       "      <td>13</td>\n",
       "    </tr>\n",
       "    <tr>\n",
       "      <th>1</th>\n",
       "      <td>2</td>\n",
       "      <td>7</td>\n",
       "      <td>10</td>\n",
       "      <td>14</td>\n",
       "    </tr>\n",
       "    <tr>\n",
       "      <th>2</th>\n",
       "      <td>3</td>\n",
       "      <td>7</td>\n",
       "      <td>12</td>\n",
       "      <td>15</td>\n",
       "    </tr>\n",
       "    <tr>\n",
       "      <th>3</th>\n",
       "      <td>4</td>\n",
       "      <td>8</td>\n",
       "      <td>12</td>\n",
       "      <td>17</td>\n",
       "    </tr>\n",
       "  </tbody>\n",
       "</table>\n",
       "</div>"
      ],
      "text/plain": [
       "   A  B   C   D\n",
       "0  2  5   9  13\n",
       "1  2  7  10  14\n",
       "2  3  7  12  15\n",
       "3  4  8  12  17"
      ]
     },
     "execution_count": 41,
     "metadata": {},
     "output_type": "execute_result"
    }
   ],
   "source": [
    "for i in range(len(my_df)):\n",
    "    for j in range(len(my_df.columns)):\n",
    "        if i == j:\n",
    "            my_df.iloc[i,j] = my_df.iloc[i,j] + 1\n",
    "            \n",
    "my_df"
   ]
  },
  {
   "cell_type": "markdown",
   "metadata": {},
   "source": [
    "Now, do the same thing and, at the same time, make a list of every other new element on the main diagonal:"
   ]
  },
  {
   "cell_type": "code",
   "execution_count": 42,
   "metadata": {
    "collapsed": false
   },
   "outputs": [
    {
     "data": {
      "text/html": [
       "<div>\n",
       "<table border=\"1\" class=\"dataframe\">\n",
       "  <thead>\n",
       "    <tr style=\"text-align: right;\">\n",
       "      <th></th>\n",
       "      <th>A</th>\n",
       "      <th>B</th>\n",
       "      <th>C</th>\n",
       "      <th>D</th>\n",
       "    </tr>\n",
       "  </thead>\n",
       "  <tbody>\n",
       "    <tr>\n",
       "      <th>0</th>\n",
       "      <td>3</td>\n",
       "      <td>5</td>\n",
       "      <td>9</td>\n",
       "      <td>13</td>\n",
       "    </tr>\n",
       "    <tr>\n",
       "      <th>1</th>\n",
       "      <td>2</td>\n",
       "      <td>8</td>\n",
       "      <td>10</td>\n",
       "      <td>14</td>\n",
       "    </tr>\n",
       "    <tr>\n",
       "      <th>2</th>\n",
       "      <td>3</td>\n",
       "      <td>7</td>\n",
       "      <td>13</td>\n",
       "      <td>15</td>\n",
       "    </tr>\n",
       "    <tr>\n",
       "      <th>3</th>\n",
       "      <td>4</td>\n",
       "      <td>8</td>\n",
       "      <td>12</td>\n",
       "      <td>18</td>\n",
       "    </tr>\n",
       "  </tbody>\n",
       "</table>\n",
       "</div>"
      ],
      "text/plain": [
       "   A  B   C   D\n",
       "0  3  5   9  13\n",
       "1  2  8  10  14\n",
       "2  3  7  13  15\n",
       "3  4  8  12  18"
      ]
     },
     "execution_count": 42,
     "metadata": {},
     "output_type": "execute_result"
    }
   ],
   "source": [
    "count = 0\n",
    "lil_list = []\n",
    "for i in range(len(my_df)):\n",
    "    for j in range(len(my_df.columns)):\n",
    "        if i == j:\n",
    "            my_df.iloc[i,j] = my_df.iloc[i,j] + 1\n",
    "            if count%2 == 0:\n",
    "                lil_list.append(my_df.iloc[i,j])\n",
    "            else:\n",
    "                pass\n",
    "            count += 1\n",
    "            \n",
    "my_df"
   ]
  },
  {
   "cell_type": "code",
   "execution_count": 43,
   "metadata": {
    "collapsed": false
   },
   "outputs": [
    {
     "data": {
      "text/plain": [
       "[3, 13]"
      ]
     },
     "execution_count": 43,
     "metadata": {},
     "output_type": "execute_result"
    }
   ],
   "source": [
    "lil_list"
   ]
  },
  {
   "cell_type": "markdown",
   "metadata": {},
   "source": [
    "  -------------------------------------------"
   ]
  },
  {
   "cell_type": "markdown",
   "metadata": {},
   "source": [
    "Now, write a loop to print every other letter from your full name, but only up until the fourth letter:"
   ]
  },
  {
   "cell_type": "code",
   "execution_count": 44,
   "metadata": {
    "collapsed": false
   },
   "outputs": [
    {
     "name": "stdout",
     "output_type": "stream",
     "text": [
      "G a e\n"
     ]
    }
   ],
   "source": [
    "name = 'Grace Hopper'\n",
    "\n",
    "count = 0\n",
    "\n",
    "for letter in name:\n",
    "    if count%2 == 0:\n",
    "        print letter,\n",
    "    count += 1\n",
    "    if count > 4:\n",
    "        break"
   ]
  },
  {
   "cell_type": "markdown",
   "metadata": {},
   "source": [
    "Now, write a function that takes the full name as a string and returns every other letter in a list, as well as the original name:"
   ]
  },
  {
   "cell_type": "code",
   "execution_count": 45,
   "metadata": {
    "collapsed": true
   },
   "outputs": [],
   "source": [
    "def eol(bullfrog):\n",
    "    count = 0\n",
    "    lil_letters = []\n",
    "    for letter in bullfrog:\n",
    "        if count%2 == 0:\n",
    "            lil_letters.append(letter)\n",
    "        count += 1\n",
    "    return lil_letters, bullfrog"
   ]
  },
  {
   "cell_type": "code",
   "execution_count": 46,
   "metadata": {
    "collapsed": false
   },
   "outputs": [
    {
     "data": {
      "text/plain": [
       "(['G', 'a', 'e', 'H', 'p', 'e'], 'Grace Hopper')"
      ]
     },
     "execution_count": 46,
     "metadata": {},
     "output_type": "execute_result"
    }
   ],
   "source": [
    "eol('Grace Hopper')"
   ]
  },
  {
   "cell_type": "code",
   "execution_count": 47,
   "metadata": {
    "collapsed": false
   },
   "outputs": [
    {
     "data": {
      "text/plain": [
       "(['G', 'a', 'e', 'H', 'p', 'e'], 'Grace Hopper')"
      ]
     },
     "execution_count": 47,
     "metadata": {},
     "output_type": "execute_result"
    }
   ],
   "source": [
    "lil_name = 'Grace Hopper'\n",
    "\n",
    "eol(lil_name)"
   ]
  },
  {
   "cell_type": "markdown",
   "metadata": {},
   "source": [
    "Write it as a function which takes two arguments, representing first name and last name:"
   ]
  },
  {
   "cell_type": "code",
   "execution_count": 48,
   "metadata": {
    "collapsed": true
   },
   "outputs": [],
   "source": [
    "def eol2(first, last):\n",
    "    whole_name = first + ' ' + last\n",
    "    count = 0\n",
    "    lil_letters = []\n",
    "    for letter in whole_name:\n",
    "        if count%2 == 0:\n",
    "            lil_letters.append(letter)\n",
    "        count += 1\n",
    "    return lil_letters"
   ]
  },
  {
   "cell_type": "code",
   "execution_count": 49,
   "metadata": {
    "collapsed": false
   },
   "outputs": [
    {
     "data": {
      "text/plain": [
       "['G', 'a', 'e', 'H', 'p', 'e']"
      ]
     },
     "execution_count": 49,
     "metadata": {},
     "output_type": "execute_result"
    }
   ],
   "source": [
    "eol2('Grace', 'Hopper')"
   ]
  }
 ],
 "metadata": {
  "kernelspec": {
   "display_name": "Python 2",
   "language": "python",
   "name": "python2"
  },
  "language_info": {
   "codemirror_mode": {
    "name": "ipython",
    "version": 2
   },
   "file_extension": ".py",
   "mimetype": "text/x-python",
   "name": "python",
   "nbconvert_exporter": "python",
   "pygments_lexer": "ipython2",
   "version": "2.7.12"
  }
 },
 "nbformat": 4,
 "nbformat_minor": 0
}
