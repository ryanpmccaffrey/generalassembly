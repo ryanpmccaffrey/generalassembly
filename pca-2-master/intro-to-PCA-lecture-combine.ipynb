{
 "cells": [
  {
   "cell_type": "code",
   "execution_count": 1,
   "metadata": {
    "collapsed": true,
    "slideshow": {
     "slide_type": "skip"
    }
   },
   "outputs": [],
   "source": [
    "import numpy as np\n",
    "import pandas as pd\n",
    "import seaborn as sns\n",
    "import matplotlib.pyplot as plt\n",
    "plt.style.use('ggplot')\n",
    "%matplotlib inline\n",
    "\n",
    "import warnings\n",
    "warnings.filterwarnings('ignore')"
   ]
  },
  {
   "cell_type": "markdown",
   "metadata": {
    "slideshow": {
     "slide_type": "slide"
    }
   },
   "source": [
    "# ![](https://ga-dash.s3.amazonaws.com/production/assets/logo-9f88ae6c9c3871690e33280fcf557f33.png) Principal components analysis (PCA)\n",
    "\n",
    "Week 8| Lesson 4.1"
   ]
  },
  {
   "cell_type": "markdown",
   "metadata": {
    "slideshow": {
     "slide_type": "slide"
    }
   },
   "source": [
    "### LEARNING OBJECTIVES\n",
    "*After this lesson, you will be able to:*\n",
    "- Explain the intuition and the algorithm of PCA\n",
    "- Explain the use cases of PCA\n",
    "- Perform PCA on numeric feature data"
   ]
  },
  {
   "cell_type": "markdown",
   "metadata": {
    "slideshow": {
     "slide_type": "slide"
    }
   },
   "source": [
    "## Review - covariance and variance\n",
    "\n",
    "$$\n",
    "\\operatorname{cov}(X,Y) = \\operatorname{E}{\\big[(X - \\operatorname{E}[X])(Y - \\operatorname{E}[Y])\\big]}\n",
    "$$\n",
    "\n",
    "$$cov(X,X) = \\sigma^2(X)$$\n",
    "\n"
   ]
  },
  {
   "cell_type": "markdown",
   "metadata": {
    "slideshow": {
     "slide_type": "slide"
    }
   },
   "source": [
    "# Principal Components Analysis (PCA)\n",
    "\n",
    "---\n",
    "\n",
    "PCA is a very popular technique for performing \"dimensionality reduction\" on your data. \n",
    "\n",
    "Dimensionality reduction is the process of combining or collapsing your existing features (columns in X) into new features that not only retain the original information (or as much of it as we can) but also ideally reduce noise."
   ]
  },
  {
   "cell_type": "markdown",
   "metadata": {
    "slideshow": {
     "slide_type": "slide"
    }
   },
   "source": [
    "**Reminder**:\n",
    "\n",
    "PCA is a pre-processing step.  It is not a model."
   ]
  },
  {
   "cell_type": "markdown",
   "metadata": {
    "slideshow": {
     "slide_type": "slide"
    }
   },
   "source": [
    "## What is PCA?\n",
    "\n",
    "---\n",
    "\n",
    "PCA finds the linear combinations of your current predictor variables that will create new \"principal components\" that explain, in order, the maximum possible amount of variance in your predictors.\n",
    "\n",
    "Intuitively, PCA **transforms the coordinate system so that the axes become the most concise, informative descriptors of our data as a whole.**\n",
    "\n",
    "The new axes are the principal components.\n"
   ]
  },
  {
   "cell_type": "markdown",
   "metadata": {
    "slideshow": {
     "slide_type": "slide"
    }
   },
   "source": [
    "### The Process of PCA \n",
    "\n",
    "---\n",
    "\n",
    "Say we have a matrix $X$ of predictor variables. PCA will give us the ability to transform our $X$ matrix into a new matrix $Z$. \n",
    "\n",
    "We will derive a **weighting matrix** $W$, made up of the eigenvectors of the covariance matrix of $X$, that allows us to perform the transformation.\n",
    "\n",
    "Each successive dimension (column) in $Z$ will be rank-ordered according to variance in its values!\n"
   ]
  },
  {
   "cell_type": "markdown",
   "metadata": {
    "slideshow": {
     "slide_type": "slide"
    }
   },
   "source": [
    "**There are 3 assumptions that PCA makes:**\n",
    "1. Linearity: Our data does not hold nonlinear relationships.\n",
    "2. Large variances define importance: our dimensions are constructed to maximize remaining variance.\n",
    "3. Principal components are orthogonal: each component (columns of $Z$) is completely un-correlated with the others."
   ]
  },
  {
   "cell_type": "markdown",
   "metadata": {
    "collapsed": false,
    "slideshow": {
     "slide_type": "slide"
    }
   },
   "source": [
    "![](./assets/images/pca_coordinate_transformation.png)"
   ]
  },
  {
   "cell_type": "markdown",
   "metadata": {
    "slideshow": {
     "slide_type": "slide"
    }
   },
   "source": [
    "### \"Principal Components\"\n",
    "\n",
    "---\n",
    "\n",
    "What is a principal component? **Principal components are the vectors that define the new coordinate system for your data.** Transforming your original data columns onto the principal component axes constructs new variables that are optimized to explain as much variance as possible and to be independent (orthogonal).\n",
    "\n",
    "Creating these variables is a well-defined mathematical process, but in essence **each component is created as a weighted sum (linear combination) of your original columns, such that all components are orthogonal (perpendicular) to each other**."
   ]
  },
  {
   "cell_type": "markdown",
   "metadata": {
    "slideshow": {
     "slide_type": "slide"
    }
   },
   "source": [
    "**Independent exercise: PRINCIPAL COMPONENT TRANSFORMATION OF DATA: PC1 VS PC2**\n",
    "\n",
    "[Try this out at setosa.io – it's a nice way to explore the intuition](http://setosa.io/ev/principal-component-analysis/)\n",
    "\n",
    "---"
   ]
  },
  {
   "cell_type": "markdown",
   "metadata": {
    "collapsed": false,
    "slideshow": {
     "slide_type": "slide"
    }
   },
   "source": [
    "![](./assets/images/setosa_pc1.png) "
   ]
  },
  {
   "cell_type": "markdown",
   "metadata": {
    "slideshow": {
     "slide_type": "slide"
    }
   },
   "source": [
    "### Why would we want to do PCA?\n",
    "\n",
    "---\n",
    "\n",
    "- We can reduce the number of dimensions (remove bottom number of components) and lose the least possible amount of variance information in our data.\n",
    "- Since we are assuming our variables are interrelated (at least in the sense that they together explain a dependent variable), the information of interest should exist along directions with largest variance.\n",
    "- The directions of largest variance should have the highest Signal to Noise ratio.\n",
    "- Correlated predictor variables (also referred to as \"redundancy\" of information) are combined into independent variables. Our predictors from PCA are guaranteed to be independent.\n",
    "\n",
    "---\n",
    "\n",
    "[Good paper on PCA](http://arxiv.org/pdf/1404.1100.pdf)\n",
    "\n",
    "[Nice site on performing PCA](http://sebastianraschka.com/Articles/2015_pca_in_3_steps.html#pca-vs-lda)"
   ]
  },
  {
   "cell_type": "markdown",
   "metadata": {
    "slideshow": {
     "slide_type": "slide"
    }
   },
   "source": [
    "## Recall:  Manual Calculation for PCA \n",
    "\n",
    "---\n",
    "\n",
    "**MANUAL PCA STEPS:**\n",
    "\n",
    "1. Standardize data: centering is required, but full normalization is nice for visuals later.\n",
    "2. Calculate eigenvectors and eigenvalues from correlation or covariance matrix.\n",
    "3. Sort eigenvalues and choose eigenvectors that correspond to the largest eigenvalues. The number you choose is up to you, but we will take 2 for the sake of visualization here.\n",
    "4. Construct the projection weighting matrix $W$ from the eigenvectors.\n",
    "5. Transform the original dataset $X$ with $W$ to obtain the new 2-dimensional transformed matrix $Z$.\n",
    "\n"
   ]
  },
  {
   "cell_type": "markdown",
   "metadata": {
    "slideshow": {
     "slide_type": "slide"
    }
   },
   "source": [
    "## Now with sklearn!\n",
    "\n",
    "We are going to be looking at the results of the 2017 NFL Combine.\n",
    "\n",
    "We've selected only those players who completed the 40 yd dash, vertical jump, bench press, broad jump, 3 cone run, shuttle run.\n",
    "\n",
    "[Reference](https://youtu.be/digjjnc3Sec)"
   ]
  },
  {
   "cell_type": "code",
   "execution_count": 2,
   "metadata": {
    "collapsed": false,
    "slideshow": {
     "slide_type": "slide"
    }
   },
   "outputs": [
    {
     "data": {
      "text/html": [
       "<div>\n",
       "<table border=\"1\" class=\"dataframe\">\n",
       "  <thead>\n",
       "    <tr style=\"text-align: right;\">\n",
       "      <th></th>\n",
       "      <th>Pos</th>\n",
       "      <th>40YD</th>\n",
       "      <th>Vertical</th>\n",
       "      <th>BenchReps</th>\n",
       "      <th>Broad Jump</th>\n",
       "      <th>3Cone</th>\n",
       "      <th>Shuttle</th>\n",
       "    </tr>\n",
       "  </thead>\n",
       "  <tbody>\n",
       "    <tr>\n",
       "      <th>0</th>\n",
       "      <td>C</td>\n",
       "      <td>5.15</td>\n",
       "      <td>27.0</td>\n",
       "      <td>26.0</td>\n",
       "      <td>107.0</td>\n",
       "      <td>7.89</td>\n",
       "      <td>4.81</td>\n",
       "    </tr>\n",
       "    <tr>\n",
       "      <th>1</th>\n",
       "      <td>C</td>\n",
       "      <td>5.54</td>\n",
       "      <td>26.5</td>\n",
       "      <td>19.0</td>\n",
       "      <td>97.0</td>\n",
       "      <td>7.60</td>\n",
       "      <td>4.47</td>\n",
       "    </tr>\n",
       "    <tr>\n",
       "      <th>2</th>\n",
       "      <td>C</td>\n",
       "      <td>5.51</td>\n",
       "      <td>25.5</td>\n",
       "      <td>21.0</td>\n",
       "      <td>100.0</td>\n",
       "      <td>8.09</td>\n",
       "      <td>4.84</td>\n",
       "    </tr>\n",
       "    <tr>\n",
       "      <th>3</th>\n",
       "      <td>CB</td>\n",
       "      <td>4.44</td>\n",
       "      <td>37.0</td>\n",
       "      <td>11.0</td>\n",
       "      <td>128.0</td>\n",
       "      <td>6.68</td>\n",
       "      <td>4.18</td>\n",
       "    </tr>\n",
       "    <tr>\n",
       "      <th>4</th>\n",
       "      <td>CB</td>\n",
       "      <td>4.43</td>\n",
       "      <td>34.5</td>\n",
       "      <td>16.0</td>\n",
       "      <td>132.0</td>\n",
       "      <td>6.81</td>\n",
       "      <td>4.14</td>\n",
       "    </tr>\n",
       "  </tbody>\n",
       "</table>\n",
       "</div>"
      ],
      "text/plain": [
       "  Pos  40YD  Vertical  BenchReps  Broad Jump  3Cone  Shuttle\n",
       "0   C  5.15      27.0       26.0       107.0   7.89     4.81\n",
       "1   C  5.54      26.5       19.0        97.0   7.60     4.47\n",
       "2   C  5.51      25.5       21.0       100.0   8.09     4.84\n",
       "3  CB  4.44      37.0       11.0       128.0   6.68     4.18\n",
       "4  CB  4.43      34.5       16.0       132.0   6.81     4.14"
      ]
     },
     "execution_count": 2,
     "metadata": {},
     "output_type": "execute_result"
    }
   ],
   "source": [
    "combine = pd.read_csv(\"./assets/datasets/combine_short.csv\")\n",
    "combine.head()"
   ]
  },
  {
   "cell_type": "markdown",
   "metadata": {
    "slideshow": {
     "slide_type": "slide"
    }
   },
   "source": [
    "Let's look at the correlation"
   ]
  },
  {
   "cell_type": "code",
   "execution_count": 3,
   "metadata": {
    "collapsed": false,
    "slideshow": {
     "slide_type": "-"
    }
   },
   "outputs": [
    {
     "data": {
      "text/html": [
       "<div>\n",
       "<table border=\"1\" class=\"dataframe\">\n",
       "  <thead>\n",
       "    <tr style=\"text-align: right;\">\n",
       "      <th></th>\n",
       "      <th>40YD</th>\n",
       "      <th>Vertical</th>\n",
       "      <th>BenchReps</th>\n",
       "      <th>Broad Jump</th>\n",
       "      <th>3Cone</th>\n",
       "      <th>Shuttle</th>\n",
       "    </tr>\n",
       "  </thead>\n",
       "  <tbody>\n",
       "    <tr>\n",
       "      <th>40YD</th>\n",
       "      <td>1.000000</td>\n",
       "      <td>-0.695207</td>\n",
       "      <td>0.610425</td>\n",
       "      <td>-0.825469</td>\n",
       "      <td>0.847214</td>\n",
       "      <td>0.761475</td>\n",
       "    </tr>\n",
       "    <tr>\n",
       "      <th>Vertical</th>\n",
       "      <td>-0.695207</td>\n",
       "      <td>1.000000</td>\n",
       "      <td>-0.373948</td>\n",
       "      <td>0.762874</td>\n",
       "      <td>-0.713399</td>\n",
       "      <td>-0.662676</td>\n",
       "    </tr>\n",
       "    <tr>\n",
       "      <th>BenchReps</th>\n",
       "      <td>0.610425</td>\n",
       "      <td>-0.373948</td>\n",
       "      <td>1.000000</td>\n",
       "      <td>-0.497468</td>\n",
       "      <td>0.660252</td>\n",
       "      <td>0.571459</td>\n",
       "    </tr>\n",
       "    <tr>\n",
       "      <th>Broad Jump</th>\n",
       "      <td>-0.825469</td>\n",
       "      <td>0.762874</td>\n",
       "      <td>-0.497468</td>\n",
       "      <td>1.000000</td>\n",
       "      <td>-0.801617</td>\n",
       "      <td>-0.774885</td>\n",
       "    </tr>\n",
       "    <tr>\n",
       "      <th>3Cone</th>\n",
       "      <td>0.847214</td>\n",
       "      <td>-0.713399</td>\n",
       "      <td>0.660252</td>\n",
       "      <td>-0.801617</td>\n",
       "      <td>1.000000</td>\n",
       "      <td>0.874948</td>\n",
       "    </tr>\n",
       "    <tr>\n",
       "      <th>Shuttle</th>\n",
       "      <td>0.761475</td>\n",
       "      <td>-0.662676</td>\n",
       "      <td>0.571459</td>\n",
       "      <td>-0.774885</td>\n",
       "      <td>0.874948</td>\n",
       "      <td>1.000000</td>\n",
       "    </tr>\n",
       "  </tbody>\n",
       "</table>\n",
       "</div>"
      ],
      "text/plain": [
       "                40YD  Vertical  BenchReps  Broad Jump     3Cone   Shuttle\n",
       "40YD        1.000000 -0.695207   0.610425   -0.825469  0.847214  0.761475\n",
       "Vertical   -0.695207  1.000000  -0.373948    0.762874 -0.713399 -0.662676\n",
       "BenchReps   0.610425 -0.373948   1.000000   -0.497468  0.660252  0.571459\n",
       "Broad Jump -0.825469  0.762874  -0.497468    1.000000 -0.801617 -0.774885\n",
       "3Cone       0.847214 -0.713399   0.660252   -0.801617  1.000000  0.874948\n",
       "Shuttle     0.761475 -0.662676   0.571459   -0.774885  0.874948  1.000000"
      ]
     },
     "execution_count": 3,
     "metadata": {},
     "output_type": "execute_result"
    }
   ],
   "source": [
    "combine.iloc[:,1:].corr()"
   ]
  },
  {
   "cell_type": "markdown",
   "metadata": {
    "slideshow": {
     "slide_type": "fragment"
    }
   },
   "source": [
    "Overall magnitudes of correlations are high, which intuitively makes sense!  But general jumps are negatively correlated with runs / lifting."
   ]
  },
  {
   "cell_type": "markdown",
   "metadata": {
    "slideshow": {
     "slide_type": "slide"
    }
   },
   "source": [
    "## Standardizing our features"
   ]
  },
  {
   "cell_type": "code",
   "execution_count": 4,
   "metadata": {
    "collapsed": false,
    "slideshow": {
     "slide_type": "-"
    }
   },
   "outputs": [],
   "source": [
    "from sklearn.preprocessing import StandardScaler\n",
    "comb_n = StandardScaler().fit_transform(combine.iloc[:,1:])"
   ]
  },
  {
   "cell_type": "markdown",
   "metadata": {
    "slideshow": {
     "slide_type": "slide"
    }
   },
   "source": [
    "First, we're going to convert the results so that higher numbers denote better results."
   ]
  },
  {
   "cell_type": "code",
   "execution_count": 5,
   "metadata": {
    "collapsed": false,
    "slideshow": {
     "slide_type": "-"
    }
   },
   "outputs": [],
   "source": [
    "comb_n[:,[0,4,5]] *= -1"
   ]
  },
  {
   "cell_type": "markdown",
   "metadata": {
    "slideshow": {
     "slide_type": "slide"
    }
   },
   "source": [
    "## Using sklearn, we're going to perform PCA on the features"
   ]
  },
  {
   "cell_type": "code",
   "execution_count": 6,
   "metadata": {
    "collapsed": false,
    "slideshow": {
     "slide_type": "-"
    }
   },
   "outputs": [],
   "source": [
    "from sklearn.decomposition import PCA\n",
    "pca = PCA().fit(comb_n)"
   ]
  },
  {
   "cell_type": "markdown",
   "metadata": {
    "slideshow": {
     "slide_type": "slide"
    }
   },
   "source": [
    "## Calculate and plot the explained variance\n",
    "\n",
    "A useful measure is the **explained variance**, which is calculated from the eigenvalues. \n",
    "\n",
    "The explained variance tells us how much information (variance) is captured by each principal component.\n",
    "\n",
    "$$ ExpVar_i = \\bigg(\\frac{eigenvalue_i}{\\sum_j^n{eigenvalue_j}}\\bigg) * 100$$\n",
    "\n",
    "---"
   ]
  },
  {
   "cell_type": "markdown",
   "metadata": {
    "slideshow": {
     "slide_type": "slide"
    }
   },
   "source": [
    "## We can calculate this in sklearn"
   ]
  },
  {
   "cell_type": "code",
   "execution_count": 7,
   "metadata": {
    "collapsed": false,
    "slideshow": {
     "slide_type": "fragment"
    }
   },
   "outputs": [
    {
     "data": {
      "text/plain": [
       "array([ 0.75282931,  0.11243699,  0.05074286,  0.04079264,  0.02734721,\n",
       "        0.01585099])"
      ]
     },
     "execution_count": 7,
     "metadata": {},
     "output_type": "execute_result"
    }
   ],
   "source": [
    "pca.explained_variance_ratio_"
   ]
  },
  {
   "cell_type": "markdown",
   "metadata": {
    "slideshow": {
     "slide_type": "fragment"
    }
   },
   "source": [
    ">Check: what do these numbers mean?"
   ]
  },
  {
   "cell_type": "markdown",
   "metadata": {
    "slideshow": {
     "slide_type": "slide"
    }
   },
   "source": [
    "## Plotting the variance of components"
   ]
  },
  {
   "cell_type": "code",
   "execution_count": 8,
   "metadata": {
    "collapsed": false
   },
   "outputs": [
    {
     "data": {
      "image/png": "[encoded data removed]",
      "text/plain": [
       "<matplotlib.figure.Figure at 0x111eab050>"
      ]
     },
     "metadata": {},
     "output_type": "display_data"
    }
   ],
   "source": [
    "fig, ax = plt.subplots(figsize=(8,6))\n",
    "ax.plot(range(1,7), pca.explained_variance_ratio_, lw=2)\n",
    "ax.scatter(range(1, 7), pca.explained_variance_ratio_, s=100)\n",
    "ax.set_title('explained variance of components')\n",
    "ax.set_xlabel('principal component')\n",
    "ax.set_ylabel('explained variance');"
   ]
  },
  {
   "cell_type": "code",
   "execution_count": 22,
   "metadata": {
    "collapsed": false,
    "slideshow": {
     "slide_type": "slide"
    }
   },
   "outputs": [
    {
     "data": {
      "image/png": "[encoded data removed]",
      "text/plain": [
       "<matplotlib.figure.Figure at 0x11499b2d0>"
      ]
     },
     "metadata": {},
     "output_type": "display_data"
    }
   ],
   "source": [
    "cum_var_exp = np.cumsum(pca.explained_variance_ratio_)*100\n",
    "plt.figure(figsize=(9,7))\n",
    "component_number = range(1,7)\n",
    "plt.plot(component_number, cum_var_exp, lw=7)\n",
    "plt.axhline(y=0, linewidth=5, color='grey', ls='dashed')\n",
    "plt.axhline(y=100, linewidth=3, color='grey', ls='dashed')\n",
    "ax = plt.gca()\n",
    "ax.set_xlim([1,7])\n",
    "ax.set_ylim([-5,105])\n",
    "ax.set_ylabel('cumulative variance explained', fontsize=16)\n",
    "ax.set_xlabel('component', fontsize=16)  \n",
    "ax.set_title('component vs cumulative variance explained\\n', fontsize=20);\n"
   ]
  },
  {
   "cell_type": "markdown",
   "metadata": {
    "slideshow": {
     "slide_type": "slide"
    }
   },
   "source": [
    "## Let's look at the first two components to see if we can learn anything"
   ]
  },
  {
   "cell_type": "code",
   "execution_count": 10,
   "metadata": {
    "collapsed": false,
    "slideshow": {
     "slide_type": "-"
    }
   },
   "outputs": [
    {
     "name": "stdout",
     "output_type": "stream",
     "text": [
      "40YD -0.431659911225\n",
      "Vertical -0.382804899834\n",
      "BenchReps 0.328341852634\n",
      "Broad Jump -0.425712381832\n",
      "3Cone -0.445691961714\n",
      "Shuttle -0.423614684273\n"
     ]
    }
   ],
   "source": [
    "pca1_evec = pca.components_[0]\n",
    "for weight, event in zip(pca1_evec, combine.iloc[:,1:].columns):\n",
    "    print event, weight"
   ]
  },
  {
   "cell_type": "markdown",
   "metadata": {
    "slideshow": {
     "slide_type": "-"
    }
   },
   "source": [
    "This is more or less spread out among the features, but sign reversed for bench reps.  So perhaps this is a measure of overall (lack) of athleticism (and lower lower-body strength!), but strong upper-body."
   ]
  },
  {
   "cell_type": "code",
   "execution_count": 11,
   "metadata": {
    "collapsed": false,
    "slideshow": {
     "slide_type": "slide"
    }
   },
   "outputs": [
    {
     "name": "stdout",
     "output_type": "stream",
     "text": [
      "40YD -0.00188023407271\n",
      "Vertical 0.50575501858\n",
      "BenchReps 0.819661441566\n",
      "Broad Jump 0.25846157331\n",
      "3Cone -0.0745645478585\n",
      "Shuttle -0.00109107094914\n"
     ]
    }
   ],
   "source": [
    "pca1_evec = pca.components_[1]\n",
    "for weight, event in zip(pca1_evec, combine.iloc[:,1:].columns):\n",
    "    print event, weight"
   ]
  },
  {
   "cell_type": "markdown",
   "metadata": {
    "slideshow": {
     "slide_type": "-"
    }
   },
   "source": [
    "In contrast, this is heavily weighted towards bench reps, vertical jump.  Perhaps this measures upper body strength / explosiveness."
   ]
  },
  {
   "cell_type": "markdown",
   "metadata": {
    "slideshow": {
     "slide_type": "slide"
    }
   },
   "source": [
    "## Given that 86% of the variance is described in two PCs, we possibly can argue that it's only really two skill sets being measured..."
   ]
  },
  {
   "cell_type": "code",
   "execution_count": 12,
   "metadata": {
    "collapsed": false,
    "slideshow": {
     "slide_type": "skip"
    }
   },
   "outputs": [
    {
     "data": {
      "text/html": [
       "<div>\n",
       "<table border=\"1\" class=\"dataframe\">\n",
       "  <thead>\n",
       "    <tr style=\"text-align: right;\">\n",
       "      <th></th>\n",
       "      <th>0</th>\n",
       "      <th>1</th>\n",
       "      <th>2</th>\n",
       "      <th>3</th>\n",
       "      <th>4</th>\n",
       "      <th>5</th>\n",
       "    </tr>\n",
       "  </thead>\n",
       "  <tbody>\n",
       "    <tr>\n",
       "      <th>0</th>\n",
       "      <td>3.514311</td>\n",
       "      <td>0.695223</td>\n",
       "      <td>-0.025209</td>\n",
       "      <td>-0.412109</td>\n",
       "      <td>-0.204834</td>\n",
       "      <td>0.031088</td>\n",
       "    </tr>\n",
       "    <tr>\n",
       "      <th>1</th>\n",
       "      <td>3.323385</td>\n",
       "      <td>-0.688412</td>\n",
       "      <td>-0.640549</td>\n",
       "      <td>1.561579</td>\n",
       "      <td>-0.167967</td>\n",
       "      <td>0.063977</td>\n",
       "    </tr>\n",
       "    <tr>\n",
       "      <th>2</th>\n",
       "      <td>4.450040</td>\n",
       "      <td>-0.365078</td>\n",
       "      <td>0.240145</td>\n",
       "      <td>0.437031</td>\n",
       "      <td>-0.541068</td>\n",
       "      <td>-0.078521</td>\n",
       "    </tr>\n",
       "    <tr>\n",
       "      <th>3</th>\n",
       "      <td>-2.522618</td>\n",
       "      <td>0.320584</td>\n",
       "      <td>0.428160</td>\n",
       "      <td>0.086810</td>\n",
       "      <td>-0.352230</td>\n",
       "      <td>0.278295</td>\n",
       "    </tr>\n",
       "    <tr>\n",
       "      <th>4</th>\n",
       "      <td>-2.135482</td>\n",
       "      <td>0.830554</td>\n",
       "      <td>-0.322380</td>\n",
       "      <td>-0.502067</td>\n",
       "      <td>-0.710807</td>\n",
       "      <td>0.178574</td>\n",
       "    </tr>\n",
       "  </tbody>\n",
       "</table>\n",
       "</div>"
      ],
      "text/plain": [
       "          0         1         2         3         4         5\n",
       "0  3.514311  0.695223 -0.025209 -0.412109 -0.204834  0.031088\n",
       "1  3.323385 -0.688412 -0.640549  1.561579 -0.167967  0.063977\n",
       "2  4.450040 -0.365078  0.240145  0.437031 -0.541068 -0.078521\n",
       "3 -2.522618  0.320584  0.428160  0.086810 -0.352230  0.278295\n",
       "4 -2.135482  0.830554 -0.322380 -0.502067 -0.710807  0.178574"
      ]
     },
     "execution_count": 12,
     "metadata": {},
     "output_type": "execute_result"
    }
   ],
   "source": [
    "pca_df = pd.DataFrame(pca.transform(comb_n))\n",
    "pca_df.head()"
   ]
  },
  {
   "cell_type": "markdown",
   "metadata": {
    "slideshow": {
     "slide_type": "slide"
    }
   },
   "source": [
    "## Let's plot PC1 and PC2 "
   ]
  },
  {
   "cell_type": "code",
   "execution_count": 13,
   "metadata": {
    "collapsed": false,
    "slideshow": {
     "slide_type": "-"
    }
   },
   "outputs": [
    {
     "data": {
      "image/png": "[encoded data removed]",
      "text/plain": [
       "<matplotlib.figure.Figure at 0x111e9fbd0>"
      ]
     },
     "metadata": {},
     "output_type": "display_data"
    }
   ],
   "source": [
    "fig, ax = plt.subplots(figsize=(10,8))\n",
    "ax.scatter(pca_df.iloc[:,0], pca_df.iloc[:,1], s=100)\n",
    "ax.set_xlabel('principal component 1')\n",
    "ax.set_ylabel('principal component 2');"
   ]
  },
  {
   "cell_type": "markdown",
   "metadata": {
    "slideshow": {
     "slide_type": "slide"
    }
   },
   "source": [
    "## What positions are in the underlying dataset?"
   ]
  },
  {
   "cell_type": "code",
   "execution_count": 14,
   "metadata": {
    "collapsed": false,
    "slideshow": {
     "slide_type": "-"
    }
   },
   "outputs": [
    {
     "name": "stdout",
     "output_type": "stream",
     "text": [
      "WR    21\n",
      "CB     9\n",
      "RB     9\n",
      "OG     5\n",
      "SS     4\n",
      "OT     4\n",
      "FS     3\n",
      "C      3\n",
      "FB     2\n",
      "Name: pos, dtype: int64\n"
     ]
    }
   ],
   "source": [
    "pca_df['pos'] = list(combine['Pos'])\n",
    "print pca_df['pos'].value_counts()\n",
    "pca_df['pos2'] = pca_df['pos'].apply(lambda x: 1 if x ==\"WR\" else 0)"
   ]
  },
  {
   "cell_type": "markdown",
   "metadata": {
    "slideshow": {
     "slide_type": "slide"
    }
   },
   "source": [
    "## Let's plot position and PCA1 vs PCA2"
   ]
  },
  {
   "cell_type": "code",
   "execution_count": 15,
   "metadata": {
    "collapsed": false
   },
   "outputs": [
    {
     "data": {
      "image/png": "[encoded data removed]",
      "text/plain": [
       "<matplotlib.figure.Figure at 0x1142f2410>"
      ]
     },
     "metadata": {},
     "output_type": "display_data"
    }
   ],
   "source": [
    "fig, ax = plt.subplots(figsize=(10,8))\n",
    "colors = ['red', 'blue']\n",
    "post = ['not WR', 'WR']\n",
    "for i, col, pos in zip(range(2), colors, post):\n",
    "    sub = pca_df[pca_df['pos2']==i]\n",
    "    ax.scatter(sub.iloc[:,0], sub.iloc[:,1], s=150, c=col, label=pos, alpha=0.5)\n",
    "ax.set_xlabel('principal component 1')\n",
    "ax.set_ylabel('principal component 2')\n",
    "ax.legend();"
   ]
  },
  {
   "cell_type": "markdown",
   "metadata": {
    "slideshow": {
     "slide_type": "slide"
    }
   },
   "source": [
    "## Let's look at another example... sports-related again.."
   ]
  },
  {
   "cell_type": "markdown",
   "metadata": {
    "slideshow": {
     "slide_type": "fragment"
    }
   },
   "source": [
    "Let's look at the 2016 Olympic Men's All-Around gymnastics competition.  \n",
    "\n",
    "The events are floor, pommel horse, rings, parallel bars, vault and the bar."
   ]
  },
  {
   "cell_type": "code",
   "execution_count": 16,
   "metadata": {
    "collapsed": false,
    "slideshow": {
     "slide_type": "slide"
    }
   },
   "outputs": [
    {
     "data": {
      "text/html": [
       "<div>\n",
       "<table border=\"1\" class=\"dataframe\">\n",
       "  <thead>\n",
       "    <tr style=\"text-align: right;\">\n",
       "      <th></th>\n",
       "      <th>Rank</th>\n",
       "      <th>Athlete</th>\n",
       "      <th>Floor</th>\n",
       "      <th>Pommel</th>\n",
       "      <th>Rings</th>\n",
       "      <th>Vault</th>\n",
       "      <th>Parallel</th>\n",
       "      <th>Bar</th>\n",
       "      <th>Total</th>\n",
       "    </tr>\n",
       "  </thead>\n",
       "  <tbody>\n",
       "    <tr>\n",
       "      <th>0</th>\n",
       "      <td>1</td>\n",
       "      <td>Kohei Uchimura</td>\n",
       "      <td>15.766</td>\n",
       "      <td>14.900</td>\n",
       "      <td>14.733</td>\n",
       "      <td>15.566</td>\n",
       "      <td>15.600</td>\n",
       "      <td>15.800</td>\n",
       "      <td>92.365</td>\n",
       "    </tr>\n",
       "    <tr>\n",
       "      <th>1</th>\n",
       "      <td>2</td>\n",
       "      <td>Oleg Verniaiev</td>\n",
       "      <td>15.033</td>\n",
       "      <td>15.533</td>\n",
       "      <td>15.300</td>\n",
       "      <td>15.500</td>\n",
       "      <td>16.100</td>\n",
       "      <td>14.800</td>\n",
       "      <td>92.266</td>\n",
       "    </tr>\n",
       "    <tr>\n",
       "      <th>2</th>\n",
       "      <td>3</td>\n",
       "      <td>Max Whitlock</td>\n",
       "      <td>15.200</td>\n",
       "      <td>15.875</td>\n",
       "      <td>14.733</td>\n",
       "      <td>15.133</td>\n",
       "      <td>15.000</td>\n",
       "      <td>14.700</td>\n",
       "      <td>90.641</td>\n",
       "    </tr>\n",
       "    <tr>\n",
       "      <th>3</th>\n",
       "      <td>4</td>\n",
       "      <td>David Belyavskiy</td>\n",
       "      <td>15.000</td>\n",
       "      <td>14.766</td>\n",
       "      <td>14.533</td>\n",
       "      <td>15.133</td>\n",
       "      <td>15.933</td>\n",
       "      <td>15.133</td>\n",
       "      <td>90.498</td>\n",
       "    </tr>\n",
       "    <tr>\n",
       "      <th>4</th>\n",
       "      <td>5</td>\n",
       "      <td>Lin Chaopan</td>\n",
       "      <td>14.866</td>\n",
       "      <td>14.833</td>\n",
       "      <td>14.733</td>\n",
       "      <td>14.966</td>\n",
       "      <td>15.666</td>\n",
       "      <td>15.166</td>\n",
       "      <td>90.230</td>\n",
       "    </tr>\n",
       "  </tbody>\n",
       "</table>\n",
       "</div>"
      ],
      "text/plain": [
       "   Rank           Athlete   Floor  Pommel   Rings   Vault  Parallel     Bar  \\\n",
       "0     1    Kohei Uchimura  15.766  14.900  14.733  15.566    15.600  15.800   \n",
       "1     2    Oleg Verniaiev  15.033  15.533  15.300  15.500    16.100  14.800   \n",
       "2     3      Max Whitlock  15.200  15.875  14.733  15.133    15.000  14.700   \n",
       "3     4  David Belyavskiy  15.000  14.766  14.533  15.133    15.933  15.133   \n",
       "4     5       Lin Chaopan  14.866  14.833  14.733  14.966    15.666  15.166   \n",
       "\n",
       "    Total  \n",
       "0  92.365  \n",
       "1  92.266  \n",
       "2  90.641  \n",
       "3  90.498  \n",
       "4  90.230  "
      ]
     },
     "execution_count": 16,
     "metadata": {},
     "output_type": "execute_result"
    }
   ],
   "source": [
    "gym = pd.read_csv(\"./assets/datasets/gym_men.csv\")\n",
    "gym.head()"
   ]
  },
  {
   "cell_type": "code",
   "execution_count": 17,
   "metadata": {
    "collapsed": false,
    "slideshow": {
     "slide_type": "slide"
    }
   },
   "outputs": [
    {
     "data": {
      "text/plain": [
       "array([ 0.5497424 ,  0.22874076,  0.10636906,  0.06562775,  0.03547445,\n",
       "        0.01404558])"
      ]
     },
     "execution_count": 17,
     "metadata": {},
     "output_type": "execute_result"
    }
   ],
   "source": [
    "gym_n = StandardScaler().fit_transform(gym.iloc[:,2:8])\n",
    "pca = PCA()\n",
    "pca.fit(gym_n)\n",
    "pca.explained_variance_ratio_"
   ]
  },
  {
   "cell_type": "markdown",
   "metadata": {
    "slideshow": {
     "slide_type": "fragment"
    }
   },
   "source": [
    "What conclusion can we draw from the explained variance?"
   ]
  },
  {
   "cell_type": "markdown",
   "metadata": {
    "slideshow": {
     "slide_type": "slide"
    }
   },
   "source": [
    "## Let's look at those first two PCs"
   ]
  },
  {
   "cell_type": "code",
   "execution_count": 18,
   "metadata": {
    "collapsed": false,
    "slideshow": {
     "slide_type": "-"
    }
   },
   "outputs": [
    {
     "name": "stdout",
     "output_type": "stream",
     "text": [
      "Floor -0.452410113133\n",
      "Pommel -0.372178559084\n",
      "Rings -0.338328232248\n",
      "Vault -0.376343933789\n",
      "Parallel -0.456785512988\n",
      "Bar -0.438240180246\n",
      "\n",
      "\n",
      "Floor -0.389536525865\n",
      "Pommel 0.00994264470519\n",
      "Rings 0.605921193707\n",
      "Vault 0.533516620226\n",
      "Parallel -0.0954727985805\n",
      "Bar -0.432743465027\n"
     ]
    }
   ],
   "source": [
    "pca1_evec = pca.components_[0]\n",
    "for weight, event in zip(pca1_evec, gym.iloc[:,2:8].columns):\n",
    "    print event, weight\n",
    "print \"\\n\"\n",
    "pca1_evec = pca.components_[1]\n",
    "for weight, event in zip(pca1_evec, gym.iloc[:,2:8].columns):\n",
    "    print event, weight"
   ]
  },
  {
   "cell_type": "code",
   "execution_count": 19,
   "metadata": {
    "collapsed": false,
    "slideshow": {
     "slide_type": "skip"
    }
   },
   "outputs": [
    {
     "name": "stderr",
     "output_type": "stream",
     "text": [
      "/Users/pt/anaconda/lib/python2.7/site-packages/sklearn/preprocessing/data.py:586: DeprecationWarning: Passing 1d arrays as data is deprecated in 0.17 and will raise ValueError in 0.19. Reshape your data either using X.reshape(-1, 1) if your data has a single feature or X.reshape(1, -1) if it contains a single sample.\n",
      "  warnings.warn(DEPRECATION_MSG_1D, DeprecationWarning)\n",
      "/Users/pt/anaconda/lib/python2.7/site-packages/sklearn/preprocessing/data.py:649: DeprecationWarning: Passing 1d arrays as data is deprecated in 0.17 and will raise ValueError in 0.19. Reshape your data either using X.reshape(-1, 1) if your data has a single feature or X.reshape(1, -1) if it contains a single sample.\n",
      "  warnings.warn(DEPRECATION_MSG_1D, DeprecationWarning)\n"
     ]
    }
   ],
   "source": [
    "pca_df = pd.DataFrame(pca.fit_transform(gym_n))\n",
    "pca_df['rank'] = list(gym['Rank'])\n",
    "color_scale = StandardScaler().fit_transform(pca_df['rank'])\n",
    "colors = plt.cm.coolwarm(color_scale)"
   ]
  },
  {
   "cell_type": "markdown",
   "metadata": {
    "slideshow": {
     "slide_type": "slide"
    }
   },
   "source": [
    "## What can we say about the winner?"
   ]
  },
  {
   "cell_type": "code",
   "execution_count": 20,
   "metadata": {
    "collapsed": false,
    "slideshow": {
     "slide_type": "-"
    }
   },
   "outputs": [
    {
     "data": {
      "image/png": "[encoded data removed]",
      "text/plain": [
       "<matplotlib.figure.Figure at 0x11513ee50>"
      ]
     },
     "metadata": {},
     "output_type": "display_data"
    }
   ],
   "source": [
    "fig, ax = plt.subplots(figsize=(10,8))\n",
    "ax.scatter(pca_df.iloc[:,0], pca_df.iloc[:,1], c=colors, s=100)\n",
    "ax.set_xlabel('principal component 1')\n",
    "ax.set_ylabel('principal component 2')\n",
    "for i, gymnast in enumerate(list(gym[\"Rank\"])):\n",
    "    ax.text(pca_df.iloc[i,0]+0.15,pca_df.iloc[i,1],gymnast);"
   ]
  },
  {
   "cell_type": "markdown",
   "metadata": {
    "slideshow": {
     "slide_type": "slide"
    }
   },
   "source": [
    "## Conclusion\n",
    "We can implement PCA fairly easily using sklearn.\n",
    "It allows us both to reduce dimensions, but also to uncover the structure of the underlying phenomena."
   ]
  },
  {
   "cell_type": "markdown",
   "metadata": {
    "slideshow": {
     "slide_type": "slide"
    }
   },
   "source": [
    "### Further reading\n",
    "\n",
    "This is a concise tutorial that walks through the intuition, and includes relevant proofs in its appendix: https://www.cs.princeton.edu/picasso/mats/PCA-Tutorial-Intuition_jp.pdf"
   ]
  }
 ],
 "metadata": {
  "celltoolbar": "Slideshow",
  "kernelspec": {
   "display_name": "Python 2",
   "language": "python",
   "name": "python2"
  },
  "language_info": {
   "codemirror_mode": {
    "name": "ipython",
    "version": 2
   },
   "file_extension": ".py",
   "mimetype": "text/x-python",
   "name": "python",
   "nbconvert_exporter": "python",
   "pygments_lexer": "ipython2",
   "version": "2.7.12"
  }
 },
 "nbformat": 4,
 "nbformat_minor": 0
}
