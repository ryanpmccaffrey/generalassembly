{
 "cells": [
  {
   "cell_type": "code",
   "execution_count": 77,
   "metadata": {
    "collapsed": true,
    "slideshow": {
     "slide_type": "skip"
    }
   },
   "outputs": [],
   "source": [
    "import matplotlib.pyplot as plt\n",
    "import numpy as np\n",
    "%matplotlib inline\n",
    "import pandas as pd"
   ]
  },
  {
   "cell_type": "markdown",
   "metadata": {
    "slideshow": {
     "slide_type": "slide"
    }
   },
   "source": [
    "# ![](https://ga-dash.s3.amazonaws.com/production/assets/logo-9f88ae6c9c3871690e33280fcf557f33.png) Intro to Classification and kNN\n",
    "Week 4 | Lesson 2.1\n",
    "\n",
    "\n"
   ]
  },
  {
   "cell_type": "markdown",
   "metadata": {
    "slideshow": {
     "slide_type": "slide"
    }
   },
   "source": [
    "### LEARNING OBJECTIVES\n",
    "*After this lesson, you will be able to:*\n",
    "- Define and give examples of classification\n",
    "- Explain the kNN algorithm\n",
    "- Build a K-Nearest Neighbors model\n"
   ]
  },
  {
   "cell_type": "markdown",
   "metadata": {
    "slideshow": {
     "slide_type": "slide"
    }
   },
   "source": [
    "<a name=\"opening\"></a>\n",
    "## Opening (5 mins)\n",
    "\n",
    "We've been doing regression, which is predicting to a continuous value. Now let's learn some techniques for classification: predicting to class values.\n",
    "\n",
    "> Check: what is a scenario where you would use classification? Can you convert a regression problem into a classification one?\n",
    "\n",
    "\n"
   ]
  },
  {
   "cell_type": "markdown",
   "metadata": {
    "slideshow": {
     "slide_type": "slide"
    }
   },
   "source": [
    "<a name=\"introduction\"></a>\n",
    "## Introduction: Topic (10 mins)\n",
    "\n",
    "Classification is a supervised learning technique in machine learning of assigning a classification for new instances of data from already observed past data whose classification is known. \n",
    "\n",
    "For example, we might build a machine learning model to detect spam emails. The model would analyze the emails' content and classify them as either \"spam\" or \"legitimate\" emails.\n",
    "\n",
    "![](http://i.giphy.com/iQbUZdceDtKRG.gif)"
   ]
  },
  {
   "cell_type": "markdown",
   "metadata": {
    "slideshow": {
     "slide_type": "slide"
    }
   },
   "source": [
    "Many classification problems can boil down to a binary problem like this.\n",
    "\n",
    "Binary classification is the simplest form of classification, though classification problems can certainly deal with multiple class labels.\n",
    "\n",
    "There are a number of different classification techniques, including k-Nearest Neighbors, which is this morning's topic."
   ]
  },
  {
   "cell_type": "markdown",
   "metadata": {
    "slideshow": {
     "slide_type": "slide"
    }
   },
   "source": [
    "#### K-Nearest Neighbors (kNN)\n",
    "\n",
    "The K-Nearest Neighbors (kNN) classification algorithm is one of the simplest. It is based on proximity to known data points with known classifications. It is surprisingly powerful, and can learn complex decision boundaries.\n",
    "\n",
    "![](http://i.giphy.com/3orieYYLakrjOsQ77i.gif)"
   ]
  },
  {
   "cell_type": "markdown",
   "metadata": {
    "slideshow": {
     "slide_type": "slide"
    }
   },
   "source": [
    "A case is classified by a majority vote of its neighbors, with the case being assigned to the class most common amongst its K nearest neighbors measured by a distance function.\n",
    "\n",
    "> Check: will it matter what we choose for K? If so, how do we choose?\n"
   ]
  },
  {
   "cell_type": "markdown",
   "metadata": {
    "slideshow": {
     "slide_type": "slide"
    }
   },
   "source": [
    "As a very general rule of thumb, a large K value is more precise as it reduces the overall noise, but there is no guarantee.\n",
    "\n",
    "Cross-validation is another way to retrospectively determine a good K value by using an independent dataset to validate the K value. Typically, the optimal K for most datasets is between 3-10. That produces much better results than 1NN.  But this is by no means a blanket rule.\n",
    "\n"
   ]
  },
  {
   "cell_type": "markdown",
   "metadata": {
    "slideshow": {
     "slide_type": "slide"
    }
   },
   "source": [
    "<a name=\"demo\"></a>\n",
    "## Demo: kNN, conceptually (20 mins)\n",
    "\n",
    "Here is some pseudo-code to demonstrate how kNN works:\n",
    "\n",
    "```python\n",
    "procedure KNN(x)\n",
    "  begin\n",
    "    looping through all known data points in training data, find the closest k points to x\n",
    "    assign f(x) = majority classification among the k closest points\n",
    "  end\n",
    "```\n",
    "\n"
   ]
  },
  {
   "cell_type": "markdown",
   "metadata": {
    "slideshow": {
     "slide_type": "slide"
    }
   },
   "source": [
    "Consider the following data concerning credit default. Age and Loan are two numerical variables (predictors) and Default is the target.\n",
    "\n",
    "\n",
    "<img src=\"./assets/images/graph1.png\" width=\"700\" />\n",
    "\n"
   ]
  },
  {
   "cell_type": "markdown",
   "metadata": {
    "slideshow": {
     "slide_type": "slide"
    }
   },
   "source": [
    "We can now use the training set to classify an unknown case (Age = 48, Loan = $142,000) using Euclidean distance.\n",
    "\n",
    "If we have two points **p** and **q** where:\n",
    "$$p = (p_1, p_2)$$ $$q = (q_1, q_2)$$\n",
    "\n",
    "$$\\sqrt{(q_1-p_1)^2 + (q_2-p_2)^2}$$\n",
    "\n",
    "> Check: what's the classification with K = 4?\n",
    "\n",
    "<img src=\"./assets/images/loans.png\" width=\"600\" height=\"200\" />\n"
   ]
  },
  {
   "cell_type": "markdown",
   "metadata": {
    "slideshow": {
     "slide_type": "slide"
    }
   },
   "source": [
    "With K=4, there are three Default=Y and one Default=N out of four closest neighbors. The prediction for the unknown case is  Default=Y.\n",
    "\n",
    "> Check: is this consistent to the graph?  Why might it not be?  What should we do about that?\n"
   ]
  },
  {
   "cell_type": "markdown",
   "metadata": {
    "slideshow": {
     "slide_type": "slide"
    }
   },
   "source": [
    "Scale matters!\n",
    "\n",
    "Let's look at an extreme example...\n",
    "We're trying to predict who will be admitted to college based on two tests; one is scored 0-5, the other 0-100.  They are equally difficult!"
   ]
  },
  {
   "cell_type": "code",
   "execution_count": 76,
   "metadata": {
    "collapsed": false,
    "slideshow": {
     "slide_type": "fragment"
    }
   },
   "outputs": [
    {
     "data": {
      "image/png": "[encoded data removed]",
      "text/plain": [
       "<matplotlib.figure.Figure at 0x119b0ba50>"
      ]
     },
     "metadata": {},
     "output_type": "display_data"
    }
   ],
   "source": [
    "quiz1 = [5, 3, 1, 4, 0, 4, 0, 2, 3, 4]\n",
    "quiz2 = [83, 52, 60, 80, 21, 97, 45, 62, 77,  8]\n",
    "admit = [1,0,0,1,0,1,0,0,1,0]\n",
    "admit_col = [\"r\" if x==0 else \"b\" for x in admit]\n",
    "new_point =[5,60]\n",
    "fig, ax = plt.subplots(figsize=(6,6))\n",
    "ax.scatter(quiz1,quiz2, c=admit_col, s=50)\n",
    "ax.scatter(new_point[0], new_point[1],marker=\"x\", s=90, c='g')\n",
    "ax.set_xlim(-0.1,5.1)\n",
    "ax.set_ylim(0,101);"
   ]
  },
  {
   "cell_type": "markdown",
   "metadata": {
    "slideshow": {
     "slide_type": "slide"
    }
   },
   "source": [
    "Using two nearest neighbours, looks like the student is in!  But if we actually calculated the Euclidean distances (without any kind of rescaling), it would look more like this..."
   ]
  },
  {
   "cell_type": "code",
   "execution_count": 75,
   "metadata": {
    "collapsed": false,
    "slideshow": {
     "slide_type": "fragment"
    }
   },
   "outputs": [
    {
     "data": {
      "image/png": "[encoded data removed]",
      "text/plain": [
       "<matplotlib.figure.Figure at 0x1199ebbd0>"
      ]
     },
     "metadata": {},
     "output_type": "display_data"
    }
   ],
   "source": [
    "fig, ax = plt.subplots(figsize=(6,6))\n",
    "ax.scatter(quiz1,quiz2,c=admit_col, s=50)\n",
    "ax.scatter(5,60,marker=\"x\", s=60, c='g')\n",
    "ax.set_xlim(0,100)\n",
    "ax.set_ylim(0,100);"
   ]
  },
  {
   "cell_type": "markdown",
   "metadata": {
    "slideshow": {
     "slide_type": "slide"
    }
   },
   "source": [
    "<a name=\"ind-practice\"></a>\n",
    "## Independent Practice: Build a simple kNN model  (50 minutes)\n",
    "\n",
    "In groups of 4 (ish), use the structure in the lesson notebook to build out a kNN classifier.\n",
    "\n",
    "**Suggestion**: there are several independent functions to write. Start by defining what goes in and comes out of each of these, and then assign one group member to write each function.\n",
    "\n",
    "When writing a function, try to break down the problem into the smallest component pieces before you start writing real code.\n",
    "\n",
    "This will be the lab!"
   ]
  },
  {
   "cell_type": "markdown",
   "metadata": {
    "slideshow": {
     "slide_type": "slide"
    }
   },
   "source": [
    "## kNN in Sci-Kit Learn (10 mins)\n",
    "Now that you've built your own knn classifier... unleash sklearn!\n",
    "\n",
    "\n",
    "We are going to be using a common classification dataset: [Wisconsin Breast Cancer Dataset](https://archive.ics.uci.edu/ml/datasets.html)\n"
   ]
  },
  {
   "cell_type": "code",
   "execution_count": 105,
   "metadata": {
    "collapsed": false,
    "slideshow": {
     "slide_type": "slide"
    }
   },
   "outputs": [
    {
     "data": {
      "text/html": [
       "<div>\n",
       "<table border=\"1\" class=\"dataframe\">\n",
       "  <thead>\n",
       "    <tr style=\"text-align: right;\">\n",
       "      <th></th>\n",
       "      <th>id</th>\n",
       "      <th>clump_thickness</th>\n",
       "      <th>uniform_size</th>\n",
       "      <th>uniform_shape</th>\n",
       "      <th>adhesion</th>\n",
       "      <th>single_cell_size</th>\n",
       "      <th>bare_nuclei</th>\n",
       "      <th>chromatin</th>\n",
       "      <th>nucleoli</th>\n",
       "      <th>mitoses</th>\n",
       "      <th>class</th>\n",
       "    </tr>\n",
       "  </thead>\n",
       "  <tbody>\n",
       "    <tr>\n",
       "      <th>0</th>\n",
       "      <td>1000025</td>\n",
       "      <td>5</td>\n",
       "      <td>1</td>\n",
       "      <td>1</td>\n",
       "      <td>1</td>\n",
       "      <td>2</td>\n",
       "      <td>1</td>\n",
       "      <td>3</td>\n",
       "      <td>1</td>\n",
       "      <td>1</td>\n",
       "      <td>0</td>\n",
       "    </tr>\n",
       "    <tr>\n",
       "      <th>1</th>\n",
       "      <td>1002945</td>\n",
       "      <td>5</td>\n",
       "      <td>4</td>\n",
       "      <td>4</td>\n",
       "      <td>5</td>\n",
       "      <td>7</td>\n",
       "      <td>10</td>\n",
       "      <td>3</td>\n",
       "      <td>2</td>\n",
       "      <td>1</td>\n",
       "      <td>0</td>\n",
       "    </tr>\n",
       "    <tr>\n",
       "      <th>2</th>\n",
       "      <td>1015425</td>\n",
       "      <td>3</td>\n",
       "      <td>1</td>\n",
       "      <td>1</td>\n",
       "      <td>1</td>\n",
       "      <td>2</td>\n",
       "      <td>2</td>\n",
       "      <td>3</td>\n",
       "      <td>1</td>\n",
       "      <td>1</td>\n",
       "      <td>0</td>\n",
       "    </tr>\n",
       "    <tr>\n",
       "      <th>3</th>\n",
       "      <td>1016277</td>\n",
       "      <td>6</td>\n",
       "      <td>8</td>\n",
       "      <td>8</td>\n",
       "      <td>1</td>\n",
       "      <td>3</td>\n",
       "      <td>4</td>\n",
       "      <td>3</td>\n",
       "      <td>7</td>\n",
       "      <td>1</td>\n",
       "      <td>0</td>\n",
       "    </tr>\n",
       "    <tr>\n",
       "      <th>4</th>\n",
       "      <td>1017023</td>\n",
       "      <td>4</td>\n",
       "      <td>1</td>\n",
       "      <td>1</td>\n",
       "      <td>3</td>\n",
       "      <td>2</td>\n",
       "      <td>1</td>\n",
       "      <td>3</td>\n",
       "      <td>1</td>\n",
       "      <td>1</td>\n",
       "      <td>0</td>\n",
       "    </tr>\n",
       "  </tbody>\n",
       "</table>\n",
       "</div>"
      ],
      "text/plain": [
       "        id  clump_thickness  uniform_size  uniform_shape  adhesion  \\\n",
       "0  1000025                5             1              1         1   \n",
       "1  1002945                5             4              4         5   \n",
       "2  1015425                3             1              1         1   \n",
       "3  1016277                6             8              8         1   \n",
       "4  1017023                4             1              1         3   \n",
       "\n",
       "   single_cell_size  bare_nuclei  chromatin  nucleoli  mitoses  class  \n",
       "0                 2            1          3         1        1      0  \n",
       "1                 7           10          3         2        1      0  \n",
       "2                 2            2          3         1        1      0  \n",
       "3                 3            4          3         7        1      0  \n",
       "4                 2            1          3         1        1      0  "
      ]
     },
     "execution_count": 105,
     "metadata": {},
     "output_type": "execute_result"
    }
   ],
   "source": [
    "#read in the data\n",
    "df = pd.read_csv(\"./assets/datasets/breast-cancer-wisconsin-clean.csv\")\n",
    "df.head()"
   ]
  },
  {
   "cell_type": "markdown",
   "metadata": {
    "slideshow": {
     "slide_type": "slide"
    }
   },
   "source": [
    "## Split the data into training set and testing set"
   ]
  },
  {
   "cell_type": "code",
   "execution_count": 108,
   "metadata": {
    "collapsed": false,
    "slideshow": {
     "slide_type": "fragment"
    }
   },
   "outputs": [],
   "source": [
    "from sklearn.model_selection import train_test_split\n",
    "\n",
    "colvars = [x for x in df.columns if x not in ['id','class']]\n",
    "\n",
    "X = df[colvars]\n",
    "y = df['class']\n",
    "\n",
    "\n",
    "X_train, X_test, y_train, y_test = train_test_split(X, y, test_size=.33)"
   ]
  },
  {
   "cell_type": "markdown",
   "metadata": {
    "slideshow": {
     "slide_type": "slide"
    }
   },
   "source": [
    "## Instantiate a k nearest neighbors model with k=3"
   ]
  },
  {
   "cell_type": "code",
   "execution_count": 111,
   "metadata": {
    "collapsed": false,
    "slideshow": {
     "slide_type": "fragment"
    }
   },
   "outputs": [
    {
     "data": {
      "text/plain": [
       "KNeighborsClassifier(algorithm='auto', leaf_size=30, metric='minkowski',\n",
       "           metric_params=None, n_jobs=1, n_neighbors=3, p=2,\n",
       "           weights='uniform')"
      ]
     },
     "execution_count": 111,
     "metadata": {},
     "output_type": "execute_result"
    }
   ],
   "source": [
    "from sklearn.neighbors import KNeighborsClassifier\n",
    "knn = KNeighborsClassifier(n_neighbors=3, weights='uniform')\n",
    "\n",
    "knn.fit(X_train,y_train)"
   ]
  },
  {
   "cell_type": "markdown",
   "metadata": {
    "slideshow": {
     "slide_type": "slide"
    }
   },
   "source": [
    "## Check Accuracy Score"
   ]
  },
  {
   "cell_type": "code",
   "execution_count": 112,
   "metadata": {
    "collapsed": false,
    "slideshow": {
     "slide_type": "-"
    }
   },
   "outputs": [
    {
     "data": {
      "text/plain": [
       "0.97787610619469023"
      ]
     },
     "execution_count": 112,
     "metadata": {},
     "output_type": "execute_result"
    }
   ],
   "source": [
    "from sklearn.metrics import accuracy_score\n",
    "predictions = knn.predict(X_test)\n",
    "accuracy_score(y_test, predictions)"
   ]
  },
  {
   "cell_type": "markdown",
   "metadata": {
    "slideshow": {
     "slide_type": "-"
    }
   },
   "source": [
    "The model correctly classified 98% of the test set!"
   ]
  },
  {
   "cell_type": "markdown",
   "metadata": {
    "slideshow": {
     "slide_type": "slide"
    }
   },
   "source": [
    "We picked 3 neighbours... but how do we know that was the right number?  \n",
    "\n",
    "We don't really.  \n",
    "\n",
    "How could we check this?"
   ]
  },
  {
   "cell_type": "markdown",
   "metadata": {
    "slideshow": {
     "slide_type": "slide"
    }
   },
   "source": [
    "## Independent Practice (20 mins)\n",
    "\n",
    "Write a loop to iterate through different values for k, and decide which is the best. Don't forget to use cross validation when scoring!"
   ]
  },
  {
   "cell_type": "code",
   "execution_count": 117,
   "metadata": {
    "collapsed": false,
    "slideshow": {
     "slide_type": "slide"
    }
   },
   "outputs": [
    {
     "name": "stdout",
     "output_type": "stream",
     "text": [
      "3 0.977876106195\n"
     ]
    }
   ],
   "source": [
    "from sklearn.model_selection import cross_val_score\n",
    "best_k = 0\n",
    "best_score = 0\n",
    "for k in range(1,11):\n",
    "    knn = KNeighborsClassifier(n_neighbors=k)\n",
    "    knn.fit(X_train, y_train)\n",
    "    acc = accuracy_score(y_test, knn.predict(X_test))\n",
    "    if acc > best_score:\n",
    "        best_score = acc\n",
    "        best_k = k\n",
    "\n",
    "print best_k, best_score\n",
    "    "
   ]
  },
  {
   "cell_type": "markdown",
   "metadata": {
    "slideshow": {
     "slide_type": "slide"
    }
   },
   "source": [
    "<a name=\"conclusion\"></a>\n",
    "## Conclusion (5 mins)\n",
    "\n",
    "We can now answer and discuss these questions:\n",
    "\n",
    "- What are class labels? What does it mean to classify?\n",
    "- How does the kNN algorithm work?\n",
    "- What is accuracy?"
   ]
  },
  {
   "cell_type": "markdown",
   "metadata": {
    "slideshow": {
     "slide_type": "skip"
    }
   },
   "source": [
    "***\n",
    "\n",
    "### ADDITIONAL RESOURCES\n",
    "\n",
    "- [How KNN Works](https://saravananthirumuruganathan.wordpress.com/2010/05/17/a-detailed-introduction-to-k-nearest-neighbor-knn-algorithm/)"
   ]
  }
 ],
 "metadata": {
  "celltoolbar": "Slideshow",
  "kernelspec": {
   "display_name": "Python 2",
   "language": "python",
   "name": "python2"
  },
  "language_info": {
   "codemirror_mode": {
    "name": "ipython",
    "version": 2
   },
   "file_extension": ".py",
   "mimetype": "text/x-python",
   "name": "python",
   "nbconvert_exporter": "python",
   "pygments_lexer": "ipython2",
   "version": "2.7.12"
  }
 },
 "nbformat": 4,
 "nbformat_minor": 0
}
