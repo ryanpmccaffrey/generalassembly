{
 "cells": [
  {
   "cell_type": "code",
   "execution_count": 1,
   "metadata": {
    "collapsed": true,
    "slideshow": {
     "slide_type": "skip"
    }
   },
   "outputs": [],
   "source": [
    "from __future__ import division\n",
    "\n",
    "import pandas as pd\n",
    "import numpy as np\n",
    "import matplotlib.pyplot as plt\n",
    "import seaborn as sns\n",
    "\n",
    "%matplotlib inline"
   ]
  },
  {
   "cell_type": "markdown",
   "metadata": {
    "slideshow": {
     "slide_type": "slide"
    }
   },
   "source": [
    "# ![](https://ga-dash.s3.amazonaws.com/production/assets/logo-9f88ae6c9c3871690e33280fcf557f33.png) Linear Regression with Statsmodels and Scikit-Learn\n",
    "Week 3 | Day 1"
   ]
  },
  {
   "cell_type": "markdown",
   "metadata": {
    "slideshow": {
     "slide_type": "slide"
    }
   },
   "source": [
    "### LEARNING OBJECTIVES\n",
    "*After this lesson, you will be able to:*\n",
    "- Describe the assumptions of a linear regression\n",
    "- Evaluate the \"goodness of fit\" of your regression\n",
    "- Perform a linear regression in statsmodels, scikit-learn"
   ]
  },
  {
   "cell_type": "markdown",
   "metadata": {
    "slideshow": {
     "slide_type": "slide"
    }
   },
   "source": [
    "## Let's generate some data"
   ]
  },
  {
   "cell_type": "code",
   "execution_count": 2,
   "metadata": {
    "collapsed": true,
    "slideshow": {
     "slide_type": "-"
    }
   },
   "outputs": [],
   "source": [
    "# create an x and a y that is \n",
    "# 50 plus 2 times x with some random noise around that\n",
    "x = np.linspace(-5, 50, 100)\n",
    "y = 50 + 2 * x  + np.random.normal(0, 20, size=len(x))"
   ]
  },
  {
   "cell_type": "code",
   "execution_count": 3,
   "metadata": {
    "collapsed": false,
    "slideshow": {
     "slide_type": "-"
    }
   },
   "outputs": [
    {
     "data": {
      "text/html": [
       "<div>\n",
       "<table border=\"1\" class=\"dataframe\">\n",
       "  <thead>\n",
       "    <tr style=\"text-align: right;\">\n",
       "      <th></th>\n",
       "      <th>X</th>\n",
       "      <th>Y</th>\n",
       "    </tr>\n",
       "  </thead>\n",
       "  <tbody>\n",
       "    <tr>\n",
       "      <th>0</th>\n",
       "      <td>-5.000000</td>\n",
       "      <td>37.010811</td>\n",
       "    </tr>\n",
       "    <tr>\n",
       "      <th>1</th>\n",
       "      <td>-4.444444</td>\n",
       "      <td>81.019120</td>\n",
       "    </tr>\n",
       "    <tr>\n",
       "      <th>2</th>\n",
       "      <td>-3.888889</td>\n",
       "      <td>51.487541</td>\n",
       "    </tr>\n",
       "    <tr>\n",
       "      <th>3</th>\n",
       "      <td>-3.333333</td>\n",
       "      <td>14.675192</td>\n",
       "    </tr>\n",
       "    <tr>\n",
       "      <th>4</th>\n",
       "      <td>-2.777778</td>\n",
       "      <td>28.858296</td>\n",
       "    </tr>\n",
       "  </tbody>\n",
       "</table>\n",
       "</div>"
      ],
      "text/plain": [
       "          X          Y\n",
       "0 -5.000000  37.010811\n",
       "1 -4.444444  81.019120\n",
       "2 -3.888889  51.487541\n",
       "3 -3.333333  14.675192\n",
       "4 -2.777778  28.858296"
      ]
     },
     "execution_count": 3,
     "metadata": {},
     "output_type": "execute_result"
    }
   ],
   "source": [
    "df = pd.DataFrame({'X': x, 'Y': y})\n",
    "df.head()"
   ]
  },
  {
   "cell_type": "markdown",
   "metadata": {
    "slideshow": {
     "slide_type": "slide"
    }
   },
   "source": [
    "## Is a linear model appropriate?"
   ]
  },
  {
   "cell_type": "markdown",
   "metadata": {
    "slideshow": {
     "slide_type": "-"
    }
   },
   "source": [
    "## Check the correlation"
   ]
  },
  {
   "cell_type": "code",
   "execution_count": 4,
   "metadata": {
    "collapsed": false,
    "slideshow": {
     "slide_type": "-"
    }
   },
   "outputs": [
    {
     "data": {
      "text/html": [
       "<div>\n",
       "<table border=\"1\" class=\"dataframe\">\n",
       "  <thead>\n",
       "    <tr style=\"text-align: right;\">\n",
       "      <th></th>\n",
       "      <th>X</th>\n",
       "      <th>Y</th>\n",
       "    </tr>\n",
       "  </thead>\n",
       "  <tbody>\n",
       "    <tr>\n",
       "      <th>X</th>\n",
       "      <td>1.000000</td>\n",
       "      <td>0.855835</td>\n",
       "    </tr>\n",
       "    <tr>\n",
       "      <th>Y</th>\n",
       "      <td>0.855835</td>\n",
       "      <td>1.000000</td>\n",
       "    </tr>\n",
       "  </tbody>\n",
       "</table>\n",
       "</div>"
      ],
      "text/plain": [
       "          X         Y\n",
       "X  1.000000  0.855835\n",
       "Y  0.855835  1.000000"
      ]
     },
     "execution_count": 4,
     "metadata": {},
     "output_type": "execute_result"
    }
   ],
   "source": [
    "df.corr()"
   ]
  },
  {
   "cell_type": "markdown",
   "metadata": {
    "slideshow": {
     "slide_type": "slide"
    }
   },
   "source": [
    "## Plot the data"
   ]
  },
  {
   "cell_type": "code",
   "execution_count": 7,
   "metadata": {
    "collapsed": false,
    "slideshow": {
     "slide_type": "-"
    }
   },
   "outputs": [
    {
     "data": {
      "text/plain": [
       "<matplotlib.collections.PathCollection at 0x1142b69d0>"
      ]
     },
     "execution_count": 7,
     "metadata": {},
     "output_type": "execute_result"
    },
    {
     "data": {
      "image/png": "[encoded data removed]",
      "text/plain": [
       "<matplotlib.figure.Figure at 0x113f8d3d0>"
      ]
     },
     "metadata": {},
     "output_type": "display_data"
    }
   ],
   "source": [
    "# create a figure\n",
    "fig = plt.figure(figsize=(15,7))\n",
    "# get the axis of that figure\n",
    "ax = plt.gca()\n",
    "\n",
    "# plot a scatter plot on it with our data\n",
    "ax.scatter(x, y, c='k')"
   ]
  },
  {
   "cell_type": "markdown",
   "metadata": {
    "slideshow": {
     "slide_type": "slide"
    }
   },
   "source": [
    "## Naive/Baseline Prediction\n",
    "\n",
    "What is the best prediction we can make for any data point if we can only use a single value?\n",
    "\n",
    "How can we measure the success of our prediction?"
   ]
  },
  {
   "cell_type": "code",
   "execution_count": 6,
   "metadata": {
    "collapsed": false,
    "slideshow": {
     "slide_type": "slide"
    }
   },
   "outputs": [
    {
     "data": {
      "image/png": "[encoded data removed]",
      "text/plain": [
       "<matplotlib.figure.Figure at 0x1134d9e10>"
      ]
     },
     "metadata": {},
     "output_type": "display_data"
    }
   ],
   "source": [
    "# create a figure\n",
    "fig = plt.figure(figsize=(15,7))\n",
    "# get the axis of that figure\n",
    "ax = plt.gca()\n",
    "\n",
    "# plot a scatter plot on it with our data\n",
    "ax.scatter(df['X'], df['Y'], c='k')\n",
    "ax.plot((df['X'].min(), df['X'].max()),(np.mean(df['Y']), np.mean(df['Y'])), color='r');"
   ]
  },
  {
   "cell_type": "markdown",
   "metadata": {
    "slideshow": {
     "slide_type": "slide"
    }
   },
   "source": [
    "## Let's add that to our DataFrame"
   ]
  },
  {
   "cell_type": "code",
   "execution_count": 8,
   "metadata": {
    "collapsed": false,
    "scrolled": true,
    "slideshow": {
     "slide_type": "-"
    }
   },
   "outputs": [
    {
     "data": {
      "text/html": [
       "<div>\n",
       "<table border=\"1\" class=\"dataframe\">\n",
       "  <thead>\n",
       "    <tr style=\"text-align: right;\">\n",
       "      <th></th>\n",
       "      <th>X</th>\n",
       "      <th>Y</th>\n",
       "      <th>Mean_Yhat</th>\n",
       "    </tr>\n",
       "  </thead>\n",
       "  <tbody>\n",
       "    <tr>\n",
       "      <th>0</th>\n",
       "      <td>-5.000000</td>\n",
       "      <td>37.010811</td>\n",
       "      <td>93.309759</td>\n",
       "    </tr>\n",
       "    <tr>\n",
       "      <th>1</th>\n",
       "      <td>-4.444444</td>\n",
       "      <td>81.019120</td>\n",
       "      <td>93.309759</td>\n",
       "    </tr>\n",
       "    <tr>\n",
       "      <th>2</th>\n",
       "      <td>-3.888889</td>\n",
       "      <td>51.487541</td>\n",
       "      <td>93.309759</td>\n",
       "    </tr>\n",
       "    <tr>\n",
       "      <th>3</th>\n",
       "      <td>-3.333333</td>\n",
       "      <td>14.675192</td>\n",
       "      <td>93.309759</td>\n",
       "    </tr>\n",
       "    <tr>\n",
       "      <th>4</th>\n",
       "      <td>-2.777778</td>\n",
       "      <td>28.858296</td>\n",
       "      <td>93.309759</td>\n",
       "    </tr>\n",
       "    <tr>\n",
       "      <th>5</th>\n",
       "      <td>-2.222222</td>\n",
       "      <td>47.911464</td>\n",
       "      <td>93.309759</td>\n",
       "    </tr>\n",
       "    <tr>\n",
       "      <th>6</th>\n",
       "      <td>-1.666667</td>\n",
       "      <td>30.810915</td>\n",
       "      <td>93.309759</td>\n",
       "    </tr>\n",
       "    <tr>\n",
       "      <th>7</th>\n",
       "      <td>-1.111111</td>\n",
       "      <td>56.156079</td>\n",
       "      <td>93.309759</td>\n",
       "    </tr>\n",
       "    <tr>\n",
       "      <th>8</th>\n",
       "      <td>-0.555556</td>\n",
       "      <td>-9.797429</td>\n",
       "      <td>93.309759</td>\n",
       "    </tr>\n",
       "    <tr>\n",
       "      <th>9</th>\n",
       "      <td>0.000000</td>\n",
       "      <td>48.967001</td>\n",
       "      <td>93.309759</td>\n",
       "    </tr>\n",
       "    <tr>\n",
       "      <th>10</th>\n",
       "      <td>0.555556</td>\n",
       "      <td>54.479309</td>\n",
       "      <td>93.309759</td>\n",
       "    </tr>\n",
       "    <tr>\n",
       "      <th>11</th>\n",
       "      <td>1.111111</td>\n",
       "      <td>14.485411</td>\n",
       "      <td>93.309759</td>\n",
       "    </tr>\n",
       "    <tr>\n",
       "      <th>12</th>\n",
       "      <td>1.666667</td>\n",
       "      <td>54.762805</td>\n",
       "      <td>93.309759</td>\n",
       "    </tr>\n",
       "    <tr>\n",
       "      <th>13</th>\n",
       "      <td>2.222222</td>\n",
       "      <td>64.489934</td>\n",
       "      <td>93.309759</td>\n",
       "    </tr>\n",
       "    <tr>\n",
       "      <th>14</th>\n",
       "      <td>2.777778</td>\n",
       "      <td>62.617467</td>\n",
       "      <td>93.309759</td>\n",
       "    </tr>\n",
       "    <tr>\n",
       "      <th>15</th>\n",
       "      <td>3.333333</td>\n",
       "      <td>38.868860</td>\n",
       "      <td>93.309759</td>\n",
       "    </tr>\n",
       "    <tr>\n",
       "      <th>16</th>\n",
       "      <td>3.888889</td>\n",
       "      <td>42.126572</td>\n",
       "      <td>93.309759</td>\n",
       "    </tr>\n",
       "    <tr>\n",
       "      <th>17</th>\n",
       "      <td>4.444444</td>\n",
       "      <td>55.299351</td>\n",
       "      <td>93.309759</td>\n",
       "    </tr>\n",
       "    <tr>\n",
       "      <th>18</th>\n",
       "      <td>5.000000</td>\n",
       "      <td>86.125258</td>\n",
       "      <td>93.309759</td>\n",
       "    </tr>\n",
       "    <tr>\n",
       "      <th>19</th>\n",
       "      <td>5.555556</td>\n",
       "      <td>76.754772</td>\n",
       "      <td>93.309759</td>\n",
       "    </tr>\n",
       "    <tr>\n",
       "      <th>20</th>\n",
       "      <td>6.111111</td>\n",
       "      <td>38.487004</td>\n",
       "      <td>93.309759</td>\n",
       "    </tr>\n",
       "    <tr>\n",
       "      <th>21</th>\n",
       "      <td>6.666667</td>\n",
       "      <td>56.547257</td>\n",
       "      <td>93.309759</td>\n",
       "    </tr>\n",
       "    <tr>\n",
       "      <th>22</th>\n",
       "      <td>7.222222</td>\n",
       "      <td>69.061913</td>\n",
       "      <td>93.309759</td>\n",
       "    </tr>\n",
       "    <tr>\n",
       "      <th>23</th>\n",
       "      <td>7.777778</td>\n",
       "      <td>78.587095</td>\n",
       "      <td>93.309759</td>\n",
       "    </tr>\n",
       "    <tr>\n",
       "      <th>24</th>\n",
       "      <td>8.333333</td>\n",
       "      <td>50.229128</td>\n",
       "      <td>93.309759</td>\n",
       "    </tr>\n",
       "    <tr>\n",
       "      <th>25</th>\n",
       "      <td>8.888889</td>\n",
       "      <td>69.715083</td>\n",
       "      <td>93.309759</td>\n",
       "    </tr>\n",
       "    <tr>\n",
       "      <th>26</th>\n",
       "      <td>9.444444</td>\n",
       "      <td>85.532876</td>\n",
       "      <td>93.309759</td>\n",
       "    </tr>\n",
       "    <tr>\n",
       "      <th>27</th>\n",
       "      <td>10.000000</td>\n",
       "      <td>54.729693</td>\n",
       "      <td>93.309759</td>\n",
       "    </tr>\n",
       "    <tr>\n",
       "      <th>28</th>\n",
       "      <td>10.555556</td>\n",
       "      <td>63.482849</td>\n",
       "      <td>93.309759</td>\n",
       "    </tr>\n",
       "    <tr>\n",
       "      <th>29</th>\n",
       "      <td>11.111111</td>\n",
       "      <td>70.930696</td>\n",
       "      <td>93.309759</td>\n",
       "    </tr>\n",
       "    <tr>\n",
       "      <th>...</th>\n",
       "      <td>...</td>\n",
       "      <td>...</td>\n",
       "      <td>...</td>\n",
       "    </tr>\n",
       "    <tr>\n",
       "      <th>70</th>\n",
       "      <td>33.888889</td>\n",
       "      <td>80.304091</td>\n",
       "      <td>93.309759</td>\n",
       "    </tr>\n",
       "    <tr>\n",
       "      <th>71</th>\n",
       "      <td>34.444444</td>\n",
       "      <td>115.259185</td>\n",
       "      <td>93.309759</td>\n",
       "    </tr>\n",
       "    <tr>\n",
       "      <th>72</th>\n",
       "      <td>35.000000</td>\n",
       "      <td>132.707275</td>\n",
       "      <td>93.309759</td>\n",
       "    </tr>\n",
       "    <tr>\n",
       "      <th>73</th>\n",
       "      <td>35.555556</td>\n",
       "      <td>133.998643</td>\n",
       "      <td>93.309759</td>\n",
       "    </tr>\n",
       "    <tr>\n",
       "      <th>74</th>\n",
       "      <td>36.111111</td>\n",
       "      <td>110.496262</td>\n",
       "      <td>93.309759</td>\n",
       "    </tr>\n",
       "    <tr>\n",
       "      <th>75</th>\n",
       "      <td>36.666667</td>\n",
       "      <td>147.670639</td>\n",
       "      <td>93.309759</td>\n",
       "    </tr>\n",
       "    <tr>\n",
       "      <th>76</th>\n",
       "      <td>37.222222</td>\n",
       "      <td>152.725370</td>\n",
       "      <td>93.309759</td>\n",
       "    </tr>\n",
       "    <tr>\n",
       "      <th>77</th>\n",
       "      <td>37.777778</td>\n",
       "      <td>133.051343</td>\n",
       "      <td>93.309759</td>\n",
       "    </tr>\n",
       "    <tr>\n",
       "      <th>78</th>\n",
       "      <td>38.333333</td>\n",
       "      <td>152.922918</td>\n",
       "      <td>93.309759</td>\n",
       "    </tr>\n",
       "    <tr>\n",
       "      <th>79</th>\n",
       "      <td>38.888889</td>\n",
       "      <td>102.530078</td>\n",
       "      <td>93.309759</td>\n",
       "    </tr>\n",
       "    <tr>\n",
       "      <th>80</th>\n",
       "      <td>39.444444</td>\n",
       "      <td>151.904198</td>\n",
       "      <td>93.309759</td>\n",
       "    </tr>\n",
       "    <tr>\n",
       "      <th>81</th>\n",
       "      <td>40.000000</td>\n",
       "      <td>124.810747</td>\n",
       "      <td>93.309759</td>\n",
       "    </tr>\n",
       "    <tr>\n",
       "      <th>82</th>\n",
       "      <td>40.555556</td>\n",
       "      <td>113.053434</td>\n",
       "      <td>93.309759</td>\n",
       "    </tr>\n",
       "    <tr>\n",
       "      <th>83</th>\n",
       "      <td>41.111111</td>\n",
       "      <td>105.701726</td>\n",
       "      <td>93.309759</td>\n",
       "    </tr>\n",
       "    <tr>\n",
       "      <th>84</th>\n",
       "      <td>41.666667</td>\n",
       "      <td>147.000061</td>\n",
       "      <td>93.309759</td>\n",
       "    </tr>\n",
       "    <tr>\n",
       "      <th>85</th>\n",
       "      <td>42.222222</td>\n",
       "      <td>111.454795</td>\n",
       "      <td>93.309759</td>\n",
       "    </tr>\n",
       "    <tr>\n",
       "      <th>86</th>\n",
       "      <td>42.777778</td>\n",
       "      <td>98.678366</td>\n",
       "      <td>93.309759</td>\n",
       "    </tr>\n",
       "    <tr>\n",
       "      <th>87</th>\n",
       "      <td>43.333333</td>\n",
       "      <td>139.195786</td>\n",
       "      <td>93.309759</td>\n",
       "    </tr>\n",
       "    <tr>\n",
       "      <th>88</th>\n",
       "      <td>43.888889</td>\n",
       "      <td>125.622229</td>\n",
       "      <td>93.309759</td>\n",
       "    </tr>\n",
       "    <tr>\n",
       "      <th>89</th>\n",
       "      <td>44.444444</td>\n",
       "      <td>134.075710</td>\n",
       "      <td>93.309759</td>\n",
       "    </tr>\n",
       "    <tr>\n",
       "      <th>90</th>\n",
       "      <td>45.000000</td>\n",
       "      <td>152.541256</td>\n",
       "      <td>93.309759</td>\n",
       "    </tr>\n",
       "    <tr>\n",
       "      <th>91</th>\n",
       "      <td>45.555556</td>\n",
       "      <td>125.471216</td>\n",
       "      <td>93.309759</td>\n",
       "    </tr>\n",
       "    <tr>\n",
       "      <th>92</th>\n",
       "      <td>46.111111</td>\n",
       "      <td>148.388838</td>\n",
       "      <td>93.309759</td>\n",
       "    </tr>\n",
       "    <tr>\n",
       "      <th>93</th>\n",
       "      <td>46.666667</td>\n",
       "      <td>173.878419</td>\n",
       "      <td>93.309759</td>\n",
       "    </tr>\n",
       "    <tr>\n",
       "      <th>94</th>\n",
       "      <td>47.222222</td>\n",
       "      <td>132.894199</td>\n",
       "      <td>93.309759</td>\n",
       "    </tr>\n",
       "    <tr>\n",
       "      <th>95</th>\n",
       "      <td>47.777778</td>\n",
       "      <td>145.320202</td>\n",
       "      <td>93.309759</td>\n",
       "    </tr>\n",
       "    <tr>\n",
       "      <th>96</th>\n",
       "      <td>48.333333</td>\n",
       "      <td>151.336609</td>\n",
       "      <td>93.309759</td>\n",
       "    </tr>\n",
       "    <tr>\n",
       "      <th>97</th>\n",
       "      <td>48.888889</td>\n",
       "      <td>119.128931</td>\n",
       "      <td>93.309759</td>\n",
       "    </tr>\n",
       "    <tr>\n",
       "      <th>98</th>\n",
       "      <td>49.444444</td>\n",
       "      <td>118.652628</td>\n",
       "      <td>93.309759</td>\n",
       "    </tr>\n",
       "    <tr>\n",
       "      <th>99</th>\n",
       "      <td>50.000000</td>\n",
       "      <td>186.883073</td>\n",
       "      <td>93.309759</td>\n",
       "    </tr>\n",
       "  </tbody>\n",
       "</table>\n",
       "<p>100 rows × 3 columns</p>\n",
       "</div>"
      ],
      "text/plain": [
       "            X           Y  Mean_Yhat\n",
       "0   -5.000000   37.010811  93.309759\n",
       "1   -4.444444   81.019120  93.309759\n",
       "2   -3.888889   51.487541  93.309759\n",
       "3   -3.333333   14.675192  93.309759\n",
       "4   -2.777778   28.858296  93.309759\n",
       "5   -2.222222   47.911464  93.309759\n",
       "6   -1.666667   30.810915  93.309759\n",
       "7   -1.111111   56.156079  93.309759\n",
       "8   -0.555556   -9.797429  93.309759\n",
       "9    0.000000   48.967001  93.309759\n",
       "10   0.555556   54.479309  93.309759\n",
       "11   1.111111   14.485411  93.309759\n",
       "12   1.666667   54.762805  93.309759\n",
       "13   2.222222   64.489934  93.309759\n",
       "14   2.777778   62.617467  93.309759\n",
       "15   3.333333   38.868860  93.309759\n",
       "16   3.888889   42.126572  93.309759\n",
       "17   4.444444   55.299351  93.309759\n",
       "18   5.000000   86.125258  93.309759\n",
       "19   5.555556   76.754772  93.309759\n",
       "20   6.111111   38.487004  93.309759\n",
       "21   6.666667   56.547257  93.309759\n",
       "22   7.222222   69.061913  93.309759\n",
       "23   7.777778   78.587095  93.309759\n",
       "24   8.333333   50.229128  93.309759\n",
       "25   8.888889   69.715083  93.309759\n",
       "26   9.444444   85.532876  93.309759\n",
       "27  10.000000   54.729693  93.309759\n",
       "28  10.555556   63.482849  93.309759\n",
       "29  11.111111   70.930696  93.309759\n",
       "..        ...         ...        ...\n",
       "70  33.888889   80.304091  93.309759\n",
       "71  34.444444  115.259185  93.309759\n",
       "72  35.000000  132.707275  93.309759\n",
       "73  35.555556  133.998643  93.309759\n",
       "74  36.111111  110.496262  93.309759\n",
       "75  36.666667  147.670639  93.309759\n",
       "76  37.222222  152.725370  93.309759\n",
       "77  37.777778  133.051343  93.309759\n",
       "78  38.333333  152.922918  93.309759\n",
       "79  38.888889  102.530078  93.309759\n",
       "80  39.444444  151.904198  93.309759\n",
       "81  40.000000  124.810747  93.309759\n",
       "82  40.555556  113.053434  93.309759\n",
       "83  41.111111  105.701726  93.309759\n",
       "84  41.666667  147.000061  93.309759\n",
       "85  42.222222  111.454795  93.309759\n",
       "86  42.777778   98.678366  93.309759\n",
       "87  43.333333  139.195786  93.309759\n",
       "88  43.888889  125.622229  93.309759\n",
       "89  44.444444  134.075710  93.309759\n",
       "90  45.000000  152.541256  93.309759\n",
       "91  45.555556  125.471216  93.309759\n",
       "92  46.111111  148.388838  93.309759\n",
       "93  46.666667  173.878419  93.309759\n",
       "94  47.222222  132.894199  93.309759\n",
       "95  47.777778  145.320202  93.309759\n",
       "96  48.333333  151.336609  93.309759\n",
       "97  48.888889  119.128931  93.309759\n",
       "98  49.444444  118.652628  93.309759\n",
       "99  50.000000  186.883073  93.309759\n",
       "\n",
       "[100 rows x 3 columns]"
      ]
     },
     "execution_count": 8,
     "metadata": {},
     "output_type": "execute_result"
    }
   ],
   "source": [
    "df['Mean_Yhat'] = df['Y'].mean()\n",
    "df"
   ]
  },
  {
   "cell_type": "markdown",
   "metadata": {
    "slideshow": {
     "slide_type": "slide"
    }
   },
   "source": [
    "## How can we calculate our prediction error?"
   ]
  },
  {
   "cell_type": "markdown",
   "metadata": {
    "slideshow": {
     "slide_type": "fragment"
    }
   },
   "source": [
    "<img src=\"https://snag.gy/9R57Or.jpg\">"
   ]
  },
  {
   "cell_type": "markdown",
   "metadata": {
    "slideshow": {
     "slide_type": "slide"
    }
   },
   "source": [
    "## For each x value there is the actual y and our predicted y"
   ]
  },
  {
   "cell_type": "markdown",
   "metadata": {
    "slideshow": {
     "slide_type": "-"
    }
   },
   "source": [
    "<img src=\"http://i.imgur.com/Qs9MwV9.jpg\" width=500>"
   ]
  },
  {
   "cell_type": "markdown",
   "metadata": {
    "slideshow": {
     "slide_type": "slide"
    }
   },
   "source": [
    "<img src=\"http://i.imgur.com/JYi1PBp.jpg\">"
   ]
  },
  {
   "cell_type": "markdown",
   "metadata": {
    "slideshow": {
     "slide_type": "slide"
    }
   },
   "source": [
    "# Let's calculate the MSE"
   ]
  },
  {
   "cell_type": "code",
   "execution_count": 9,
   "metadata": {
    "collapsed": false,
    "slideshow": {
     "slide_type": "-"
    }
   },
   "outputs": [
    {
     "data": {
      "text/html": [
       "<div>\n",
       "<table border=\"1\" class=\"dataframe\">\n",
       "  <thead>\n",
       "    <tr style=\"text-align: right;\">\n",
       "      <th></th>\n",
       "      <th>X</th>\n",
       "      <th>Y</th>\n",
       "      <th>Mean_Yhat</th>\n",
       "    </tr>\n",
       "  </thead>\n",
       "  <tbody>\n",
       "    <tr>\n",
       "      <th>0</th>\n",
       "      <td>-5.000000</td>\n",
       "      <td>37.010811</td>\n",
       "      <td>93.309759</td>\n",
       "    </tr>\n",
       "    <tr>\n",
       "      <th>1</th>\n",
       "      <td>-4.444444</td>\n",
       "      <td>81.019120</td>\n",
       "      <td>93.309759</td>\n",
       "    </tr>\n",
       "    <tr>\n",
       "      <th>2</th>\n",
       "      <td>-3.888889</td>\n",
       "      <td>51.487541</td>\n",
       "      <td>93.309759</td>\n",
       "    </tr>\n",
       "  </tbody>\n",
       "</table>\n",
       "</div>"
      ],
      "text/plain": [
       "          X          Y  Mean_Yhat\n",
       "0 -5.000000  37.010811  93.309759\n",
       "1 -4.444444  81.019120  93.309759\n",
       "2 -3.888889  51.487541  93.309759"
      ]
     },
     "execution_count": 9,
     "metadata": {},
     "output_type": "execute_result"
    }
   ],
   "source": [
    "df.head(3)"
   ]
  },
  {
   "cell_type": "code",
   "execution_count": 11,
   "metadata": {
    "collapsed": false,
    "slideshow": {
     "slide_type": "-"
    }
   },
   "outputs": [
    {
     "data": {
      "text/plain": [
       "1517.9230016196525"
      ]
     },
     "execution_count": 11,
     "metadata": {},
     "output_type": "execute_result"
    }
   ],
   "source": [
    "df['Mean_Yhat_SE'] = np.square(df['Y'] - df['Mean_Yhat'])\n",
    "df['Mean_Yhat_SE'].mean()"
   ]
  },
  {
   "cell_type": "markdown",
   "metadata": {
    "slideshow": {
     "slide_type": "slide"
    }
   },
   "source": [
    "## We can confirm this by using scikit-learn's mean_squared_error()"
   ]
  },
  {
   "cell_type": "code",
   "execution_count": 12,
   "metadata": {
    "collapsed": false,
    "slideshow": {
     "slide_type": "-"
    }
   },
   "outputs": [
    {
     "data": {
      "text/plain": [
       "1517.9230016196527"
      ]
     },
     "execution_count": 12,
     "metadata": {},
     "output_type": "execute_result"
    }
   ],
   "source": [
    "from sklearn.metrics import mean_squared_error\n",
    "mse = mean_squared_error(df['Y'], df['Mean_Yhat'])\n",
    "mse"
   ]
  },
  {
   "cell_type": "markdown",
   "metadata": {
    "slideshow": {
     "slide_type": "slide"
    }
   },
   "source": [
    "## How could we improve upon our original naive model?"
   ]
  },
  {
   "cell_type": "markdown",
   "metadata": {
    "slideshow": {
     "slide_type": "fragment"
    }
   },
   "source": [
    "Let y be a function of x\n",
    "\n",
    "$y = mx + b$\n",
    "<br>\n",
    "or\n",
    "<br>\n",
    "$y = \\beta_0 + \\beta_1x_1$\n",
    "\n",
    "So, we just need to find the parameters to plug in here that give us the smallest SSE."
   ]
  },
  {
   "cell_type": "markdown",
   "metadata": {
    "slideshow": {
     "slide_type": "slide"
    }
   },
   "source": [
    "## We saw how to do this in this morning's lecture"
   ]
  },
  {
   "cell_type": "markdown",
   "metadata": {
    "slideshow": {
     "slide_type": "-"
    }
   },
   "source": [
    "<img src=\"https://upload.wikimedia.org/math/e/e/d/eed68731d1230938d457c576deee1bcf.png\">"
   ]
  },
  {
   "cell_type": "markdown",
   "metadata": {
    "slideshow": {
     "slide_type": "slide"
    }
   },
   "source": [
    "## Exercise\n",
    "\n",
    "Use the function we created in the earlier lecture, but this time have it return the MSE.\n",
    "This time pass in the x and y values. Hint: use zip().\n",
    "\n",
    "```python\n",
    "\n",
    "def min_sse(my_list):\n",
    "    \n",
    "    xy_bar = pd.Series([x*y for x,y in my_list]).mean()\n",
    "    x_bar = pd.Series([x[0] for x in my_list]).mean()\n",
    "    y_bar = pd.Series([x[1] for x in my_list]).mean()\n",
    "    x_sq_bar = pd.Series([x[0]**2 for x in my_list]).mean()\n",
    "    x_bar_sq = x_bar**2\n",
    "    \n",
    "    m = (xy_bar - x_bar * y_bar)/(x_sq_bar - x_bar_sq)\n",
    "    a = y_bar - m*x_bar\n",
    "    \n",
    "    return m, a\n",
    "    \n",
    "    \n",
    "    \n",
    "m, a = min_sse([[-1, 0], [1, 3], [2, 4], [3, 7], [4, 10]] )\n",
    "```"
   ]
  },
  {
   "cell_type": "code",
   "execution_count": 13,
   "metadata": {
    "collapsed": false,
    "slideshow": {
     "slide_type": "slide"
    }
   },
   "outputs": [
    {
     "name": "stdout",
     "output_type": "stream",
     "text": [
      "2.07921568231 46.527405862 406.116021223\n"
     ]
    }
   ],
   "source": [
    "# solution\n",
    "def min_sse(my_list):\n",
    "    \n",
    "    xy_bar = pd.Series([x*y for x,y in my_list]).mean()\n",
    "    x_bar = pd.Series([x[0] for x in my_list]).mean()\n",
    "    y_bar = pd.Series([x[1] for x in my_list]).mean()\n",
    "    x_sq_bar = pd.Series([x[0]**2 for x in my_list]).mean()\n",
    "    x_bar_sq = x_bar**2\n",
    "    \n",
    "    m = (xy_bar - x_bar * y_bar)/(x_sq_bar - x_bar_sq)\n",
    "    a = y_bar - m*x_bar\n",
    "    \n",
    "    y_hats = []\n",
    "    y_true = []\n",
    "    for x,y in my_list:\n",
    "        y_hat = a + m*x\n",
    "        y_hats.append(y_hat)\n",
    "        y_true.append(y)\n",
    "    \n",
    "    mse = np.mean([np.square(yt-yh) for yt,yh in zip(y_true, y_hats)])\n",
    "    \n",
    "    return m, a, mse\n",
    "    \n",
    "    \n",
    "    \n",
    "m, a, mse = min_sse(zip(x,y))\n",
    "\n",
    "print m, a, mse"
   ]
  },
  {
   "cell_type": "markdown",
   "metadata": {
    "slideshow": {
     "slide_type": "slide"
    }
   },
   "source": [
    "## Simple Linear Regression with Statsmodels"
   ]
  },
  {
   "cell_type": "markdown",
   "metadata": {
    "slideshow": {
     "slide_type": "-"
    }
   },
   "source": [
    "[Documentation](http://statsmodels.sourceforge.net/)"
   ]
  },
  {
   "cell_type": "markdown",
   "metadata": {
    "slideshow": {
     "slide_type": "-"
    }
   },
   "source": [
    "<img src=\"http://i.imgur.com/ap0fSjo.png\" width=600>"
   ]
  },
  {
   "cell_type": "markdown",
   "metadata": {
    "slideshow": {
     "slide_type": "slide"
    }
   },
   "source": [
    "## Let's run our model"
   ]
  },
  {
   "cell_type": "code",
   "execution_count": 14,
   "metadata": {
    "collapsed": false,
    "slideshow": {
     "slide_type": "-"
    }
   },
   "outputs": [
    {
     "name": "stdout",
     "output_type": "stream",
     "text": [
      "                            OLS Regression Results                            \n",
      "==============================================================================\n",
      "Dep. Variable:                      y   R-squared:                       0.732\n",
      "Model:                            OLS   Adj. R-squared:                  0.730\n",
      "Method:                 Least Squares   F-statistic:                     268.3\n",
      "Date:                Mon, 06 Feb 2017   Prob (F-statistic):           8.20e-30\n",
      "Time:                        14:33:20   Log-Likelihood:                -442.23\n",
      "No. Observations:                 100   AIC:                             888.5\n",
      "Df Residuals:                      98   BIC:                             893.7\n",
      "Df Model:                           1                                         \n",
      "Covariance Type:            nonrobust                                         \n",
      "==============================================================================\n",
      "                 coef    std err          t      P>|t|      [95.0% Conf. Int.]\n",
      "------------------------------------------------------------------------------\n",
      "const         46.5274      3.507     13.266      0.000        39.567    53.488\n",
      "x1             2.0792      0.127     16.380      0.000         1.827     2.331\n",
      "==============================================================================\n",
      "Omnibus:                        2.371   Durbin-Watson:                   1.980\n",
      "Prob(Omnibus):                  0.306   Jarque-Bera (JB):                2.379\n",
      "Skew:                          -0.335   Prob(JB):                        0.304\n",
      "Kurtosis:                       2.649   Cond. No.                         47.6\n",
      "==============================================================================\n",
      "\n",
      "Warnings:\n",
      "[1] Standard Errors assume that the covariance matrix of the errors is correctly specified.\n"
     ]
    }
   ],
   "source": [
    "import statsmodels.api as sm\n",
    "\n",
    "# need to add an intercept in sm\n",
    "X = sm.add_constant(x)\n",
    "\n",
    "# fit the model\n",
    "model = sm.OLS(y, X)\n",
    "results = model.fit()\n",
    "print(results.summary())"
   ]
  },
  {
   "cell_type": "markdown",
   "metadata": {
    "slideshow": {
     "slide_type": "slide"
    }
   },
   "source": [
    "## How to get the y_hat for each x"
   ]
  },
  {
   "cell_type": "code",
   "execution_count": 15,
   "metadata": {
    "collapsed": false,
    "slideshow": {
     "slide_type": "-"
    }
   },
   "outputs": [
    {
     "data": {
      "text/plain": [
       "array([  36.13132745,   37.28644727,   38.4415671 ,   39.59668692,\n",
       "         40.75180674,   41.90692657,   43.06204639,   44.21716621,\n",
       "         45.37228604,   46.52740586,   47.68252569,   48.83764551,\n",
       "         49.99276533,   51.14788516,   52.30300498,   53.4581248 ,\n",
       "         54.61324463,   55.76836445,   56.92348427,   58.0786041 ,\n",
       "         59.23372392,   60.38884374,   61.54396357,   62.69908339,\n",
       "         63.85420321,   65.00932304,   66.16444286,   67.31956269,\n",
       "         68.47468251,   69.62980233,   70.78492216,   71.94004198,\n",
       "         73.0951618 ,   74.25028163,   75.40540145,   76.56052127,\n",
       "         77.7156411 ,   78.87076092,   80.02588074,   81.18100057,\n",
       "         82.33612039,   83.49124021,   84.64636004,   85.80147986,\n",
       "         86.95659968,   88.11171951,   89.26683933,   90.42195916,\n",
       "         91.57707898,   92.7321988 ,   93.88731863,   95.04243845,\n",
       "         96.19755827,   97.3526781 ,   98.50779792,   99.66291774,\n",
       "        100.81803757,  101.97315739,  103.12827721,  104.28339704,\n",
       "        105.43851686,  106.59363668,  107.74875651,  108.90387633,\n",
       "        110.05899615,  111.21411598,  112.3692358 ,  113.52435563,\n",
       "        114.67947545,  115.83459527,  116.9897151 ,  118.14483492,\n",
       "        119.29995474,  120.45507457,  121.61019439,  122.76531421,\n",
       "        123.92043404,  125.07555386,  126.23067368,  127.38579351,\n",
       "        128.54091333,  129.69603315,  130.85115298,  132.0062728 ,\n",
       "        133.16139262,  134.31651245,  135.47163227,  136.6267521 ,\n",
       "        137.78187192,  138.93699174,  140.09211157,  141.24723139,\n",
       "        142.40235121,  143.55747104,  144.71259086,  145.86771068,\n",
       "        147.02283051,  148.17795033,  149.33307015,  150.48818998])"
      ]
     },
     "execution_count": 15,
     "metadata": {},
     "output_type": "execute_result"
    }
   ],
   "source": [
    "results.predict(X)"
   ]
  },
  {
   "cell_type": "markdown",
   "metadata": {
    "slideshow": {
     "slide_type": "slide"
    }
   },
   "source": [
    "## Let's put that in our DataFrame"
   ]
  },
  {
   "cell_type": "code",
   "execution_count": 16,
   "metadata": {
    "collapsed": false,
    "scrolled": true,
    "slideshow": {
     "slide_type": "-"
    }
   },
   "outputs": [
    {
     "data": {
      "text/html": [
       "<div>\n",
       "<table border=\"1\" class=\"dataframe\">\n",
       "  <thead>\n",
       "    <tr style=\"text-align: right;\">\n",
       "      <th></th>\n",
       "      <th>X</th>\n",
       "      <th>Y</th>\n",
       "      <th>Mean_Yhat</th>\n",
       "      <th>Mean_Yhat_SE</th>\n",
       "      <th>OLS_Yhat</th>\n",
       "    </tr>\n",
       "  </thead>\n",
       "  <tbody>\n",
       "    <tr>\n",
       "      <th>0</th>\n",
       "      <td>-5.000000</td>\n",
       "      <td>37.010811</td>\n",
       "      <td>93.309759</td>\n",
       "      <td>3169.571504</td>\n",
       "      <td>36.131327</td>\n",
       "    </tr>\n",
       "    <tr>\n",
       "      <th>1</th>\n",
       "      <td>-4.444444</td>\n",
       "      <td>81.019120</td>\n",
       "      <td>93.309759</td>\n",
       "      <td>151.059788</td>\n",
       "      <td>37.286447</td>\n",
       "    </tr>\n",
       "    <tr>\n",
       "      <th>2</th>\n",
       "      <td>-3.888889</td>\n",
       "      <td>51.487541</td>\n",
       "      <td>93.309759</td>\n",
       "      <td>1749.097920</td>\n",
       "      <td>38.441567</td>\n",
       "    </tr>\n",
       "    <tr>\n",
       "      <th>3</th>\n",
       "      <td>-3.333333</td>\n",
       "      <td>14.675192</td>\n",
       "      <td>93.309759</td>\n",
       "      <td>6183.395112</td>\n",
       "      <td>39.596687</td>\n",
       "    </tr>\n",
       "    <tr>\n",
       "      <th>4</th>\n",
       "      <td>-2.777778</td>\n",
       "      <td>28.858296</td>\n",
       "      <td>93.309759</td>\n",
       "      <td>4153.991029</td>\n",
       "      <td>40.751807</td>\n",
       "    </tr>\n",
       "    <tr>\n",
       "      <th>5</th>\n",
       "      <td>-2.222222</td>\n",
       "      <td>47.911464</td>\n",
       "      <td>93.309759</td>\n",
       "      <td>2061.005170</td>\n",
       "      <td>41.906927</td>\n",
       "    </tr>\n",
       "    <tr>\n",
       "      <th>6</th>\n",
       "      <td>-1.666667</td>\n",
       "      <td>30.810915</td>\n",
       "      <td>93.309759</td>\n",
       "      <td>3906.105511</td>\n",
       "      <td>43.062046</td>\n",
       "    </tr>\n",
       "    <tr>\n",
       "      <th>7</th>\n",
       "      <td>-1.111111</td>\n",
       "      <td>56.156079</td>\n",
       "      <td>93.309759</td>\n",
       "      <td>1380.395894</td>\n",
       "      <td>44.217166</td>\n",
       "    </tr>\n",
       "    <tr>\n",
       "      <th>8</th>\n",
       "      <td>-0.555556</td>\n",
       "      <td>-9.797429</td>\n",
       "      <td>93.309759</td>\n",
       "      <td>10631.092208</td>\n",
       "      <td>45.372286</td>\n",
       "    </tr>\n",
       "    <tr>\n",
       "      <th>9</th>\n",
       "      <td>0.000000</td>\n",
       "      <td>48.967001</td>\n",
       "      <td>93.309759</td>\n",
       "      <td>1966.280192</td>\n",
       "      <td>46.527406</td>\n",
       "    </tr>\n",
       "    <tr>\n",
       "      <th>10</th>\n",
       "      <td>0.555556</td>\n",
       "      <td>54.479309</td>\n",
       "      <td>93.309759</td>\n",
       "      <td>1507.803797</td>\n",
       "      <td>47.682526</td>\n",
       "    </tr>\n",
       "    <tr>\n",
       "      <th>11</th>\n",
       "      <td>1.111111</td>\n",
       "      <td>14.485411</td>\n",
       "      <td>93.309759</td>\n",
       "      <td>6213.277794</td>\n",
       "      <td>48.837646</td>\n",
       "    </tr>\n",
       "    <tr>\n",
       "      <th>12</th>\n",
       "      <td>1.666667</td>\n",
       "      <td>54.762805</td>\n",
       "      <td>93.309759</td>\n",
       "      <td>1485.867649</td>\n",
       "      <td>49.992765</td>\n",
       "    </tr>\n",
       "    <tr>\n",
       "      <th>13</th>\n",
       "      <td>2.222222</td>\n",
       "      <td>64.489934</td>\n",
       "      <td>93.309759</td>\n",
       "      <td>830.582307</td>\n",
       "      <td>51.147885</td>\n",
       "    </tr>\n",
       "    <tr>\n",
       "      <th>14</th>\n",
       "      <td>2.777778</td>\n",
       "      <td>62.617467</td>\n",
       "      <td>93.309759</td>\n",
       "      <td>942.016791</td>\n",
       "      <td>52.303005</td>\n",
       "    </tr>\n",
       "    <tr>\n",
       "      <th>15</th>\n",
       "      <td>3.333333</td>\n",
       "      <td>38.868860</td>\n",
       "      <td>93.309759</td>\n",
       "      <td>2963.811472</td>\n",
       "      <td>53.458125</td>\n",
       "    </tr>\n",
       "    <tr>\n",
       "      <th>16</th>\n",
       "      <td>3.888889</td>\n",
       "      <td>42.126572</td>\n",
       "      <td>93.309759</td>\n",
       "      <td>2619.718636</td>\n",
       "      <td>54.613245</td>\n",
       "    </tr>\n",
       "    <tr>\n",
       "      <th>17</th>\n",
       "      <td>4.444444</td>\n",
       "      <td>55.299351</td>\n",
       "      <td>93.309759</td>\n",
       "      <td>1444.791086</td>\n",
       "      <td>55.768364</td>\n",
       "    </tr>\n",
       "    <tr>\n",
       "      <th>18</th>\n",
       "      <td>5.000000</td>\n",
       "      <td>86.125258</td>\n",
       "      <td>93.309759</td>\n",
       "      <td>51.617044</td>\n",
       "      <td>56.923484</td>\n",
       "    </tr>\n",
       "    <tr>\n",
       "      <th>19</th>\n",
       "      <td>5.555556</td>\n",
       "      <td>76.754772</td>\n",
       "      <td>93.309759</td>\n",
       "      <td>274.067585</td>\n",
       "      <td>58.078604</td>\n",
       "    </tr>\n",
       "    <tr>\n",
       "      <th>20</th>\n",
       "      <td>6.111111</td>\n",
       "      <td>38.487004</td>\n",
       "      <td>93.309759</td>\n",
       "      <td>3005.534477</td>\n",
       "      <td>59.233724</td>\n",
       "    </tr>\n",
       "    <tr>\n",
       "      <th>21</th>\n",
       "      <td>6.666667</td>\n",
       "      <td>56.547257</td>\n",
       "      <td>93.309759</td>\n",
       "      <td>1351.481561</td>\n",
       "      <td>60.388844</td>\n",
       "    </tr>\n",
       "    <tr>\n",
       "      <th>22</th>\n",
       "      <td>7.222222</td>\n",
       "      <td>69.061913</td>\n",
       "      <td>93.309759</td>\n",
       "      <td>587.958013</td>\n",
       "      <td>61.543964</td>\n",
       "    </tr>\n",
       "    <tr>\n",
       "      <th>23</th>\n",
       "      <td>7.777778</td>\n",
       "      <td>78.587095</td>\n",
       "      <td>93.309759</td>\n",
       "      <td>216.756832</td>\n",
       "      <td>62.699083</td>\n",
       "    </tr>\n",
       "    <tr>\n",
       "      <th>24</th>\n",
       "      <td>8.333333</td>\n",
       "      <td>50.229128</td>\n",
       "      <td>93.309759</td>\n",
       "      <td>1855.940718</td>\n",
       "      <td>63.854203</td>\n",
       "    </tr>\n",
       "    <tr>\n",
       "      <th>25</th>\n",
       "      <td>8.888889</td>\n",
       "      <td>69.715083</td>\n",
       "      <td>93.309759</td>\n",
       "      <td>556.708742</td>\n",
       "      <td>65.009323</td>\n",
       "    </tr>\n",
       "    <tr>\n",
       "      <th>26</th>\n",
       "      <td>9.444444</td>\n",
       "      <td>85.532876</td>\n",
       "      <td>93.309759</td>\n",
       "      <td>60.479904</td>\n",
       "      <td>66.164443</td>\n",
       "    </tr>\n",
       "    <tr>\n",
       "      <th>27</th>\n",
       "      <td>10.000000</td>\n",
       "      <td>54.729693</td>\n",
       "      <td>93.309759</td>\n",
       "      <td>1488.421446</td>\n",
       "      <td>67.319563</td>\n",
       "    </tr>\n",
       "    <tr>\n",
       "      <th>28</th>\n",
       "      <td>10.555556</td>\n",
       "      <td>63.482849</td>\n",
       "      <td>93.309759</td>\n",
       "      <td>889.644532</td>\n",
       "      <td>68.474683</td>\n",
       "    </tr>\n",
       "    <tr>\n",
       "      <th>29</th>\n",
       "      <td>11.111111</td>\n",
       "      <td>70.930696</td>\n",
       "      <td>93.309759</td>\n",
       "      <td>500.822470</td>\n",
       "      <td>69.629802</td>\n",
       "    </tr>\n",
       "    <tr>\n",
       "      <th>...</th>\n",
       "      <td>...</td>\n",
       "      <td>...</td>\n",
       "      <td>...</td>\n",
       "      <td>...</td>\n",
       "      <td>...</td>\n",
       "    </tr>\n",
       "    <tr>\n",
       "      <th>70</th>\n",
       "      <td>33.888889</td>\n",
       "      <td>80.304091</td>\n",
       "      <td>93.309759</td>\n",
       "      <td>169.147402</td>\n",
       "      <td>116.989715</td>\n",
       "    </tr>\n",
       "    <tr>\n",
       "      <th>71</th>\n",
       "      <td>34.444444</td>\n",
       "      <td>115.259185</td>\n",
       "      <td>93.309759</td>\n",
       "      <td>481.777322</td>\n",
       "      <td>118.144835</td>\n",
       "    </tr>\n",
       "    <tr>\n",
       "      <th>72</th>\n",
       "      <td>35.000000</td>\n",
       "      <td>132.707275</td>\n",
       "      <td>93.309759</td>\n",
       "      <td>1552.164317</td>\n",
       "      <td>119.299955</td>\n",
       "    </tr>\n",
       "    <tr>\n",
       "      <th>73</th>\n",
       "      <td>35.555556</td>\n",
       "      <td>133.998643</td>\n",
       "      <td>93.309759</td>\n",
       "      <td>1655.585335</td>\n",
       "      <td>120.455075</td>\n",
       "    </tr>\n",
       "    <tr>\n",
       "      <th>74</th>\n",
       "      <td>36.111111</td>\n",
       "      <td>110.496262</td>\n",
       "      <td>93.309759</td>\n",
       "      <td>295.375903</td>\n",
       "      <td>121.610194</td>\n",
       "    </tr>\n",
       "    <tr>\n",
       "      <th>75</th>\n",
       "      <td>36.666667</td>\n",
       "      <td>147.670639</td>\n",
       "      <td>93.309759</td>\n",
       "      <td>2955.105261</td>\n",
       "      <td>122.765314</td>\n",
       "    </tr>\n",
       "    <tr>\n",
       "      <th>76</th>\n",
       "      <td>37.222222</td>\n",
       "      <td>152.725370</td>\n",
       "      <td>93.309759</td>\n",
       "      <td>3530.214826</td>\n",
       "      <td>123.920434</td>\n",
       "    </tr>\n",
       "    <tr>\n",
       "      <th>77</th>\n",
       "      <td>37.777778</td>\n",
       "      <td>133.051343</td>\n",
       "      <td>93.309759</td>\n",
       "      <td>1579.393508</td>\n",
       "      <td>125.075554</td>\n",
       "    </tr>\n",
       "    <tr>\n",
       "      <th>78</th>\n",
       "      <td>38.333333</td>\n",
       "      <td>152.922918</td>\n",
       "      <td>93.309759</td>\n",
       "      <td>3553.728770</td>\n",
       "      <td>126.230674</td>\n",
       "    </tr>\n",
       "    <tr>\n",
       "      <th>79</th>\n",
       "      <td>38.888889</td>\n",
       "      <td>102.530078</td>\n",
       "      <td>93.309759</td>\n",
       "      <td>85.014284</td>\n",
       "      <td>127.385794</td>\n",
       "    </tr>\n",
       "    <tr>\n",
       "      <th>80</th>\n",
       "      <td>39.444444</td>\n",
       "      <td>151.904198</td>\n",
       "      <td>93.309759</td>\n",
       "      <td>3433.308323</td>\n",
       "      <td>128.540913</td>\n",
       "    </tr>\n",
       "    <tr>\n",
       "      <th>81</th>\n",
       "      <td>40.000000</td>\n",
       "      <td>124.810747</td>\n",
       "      <td>93.309759</td>\n",
       "      <td>992.312246</td>\n",
       "      <td>129.696033</td>\n",
       "    </tr>\n",
       "    <tr>\n",
       "      <th>82</th>\n",
       "      <td>40.555556</td>\n",
       "      <td>113.053434</td>\n",
       "      <td>93.309759</td>\n",
       "      <td>389.812731</td>\n",
       "      <td>130.851153</td>\n",
       "    </tr>\n",
       "    <tr>\n",
       "      <th>83</th>\n",
       "      <td>41.111111</td>\n",
       "      <td>105.701726</td>\n",
       "      <td>93.309759</td>\n",
       "      <td>153.560860</td>\n",
       "      <td>132.006273</td>\n",
       "    </tr>\n",
       "    <tr>\n",
       "      <th>84</th>\n",
       "      <td>41.666667</td>\n",
       "      <td>147.000061</td>\n",
       "      <td>93.309759</td>\n",
       "      <td>2882.648508</td>\n",
       "      <td>133.161393</td>\n",
       "    </tr>\n",
       "    <tr>\n",
       "      <th>85</th>\n",
       "      <td>42.222222</td>\n",
       "      <td>111.454795</td>\n",
       "      <td>93.309759</td>\n",
       "      <td>329.242342</td>\n",
       "      <td>134.316512</td>\n",
       "    </tr>\n",
       "    <tr>\n",
       "      <th>86</th>\n",
       "      <td>42.777778</td>\n",
       "      <td>98.678366</td>\n",
       "      <td>93.309759</td>\n",
       "      <td>28.821942</td>\n",
       "      <td>135.471632</td>\n",
       "    </tr>\n",
       "    <tr>\n",
       "      <th>87</th>\n",
       "      <td>43.333333</td>\n",
       "      <td>139.195786</td>\n",
       "      <td>93.309759</td>\n",
       "      <td>2105.527499</td>\n",
       "      <td>136.626752</td>\n",
       "    </tr>\n",
       "    <tr>\n",
       "      <th>88</th>\n",
       "      <td>43.888889</td>\n",
       "      <td>125.622229</td>\n",
       "      <td>93.309759</td>\n",
       "      <td>1044.095758</td>\n",
       "      <td>137.781872</td>\n",
       "    </tr>\n",
       "    <tr>\n",
       "      <th>89</th>\n",
       "      <td>44.444444</td>\n",
       "      <td>134.075710</td>\n",
       "      <td>93.309759</td>\n",
       "      <td>1661.862806</td>\n",
       "      <td>138.936992</td>\n",
       "    </tr>\n",
       "    <tr>\n",
       "      <th>90</th>\n",
       "      <td>45.000000</td>\n",
       "      <td>152.541256</td>\n",
       "      <td>93.309759</td>\n",
       "      <td>3508.370271</td>\n",
       "      <td>140.092112</td>\n",
       "    </tr>\n",
       "    <tr>\n",
       "      <th>91</th>\n",
       "      <td>45.555556</td>\n",
       "      <td>125.471216</td>\n",
       "      <td>93.309759</td>\n",
       "      <td>1034.359303</td>\n",
       "      <td>141.247231</td>\n",
       "    </tr>\n",
       "    <tr>\n",
       "      <th>92</th>\n",
       "      <td>46.111111</td>\n",
       "      <td>148.388838</td>\n",
       "      <td>93.309759</td>\n",
       "      <td>3033.704978</td>\n",
       "      <td>142.402351</td>\n",
       "    </tr>\n",
       "    <tr>\n",
       "      <th>93</th>\n",
       "      <td>46.666667</td>\n",
       "      <td>173.878419</td>\n",
       "      <td>93.309759</td>\n",
       "      <td>6491.308984</td>\n",
       "      <td>143.557471</td>\n",
       "    </tr>\n",
       "    <tr>\n",
       "      <th>94</th>\n",
       "      <td>47.222222</td>\n",
       "      <td>132.894199</td>\n",
       "      <td>93.309759</td>\n",
       "      <td>1566.927926</td>\n",
       "      <td>144.712591</td>\n",
       "    </tr>\n",
       "    <tr>\n",
       "      <th>95</th>\n",
       "      <td>47.777778</td>\n",
       "      <td>145.320202</td>\n",
       "      <td>93.309759</td>\n",
       "      <td>2705.086225</td>\n",
       "      <td>145.867711</td>\n",
       "    </tr>\n",
       "    <tr>\n",
       "      <th>96</th>\n",
       "      <td>48.333333</td>\n",
       "      <td>151.336609</td>\n",
       "      <td>93.309759</td>\n",
       "      <td>3367.115380</td>\n",
       "      <td>147.022831</td>\n",
       "    </tr>\n",
       "    <tr>\n",
       "      <th>97</th>\n",
       "      <td>48.888889</td>\n",
       "      <td>119.128931</td>\n",
       "      <td>93.309759</td>\n",
       "      <td>666.629665</td>\n",
       "      <td>148.177950</td>\n",
       "    </tr>\n",
       "    <tr>\n",
       "      <th>98</th>\n",
       "      <td>49.444444</td>\n",
       "      <td>118.652628</td>\n",
       "      <td>93.309759</td>\n",
       "      <td>642.261027</td>\n",
       "      <td>149.333070</td>\n",
       "    </tr>\n",
       "    <tr>\n",
       "      <th>99</th>\n",
       "      <td>50.000000</td>\n",
       "      <td>186.883073</td>\n",
       "      <td>93.309759</td>\n",
       "      <td>8755.965106</td>\n",
       "      <td>150.488190</td>\n",
       "    </tr>\n",
       "  </tbody>\n",
       "</table>\n",
       "<p>100 rows × 5 columns</p>\n",
       "</div>"
      ],
      "text/plain": [
       "            X           Y  Mean_Yhat  Mean_Yhat_SE    OLS_Yhat\n",
       "0   -5.000000   37.010811  93.309759   3169.571504   36.131327\n",
       "1   -4.444444   81.019120  93.309759    151.059788   37.286447\n",
       "2   -3.888889   51.487541  93.309759   1749.097920   38.441567\n",
       "3   -3.333333   14.675192  93.309759   6183.395112   39.596687\n",
       "4   -2.777778   28.858296  93.309759   4153.991029   40.751807\n",
       "5   -2.222222   47.911464  93.309759   2061.005170   41.906927\n",
       "6   -1.666667   30.810915  93.309759   3906.105511   43.062046\n",
       "7   -1.111111   56.156079  93.309759   1380.395894   44.217166\n",
       "8   -0.555556   -9.797429  93.309759  10631.092208   45.372286\n",
       "9    0.000000   48.967001  93.309759   1966.280192   46.527406\n",
       "10   0.555556   54.479309  93.309759   1507.803797   47.682526\n",
       "11   1.111111   14.485411  93.309759   6213.277794   48.837646\n",
       "12   1.666667   54.762805  93.309759   1485.867649   49.992765\n",
       "13   2.222222   64.489934  93.309759    830.582307   51.147885\n",
       "14   2.777778   62.617467  93.309759    942.016791   52.303005\n",
       "15   3.333333   38.868860  93.309759   2963.811472   53.458125\n",
       "16   3.888889   42.126572  93.309759   2619.718636   54.613245\n",
       "17   4.444444   55.299351  93.309759   1444.791086   55.768364\n",
       "18   5.000000   86.125258  93.309759     51.617044   56.923484\n",
       "19   5.555556   76.754772  93.309759    274.067585   58.078604\n",
       "20   6.111111   38.487004  93.309759   3005.534477   59.233724\n",
       "21   6.666667   56.547257  93.309759   1351.481561   60.388844\n",
       "22   7.222222   69.061913  93.309759    587.958013   61.543964\n",
       "23   7.777778   78.587095  93.309759    216.756832   62.699083\n",
       "24   8.333333   50.229128  93.309759   1855.940718   63.854203\n",
       "25   8.888889   69.715083  93.309759    556.708742   65.009323\n",
       "26   9.444444   85.532876  93.309759     60.479904   66.164443\n",
       "27  10.000000   54.729693  93.309759   1488.421446   67.319563\n",
       "28  10.555556   63.482849  93.309759    889.644532   68.474683\n",
       "29  11.111111   70.930696  93.309759    500.822470   69.629802\n",
       "..        ...         ...        ...           ...         ...\n",
       "70  33.888889   80.304091  93.309759    169.147402  116.989715\n",
       "71  34.444444  115.259185  93.309759    481.777322  118.144835\n",
       "72  35.000000  132.707275  93.309759   1552.164317  119.299955\n",
       "73  35.555556  133.998643  93.309759   1655.585335  120.455075\n",
       "74  36.111111  110.496262  93.309759    295.375903  121.610194\n",
       "75  36.666667  147.670639  93.309759   2955.105261  122.765314\n",
       "76  37.222222  152.725370  93.309759   3530.214826  123.920434\n",
       "77  37.777778  133.051343  93.309759   1579.393508  125.075554\n",
       "78  38.333333  152.922918  93.309759   3553.728770  126.230674\n",
       "79  38.888889  102.530078  93.309759     85.014284  127.385794\n",
       "80  39.444444  151.904198  93.309759   3433.308323  128.540913\n",
       "81  40.000000  124.810747  93.309759    992.312246  129.696033\n",
       "82  40.555556  113.053434  93.309759    389.812731  130.851153\n",
       "83  41.111111  105.701726  93.309759    153.560860  132.006273\n",
       "84  41.666667  147.000061  93.309759   2882.648508  133.161393\n",
       "85  42.222222  111.454795  93.309759    329.242342  134.316512\n",
       "86  42.777778   98.678366  93.309759     28.821942  135.471632\n",
       "87  43.333333  139.195786  93.309759   2105.527499  136.626752\n",
       "88  43.888889  125.622229  93.309759   1044.095758  137.781872\n",
       "89  44.444444  134.075710  93.309759   1661.862806  138.936992\n",
       "90  45.000000  152.541256  93.309759   3508.370271  140.092112\n",
       "91  45.555556  125.471216  93.309759   1034.359303  141.247231\n",
       "92  46.111111  148.388838  93.309759   3033.704978  142.402351\n",
       "93  46.666667  173.878419  93.309759   6491.308984  143.557471\n",
       "94  47.222222  132.894199  93.309759   1566.927926  144.712591\n",
       "95  47.777778  145.320202  93.309759   2705.086225  145.867711\n",
       "96  48.333333  151.336609  93.309759   3367.115380  147.022831\n",
       "97  48.888889  119.128931  93.309759    666.629665  148.177950\n",
       "98  49.444444  118.652628  93.309759    642.261027  149.333070\n",
       "99  50.000000  186.883073  93.309759   8755.965106  150.488190\n",
       "\n",
       "[100 rows x 5 columns]"
      ]
     },
     "execution_count": 16,
     "metadata": {},
     "output_type": "execute_result"
    }
   ],
   "source": [
    "df['OLS_Yhat'] = results.predict(X)\n",
    "df"
   ]
  },
  {
   "cell_type": "markdown",
   "metadata": {
    "slideshow": {
     "slide_type": "slide"
    }
   },
   "source": [
    "## Again, let's calculate our MSE"
   ]
  },
  {
   "cell_type": "code",
   "execution_count": 17,
   "metadata": {
    "collapsed": false,
    "slideshow": {
     "slide_type": "-"
    }
   },
   "outputs": [
    {
     "data": {
      "text/plain": [
       "406.1160212225836"
      ]
     },
     "execution_count": 17,
     "metadata": {},
     "output_type": "execute_result"
    }
   ],
   "source": [
    "df['OLS_Yhat_MSE'] = np.square(df['OLS_Yhat'] - df['Y'])\n",
    "df['OLS_Yhat_MSE'].mean()"
   ]
  },
  {
   "cell_type": "code",
   "execution_count": 18,
   "metadata": {
    "collapsed": false,
    "slideshow": {
     "slide_type": "-"
    }
   },
   "outputs": [
    {
     "data": {
      "text/plain": [
       "406.11602122258358"
      ]
     },
     "execution_count": 18,
     "metadata": {},
     "output_type": "execute_result"
    }
   ],
   "source": [
    "mse = mean_squared_error(df['Y'], df['OLS_Yhat'])\n",
    "mse"
   ]
  },
  {
   "cell_type": "code",
   "execution_count": 19,
   "metadata": {
    "collapsed": false,
    "scrolled": true,
    "slideshow": {
     "slide_type": "slide"
    }
   },
   "outputs": [
    {
     "data": {
      "text/html": [
       "<div>\n",
       "<table border=\"1\" class=\"dataframe\">\n",
       "  <thead>\n",
       "    <tr style=\"text-align: right;\">\n",
       "      <th></th>\n",
       "      <th>X</th>\n",
       "      <th>Y</th>\n",
       "      <th>Mean_Yhat</th>\n",
       "      <th>Mean_Yhat_SE</th>\n",
       "      <th>OLS_Yhat</th>\n",
       "      <th>OLS_Yhat_MSE</th>\n",
       "    </tr>\n",
       "  </thead>\n",
       "  <tbody>\n",
       "    <tr>\n",
       "      <th>0</th>\n",
       "      <td>-5.000000</td>\n",
       "      <td>37.010811</td>\n",
       "      <td>93.309759</td>\n",
       "      <td>3169.571504</td>\n",
       "      <td>36.131327</td>\n",
       "      <td>0.773491</td>\n",
       "    </tr>\n",
       "    <tr>\n",
       "      <th>1</th>\n",
       "      <td>-4.444444</td>\n",
       "      <td>81.019120</td>\n",
       "      <td>93.309759</td>\n",
       "      <td>151.059788</td>\n",
       "      <td>37.286447</td>\n",
       "      <td>1912.546705</td>\n",
       "    </tr>\n",
       "    <tr>\n",
       "      <th>2</th>\n",
       "      <td>-3.888889</td>\n",
       "      <td>51.487541</td>\n",
       "      <td>93.309759</td>\n",
       "      <td>1749.097920</td>\n",
       "      <td>38.441567</td>\n",
       "      <td>170.197427</td>\n",
       "    </tr>\n",
       "    <tr>\n",
       "      <th>3</th>\n",
       "      <td>-3.333333</td>\n",
       "      <td>14.675192</td>\n",
       "      <td>93.309759</td>\n",
       "      <td>6183.395112</td>\n",
       "      <td>39.596687</td>\n",
       "      <td>621.080919</td>\n",
       "    </tr>\n",
       "    <tr>\n",
       "      <th>4</th>\n",
       "      <td>-2.777778</td>\n",
       "      <td>28.858296</td>\n",
       "      <td>93.309759</td>\n",
       "      <td>4153.991029</td>\n",
       "      <td>40.751807</td>\n",
       "      <td>141.455595</td>\n",
       "    </tr>\n",
       "    <tr>\n",
       "      <th>5</th>\n",
       "      <td>-2.222222</td>\n",
       "      <td>47.911464</td>\n",
       "      <td>93.309759</td>\n",
       "      <td>2061.005170</td>\n",
       "      <td>41.906927</td>\n",
       "      <td>36.054469</td>\n",
       "    </tr>\n",
       "    <tr>\n",
       "      <th>6</th>\n",
       "      <td>-1.666667</td>\n",
       "      <td>30.810915</td>\n",
       "      <td>93.309759</td>\n",
       "      <td>3906.105511</td>\n",
       "      <td>43.062046</td>\n",
       "      <td>150.090229</td>\n",
       "    </tr>\n",
       "    <tr>\n",
       "      <th>7</th>\n",
       "      <td>-1.111111</td>\n",
       "      <td>56.156079</td>\n",
       "      <td>93.309759</td>\n",
       "      <td>1380.395894</td>\n",
       "      <td>44.217166</td>\n",
       "      <td>142.537646</td>\n",
       "    </tr>\n",
       "    <tr>\n",
       "      <th>8</th>\n",
       "      <td>-0.555556</td>\n",
       "      <td>-9.797429</td>\n",
       "      <td>93.309759</td>\n",
       "      <td>10631.092208</td>\n",
       "      <td>45.372286</td>\n",
       "      <td>3043.697484</td>\n",
       "    </tr>\n",
       "    <tr>\n",
       "      <th>9</th>\n",
       "      <td>0.000000</td>\n",
       "      <td>48.967001</td>\n",
       "      <td>93.309759</td>\n",
       "      <td>1966.280192</td>\n",
       "      <td>46.527406</td>\n",
       "      <td>5.951623</td>\n",
       "    </tr>\n",
       "    <tr>\n",
       "      <th>10</th>\n",
       "      <td>0.555556</td>\n",
       "      <td>54.479309</td>\n",
       "      <td>93.309759</td>\n",
       "      <td>1507.803797</td>\n",
       "      <td>47.682526</td>\n",
       "      <td>46.196268</td>\n",
       "    </tr>\n",
       "    <tr>\n",
       "      <th>11</th>\n",
       "      <td>1.111111</td>\n",
       "      <td>14.485411</td>\n",
       "      <td>93.309759</td>\n",
       "      <td>6213.277794</td>\n",
       "      <td>48.837646</td>\n",
       "      <td>1180.076017</td>\n",
       "    </tr>\n",
       "    <tr>\n",
       "      <th>12</th>\n",
       "      <td>1.666667</td>\n",
       "      <td>54.762805</td>\n",
       "      <td>93.309759</td>\n",
       "      <td>1485.867649</td>\n",
       "      <td>49.992765</td>\n",
       "      <td>22.753277</td>\n",
       "    </tr>\n",
       "    <tr>\n",
       "      <th>13</th>\n",
       "      <td>2.222222</td>\n",
       "      <td>64.489934</td>\n",
       "      <td>93.309759</td>\n",
       "      <td>830.582307</td>\n",
       "      <td>51.147885</td>\n",
       "      <td>178.010263</td>\n",
       "    </tr>\n",
       "    <tr>\n",
       "      <th>14</th>\n",
       "      <td>2.777778</td>\n",
       "      <td>62.617467</td>\n",
       "      <td>93.309759</td>\n",
       "      <td>942.016791</td>\n",
       "      <td>52.303005</td>\n",
       "      <td>106.388120</td>\n",
       "    </tr>\n",
       "    <tr>\n",
       "      <th>15</th>\n",
       "      <td>3.333333</td>\n",
       "      <td>38.868860</td>\n",
       "      <td>93.309759</td>\n",
       "      <td>2963.811472</td>\n",
       "      <td>53.458125</td>\n",
       "      <td>212.846653</td>\n",
       "    </tr>\n",
       "    <tr>\n",
       "      <th>16</th>\n",
       "      <td>3.888889</td>\n",
       "      <td>42.126572</td>\n",
       "      <td>93.309759</td>\n",
       "      <td>2619.718636</td>\n",
       "      <td>54.613245</td>\n",
       "      <td>155.917002</td>\n",
       "    </tr>\n",
       "    <tr>\n",
       "      <th>17</th>\n",
       "      <td>4.444444</td>\n",
       "      <td>55.299351</td>\n",
       "      <td>93.309759</td>\n",
       "      <td>1444.791086</td>\n",
       "      <td>55.768364</td>\n",
       "      <td>0.219974</td>\n",
       "    </tr>\n",
       "    <tr>\n",
       "      <th>18</th>\n",
       "      <td>5.000000</td>\n",
       "      <td>86.125258</td>\n",
       "      <td>93.309759</td>\n",
       "      <td>51.617044</td>\n",
       "      <td>56.923484</td>\n",
       "      <td>852.743617</td>\n",
       "    </tr>\n",
       "    <tr>\n",
       "      <th>19</th>\n",
       "      <td>5.555556</td>\n",
       "      <td>76.754772</td>\n",
       "      <td>93.309759</td>\n",
       "      <td>274.067585</td>\n",
       "      <td>58.078604</td>\n",
       "      <td>348.799247</td>\n",
       "    </tr>\n",
       "    <tr>\n",
       "      <th>20</th>\n",
       "      <td>6.111111</td>\n",
       "      <td>38.487004</td>\n",
       "      <td>93.309759</td>\n",
       "      <td>3005.534477</td>\n",
       "      <td>59.233724</td>\n",
       "      <td>430.426403</td>\n",
       "    </tr>\n",
       "    <tr>\n",
       "      <th>21</th>\n",
       "      <td>6.666667</td>\n",
       "      <td>56.547257</td>\n",
       "      <td>93.309759</td>\n",
       "      <td>1351.481561</td>\n",
       "      <td>60.388844</td>\n",
       "      <td>14.757792</td>\n",
       "    </tr>\n",
       "    <tr>\n",
       "      <th>22</th>\n",
       "      <td>7.222222</td>\n",
       "      <td>69.061913</td>\n",
       "      <td>93.309759</td>\n",
       "      <td>587.958013</td>\n",
       "      <td>61.543964</td>\n",
       "      <td>56.519566</td>\n",
       "    </tr>\n",
       "    <tr>\n",
       "      <th>23</th>\n",
       "      <td>7.777778</td>\n",
       "      <td>78.587095</td>\n",
       "      <td>93.309759</td>\n",
       "      <td>216.756832</td>\n",
       "      <td>62.699083</td>\n",
       "      <td>252.428908</td>\n",
       "    </tr>\n",
       "    <tr>\n",
       "      <th>24</th>\n",
       "      <td>8.333333</td>\n",
       "      <td>50.229128</td>\n",
       "      <td>93.309759</td>\n",
       "      <td>1855.940718</td>\n",
       "      <td>63.854203</td>\n",
       "      <td>185.642667</td>\n",
       "    </tr>\n",
       "    <tr>\n",
       "      <th>25</th>\n",
       "      <td>8.888889</td>\n",
       "      <td>69.715083</td>\n",
       "      <td>93.309759</td>\n",
       "      <td>556.708742</td>\n",
       "      <td>65.009323</td>\n",
       "      <td>22.144173</td>\n",
       "    </tr>\n",
       "    <tr>\n",
       "      <th>26</th>\n",
       "      <td>9.444444</td>\n",
       "      <td>85.532876</td>\n",
       "      <td>93.309759</td>\n",
       "      <td>60.479904</td>\n",
       "      <td>66.164443</td>\n",
       "      <td>375.136204</td>\n",
       "    </tr>\n",
       "    <tr>\n",
       "      <th>27</th>\n",
       "      <td>10.000000</td>\n",
       "      <td>54.729693</td>\n",
       "      <td>93.309759</td>\n",
       "      <td>1488.421446</td>\n",
       "      <td>67.319563</td>\n",
       "      <td>158.504811</td>\n",
       "    </tr>\n",
       "    <tr>\n",
       "      <th>28</th>\n",
       "      <td>10.555556</td>\n",
       "      <td>63.482849</td>\n",
       "      <td>93.309759</td>\n",
       "      <td>889.644532</td>\n",
       "      <td>68.474683</td>\n",
       "      <td>24.918400</td>\n",
       "    </tr>\n",
       "    <tr>\n",
       "      <th>29</th>\n",
       "      <td>11.111111</td>\n",
       "      <td>70.930696</td>\n",
       "      <td>93.309759</td>\n",
       "      <td>500.822470</td>\n",
       "      <td>69.629802</td>\n",
       "      <td>1.692323</td>\n",
       "    </tr>\n",
       "    <tr>\n",
       "      <th>...</th>\n",
       "      <td>...</td>\n",
       "      <td>...</td>\n",
       "      <td>...</td>\n",
       "      <td>...</td>\n",
       "      <td>...</td>\n",
       "      <td>...</td>\n",
       "    </tr>\n",
       "    <tr>\n",
       "      <th>70</th>\n",
       "      <td>33.888889</td>\n",
       "      <td>80.304091</td>\n",
       "      <td>93.309759</td>\n",
       "      <td>169.147402</td>\n",
       "      <td>116.989715</td>\n",
       "      <td>1345.835041</td>\n",
       "    </tr>\n",
       "    <tr>\n",
       "      <th>71</th>\n",
       "      <td>34.444444</td>\n",
       "      <td>115.259185</td>\n",
       "      <td>93.309759</td>\n",
       "      <td>481.777322</td>\n",
       "      <td>118.144835</td>\n",
       "      <td>8.326974</td>\n",
       "    </tr>\n",
       "    <tr>\n",
       "      <th>72</th>\n",
       "      <td>35.000000</td>\n",
       "      <td>132.707275</td>\n",
       "      <td>93.309759</td>\n",
       "      <td>1552.164317</td>\n",
       "      <td>119.299955</td>\n",
       "      <td>179.756246</td>\n",
       "    </tr>\n",
       "    <tr>\n",
       "      <th>73</th>\n",
       "      <td>35.555556</td>\n",
       "      <td>133.998643</td>\n",
       "      <td>93.309759</td>\n",
       "      <td>1655.585335</td>\n",
       "      <td>120.455075</td>\n",
       "      <td>183.428256</td>\n",
       "    </tr>\n",
       "    <tr>\n",
       "      <th>74</th>\n",
       "      <td>36.111111</td>\n",
       "      <td>110.496262</td>\n",
       "      <td>93.309759</td>\n",
       "      <td>295.375903</td>\n",
       "      <td>121.610194</td>\n",
       "      <td>123.519488</td>\n",
       "    </tr>\n",
       "    <tr>\n",
       "      <th>75</th>\n",
       "      <td>36.666667</td>\n",
       "      <td>147.670639</td>\n",
       "      <td>93.309759</td>\n",
       "      <td>2955.105261</td>\n",
       "      <td>122.765314</td>\n",
       "      <td>620.275182</td>\n",
       "    </tr>\n",
       "    <tr>\n",
       "      <th>76</th>\n",
       "      <td>37.222222</td>\n",
       "      <td>152.725370</td>\n",
       "      <td>93.309759</td>\n",
       "      <td>3530.214826</td>\n",
       "      <td>123.920434</td>\n",
       "      <td>829.724317</td>\n",
       "    </tr>\n",
       "    <tr>\n",
       "      <th>77</th>\n",
       "      <td>37.777778</td>\n",
       "      <td>133.051343</td>\n",
       "      <td>93.309759</td>\n",
       "      <td>1579.393508</td>\n",
       "      <td>125.075554</td>\n",
       "      <td>63.613210</td>\n",
       "    </tr>\n",
       "    <tr>\n",
       "      <th>78</th>\n",
       "      <td>38.333333</td>\n",
       "      <td>152.922918</td>\n",
       "      <td>93.309759</td>\n",
       "      <td>3553.728770</td>\n",
       "      <td>126.230674</td>\n",
       "      <td>712.475911</td>\n",
       "    </tr>\n",
       "    <tr>\n",
       "      <th>79</th>\n",
       "      <td>38.888889</td>\n",
       "      <td>102.530078</td>\n",
       "      <td>93.309759</td>\n",
       "      <td>85.014284</td>\n",
       "      <td>127.385794</td>\n",
       "      <td>617.806604</td>\n",
       "    </tr>\n",
       "    <tr>\n",
       "      <th>80</th>\n",
       "      <td>39.444444</td>\n",
       "      <td>151.904198</td>\n",
       "      <td>93.309759</td>\n",
       "      <td>3433.308323</td>\n",
       "      <td>128.540913</td>\n",
       "      <td>545.843073</td>\n",
       "    </tr>\n",
       "    <tr>\n",
       "      <th>81</th>\n",
       "      <td>40.000000</td>\n",
       "      <td>124.810747</td>\n",
       "      <td>93.309759</td>\n",
       "      <td>992.312246</td>\n",
       "      <td>129.696033</td>\n",
       "      <td>23.866023</td>\n",
       "    </tr>\n",
       "    <tr>\n",
       "      <th>82</th>\n",
       "      <td>40.555556</td>\n",
       "      <td>113.053434</td>\n",
       "      <td>93.309759</td>\n",
       "      <td>389.812731</td>\n",
       "      <td>130.851153</td>\n",
       "      <td>316.758785</td>\n",
       "    </tr>\n",
       "    <tr>\n",
       "      <th>83</th>\n",
       "      <td>41.111111</td>\n",
       "      <td>105.701726</td>\n",
       "      <td>93.309759</td>\n",
       "      <td>153.560860</td>\n",
       "      <td>132.006273</td>\n",
       "      <td>691.929168</td>\n",
       "    </tr>\n",
       "    <tr>\n",
       "      <th>84</th>\n",
       "      <td>41.666667</td>\n",
       "      <td>147.000061</td>\n",
       "      <td>93.309759</td>\n",
       "      <td>2882.648508</td>\n",
       "      <td>133.161393</td>\n",
       "      <td>191.508729</td>\n",
       "    </tr>\n",
       "    <tr>\n",
       "      <th>85</th>\n",
       "      <td>42.222222</td>\n",
       "      <td>111.454795</td>\n",
       "      <td>93.309759</td>\n",
       "      <td>329.242342</td>\n",
       "      <td>134.316512</td>\n",
       "      <td>522.658124</td>\n",
       "    </tr>\n",
       "    <tr>\n",
       "      <th>86</th>\n",
       "      <td>42.777778</td>\n",
       "      <td>98.678366</td>\n",
       "      <td>93.309759</td>\n",
       "      <td>28.821942</td>\n",
       "      <td>135.471632</td>\n",
       "      <td>1353.744455</td>\n",
       "    </tr>\n",
       "    <tr>\n",
       "      <th>87</th>\n",
       "      <td>43.333333</td>\n",
       "      <td>139.195786</td>\n",
       "      <td>93.309759</td>\n",
       "      <td>2105.527499</td>\n",
       "      <td>136.626752</td>\n",
       "      <td>6.599935</td>\n",
       "    </tr>\n",
       "    <tr>\n",
       "      <th>88</th>\n",
       "      <td>43.888889</td>\n",
       "      <td>125.622229</td>\n",
       "      <td>93.309759</td>\n",
       "      <td>1044.095758</td>\n",
       "      <td>137.781872</td>\n",
       "      <td>147.856907</td>\n",
       "    </tr>\n",
       "    <tr>\n",
       "      <th>89</th>\n",
       "      <td>44.444444</td>\n",
       "      <td>134.075710</td>\n",
       "      <td>93.309759</td>\n",
       "      <td>1661.862806</td>\n",
       "      <td>138.936992</td>\n",
       "      <td>23.632058</td>\n",
       "    </tr>\n",
       "    <tr>\n",
       "      <th>90</th>\n",
       "      <td>45.000000</td>\n",
       "      <td>152.541256</td>\n",
       "      <td>93.309759</td>\n",
       "      <td>3508.370271</td>\n",
       "      <td>140.092112</td>\n",
       "      <td>154.981197</td>\n",
       "    </tr>\n",
       "    <tr>\n",
       "      <th>91</th>\n",
       "      <td>45.555556</td>\n",
       "      <td>125.471216</td>\n",
       "      <td>93.309759</td>\n",
       "      <td>1034.359303</td>\n",
       "      <td>141.247231</td>\n",
       "      <td>248.882677</td>\n",
       "    </tr>\n",
       "    <tr>\n",
       "      <th>92</th>\n",
       "      <td>46.111111</td>\n",
       "      <td>148.388838</td>\n",
       "      <td>93.309759</td>\n",
       "      <td>3033.704978</td>\n",
       "      <td>142.402351</td>\n",
       "      <td>35.838024</td>\n",
       "    </tr>\n",
       "    <tr>\n",
       "      <th>93</th>\n",
       "      <td>46.666667</td>\n",
       "      <td>173.878419</td>\n",
       "      <td>93.309759</td>\n",
       "      <td>6491.308984</td>\n",
       "      <td>143.557471</td>\n",
       "      <td>919.359872</td>\n",
       "    </tr>\n",
       "    <tr>\n",
       "      <th>94</th>\n",
       "      <td>47.222222</td>\n",
       "      <td>132.894199</td>\n",
       "      <td>93.309759</td>\n",
       "      <td>1566.927926</td>\n",
       "      <td>144.712591</td>\n",
       "      <td>139.674382</td>\n",
       "    </tr>\n",
       "    <tr>\n",
       "      <th>95</th>\n",
       "      <td>47.777778</td>\n",
       "      <td>145.320202</td>\n",
       "      <td>93.309759</td>\n",
       "      <td>2705.086225</td>\n",
       "      <td>145.867711</td>\n",
       "      <td>0.299766</td>\n",
       "    </tr>\n",
       "    <tr>\n",
       "      <th>96</th>\n",
       "      <td>48.333333</td>\n",
       "      <td>151.336609</td>\n",
       "      <td>93.309759</td>\n",
       "      <td>3367.115380</td>\n",
       "      <td>147.022831</td>\n",
       "      <td>18.608687</td>\n",
       "    </tr>\n",
       "    <tr>\n",
       "      <th>97</th>\n",
       "      <td>48.888889</td>\n",
       "      <td>119.128931</td>\n",
       "      <td>93.309759</td>\n",
       "      <td>666.629665</td>\n",
       "      <td>148.177950</td>\n",
       "      <td>843.845516</td>\n",
       "    </tr>\n",
       "    <tr>\n",
       "      <th>98</th>\n",
       "      <td>49.444444</td>\n",
       "      <td>118.652628</td>\n",
       "      <td>93.309759</td>\n",
       "      <td>642.261027</td>\n",
       "      <td>149.333070</td>\n",
       "      <td>941.289527</td>\n",
       "    </tr>\n",
       "    <tr>\n",
       "      <th>99</th>\n",
       "      <td>50.000000</td>\n",
       "      <td>186.883073</td>\n",
       "      <td>93.309759</td>\n",
       "      <td>8755.965106</td>\n",
       "      <td>150.488190</td>\n",
       "      <td>1324.587495</td>\n",
       "    </tr>\n",
       "  </tbody>\n",
       "</table>\n",
       "<p>100 rows × 6 columns</p>\n",
       "</div>"
      ],
      "text/plain": [
       "            X           Y  Mean_Yhat  Mean_Yhat_SE    OLS_Yhat  OLS_Yhat_MSE\n",
       "0   -5.000000   37.010811  93.309759   3169.571504   36.131327      0.773491\n",
       "1   -4.444444   81.019120  93.309759    151.059788   37.286447   1912.546705\n",
       "2   -3.888889   51.487541  93.309759   1749.097920   38.441567    170.197427\n",
       "3   -3.333333   14.675192  93.309759   6183.395112   39.596687    621.080919\n",
       "4   -2.777778   28.858296  93.309759   4153.991029   40.751807    141.455595\n",
       "5   -2.222222   47.911464  93.309759   2061.005170   41.906927     36.054469\n",
       "6   -1.666667   30.810915  93.309759   3906.105511   43.062046    150.090229\n",
       "7   -1.111111   56.156079  93.309759   1380.395894   44.217166    142.537646\n",
       "8   -0.555556   -9.797429  93.309759  10631.092208   45.372286   3043.697484\n",
       "9    0.000000   48.967001  93.309759   1966.280192   46.527406      5.951623\n",
       "10   0.555556   54.479309  93.309759   1507.803797   47.682526     46.196268\n",
       "11   1.111111   14.485411  93.309759   6213.277794   48.837646   1180.076017\n",
       "12   1.666667   54.762805  93.309759   1485.867649   49.992765     22.753277\n",
       "13   2.222222   64.489934  93.309759    830.582307   51.147885    178.010263\n",
       "14   2.777778   62.617467  93.309759    942.016791   52.303005    106.388120\n",
       "15   3.333333   38.868860  93.309759   2963.811472   53.458125    212.846653\n",
       "16   3.888889   42.126572  93.309759   2619.718636   54.613245    155.917002\n",
       "17   4.444444   55.299351  93.309759   1444.791086   55.768364      0.219974\n",
       "18   5.000000   86.125258  93.309759     51.617044   56.923484    852.743617\n",
       "19   5.555556   76.754772  93.309759    274.067585   58.078604    348.799247\n",
       "20   6.111111   38.487004  93.309759   3005.534477   59.233724    430.426403\n",
       "21   6.666667   56.547257  93.309759   1351.481561   60.388844     14.757792\n",
       "22   7.222222   69.061913  93.309759    587.958013   61.543964     56.519566\n",
       "23   7.777778   78.587095  93.309759    216.756832   62.699083    252.428908\n",
       "24   8.333333   50.229128  93.309759   1855.940718   63.854203    185.642667\n",
       "25   8.888889   69.715083  93.309759    556.708742   65.009323     22.144173\n",
       "26   9.444444   85.532876  93.309759     60.479904   66.164443    375.136204\n",
       "27  10.000000   54.729693  93.309759   1488.421446   67.319563    158.504811\n",
       "28  10.555556   63.482849  93.309759    889.644532   68.474683     24.918400\n",
       "29  11.111111   70.930696  93.309759    500.822470   69.629802      1.692323\n",
       "..        ...         ...        ...           ...         ...           ...\n",
       "70  33.888889   80.304091  93.309759    169.147402  116.989715   1345.835041\n",
       "71  34.444444  115.259185  93.309759    481.777322  118.144835      8.326974\n",
       "72  35.000000  132.707275  93.309759   1552.164317  119.299955    179.756246\n",
       "73  35.555556  133.998643  93.309759   1655.585335  120.455075    183.428256\n",
       "74  36.111111  110.496262  93.309759    295.375903  121.610194    123.519488\n",
       "75  36.666667  147.670639  93.309759   2955.105261  122.765314    620.275182\n",
       "76  37.222222  152.725370  93.309759   3530.214826  123.920434    829.724317\n",
       "77  37.777778  133.051343  93.309759   1579.393508  125.075554     63.613210\n",
       "78  38.333333  152.922918  93.309759   3553.728770  126.230674    712.475911\n",
       "79  38.888889  102.530078  93.309759     85.014284  127.385794    617.806604\n",
       "80  39.444444  151.904198  93.309759   3433.308323  128.540913    545.843073\n",
       "81  40.000000  124.810747  93.309759    992.312246  129.696033     23.866023\n",
       "82  40.555556  113.053434  93.309759    389.812731  130.851153    316.758785\n",
       "83  41.111111  105.701726  93.309759    153.560860  132.006273    691.929168\n",
       "84  41.666667  147.000061  93.309759   2882.648508  133.161393    191.508729\n",
       "85  42.222222  111.454795  93.309759    329.242342  134.316512    522.658124\n",
       "86  42.777778   98.678366  93.309759     28.821942  135.471632   1353.744455\n",
       "87  43.333333  139.195786  93.309759   2105.527499  136.626752      6.599935\n",
       "88  43.888889  125.622229  93.309759   1044.095758  137.781872    147.856907\n",
       "89  44.444444  134.075710  93.309759   1661.862806  138.936992     23.632058\n",
       "90  45.000000  152.541256  93.309759   3508.370271  140.092112    154.981197\n",
       "91  45.555556  125.471216  93.309759   1034.359303  141.247231    248.882677\n",
       "92  46.111111  148.388838  93.309759   3033.704978  142.402351     35.838024\n",
       "93  46.666667  173.878419  93.309759   6491.308984  143.557471    919.359872\n",
       "94  47.222222  132.894199  93.309759   1566.927926  144.712591    139.674382\n",
       "95  47.777778  145.320202  93.309759   2705.086225  145.867711      0.299766\n",
       "96  48.333333  151.336609  93.309759   3367.115380  147.022831     18.608687\n",
       "97  48.888889  119.128931  93.309759    666.629665  148.177950    843.845516\n",
       "98  49.444444  118.652628  93.309759    642.261027  149.333070    941.289527\n",
       "99  50.000000  186.883073  93.309759   8755.965106  150.488190   1324.587495\n",
       "\n",
       "[100 rows x 6 columns]"
      ]
     },
     "execution_count": 19,
     "metadata": {},
     "output_type": "execute_result"
    }
   ],
   "source": [
    "df"
   ]
  },
  {
   "cell_type": "markdown",
   "metadata": {
    "slideshow": {
     "slide_type": "slide"
    }
   },
   "source": [
    "## We can now plot our line"
   ]
  },
  {
   "cell_type": "code",
   "execution_count": 20,
   "metadata": {
    "collapsed": false,
    "slideshow": {
     "slide_type": "-"
    }
   },
   "outputs": [
    {
     "data": {
      "image/png": "[encoded data removed]",
      "text/plain": [
       "<matplotlib.figure.Figure at 0x114fb5990>"
      ]
     },
     "metadata": {},
     "output_type": "display_data"
    }
   ],
   "source": [
    "# create a figure\n",
    "fig = plt.figure(figsize=(15,7))\n",
    "# get the axis of that figure\n",
    "ax = plt.gca()\n",
    "\n",
    "# plot a scatter plot on it with our data\n",
    "ax.scatter(x, y, c='k')\n",
    "ax.plot(df['X'], df['OLS_Yhat'], color='r');"
   ]
  },
  {
   "cell_type": "markdown",
   "metadata": {
    "slideshow": {
     "slide_type": "slide"
    }
   },
   "source": [
    "## We can also plot our residuals"
   ]
  },
  {
   "cell_type": "code",
   "execution_count": 21,
   "metadata": {
    "collapsed": false,
    "slideshow": {
     "slide_type": "-"
    }
   },
   "outputs": [
    {
     "data": {
      "image/png": "[encoded data removed]",
      "text/plain": [
       "<matplotlib.figure.Figure at 0x115062e90>"
      ]
     },
     "metadata": {},
     "output_type": "display_data"
    }
   ],
   "source": [
    "# create a figure\n",
    "fig = plt.figure(figsize=(15,7))\n",
    "fig.set_figheight(8)\n",
    "fig.set_figwidth(15)\n",
    "\n",
    "# get the axis\n",
    "ax = fig.gca()\n",
    "\n",
    "# plot it\n",
    "ax.scatter(x=df['X'], y=df['Y'], c='k')\n",
    "ax.plot(df['X'], df['OLS_Yhat'], color='k');\n",
    "\n",
    "# iterate over predictions\n",
    "for _, row in df.iterrows():\n",
    "    plt.plot((row['X'], row['X']), (row['Y'], row['OLS_Yhat']), 'r-')"
   ]
  },
  {
   "cell_type": "markdown",
   "metadata": {
    "slideshow": {
     "slide_type": "slide"
    }
   },
   "source": [
    "## How can we get the MSE from the model we created"
   ]
  },
  {
   "cell_type": "code",
   "execution_count": 22,
   "metadata": {
    "collapsed": false,
    "slideshow": {
     "slide_type": "-"
    }
   },
   "outputs": [
    {
     "data": {
      "text/plain": [
       "414.4041032883506"
      ]
     },
     "execution_count": 22,
     "metadata": {},
     "output_type": "execute_result"
    }
   ],
   "source": [
    "results.mse_resid"
   ]
  },
  {
   "cell_type": "markdown",
   "metadata": {
    "slideshow": {
     "slide_type": "slide"
    }
   },
   "source": [
    "## How do we get the betas (model coefficients)?"
   ]
  },
  {
   "cell_type": "code",
   "execution_count": 23,
   "metadata": {
    "collapsed": false,
    "slideshow": {
     "slide_type": "-"
    }
   },
   "outputs": [
    {
     "data": {
      "text/plain": [
       "array([ 46.52740586,   2.07921568])"
      ]
     },
     "execution_count": 23,
     "metadata": {},
     "output_type": "execute_result"
    }
   ],
   "source": [
    "results.params"
   ]
  },
  {
   "cell_type": "markdown",
   "metadata": {
    "slideshow": {
     "slide_type": "-"
    }
   },
   "source": [
    "### Simple linear equation formula\n",
    "$ y = \\beta_0 + \\beta_1X_1$\n",
    "\n",
    "<br>\n",
    "### Plug in the values from our model\n",
    "$ y = 46.53 + 2.08X_1$"
   ]
  },
  {
   "cell_type": "markdown",
   "metadata": {
    "slideshow": {
     "slide_type": "slide"
    }
   },
   "source": [
    "## Plotting the residuals"
   ]
  },
  {
   "cell_type": "code",
   "execution_count": 24,
   "metadata": {
    "collapsed": false,
    "slideshow": {
     "slide_type": "-"
    }
   },
   "outputs": [
    {
     "data": {
      "text/plain": [
       "<matplotlib.collections.PathCollection at 0x115ace090>"
      ]
     },
     "execution_count": 24,
     "metadata": {},
     "output_type": "execute_result"
    },
    {
     "data": {
      "image/png": "[encoded data removed]",
      "text/plain": [
       "<matplotlib.figure.Figure at 0x11531e390>"
      ]
     },
     "metadata": {},
     "output_type": "display_data"
    }
   ],
   "source": [
    "plt.scatter(x, results.resid)"
   ]
  },
  {
   "cell_type": "markdown",
   "metadata": {
    "slideshow": {
     "slide_type": "slide"
    }
   },
   "source": [
    "## Exercise\n",
    "\n",
    "Using stats models do/answer the following:\n",
    "- Fit a model to the dataset (of cricket chirps per min by temperature) given below\n",
    "- What is the equation of the line?\n",
    "- What is the mse?\n",
    "- Plot the data with the fitted line\n",
    "- Plot the residuals - are they normal?"
   ]
  },
  {
   "cell_type": "code",
   "execution_count": 25,
   "metadata": {
    "collapsed": false,
    "slideshow": {
     "slide_type": "slide"
    }
   },
   "outputs": [],
   "source": [
    "chirps = [(20, 88.59999847),\n",
    "(16, 71.59999847),\n",
    "(19.79999924, 93.30000305),\n",
    "(18.39999962, 84.30000305),\n",
    "(17.10000038, 80.59999847),\n",
    "(15.5, 75.19999695),\n",
    "(14.69999981, 69.69999695),\n",
    "(17.10000038, 82),\n",
    "(15.39999962, 69.40000153),\n",
    "(16.20000076, 83.30000305),\n",
    "(15, 79.59999847),\n",
    "(17.20000076, 82.59999847),\n",
    "(16, 80.59999847),\n",
    "(17, 83.5),\n",
    "(14.39999962, 76.30000305)]"
   ]
  },
  {
   "cell_type": "code",
   "execution_count": 26,
   "metadata": {
    "collapsed": false,
    "slideshow": {
     "slide_type": "-"
    }
   },
   "outputs": [],
   "source": [
    "cc = pd.DataFrame(chirps, columns=['x','y'])"
   ]
  },
  {
   "cell_type": "code",
   "execution_count": 27,
   "metadata": {
    "collapsed": false,
    "slideshow": {
     "slide_type": "-"
    }
   },
   "outputs": [
    {
     "data": {
      "text/html": [
       "<div>\n",
       "<table border=\"1\" class=\"dataframe\">\n",
       "  <thead>\n",
       "    <tr style=\"text-align: right;\">\n",
       "      <th></th>\n",
       "      <th>x</th>\n",
       "      <th>y</th>\n",
       "    </tr>\n",
       "  </thead>\n",
       "  <tbody>\n",
       "    <tr>\n",
       "      <th>0</th>\n",
       "      <td>20.000000</td>\n",
       "      <td>88.599998</td>\n",
       "    </tr>\n",
       "    <tr>\n",
       "      <th>1</th>\n",
       "      <td>16.000000</td>\n",
       "      <td>71.599998</td>\n",
       "    </tr>\n",
       "    <tr>\n",
       "      <th>2</th>\n",
       "      <td>19.799999</td>\n",
       "      <td>93.300003</td>\n",
       "    </tr>\n",
       "  </tbody>\n",
       "</table>\n",
       "</div>"
      ],
      "text/plain": [
       "           x          y\n",
       "0  20.000000  88.599998\n",
       "1  16.000000  71.599998\n",
       "2  19.799999  93.300003"
      ]
     },
     "execution_count": 27,
     "metadata": {},
     "output_type": "execute_result"
    }
   ],
   "source": [
    "cc.head(3)"
   ]
  },
  {
   "cell_type": "code",
   "execution_count": 28,
   "metadata": {
    "collapsed": false,
    "slideshow": {
     "slide_type": "slide"
    }
   },
   "outputs": [
    {
     "name": "stdout",
     "output_type": "stream",
     "text": [
      "                            OLS Regression Results                            \n",
      "==============================================================================\n",
      "Dep. Variable:                      y   R-squared:                       0.697\n",
      "Model:                            OLS   Adj. R-squared:                  0.674\n",
      "Method:                 Least Squares   F-statistic:                     29.97\n",
      "Date:                Mon, 06 Feb 2017   Prob (F-statistic):           0.000107\n",
      "Time:                        14:35:43   Log-Likelihood:                -40.348\n",
      "No. Observations:                  15   AIC:                             84.70\n",
      "Df Residuals:                      13   BIC:                             86.11\n",
      "Df Model:                           1                                         \n",
      "Covariance Type:            nonrobust                                         \n",
      "==============================================================================\n",
      "                 coef    std err          t      P>|t|      [95.0% Conf. Int.]\n",
      "------------------------------------------------------------------------------\n",
      "const         25.2323     10.060      2.508      0.026         3.499    46.966\n",
      "x              3.2911      0.601      5.475      0.000         1.992     4.590\n",
      "==============================================================================\n",
      "Omnibus:                        1.003   Durbin-Watson:                   1.818\n",
      "Prob(Omnibus):                  0.606   Jarque-Bera (JB):                0.874\n",
      "Skew:                          -0.391   Prob(JB):                        0.646\n",
      "Kurtosis:                       2.114   Cond. No.                         171.\n",
      "==============================================================================\n",
      "\n",
      "Warnings:\n",
      "[1] Standard Errors assume that the covariance matrix of the errors is correctly specified.\n"
     ]
    },
    {
     "name": "stderr",
     "output_type": "stream",
     "text": [
      "/Users/ac/anaconda/lib/python2.7/site-packages/scipy/stats/stats.py:1327: UserWarning: kurtosistest only valid for n>=20 ... continuing anyway, n=15\n",
      "  \"anyway, n=%i\" % int(n))\n"
     ]
    }
   ],
   "source": [
    "# need to add an intercept in sm\n",
    "X = sm.add_constant(cc['x'])\n",
    "\n",
    "# fit the model\n",
    "model = sm.OLS(cc['y'], X)\n",
    "results = model.fit()\n",
    "print(results.summary())"
   ]
  },
  {
   "cell_type": "code",
   "execution_count": 29,
   "metadata": {
    "collapsed": false,
    "slideshow": {
     "slide_type": "slide"
    }
   },
   "outputs": [
    {
     "data": {
      "text/plain": [
       "14.657491494113152"
      ]
     },
     "execution_count": 29,
     "metadata": {},
     "output_type": "execute_result"
    }
   ],
   "source": [
    "# get the mse of the residuals\n",
    "results.mse_resid"
   ]
  },
  {
   "cell_type": "code",
   "execution_count": 30,
   "metadata": {
    "collapsed": false,
    "slideshow": {
     "slide_type": "slide"
    }
   },
   "outputs": [
    {
     "data": {
      "image/png": "[encoded data removed]",
      "text/plain": [
       "<matplotlib.figure.Figure at 0x115c57a10>"
      ]
     },
     "metadata": {},
     "output_type": "display_data"
    }
   ],
   "source": [
    "# create a figure and plot\n",
    "fig = plt.figure(figsize=(15,7))\n",
    "# get the axis of that figure\n",
    "ax = plt.gca()\n",
    "\n",
    "# plot a scatter plot on it with our data\n",
    "ax.scatter(cc['x'], cc['y'], c='k')\n",
    "ax.plot(cc['x'], results.predict(X), color='r');"
   ]
  },
  {
   "cell_type": "code",
   "execution_count": 31,
   "metadata": {
    "collapsed": false,
    "slideshow": {
     "slide_type": "slide"
    }
   },
   "outputs": [
    {
     "data": {
      "text/plain": [
       "<matplotlib.collections.PathCollection at 0x115f7b810>"
      ]
     },
     "execution_count": 31,
     "metadata": {},
     "output_type": "execute_result"
    },
    {
     "data": {
      "image/png": "[encoded data removed]",
      "text/plain": [
       "<matplotlib.figure.Figure at 0x115d68bd0>"
      ]
     },
     "metadata": {},
     "output_type": "display_data"
    }
   ],
   "source": [
    "# create a figure and plot the resids\n",
    "fig = plt.figure(figsize=(15,7))\n",
    "# get the axis of that figure\n",
    "ax = plt.gca()\n",
    "\n",
    "# plot a scatter plot on it with our data\n",
    "ax.scatter(cc['x'], results.resid, c='k')"
   ]
  },
  {
   "cell_type": "markdown",
   "metadata": {
    "slideshow": {
     "slide_type": "slide"
    }
   },
   "source": [
    "## Assumptions of linear regression\n",
    "\n",
    "- Linear and additive relationship between dependent and independent variables\n",
    "- Statistical independence of errors\n",
    "- Homoskedasticity of errors (constant variance)\n",
    "- Normality of errors (with a mean 0)"
   ]
  },
  {
   "cell_type": "markdown",
   "metadata": {
    "slideshow": {
     "slide_type": "slide"
    }
   },
   "source": [
    "## Let's see a model that violates some of our assumptions"
   ]
  },
  {
   "cell_type": "code",
   "execution_count": 32,
   "metadata": {
    "collapsed": false,
    "slideshow": {
     "slide_type": "-"
    }
   },
   "outputs": [
    {
     "data": {
      "text/plain": [
       "<matplotlib.collections.PathCollection at 0x1163c2a10>"
      ]
     },
     "execution_count": 32,
     "metadata": {},
     "output_type": "execute_result"
    },
    {
     "data": {
      "image/png": "[encoded data removed]",
      "text/plain": [
       "<matplotlib.figure.Figure at 0x115f16cd0>"
      ]
     },
     "metadata": {},
     "output_type": "display_data"
    }
   ],
   "source": [
    "# create an x and a y that is \n",
    "# 50 plus 2 times x with some random noise around that\n",
    "x = np.linspace(-5, 50, 100)\n",
    "y = 50 + x ** 2 + np.random.normal(0, 50, size=len(x))\n",
    "\n",
    "# create a figure\n",
    "fig = plt.figure(figsize=(15,7))\n",
    "# get the axis of that figure\n",
    "ax = plt.gca()\n",
    "\n",
    "# plot a scatter plot on it with our data\n",
    "ax.scatter(x, y)"
   ]
  },
  {
   "cell_type": "markdown",
   "metadata": {
    "slideshow": {
     "slide_type": "slide"
    }
   },
   "source": [
    "## Let's fit a model to that"
   ]
  },
  {
   "cell_type": "code",
   "execution_count": 33,
   "metadata": {
    "collapsed": false,
    "slideshow": {
     "slide_type": "-"
    }
   },
   "outputs": [
    {
     "name": "stdout",
     "output_type": "stream",
     "text": [
      "                            OLS Regression Results                            \n",
      "==============================================================================\n",
      "Dep. Variable:                      y   R-squared:                       0.907\n",
      "Model:                            OLS   Adj. R-squared:                  0.906\n",
      "Method:                 Least Squares   F-statistic:                     957.9\n",
      "Date:                Mon, 06 Feb 2017   Prob (F-statistic):           2.18e-52\n",
      "Time:                        14:36:30   Log-Likelihood:                -686.16\n",
      "No. Observations:                 100   AIC:                             1376.\n",
      "Df Residuals:                      98   BIC:                             1382.\n",
      "Df Model:                           1                                         \n",
      "Covariance Type:            nonrobust                                         \n",
      "==============================================================================\n",
      "                 coef    std err          t      P>|t|      [95.0% Conf. Int.]\n",
      "------------------------------------------------------------------------------\n",
      "const       -201.7250     40.212     -5.017      0.000      -281.525  -121.925\n",
      "x1            45.0427      1.455     30.949      0.000        42.155    47.931\n",
      "==============================================================================\n",
      "Omnibus:                        9.910   Durbin-Watson:                   0.093\n",
      "Prob(Omnibus):                  0.007   Jarque-Bera (JB):                8.383\n",
      "Skew:                           0.617   Prob(JB):                       0.0151\n",
      "Kurtosis:                       2.301   Cond. No.                         47.6\n",
      "==============================================================================\n",
      "\n",
      "Warnings:\n",
      "[1] Standard Errors assume that the covariance matrix of the errors is correctly specified.\n"
     ]
    }
   ],
   "source": [
    "# need to add an intercept in sm\n",
    "X = sm.add_constant(x)\n",
    "\n",
    "# fit the model\n",
    "model = sm.OLS(y, X)\n",
    "results = model.fit()\n",
    "print(results.summary())"
   ]
  },
  {
   "cell_type": "markdown",
   "metadata": {
    "slideshow": {
     "slide_type": "slide"
    }
   },
   "source": [
    "## Let's plot our line"
   ]
  },
  {
   "cell_type": "code",
   "execution_count": 34,
   "metadata": {
    "collapsed": false,
    "slideshow": {
     "slide_type": "-"
    }
   },
   "outputs": [
    {
     "data": {
      "image/png": "[encoded data removed]",
      "text/plain": [
       "<matplotlib.figure.Figure at 0x115f056d0>"
      ]
     },
     "metadata": {},
     "output_type": "display_data"
    }
   ],
   "source": [
    "# create a figure\n",
    "fig = plt.figure(figsize=(15,7))\n",
    "# get the axis of that figure\n",
    "ax = plt.gca()\n",
    "\n",
    "# plot a scatter plot on it with our data\n",
    "ax.scatter(x, y, c='k')\n",
    "ax.plot(x, results.predict(X), color='r');"
   ]
  },
  {
   "cell_type": "markdown",
   "metadata": {
    "slideshow": {
     "slide_type": "slide"
    }
   },
   "source": [
    "## What might the residuals on that look like?"
   ]
  },
  {
   "cell_type": "code",
   "execution_count": 35,
   "metadata": {
    "collapsed": false,
    "slideshow": {
     "slide_type": "-"
    }
   },
   "outputs": [
    {
     "data": {
      "text/plain": [
       "<matplotlib.collections.PathCollection at 0x1166bc290>"
      ]
     },
     "execution_count": 35,
     "metadata": {},
     "output_type": "execute_result"
    },
    {
     "data": {
      "image/png": "[encoded data removed]",
      "text/plain": [
       "<matplotlib.figure.Figure at 0x115ff1810>"
      ]
     },
     "metadata": {},
     "output_type": "display_data"
    }
   ],
   "source": [
    "plt.scatter(x, results.resid)"
   ]
  },
  {
   "cell_type": "markdown",
   "metadata": {
    "slideshow": {
     "slide_type": "slide"
    }
   },
   "source": [
    "## If I make a prediction using this model what will happen?\n",
    "\n",
    "- Under what circumstances will the prediction be way off?"
   ]
  },
  {
   "cell_type": "markdown",
   "metadata": {
    "slideshow": {
     "slide_type": "slide"
    }
   },
   "source": [
    "## Other issues in regression\n",
    "\n",
    "- Multicollineary: When two or more independent variables are highly correlated\n",
    "    - Does not affect predictive accuracy, but can cause model to be interpreted improperly (Check VIF)\n",
    "    - [Read More](http://blog.minitab.com/blog/adventures-in-statistics-2/what-are-the-effects-of-multicollinearity-and-when-can-i-ignore-them)\n",
    "- Heterskedasticity : The variance is not constant\n",
    "    - [Read More](https://en.wikipedia.org/wiki/Heteroscedasticity)\n",
    "    <img src=\"https://static1.squarespace.com/static/4f5694c424aca8d4f8e69194/t/51e9f5d6e4b07ef008368d84/1374287319317/Rplot.income.cone.jpg\" width=300>\n",
    "    \n",
    "[Consequence of LR Assumptions](http://people.duke.edu/~rnau/testing.htm#independence)"
   ]
  },
  {
   "cell_type": "markdown",
   "metadata": {
    "slideshow": {
     "slide_type": "slide"
    }
   },
   "source": [
    "## Transformations"
   ]
  },
  {
   "cell_type": "code",
   "execution_count": 36,
   "metadata": {
    "collapsed": true,
    "slideshow": {
     "slide_type": "-"
    }
   },
   "outputs": [],
   "source": [
    "mammals = pd.read_csv('~/Downloads/msleep.txt')"
   ]
  },
  {
   "cell_type": "code",
   "execution_count": 37,
   "metadata": {
    "collapsed": false,
    "slideshow": {
     "slide_type": "-"
    }
   },
   "outputs": [
    {
     "data": {
      "text/html": [
       "<div>\n",
       "<table border=\"1\" class=\"dataframe\">\n",
       "  <thead>\n",
       "    <tr style=\"text-align: right;\">\n",
       "      <th></th>\n",
       "      <th>name</th>\n",
       "      <th>genus</th>\n",
       "      <th>vore</th>\n",
       "      <th>order</th>\n",
       "      <th>conservation</th>\n",
       "      <th>sleep_total</th>\n",
       "      <th>sleep_rem</th>\n",
       "      <th>sleep_cycle</th>\n",
       "      <th>awake</th>\n",
       "      <th>brainwt</th>\n",
       "      <th>bodywt</th>\n",
       "    </tr>\n",
       "  </thead>\n",
       "  <tbody>\n",
       "    <tr>\n",
       "      <th>0</th>\n",
       "      <td>Cheetah</td>\n",
       "      <td>Acinonyx</td>\n",
       "      <td>carni</td>\n",
       "      <td>Carnivora</td>\n",
       "      <td>lc</td>\n",
       "      <td>12.1</td>\n",
       "      <td>NaN</td>\n",
       "      <td>NaN</td>\n",
       "      <td>11.9</td>\n",
       "      <td>NaN</td>\n",
       "      <td>50.000</td>\n",
       "    </tr>\n",
       "    <tr>\n",
       "      <th>1</th>\n",
       "      <td>Owl monkey</td>\n",
       "      <td>Aotus</td>\n",
       "      <td>omni</td>\n",
       "      <td>Primates</td>\n",
       "      <td>NaN</td>\n",
       "      <td>17.0</td>\n",
       "      <td>1.8</td>\n",
       "      <td>NaN</td>\n",
       "      <td>7.0</td>\n",
       "      <td>0.01550</td>\n",
       "      <td>0.480</td>\n",
       "    </tr>\n",
       "    <tr>\n",
       "      <th>2</th>\n",
       "      <td>Mountain beaver</td>\n",
       "      <td>Aplodontia</td>\n",
       "      <td>herbi</td>\n",
       "      <td>Rodentia</td>\n",
       "      <td>nt</td>\n",
       "      <td>14.4</td>\n",
       "      <td>2.4</td>\n",
       "      <td>NaN</td>\n",
       "      <td>9.6</td>\n",
       "      <td>NaN</td>\n",
       "      <td>1.350</td>\n",
       "    </tr>\n",
       "    <tr>\n",
       "      <th>3</th>\n",
       "      <td>Greater short-tailed shrew</td>\n",
       "      <td>Blarina</td>\n",
       "      <td>omni</td>\n",
       "      <td>Soricomorpha</td>\n",
       "      <td>lc</td>\n",
       "      <td>14.9</td>\n",
       "      <td>2.3</td>\n",
       "      <td>0.133333</td>\n",
       "      <td>9.1</td>\n",
       "      <td>0.00029</td>\n",
       "      <td>0.019</td>\n",
       "    </tr>\n",
       "    <tr>\n",
       "      <th>4</th>\n",
       "      <td>Cow</td>\n",
       "      <td>Bos</td>\n",
       "      <td>herbi</td>\n",
       "      <td>Artiodactyla</td>\n",
       "      <td>domesticated</td>\n",
       "      <td>4.0</td>\n",
       "      <td>0.7</td>\n",
       "      <td>0.666667</td>\n",
       "      <td>20.0</td>\n",
       "      <td>0.42300</td>\n",
       "      <td>600.000</td>\n",
       "    </tr>\n",
       "  </tbody>\n",
       "</table>\n",
       "</div>"
      ],
      "text/plain": [
       "                         name       genus   vore         order  conservation  \\\n",
       "0                     Cheetah    Acinonyx  carni     Carnivora            lc   \n",
       "1                  Owl monkey       Aotus   omni      Primates           NaN   \n",
       "2             Mountain beaver  Aplodontia  herbi      Rodentia            nt   \n",
       "3  Greater short-tailed shrew     Blarina   omni  Soricomorpha            lc   \n",
       "4                         Cow         Bos  herbi  Artiodactyla  domesticated   \n",
       "\n",
       "   sleep_total  sleep_rem  sleep_cycle  awake  brainwt   bodywt  \n",
       "0         12.1        NaN          NaN   11.9      NaN   50.000  \n",
       "1         17.0        1.8          NaN    7.0  0.01550    0.480  \n",
       "2         14.4        2.4          NaN    9.6      NaN    1.350  \n",
       "3         14.9        2.3     0.133333    9.1  0.00029    0.019  \n",
       "4          4.0        0.7     0.666667   20.0  0.42300  600.000  "
      ]
     },
     "execution_count": 37,
     "metadata": {},
     "output_type": "execute_result"
    }
   ],
   "source": [
    "mammals.head()"
   ]
  },
  {
   "cell_type": "code",
   "execution_count": 38,
   "metadata": {
    "collapsed": false,
    "slideshow": {
     "slide_type": "slide"
    }
   },
   "outputs": [
    {
     "name": "stdout",
     "output_type": "stream",
     "text": [
      "<class 'pandas.core.frame.DataFrame'>\n",
      "RangeIndex: 83 entries, 0 to 82\n",
      "Data columns (total 11 columns):\n",
      "name            83 non-null object\n",
      "genus           83 non-null object\n",
      "vore            76 non-null object\n",
      "order           83 non-null object\n",
      "conservation    54 non-null object\n",
      "sleep_total     83 non-null float64\n",
      "sleep_rem       61 non-null float64\n",
      "sleep_cycle     32 non-null float64\n",
      "awake           83 non-null float64\n",
      "brainwt         56 non-null float64\n",
      "bodywt          83 non-null float64\n",
      "dtypes: float64(6), object(5)\n",
      "memory usage: 7.2+ KB\n"
     ]
    }
   ],
   "source": [
    "mammals.info()"
   ]
  },
  {
   "cell_type": "code",
   "execution_count": 39,
   "metadata": {
    "collapsed": false
   },
   "outputs": [],
   "source": [
    "mammals.dropna(subset=['name', 'brainwt', 'bodywt'], inplace=True)"
   ]
  },
  {
   "cell_type": "code",
   "execution_count": 40,
   "metadata": {
    "collapsed": false
   },
   "outputs": [
    {
     "name": "stdout",
     "output_type": "stream",
     "text": [
      "<class 'pandas.core.frame.DataFrame'>\n",
      "Int64Index: 56 entries, 1 to 82\n",
      "Data columns (total 11 columns):\n",
      "name            56 non-null object\n",
      "genus           56 non-null object\n",
      "vore            51 non-null object\n",
      "order           56 non-null object\n",
      "conservation    36 non-null object\n",
      "sleep_total     56 non-null float64\n",
      "sleep_rem       48 non-null float64\n",
      "sleep_cycle     30 non-null float64\n",
      "awake           56 non-null float64\n",
      "brainwt         56 non-null float64\n",
      "bodywt          56 non-null float64\n",
      "dtypes: float64(6), object(5)\n",
      "memory usage: 5.2+ KB\n"
     ]
    }
   ],
   "source": [
    "mammals.info()"
   ]
  },
  {
   "cell_type": "code",
   "execution_count": 41,
   "metadata": {
    "collapsed": true,
    "slideshow": {
     "slide_type": "slide"
    }
   },
   "outputs": [],
   "source": [
    "mammals = mammals[['name', 'bodywt', 'brainwt']].copy()"
   ]
  },
  {
   "cell_type": "code",
   "execution_count": 42,
   "metadata": {
    "collapsed": false,
    "slideshow": {
     "slide_type": "slide"
    }
   },
   "outputs": [
    {
     "data": {
      "text/plain": [
       "<seaborn.axisgrid.FacetGrid at 0x116431410>"
      ]
     },
     "execution_count": 42,
     "metadata": {},
     "output_type": "execute_result"
    },
    {
     "data": {
      "image/png": "[encoded data removed]",
      "text/plain": [
       "<matplotlib.figure.Figure at 0x11660a5d0>"
      ]
     },
     "metadata": {},
     "output_type": "display_data"
    }
   ],
   "source": [
    "import seaborn as sns\n",
    "sns.lmplot('bodywt', 'brainwt', mammals)"
   ]
  },
  {
   "cell_type": "code",
   "execution_count": 43,
   "metadata": {
    "collapsed": false,
    "slideshow": {
     "slide_type": "slide"
    }
   },
   "outputs": [
    {
     "name": "stdout",
     "output_type": "stream",
     "text": [
      "                            OLS Regression Results                            \n",
      "==============================================================================\n",
      "Dep. Variable:                brainwt   R-squared:                       0.872\n",
      "Model:                            OLS   Adj. R-squared:                  0.870\n",
      "Method:                 Least Squares   F-statistic:                     367.7\n",
      "Date:                Mon, 06 Feb 2017   Prob (F-statistic):           9.16e-26\n",
      "Time:                        14:38:43   Log-Likelihood:                -20.070\n",
      "No. Observations:                  56   AIC:                             44.14\n",
      "Df Residuals:                      54   BIC:                             48.19\n",
      "Df Model:                           1                                         \n",
      "Covariance Type:            nonrobust                                         \n",
      "==============================================================================\n",
      "                 coef    std err          t      P>|t|      [95.0% Conf. Int.]\n",
      "------------------------------------------------------------------------------\n",
      "const          0.0859      0.048      1.782      0.080        -0.011     0.183\n",
      "bodywt         0.0010   5.03e-05     19.176      0.000         0.001     0.001\n",
      "==============================================================================\n",
      "Omnibus:                       85.068   Durbin-Watson:                   2.376\n",
      "Prob(Omnibus):                  0.000   Jarque-Bera (JB):             1330.630\n",
      "Skew:                           4.258   Prob(JB):                    1.14e-289\n",
      "Kurtosis:                      25.311   Cond. No.                         981.\n",
      "==============================================================================\n",
      "\n",
      "Warnings:\n",
      "[1] Standard Errors assume that the covariance matrix of the errors is correctly specified.\n"
     ]
    }
   ],
   "source": [
    "# need to add an intercept in sm\n",
    "MX = sm.add_constant(mammals['bodywt'])\n",
    "MY = mammals['brainwt']\n",
    "\n",
    "# fit the model\n",
    "mammal_model = sm.OLS(MY, MX)\n",
    "mammal_results = mammal_model.fit()\n",
    "print(mammal_results.summary())"
   ]
  },
  {
   "cell_type": "markdown",
   "metadata": {
    "slideshow": {
     "slide_type": "slide"
    }
   },
   "source": [
    "## Let's plot our residuals"
   ]
  },
  {
   "cell_type": "code",
   "execution_count": 44,
   "metadata": {
    "collapsed": false,
    "slideshow": {
     "slide_type": "-"
    }
   },
   "outputs": [
    {
     "data": {
      "text/plain": [
       "<matplotlib.collections.PathCollection at 0x116c52d90>"
      ]
     },
     "execution_count": 44,
     "metadata": {},
     "output_type": "execute_result"
    },
    {
     "data": {
      "image/png": "[encoded data removed]",
      "text/plain": [
       "<matplotlib.figure.Figure at 0x115f951d0>"
      ]
     },
     "metadata": {},
     "output_type": "display_data"
    }
   ],
   "source": [
    "plt.scatter(mammals['bodywt'], mammal_results.resid)"
   ]
  },
  {
   "cell_type": "markdown",
   "metadata": {
    "slideshow": {
     "slide_type": "slide"
    }
   },
   "source": [
    "## And let's take a look at our MSE"
   ]
  },
  {
   "cell_type": "code",
   "execution_count": 45,
   "metadata": {
    "collapsed": false,
    "slideshow": {
     "slide_type": "-"
    }
   },
   "outputs": [
    {
     "data": {
      "text/plain": [
       "0.12434232239989523"
      ]
     },
     "execution_count": 45,
     "metadata": {},
     "output_type": "execute_result"
    }
   ],
   "source": [
    "mammal_results.mse_resid"
   ]
  },
  {
   "cell_type": "markdown",
   "metadata": {
    "slideshow": {
     "slide_type": "slide"
    }
   },
   "source": [
    "## Let's try transforming our data by using log/log"
   ]
  },
  {
   "cell_type": "code",
   "execution_count": 46,
   "metadata": {
    "collapsed": false,
    "slideshow": {
     "slide_type": "-"
    }
   },
   "outputs": [
    {
     "data": {
      "text/html": [
       "<div>\n",
       "<table border=\"1\" class=\"dataframe\">\n",
       "  <thead>\n",
       "    <tr style=\"text-align: right;\">\n",
       "      <th></th>\n",
       "      <th>name</th>\n",
       "      <th>bodywt</th>\n",
       "      <th>brainwt</th>\n",
       "      <th>log_bodywt</th>\n",
       "      <th>log_brainwt</th>\n",
       "    </tr>\n",
       "  </thead>\n",
       "  <tbody>\n",
       "    <tr>\n",
       "      <th>1</th>\n",
       "      <td>Owl monkey</td>\n",
       "      <td>0.480</td>\n",
       "      <td>0.01550</td>\n",
       "      <td>-0.318759</td>\n",
       "      <td>-1.809668</td>\n",
       "    </tr>\n",
       "    <tr>\n",
       "      <th>3</th>\n",
       "      <td>Greater short-tailed shrew</td>\n",
       "      <td>0.019</td>\n",
       "      <td>0.00029</td>\n",
       "      <td>-1.721246</td>\n",
       "      <td>-3.537602</td>\n",
       "    </tr>\n",
       "    <tr>\n",
       "      <th>4</th>\n",
       "      <td>Cow</td>\n",
       "      <td>600.000</td>\n",
       "      <td>0.42300</td>\n",
       "      <td>2.778151</td>\n",
       "      <td>-0.373660</td>\n",
       "    </tr>\n",
       "    <tr>\n",
       "      <th>8</th>\n",
       "      <td>Dog</td>\n",
       "      <td>14.000</td>\n",
       "      <td>0.07000</td>\n",
       "      <td>1.146128</td>\n",
       "      <td>-1.154902</td>\n",
       "    </tr>\n",
       "    <tr>\n",
       "      <th>9</th>\n",
       "      <td>Roe deer</td>\n",
       "      <td>14.800</td>\n",
       "      <td>0.09820</td>\n",
       "      <td>1.170262</td>\n",
       "      <td>-1.007889</td>\n",
       "    </tr>\n",
       "  </tbody>\n",
       "</table>\n",
       "</div>"
      ],
      "text/plain": [
       "                         name   bodywt  brainwt  log_bodywt  log_brainwt\n",
       "1                  Owl monkey    0.480  0.01550   -0.318759    -1.809668\n",
       "3  Greater short-tailed shrew    0.019  0.00029   -1.721246    -3.537602\n",
       "4                         Cow  600.000  0.42300    2.778151    -0.373660\n",
       "8                         Dog   14.000  0.07000    1.146128    -1.154902\n",
       "9                    Roe deer   14.800  0.09820    1.170262    -1.007889"
      ]
     },
     "execution_count": 46,
     "metadata": {},
     "output_type": "execute_result"
    }
   ],
   "source": [
    "mammals.loc[:, 'log_bodywt'] = np.log10(mammals['bodywt'])\n",
    "mammals.loc[:, 'log_brainwt'] = np.log10(mammals['brainwt'])\n",
    "mammals.head()"
   ]
  },
  {
   "cell_type": "markdown",
   "metadata": {
    "slideshow": {
     "slide_type": "slide"
    }
   },
   "source": [
    "## We can now plot these"
   ]
  },
  {
   "cell_type": "code",
   "execution_count": 47,
   "metadata": {
    "collapsed": false,
    "slideshow": {
     "slide_type": "-"
    }
   },
   "outputs": [
    {
     "data": {
      "text/plain": [
       "<seaborn.axisgrid.FacetGrid at 0x116c6d710>"
      ]
     },
     "execution_count": 47,
     "metadata": {},
     "output_type": "execute_result"
    },
    {
     "data": {
      "image/png": "[encoded data removed]",
      "text/plain": [
       "<matplotlib.figure.Figure at 0x116c6d590>"
      ]
     },
     "metadata": {},
     "output_type": "display_data"
    }
   ],
   "source": [
    "sns.lmplot('log_bodywt', 'log_brainwt', mammals)"
   ]
  },
  {
   "cell_type": "markdown",
   "metadata": {
    "slideshow": {
     "slide_type": "slide"
    }
   },
   "source": [
    "## And refit our model"
   ]
  },
  {
   "cell_type": "code",
   "execution_count": 48,
   "metadata": {
    "collapsed": false,
    "slideshow": {
     "slide_type": "-"
    }
   },
   "outputs": [
    {
     "name": "stdout",
     "output_type": "stream",
     "text": [
      "                            OLS Regression Results                            \n",
      "==============================================================================\n",
      "Dep. Variable:            log_brainwt   R-squared:                       0.932\n",
      "Model:                            OLS   Adj. R-squared:                  0.931\n",
      "Method:                 Least Squares   F-statistic:                     738.4\n",
      "Date:                Mon, 06 Feb 2017   Prob (F-statistic):           3.56e-33\n",
      "Time:                        14:41:10   Log-Likelihood:                -8.9817\n",
      "No. Observations:                  56   AIC:                             21.96\n",
      "Df Residuals:                      54   BIC:                             26.01\n",
      "Df Model:                           1                                         \n",
      "Covariance Type:            nonrobust                                         \n",
      "==============================================================================\n",
      "                 coef    std err          t      P>|t|      [95.0% Conf. Int.]\n",
      "------------------------------------------------------------------------------\n",
      "const         -2.0739      0.040    -51.463      0.000        -2.155    -1.993\n",
      "log_bodywt     0.7652      0.028     27.173      0.000         0.709     0.822\n",
      "==============================================================================\n",
      "Omnibus:                        4.775   Durbin-Watson:                   2.240\n",
      "Prob(Omnibus):                  0.092   Jarque-Bera (JB):                4.060\n",
      "Skew:                           0.653   Prob(JB):                        0.131\n",
      "Kurtosis:                       3.193   Cond. No.                         1.59\n",
      "==============================================================================\n",
      "\n",
      "Warnings:\n",
      "[1] Standard Errors assume that the covariance matrix of the errors is correctly specified.\n"
     ]
    }
   ],
   "source": [
    "# need to add an intercept in sm\n",
    "MX = sm.add_constant(mammals['log_bodywt'])\n",
    "MY = mammals['log_brainwt']\n",
    "\n",
    "# fit the model\n",
    "mammal_model = sm.OLS(MY, MX)\n",
    "mammal_results = mammal_model.fit()\n",
    "print(mammal_results.summary())"
   ]
  },
  {
   "cell_type": "markdown",
   "metadata": {
    "slideshow": {
     "slide_type": "slide"
    }
   },
   "source": [
    "## Again, let's see our MSE"
   ]
  },
  {
   "cell_type": "code",
   "execution_count": 49,
   "metadata": {
    "collapsed": false,
    "slideshow": {
     "slide_type": "-"
    }
   },
   "outputs": [
    {
     "data": {
      "text/plain": [
       "0.083681768842796489"
      ]
     },
     "execution_count": 49,
     "metadata": {},
     "output_type": "execute_result"
    }
   ],
   "source": [
    "mammal_results.mse_resid"
   ]
  },
  {
   "cell_type": "markdown",
   "metadata": {
    "slideshow": {
     "slide_type": "slide"
    }
   },
   "source": [
    "## And plotting our residuals"
   ]
  },
  {
   "cell_type": "code",
   "execution_count": 50,
   "metadata": {
    "collapsed": false,
    "slideshow": {
     "slide_type": "-"
    }
   },
   "outputs": [
    {
     "data": {
      "text/plain": [
       "<matplotlib.collections.PathCollection at 0x1155f86d0>"
      ]
     },
     "execution_count": 50,
     "metadata": {},
     "output_type": "execute_result"
    },
    {
     "data": {
      "image/png": "[encoded data removed]",
      "text/plain": [
       "<matplotlib.figure.Figure at 0x116c784d0>"
      ]
     },
     "metadata": {},
     "output_type": "display_data"
    }
   ],
   "source": [
    "plt.scatter(mammals['log_bodywt'], mammal_results.resid)"
   ]
  },
  {
   "cell_type": "markdown",
   "metadata": {
    "slideshow": {
     "slide_type": "slide"
    }
   },
   "source": [
    "## Regression with Scikit-Learn"
   ]
  },
  {
   "cell_type": "markdown",
   "metadata": {
    "slideshow": {
     "slide_type": "-"
    }
   },
   "source": [
    "[Documentation](http://scikit-learn.org/stable/index.html)"
   ]
  },
  {
   "cell_type": "markdown",
   "metadata": {
    "slideshow": {
     "slide_type": "-"
    }
   },
   "source": [
    "<img src=\"http://i.imgur.com/xMmmuxm.png\" width=500>"
   ]
  },
  {
   "cell_type": "markdown",
   "metadata": {
    "slideshow": {
     "slide_type": "slide"
    }
   },
   "source": [
    "## LR documentation\n",
    "\n",
    "<img src=\"http://i.imgur.com/CNojpUU.png\" width=500>"
   ]
  },
  {
   "cell_type": "markdown",
   "metadata": {
    "slideshow": {
     "slide_type": "slide"
    }
   },
   "source": [
    "## Fitting a linear regression in sk-learn"
   ]
  },
  {
   "cell_type": "code",
   "execution_count": 52,
   "metadata": {
    "collapsed": false,
    "slideshow": {
     "slide_type": "-"
    }
   },
   "outputs": [
    {
     "data": {
      "text/plain": [
       "LinearRegression(copy_X=True, fit_intercept=True, n_jobs=1, normalize=False)"
      ]
     },
     "execution_count": 52,
     "metadata": {},
     "output_type": "execute_result"
    }
   ],
   "source": [
    "from sklearn.linear_model import LinearRegression\n",
    "\n",
    "clf = LinearRegression()\n",
    "\n",
    "# sklearn can be picky about the shape of your data\n",
    "X = df['X'].values.reshape(-1, 1)\n",
    "y = df['Y']\n",
    "\n",
    "clf.fit(X, y)"
   ]
  },
  {
   "cell_type": "markdown",
   "metadata": {
    "slideshow": {
     "slide_type": "slide"
    }
   },
   "source": [
    "## Getting our y_hats"
   ]
  },
  {
   "cell_type": "code",
   "execution_count": 53,
   "metadata": {
    "collapsed": false,
    "scrolled": true,
    "slideshow": {
     "slide_type": "-"
    }
   },
   "outputs": [
    {
     "data": {
      "text/plain": [
       "array([  36.13132745,   37.28644727,   38.4415671 ,   39.59668692,\n",
       "         40.75180674,   41.90692657,   43.06204639,   44.21716621,\n",
       "         45.37228604,   46.52740586,   47.68252569,   48.83764551,\n",
       "         49.99276533,   51.14788516,   52.30300498,   53.4581248 ,\n",
       "         54.61324463,   55.76836445,   56.92348427,   58.0786041 ,\n",
       "         59.23372392,   60.38884374,   61.54396357,   62.69908339,\n",
       "         63.85420321,   65.00932304,   66.16444286,   67.31956269,\n",
       "         68.47468251,   69.62980233,   70.78492216,   71.94004198,\n",
       "         73.0951618 ,   74.25028163,   75.40540145,   76.56052127,\n",
       "         77.7156411 ,   78.87076092,   80.02588074,   81.18100057,\n",
       "         82.33612039,   83.49124021,   84.64636004,   85.80147986,\n",
       "         86.95659968,   88.11171951,   89.26683933,   90.42195916,\n",
       "         91.57707898,   92.7321988 ,   93.88731863,   95.04243845,\n",
       "         96.19755827,   97.3526781 ,   98.50779792,   99.66291774,\n",
       "        100.81803757,  101.97315739,  103.12827721,  104.28339704,\n",
       "        105.43851686,  106.59363668,  107.74875651,  108.90387633,\n",
       "        110.05899615,  111.21411598,  112.3692358 ,  113.52435563,\n",
       "        114.67947545,  115.83459527,  116.9897151 ,  118.14483492,\n",
       "        119.29995474,  120.45507457,  121.61019439,  122.76531421,\n",
       "        123.92043404,  125.07555386,  126.23067368,  127.38579351,\n",
       "        128.54091333,  129.69603315,  130.85115298,  132.0062728 ,\n",
       "        133.16139262,  134.31651245,  135.47163227,  136.6267521 ,\n",
       "        137.78187192,  138.93699174,  140.09211157,  141.24723139,\n",
       "        142.40235121,  143.55747104,  144.71259086,  145.86771068,\n",
       "        147.02283051,  148.17795033,  149.33307015,  150.48818998])"
      ]
     },
     "execution_count": 53,
     "metadata": {},
     "output_type": "execute_result"
    }
   ],
   "source": [
    "# get our predictions\n",
    "clf.predict(X)"
   ]
  },
  {
   "cell_type": "markdown",
   "metadata": {
    "slideshow": {
     "slide_type": "slide"
    }
   },
   "source": [
    "## Getting our intercept, betas, and MSE"
   ]
  },
  {
   "cell_type": "code",
   "execution_count": 54,
   "metadata": {
    "collapsed": false,
    "slideshow": {
     "slide_type": "-"
    }
   },
   "outputs": [
    {
     "data": {
      "text/plain": [
       "46.527405861950065"
      ]
     },
     "execution_count": 54,
     "metadata": {},
     "output_type": "execute_result"
    }
   ],
   "source": [
    "# get our intercept\n",
    "clf.intercept_"
   ]
  },
  {
   "cell_type": "code",
   "execution_count": 55,
   "metadata": {
    "collapsed": false,
    "slideshow": {
     "slide_type": "-"
    }
   },
   "outputs": [
    {
     "data": {
      "text/plain": [
       "array([ 2.07921568])"
      ]
     },
     "execution_count": 55,
     "metadata": {},
     "output_type": "execute_result"
    }
   ],
   "source": [
    "# get our coefficients\n",
    "clf.coef_"
   ]
  },
  {
   "cell_type": "code",
   "execution_count": 56,
   "metadata": {
    "collapsed": false,
    "slideshow": {
     "slide_type": "-"
    }
   },
   "outputs": [
    {
     "data": {
      "text/plain": [
       "406.11602122258358"
      ]
     },
     "execution_count": 56,
     "metadata": {},
     "output_type": "execute_result"
    }
   ],
   "source": [
    "# get our mse\n",
    "mean_squared_error(y, clf.predict(X))"
   ]
  },
  {
   "cell_type": "markdown",
   "metadata": {
    "slideshow": {
     "slide_type": "slide"
    }
   },
   "source": [
    "## Exercise\n",
    "\n",
    "Using the cricket data set, rerun the model using sklearn and answer the same questions as in the previous exercise"
   ]
  },
  {
   "cell_type": "markdown",
   "metadata": {
    "slideshow": {
     "slide_type": "slide"
    }
   },
   "source": [
    "## Conclusion"
   ]
  },
  {
   "cell_type": "markdown",
   "metadata": {
    "slideshow": {
     "slide_type": "-"
    }
   },
   "source": [
    "In this lecture, we have discussed the following:\n",
    "- The linear regression model\n",
    "- How to fit a linear regression in both statsmodels and sklearn\n",
    "- The assumptions of ols and the consequences of violating those assumptions\n",
    "- How transformations can be beneficial to modeling"
   ]
  }
 ],
 "metadata": {
  "anaconda-cloud": {},
  "celltoolbar": "Slideshow",
  "kernelspec": {
   "display_name": "Python [conda root]",
   "language": "python",
   "name": "conda-root-py"
  },
  "language_info": {
   "codemirror_mode": {
    "name": "ipython",
    "version": 2
   },
   "file_extension": ".py",
   "mimetype": "text/x-python",
   "name": "python",
   "nbconvert_exporter": "python",
   "pygments_lexer": "ipython2",
   "version": "2.7.12"
  }
 },
 "nbformat": 4,
 "nbformat_minor": 0
}
