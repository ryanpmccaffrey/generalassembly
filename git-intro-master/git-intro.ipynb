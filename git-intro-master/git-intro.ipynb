{
 "cells": [
  {
   "cell_type": "markdown",
   "metadata": {
    "slideshow": {
     "slide_type": "slide"
    }
   },
   "source": [
    "# ![](https://ga-dash.s3.amazonaws.com/production/assets/logo-9f88ae6c9c3871690e33280fcf557f33.png) Intro to Git\n",
    "Week 1 | Lesson 2.1\n"
   ]
  },
  {
   "cell_type": "markdown",
   "metadata": {
    "slideshow": {
     "slide_type": "slide"
    }
   },
   "source": [
    "### LEARNING OBJECTIVES\n",
    "*After this lesson, you will be able to:*\n",
    "- Use the git commands init, add, commit, push, pull, and clone\n",
    "- Distinguish between local and remote repositories\n",
    "- Create, copy, and delete repositories locally, or on Github\n",
    "- Clone remote repositories"
   ]
  },
  {
   "cell_type": "markdown",
   "metadata": {
    "slideshow": {
     "slide_type": "skip"
    }
   },
   "source": [
    "### STUDENT PRE-WORK\n",
    "*Before this lesson, you should already be able to:*\n",
    "\n",
    "- Install git\n",
    "- Setup a GitHub account\n",
    "- Setup [SSH key](https://help.github.com/articles/generating-a-new-ssh-key-and-adding-it-to-the-ssh-agent/)\n",
    "\n"
   ]
  },
  {
   "cell_type": "markdown",
   "metadata": {
    "slideshow": {
     "slide_type": "slide"
    }
   },
   "source": [
    "![](./assets/images/xkcd_git.png)"
   ]
  },
  {
   "cell_type": "markdown",
   "metadata": {
    "slideshow": {
     "slide_type": "slide"
    }
   },
   "source": [
    "<a name=\"introduction\"></a>\n",
    "## Version Control - Intro (20 mins)\n",
    "<br>\n",
    "We'll start here:\n",
    "#### Git vs GitHub vs GitHub Enterprise"
   ]
  },
  {
   "cell_type": "markdown",
   "metadata": {
    "slideshow": {
     "slide_type": "slide"
    }
   },
   "source": [
    "#### What is Git?\n",
    "\n",
    "[Git](https://git-scm.com/) is:\n",
    "\n",
    "- A program you run from the command line. (You may need to install it yourself with `brew install git`)\n",
    "- A version control system. "
   ]
  },
  {
   "cell_type": "markdown",
   "metadata": {
    "slideshow": {
     "slide_type": "slide"
    }
   },
   "source": [
    "Characteristics of Git:\n",
    "- **Open Source**: This means free and available for anyone to adapt to their own needs\n",
    "- **Distributed**: This meands that in Git, every developer's working copy of the code is also a repository that can contain the full history of all changes.\n",
    "- **Additive**: This means (nearly) all changes to the code are recorded such that users can always \"go back\" to prior versions. Git doesn't overwrite things (generally)."
   ]
  },
  {
   "cell_type": "markdown",
   "metadata": {
    "slideshow": {
     "slide_type": "slide"
    }
   },
   "source": [
    "Why use Git?: \n",
    "Programmers use Git so that they can keep the history of all the changes to their code. This means that they can rollback changes (or switch to older versions) as far back into time as they started using Git on their project.\n",
    "\n",
    "How is Git organized?:\n",
    "A codebase in Git is referred to as a **repository**, or **repo**, for short.\n",
    "\n",
    "Who created Git?:\n",
    "Git was created by [Linus Torvalds](https://en.wikipedia.org/wiki/Linus_Torvalds), the principal developer of Linux."
   ]
  },
  {
   "cell_type": "markdown",
   "metadata": {
    "slideshow": {
     "slide_type": "slide"
    }
   },
   "source": [
    "## Walkthrough: Creating a repo\n",
    "\n",
    "1. Using the terminal, create a folder on your desktop called `dumdum`\n",
    "2. `cd` into this `dumdum` folder\n",
    "3. type `ls -a` to see the hidden files. Anything there?\n",
    "4. Now, we are going to make this folder into a Git repo: type `git init`\n",
    "5. Now, type `ls -a` again. Anything different?\n",
    "6. Go ahead and add a readme.md file by typing `echo blah blah >> readme.md`\n",
    "7. Type `ls` to see that your file is there\n",
    "8. Now, type `git status`. You should see that you have a file that is \"untracked\"\n",
    "9. Let's now stage this file using ```git add readme.md```   (we could have also used ```git add .``` )\n",
    "10. Let's now commit this file using the following: `git commit -m \"added a readme\"`"
   ]
  },
  {
   "cell_type": "markdown",
   "metadata": {
    "slideshow": {
     "slide_type": "slide"
    }
   },
   "source": [
    "## Exercise: Adding another file\n",
    "\n",
    "Now it's your turn:\n",
    "- Using the `touch` command, create a blank file in this repo called test_file\n",
    "- You'll will need to add it and commit it just like we did above\n",
    "- Use `git status` and `git log` to make sure your changes have been committed"
   ]
  },
  {
   "cell_type": "markdown",
   "metadata": {
    "slideshow": {
     "slide_type": "slide"
    }
   },
   "source": [
    "## How can we \"undo\" things in Git?\n",
    "\n",
    "- Type `git status` to see the history of all your commits\n",
    "- Each has a hash code associated with it\n",
    "- If we wanted to \"undo\" the last change, it is as simple as typing `git revert` followed by that hashcode\n",
    "- Whatever changes that took place in that commit will be undone\n",
    "- revert = undo a single commit\n",
    "- revert = a safe way to go back\n",
    "- You can revert a revert\n",
    "- There is also another command that is similiar called `git reset`, but this command will actually lose your history\n",
    "- reset = permanent = the unsafe way"
   ]
  },
  {
   "cell_type": "markdown",
   "metadata": {
    "slideshow": {
     "slide_type": "slide"
    }
   },
   "source": [
    "## Exercise\n",
    "\n",
    "- Using `git status` find the hashcode for the test_file you commited\n",
    "- Use `git revert` followed by the hashcode to undo the addition of that file\n",
    "- Use ls to see that it is indeed gone\n",
    "- Now revert the revert using the hashcode from that change\n",
    "- Take a look at `git log` again to see the log of all the changes\n",
    "- Finally use `git reset` and the hashcode for the addition of the test_file to go all the way back (unsafely)\n",
    "- What does `git log` look like now?"
   ]
  },
  {
   "cell_type": "markdown",
   "metadata": {
    "slideshow": {
     "slide_type": "slide"
    }
   },
   "source": [
    "#### What is GitHub?\n",
    "\n",
    "[Github](https://github.com/) is:\n",
    "\n",
    "- A hosting service for Git repositories: we all have individual accounts and put our codebases on our Github account\n",
    "- A web interface to explore Git repositories: developers can access codebases on other public accounts\n",
    "- A social network of programmers: you can follow users and star your favorite projects\n",
    "- Free accounts on GitHub must be public, Paid accounts may be designated as public or private\n",
    "\n"
   ]
  },
  {
   "cell_type": "markdown",
   "metadata": {
    "slideshow": {
     "slide_type": "slide"
    }
   },
   "source": [
    "## To the cloud!\n",
    "\n",
    "So far, we have done everything solely in Git. Let's now git the dumdum repo up on GitHub"
   ]
  },
  {
   "cell_type": "markdown",
   "metadata": {
    "slideshow": {
     "slide_type": "slide"
    }
   },
   "source": [
    "## Walkthrough\n",
    "\n",
    "- Go to GitHub.com\n",
    "- Click on your picture in the upper right-hand corner and go to \"Your profile\"\n",
    "- Click 'Repositories' then 'New' (Green Button)\n",
    "- Name the repo `dumdum`"
   ]
  },
  {
   "cell_type": "markdown",
   "metadata": {
    "slideshow": {
     "slide_type": "slide"
    }
   },
   "source": [
    "- Click the clipboard icon on the right (SSH should be selected)\n",
    "- This will copy the location of the repo on GitHub\n",
    "<img src=\"http://i.imgur.com/zNeA36t.png\">"
   ]
  },
  {
   "cell_type": "markdown",
   "metadata": {
    "slideshow": {
     "slide_type": "slide"
    }
   },
   "source": [
    "- We now need to connect the two\n",
    "- We do this by adding the GitHub repo as the remote for our local repo\n",
    "- We can check that no existing remotes exist by typing the following: `git remote -v`\n",
    "- Since no remote is set up, we should see nothing return\n",
    "- Let's now connect them by adding GitHub as our origin\n",
    "- Type `git remote add origin` followed by pasting what you copied\n",
    "- Type ` git remote -v` again and notice that there is output now\n",
    "- We can now \"push\" our local changes up to our GitHub"
   ]
  },
  {
   "cell_type": "markdown",
   "metadata": {
    "slideshow": {
     "slide_type": "slide"
    }
   },
   "source": [
    "<img src=\"http://i.imgur.com/RwHgiNK.png\">"
   ]
  },
  {
   "cell_type": "markdown",
   "metadata": {
    "slideshow": {
     "slide_type": "slide"
    }
   },
   "source": [
    "## Exercise\n",
    "\n",
    "- Add another file to the dumdum repo and commit it\n",
    "- Now push it up as we did before\n",
    "- Check that it is up on GitHub.com"
   ]
  },
  {
   "cell_type": "markdown",
   "metadata": {
    "slideshow": {
     "slide_type": "slide"
    }
   },
   "source": [
    "#### What is Github Enterprise?\n",
    "\n",
    "[GA Github Enterprise](https://git.generalassemb.ly/) is:\n",
    "- A version of GitHub that is hosted on General Assembly's own servers\n",
    "- Any company (willing to pay up) can host their this enterprise edition on their own servers\n",
    "- GHE gives companies a very high level of control over the git implementation"
   ]
  },
  {
   "cell_type": "markdown",
   "metadata": {
    "slideshow": {
     "slide_type": "slide"
    }
   },
   "source": [
    "#### So many commands?!\n",
    "\n",
    "There are a lot of commands you can use in git. You can see a list of the available commands by running:\n",
    "\n",
    "```bash\n",
    "$ git help -a\n",
    "```\n",
    "\n",
    "Even though there are lots of commands, in the course we will really only need about 10.\n",
    "\n"
   ]
  },
  {
   "cell_type": "markdown",
   "metadata": {
    "slideshow": {
     "slide_type": "slide"
    }
   },
   "source": [
    "#### Forking and cloning\n",
    "\n",
    "Now that everyone has their first repository on GitHub, let's fork and clone a repository.\n",
    "\n",
    "**Forking** gives you a copy of an existing repository -- you can make any changes you want without affecting the original. (You can also propose that the maintainer of the original merge your changes!)\n",
    "\n",
    "**Cloning** gives you a local copy of a remote repository.\n",
    "\n",
    "Let's practice forking and cloning\n"
   ]
  },
  {
   "cell_type": "markdown",
   "metadata": {
    "slideshow": {
     "slide_type": "slide"
    }
   },
   "source": [
    "#### Fork the repo!\n",
    "\n",
    "While logged into GitHub, go to https://github.com/IPGP/scientific_python_cheat_sheet and click the icon that says 'fork'. It might ask you where to fork it, if so, select your personal GH account.\n",
    "\n",
    "<img src=\"http://i.imgur.com/EnLsxUJ.png\">\n",
    "\n"
   ]
  },
  {
   "cell_type": "markdown",
   "metadata": {
    "slideshow": {
     "slide_type": "slide"
    }
   },
   "source": [
    "You will now have your own copy of this repo under your name:\n",
    "<img src=\"http://i.imgur.com/9DRP3EB.png\">"
   ]
  },
  {
   "cell_type": "markdown",
   "metadata": {
    "slideshow": {
     "slide_type": "slide"
    }
   },
   "source": [
    "## A fork in the road\n",
    "\n",
    "A fork of a repo, pulls all the code under your name. A typical use case for a fork is that you find a project that you want to adapt for your own needs. Think of the fork as the place where code diverges."
   ]
  },
  {
   "cell_type": "markdown",
   "metadata": {
    "slideshow": {
     "slide_type": "slide"
    }
   },
   "source": [
    "## Attack of the clones\n",
    "\n",
    "Cloning is making a duplicate of a repository that exists on GitHub on your local machine. You can clone a fork, or you can clone a repository directly. Cloning just makes a copy to you local machine or a repo on GH.\n",
    "\n",
    "Let's clone yesterday's command line lecture:\n",
    "- First, let's get into your home directory by typing `cd ~`\n",
    "- Next type 'mkdir DSI-NYC-4`\n",
    "- Then `cd DSI-NYC-4` to get into that directory\n",
    "- Next `mkdir lectures` and then `cd lectures`\n",
    "- Now, we want to clone yesterday's command line lecture\n",
    "- We do this by running the following: `git clone git@git.generalassemb.ly:dsi-nyc-4-hoppers-lectures/command-line-intro.git`"
   ]
  },
  {
   "cell_type": "markdown",
   "metadata": {
    "slideshow": {
     "slide_type": "slide"
    }
   },
   "source": [
    "If all went well, you should see something like the following:\n",
    "    \n",
    "```bash\n",
    "Cloning into 'command-line-intro'...\n",
    "remote: Counting objects: 6, done.\n",
    "remote: Compressing objects: 100% (4/4), done.\n",
    "remote: Total 6 (delta 0), reused 3 (delta 0), pack-reused 0\n",
    "Receiving objects: 100% (6/6), 5.22 KiB | 0 bytes/s, done.\n",
    "Checking connectivity... done.\n",
    "Alexanders-MacBook-Pro:lectures ac$ ls\n",
    "command-line-intro\n",
    "```"
   ]
  },
  {
   "cell_type": "markdown",
   "metadata": {
    "slideshow": {
     "slide_type": "slide"
    }
   },
   "source": [
    "## Pull\n",
    "\n",
    "If the instructors were to change something in that repo, you would want your clone to reflect those changes. You can sync you local copy with the remote (the origin) by running `git pull origin master`."
   ]
  },
  {
   "cell_type": "markdown",
   "metadata": {
    "slideshow": {
     "slide_type": "slide"
    }
   },
   "source": [
    "<a name=\"ind-practice\"></a>\n",
    "## Independent Practice (25 mins)\n",
    "\n",
    "- Go into your DSI-NYC-4 folder. There should already be a `lectures` folder in there. Add a `resources` and a `morning-exercises` folder in there as well. Then within the repective folders clone down the `academic-polices` repo and the `morning-exercise-terminal` repo\n",
    "- Next, team up with a neighbor and discuss how each of the following is used:  init, add, commit, push, pull, and clone\n",
    "\n"
   ]
  },
  {
   "cell_type": "markdown",
   "metadata": {
    "slideshow": {
     "slide_type": "slide"
    }
   },
   "source": [
    "<a name=\"conclusion\"></a>\n",
    "## Conclusion (5 mins)\n",
    "\n",
    "Today, we discussed the following:\n",
    "- What version control is\n",
    "- Why developers use it\n",
    "- The difference between Git, GitHub, and GitHub Enterprise\n",
    "- How to create, stage, commit, and revert changes\n",
    "- How to push and pull changes to sync repos\n",
    "- What a remote is and how to set it\n",
    "- How to clone and fork repositories"
   ]
  },
  {
   "cell_type": "markdown",
   "metadata": {
    "slideshow": {
     "slide_type": "slide"
    }
   },
   "source": [
    "## Lab\n",
    "\n",
    "Work through the first two chapters of the [Git Tutorial](https://git-scm.com/book/en/v2/Getting-Started-About-Version-Control). Practice creating, staging, committing, pushing, and pulling. Make sure you know how to do the following in GitHub (not GitHub Enterprise - just GitHub.com):\n",
    "\n",
    "- Create a repo from within GitHub \n",
    "- Destroy a repo in GitHub\n",
    "- Remove a repo from your local machine\n",
    "- Reset a repo vs. revert a repo (which is safe again?)\n",
    "- How do you undo a staged file? (hint: git status can help)"
   ]
  },
  {
   "cell_type": "markdown",
   "metadata": {
    "slideshow": {
     "slide_type": "skip"
    }
   },
   "source": [
    "<a name=\"bonus\"></a>\n",
    "## Advanced reading (optional)\n",
    "\n",
    "Once you've mastered the basics, learn more about Git by:\n",
    "\n",
    "- Diving into the book [\"Pro Git\"](https://git-scm.com/book/en/v2).\n",
    "- Considering best practices for Git commit messages by reading [this post](http://chris.beams.io/posts/git-commit/)."
   ]
  }
 ],
 "metadata": {
  "anaconda-cloud": {},
  "celltoolbar": "Slideshow",
  "kernelspec": {
   "display_name": "Python [default]",
   "language": "python",
   "name": "python2"
  },
  "language_info": {
   "codemirror_mode": {
    "name": "ipython",
    "version": 2
   },
   "file_extension": ".py",
   "mimetype": "text/x-python",
   "name": "python",
   "nbconvert_exporter": "python",
   "pygments_lexer": "ipython2",
   "version": "2.7.12"
  }
 },
 "nbformat": 4,
 "nbformat_minor": 0
}
