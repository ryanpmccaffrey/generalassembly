{
 "cells": [
  {
   "cell_type": "markdown",
   "metadata": {
    "slideshow": {
     "slide_type": "slide"
    }
   },
   "source": [
    "# ![](https://ga-dash.s3.amazonaws.com/production/assets/logo-9f88ae6c9c3871690e33280fcf557f33.png) Intro to Python:<br> Control Flow,  Loops,  and Functions\n",
    "Week 1 | Lesson 3.1"
   ]
  },
  {
   "cell_type": "markdown",
   "metadata": {
    "slideshow": {
     "slide_type": "slide"
    }
   },
   "source": [
    "### LEARNING OBJECTIVES\n",
    "*After this lesson, you will be able to:*\n",
    "- Utilize control flow statements: if/else and if/elif/else\n",
    "- Utilize the for loop\n",
    "- Define and use functions\n",
    "\n"
   ]
  },
  {
   "cell_type": "markdown",
   "metadata": {
    "slideshow": {
     "slide_type": "slide"
    }
   },
   "source": [
    "<a name=\"introduction\"></a>\n",
    "## Introduction: Control Flow, Loops, and Functions\n",
    "\n",
    "These three concepts, control flow, loops, and functions, will form the core functionality of most programs you write.\n",
    "\n",
    "We will take a look at each of these in turn in this lecture."
   ]
  },
  {
   "cell_type": "markdown",
   "metadata": {
    "slideshow": {
     "slide_type": "slide"
    }
   },
   "source": [
    "## Control Flow\n",
    "\n",
    "The idea behind control flow is that we want to execute different actions depending on the state of things. \n",
    "For example, let's suppose we are an (evil penny-pinching) airline, and we want to write a program that checks if there should be an extra charge for heavy baggage. We will need to tell the agent whether to collect an additional fee or no."
   ]
  },
  {
   "cell_type": "markdown",
   "metadata": {
    "slideshow": {
     "slide_type": "slide"
    }
   },
   "source": [
    "## Codealong: if, if/else\n",
    "The general Python syntax for a simple if statement is:\n",
    "\n",
    "```bash\n",
    "        if condition:\n",
    "            indentedStatementBlock\n",
    "```\n",
    "\n",
    "If the condition is true, then do the indented statements. If the condition\n",
    "is not true, then skip the indented statements.\n",
    "\n"
   ]
  },
  {
   "cell_type": "markdown",
   "metadata": {
    "slideshow": {
     "slide_type": "slide"
    }
   },
   "source": [
    "In Jupyter notebook cell below (click here and then hit esc+b) type:\n",
    "```python\n",
    "weight = float(input(\"How many pounds does your suitcase weigh? \"))\n",
    "if weight > 50:\n",
    "        print \"There is a $25 charge for luggage that heavy.\"\n",
    "print \"Thanks for flying with us!\"\n",
    "```\n",
    "\n",
    "Run that the cell (shift+enter), then type:\n",
    "```bash\n",
    "43\n",
    "```\n"
   ]
  },
  {
   "cell_type": "markdown",
   "metadata": {
    "slideshow": {
     "slide_type": "slide"
    }
   },
   "source": [
    "and it returns:\n",
    "```bash\n",
    "Thanks for flying with us!\n",
    "```"
   ]
  },
  {
   "cell_type": "markdown",
   "metadata": {
    "slideshow": {
     "slide_type": "slide"
    }
   },
   "source": [
    "Do it again, but this time put in a number > 50.\n",
    "\n",
    "and it returns:\n",
    "```bash\n",
    "There is a $25 charge for luggage that heavy.\n",
    "Thanks for flying with us!\n",
    "```\n",
    "\n"
   ]
  },
  {
   "cell_type": "markdown",
   "metadata": {
    "slideshow": {
     "slide_type": "slide"
    }
   },
   "source": [
    "The general Python if-else syntax is\n",
    "\n",
    "        if condition :\n",
    "            indentedStatementBlockForTrueCondition\n",
    "        else:\n",
    "            indentedStatementBlockForFalseCondition\n",
    "\n",
    "These statement blocks can have any number of statements, and can include\n",
    "about any kind of statement.\n",
    "\n"
   ]
  },
  {
   "cell_type": "markdown",
   "metadata": {
    "slideshow": {
     "slide_type": "slide"
    }
   },
   "source": [
    "## If/else\n",
    "\n",
    "In a new cell in your notebook type:\n",
    "```bash\n",
    "temperature = float(input('What is the temperature? '))\n",
    "\n",
    "if temperature > 70:\n",
    "    print 'Wear shorts.'\n",
    "else:\n",
    "    print 'Wear long pants.'\n",
    "print 'Get some exercise outside.'\n",
    "```\n",
    "\n",
    "The middle four lines are an `if-else` statement. There are two indented blocks: one comes after the `if` heading and is executed when the condition in the `if` heading is true. This is followed by an `else:` line, followed by another indented block executed when the original condition is false. In an `if-else` statement exactly one of two possible indented blocks is executed.\n",
    "\n",
    "Play around inputting numbers that are < 70 or > 70."
   ]
  },
  {
   "cell_type": "markdown",
   "metadata": {
    "slideshow": {
     "slide_type": "slide"
    }
   },
   "source": [
    "## Exercise:\n",
    "\n",
    "Write your own control flow statement that accepts as input your metrocard balance.\n",
    "If the balance is greater than or equal to \\$2.75, your code should print out \"Enjoy the ride!\". It should then print out the remaining balance. If the balance is below \\$2.75, then have it print out \"Rejected! Time to refill!\". In either case, it should print \"The MTA\" at te end."
   ]
  },
  {
   "cell_type": "code",
   "execution_count": null,
   "metadata": {
    "collapsed": false,
    "slideshow": {
     "slide_type": "slide"
    }
   },
   "outputs": [],
   "source": []
  },
  {
   "cell_type": "markdown",
   "metadata": {
    "slideshow": {
     "slide_type": "slide"
    }
   },
   "source": [
    "<a name=\"if/elif/else\"></a>\n",
    "## Codealong: if/elif/else\n",
    "The syntax for an if-elif-else statement is indicated in general below:\n",
    "\n",
    "```python\n",
    "if condition1 :\n",
    "    indentedStatementBlockForTrueCondition1\n",
    "elif condition2 :\n",
    "    indentedStatementBlockForFirstTrueCondition2\n",
    "elif condition3 :\n",
    "    indentedStatementBlockForFirstTrueCondition3\n",
    "elif condition4 :\n",
    "    indentedStatementBlockForFirstTrueCondition4\n",
    "else:\n",
    "    indentedStatementBlockForEachConditionFalse\n",
    "```"
   ]
  },
  {
   "cell_type": "markdown",
   "metadata": {
    "slideshow": {
     "slide_type": "slide"
    }
   },
   "source": [
    "Type:\n",
    "```python\n",
    "x = int(raw_input(\"Please enter an integer: \"))\n",
    "```\n",
    "Run the following in a cell:\n",
    "```bash\n",
    "if x < 0:\n",
    "    x = 0\n",
    "    print 'Negative changed to zero'\n",
    "elif x == 0:\n",
    "    print 'Zero'\n",
    "elif x == 1:\n",
    "    print 'Single'\n",
    "else:\n",
    "    print 'More'\n",
    "```\n",
    "\n",
    "The if, each elif, and the final else line are all aligned. There can be any number of elif lines, each followed by an indented block. Exactly one of the indented blocks is executed: the one corresponding to the first True condition."
   ]
  },
  {
   "cell_type": "markdown",
   "metadata": {
    "slideshow": {
     "slide_type": "slide"
    }
   },
   "source": [
    "\n",
    "> **Check**: How many indented blocks in an if/elif/else are executed?\n",
    "\n",
    "```bash\n",
    "if x < 0:\n",
    "    x = 0\n",
    "    print 'Negative changed to zero'\n",
    "elif x == 0:\n",
    "    print 'Zero'\n",
    "elif x == 1:\n",
    "    print 'Single'\n",
    "else:\n",
    "    print 'More'\n",
    "```\n"
   ]
  },
  {
   "cell_type": "markdown",
   "metadata": {
    "slideshow": {
     "slide_type": "slide"
    }
   },
   "source": [
    "<a name=\"loops\"></a>\n",
    "## Codealong: Loops\n",
    "\n",
    "Python’s for statement iterates over the items of any sequence (a list or a string), in the order that they appear in the sequence.\n",
    "\n",
    "The syntax of the for loop is indicated in general below:\n",
    "\n",
    "```bash\n",
    "for iterator_name in iterating_sequence:\n",
    "        …statements…\n",
    "```"
   ]
  },
  {
   "cell_type": "markdown",
   "metadata": {
    "slideshow": {
     "slide_type": "slide"
    }
   },
   "source": [
    "Type:\n",
    "```bash\n",
    "words = ['cat', 'window', 'defenestrate']\n",
    "for w in words:\n",
    "    print w, len(w)\n",
    "```\n",
    "\n",
    "and it returns:\n",
    "```bash\n",
    "cat 3\n",
    "window 6\n",
    "defenestrate 12\n",
    "```\n"
   ]
  },
  {
   "cell_type": "markdown",
   "metadata": {
    "slideshow": {
     "slide_type": "slide"
    }
   },
   "source": [
    "## Exercise\n",
    "\n",
    "Create a list that contains tuples of size 2. First write a loop that prints out each element in the tuple. Next write a for loop that prints out only the second element of each tuple. (hint: indexing)"
   ]
  },
  {
   "cell_type": "code",
   "execution_count": null,
   "metadata": {
    "collapsed": false,
    "slideshow": {
     "slide_type": "slide"
    }
   },
   "outputs": [],
   "source": []
  },
  {
   "cell_type": "markdown",
   "metadata": {
    "slideshow": {
     "slide_type": "slide"
    }
   },
   "source": [
    "<a name=\"functions\"></a>\n",
    "## Codealong: user-defined functions (15 mins)\n",
    "\n",
    "What if you want to repeat the functions above without typing them over and over? You can define functions to provide the required functionality. Here are simple rules to define a function in Python.\n",
    "- Function blocks begin with the keyword `def` followed by the function name and parentheses followed by a colon at the end, e.g., `def my_funct():`. \n",
    "- Any input parameters or arguments should be placed within these parentheses. You can also define parameters inside these parentheses,e.g., `def my_funct(test_arg):`\n",
    "- The first statement of a function can be an optional statement - the documentation string of the function or docstring.\n",
    "- The code block within every function is indented.\n",
    "- The statement return [expression] exits a function, optionally passing back an expression to the caller. A return statement with no arguments is the same as return None.\n",
    "\n"
   ]
  },
  {
   "cell_type": "markdown",
   "metadata": {
    "slideshow": {
     "slide_type": "slide"
    }
   },
   "source": [
    "The general syntax for a function is thus:\n",
    "```python\n",
    "def functionname( parameters ):\n",
    "   \"\"\"function_docstring\"\"\"\n",
    "   function_suite\n",
    "   return [expression]\n",
    "```\n",
    "\n"
   ]
  },
  {
   "cell_type": "markdown",
   "metadata": {
    "slideshow": {
     "slide_type": "slide"
    }
   },
   "source": [
    "Let's create a function called emphasize:\n",
    "```bash\n",
    "def emphasize(s):\n",
    "   \"\"\"This prints a passed string into this function with emphasis!\"\"\"\n",
    "   print s + \"!\"\n",
    "   return None\n",
    "```\n",
    "\n"
   ]
  },
  {
   "cell_type": "markdown",
   "metadata": {
    "slideshow": {
     "slide_type": "slide"
    }
   },
   "source": [
    "Now, let's call the function:\n",
    "```bash\n",
    "emphasize(\"Why does this subway car smell so bad?\")\n",
    "emphasize(\"I like functions\")\n",
    "```\n",
    "\n",
    "and it returns:\n",
    "```bash\n",
    "Why does this subway car smell so bad?!\n",
    "I like functions!\n",
    "```\n"
   ]
  },
  {
   "cell_type": "markdown",
   "metadata": {
    "slideshow": {
     "slide_type": "slide"
    }
   },
   "source": [
    "## Exercise\n",
    "\n",
    "Pair up with a neighbor, and write a function that accepts a list and prints out every item in the list. Run it!"
   ]
  },
  {
   "cell_type": "code",
   "execution_count": null,
   "metadata": {
    "collapsed": false,
    "slideshow": {
     "slide_type": "slide"
    }
   },
   "outputs": [],
   "source": []
  },
  {
   "cell_type": "markdown",
   "metadata": {
    "slideshow": {
     "slide_type": "slide"
    }
   },
   "source": [
    "<a name=\"ind-practice\"></a>\n",
    "## Independent Practice: Topic (10 minutes)\n",
    "- What is the general syntax/format of:  \n",
    "        - if/else?\n",
    "        - if/elif/else?\n",
    "        - loop?\n",
    "        - function?\n",
    "- Define and explain each to a partner\n",
    "- Write and run examples in your notebook. If your examples work, try to break them by changing syntax or the inputs!\n",
    "\n"
   ]
  },
  {
   "cell_type": "markdown",
   "metadata": {
    "slideshow": {
     "slide_type": "slide"
    }
   },
   "source": [
    "<a name=\"conclusion\"></a>\n",
    "## Conclusion (5 mins)\n",
    "Today we learned about if/else, if/elif/else, loops, and functions. Practice coding each until you\n",
    "feel comfortable. If you understand basic control flow concepts, you're on your way to writing\n",
    "fantastic executable programs!\n"
   ]
  }
 ],
 "metadata": {
  "anaconda-cloud": {},
  "celltoolbar": "Slideshow",
  "kernelspec": {
   "display_name": "Python [default]",
   "language": "python",
   "name": "python2"
  },
  "language_info": {
   "codemirror_mode": {
    "name": "ipython",
    "version": 2
   },
   "file_extension": ".py",
   "mimetype": "text/x-python",
   "name": "python",
   "nbconvert_exporter": "python",
   "pygments_lexer": "ipython2",
   "version": "2.7.12"
  }
 },
 "nbformat": 4,
 "nbformat_minor": 0
}
