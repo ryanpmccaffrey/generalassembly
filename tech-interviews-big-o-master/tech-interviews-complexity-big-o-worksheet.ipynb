{
 "cells": [
  {
   "cell_type": "markdown",
   "metadata": {
    "slideshow": {
     "slide_type": "slide"
    }
   },
   "source": [
    "# The technical interview\n",
    "\n",
    "## Part I: Big O analysis"
   ]
  },
  {
   "cell_type": "markdown",
   "metadata": {
    "slideshow": {
     "slide_type": "slide"
    }
   },
   "source": [
    "### LEARNING OBJECTIVES\n",
    "*After this lesson, you will be able to:*\n",
    "- Identify the runtime complexity of a simple algorithm, in Big O notation\n",
    "- Discuss ways to decrease Big O time"
   ]
  },
  {
   "cell_type": "markdown",
   "metadata": {
    "slideshow": {
     "slide_type": "slide"
    }
   },
   "source": [
    "### A prelude...\n",
    "\n",
    "_Maximum product of three elements_\n",
    "\n",
    "Write a function that takes a list of integers and returns the largest product of three separate elements."
   ]
  },
  {
   "cell_type": "code",
   "execution_count": 4,
   "metadata": {
    "collapsed": false,
    "slideshow": {
     "slide_type": "slide"
    }
   },
   "outputs": [
    {
     "name": "stdout",
     "output_type": "stream",
     "text": [
      "1000\n"
     ]
    }
   ],
   "source": [
    "\"\"\" Naive, brute force solution.\"\"\"\n",
    "\n",
    "n = [1,1,2,10,4,6,-10,7,-10,0]\n",
    "\n",
    "def largestProduct(n):\n",
    "    # as we go, keep track of the largest product found so far\n",
    "    maxProduct = 0\n",
    "    # we're going to check every single combination of elements (\"brute force\")\n",
    "    # this is the most obvious, non-optimized solution (\"naive\").\n",
    "    for i in range(len(n)-2):\n",
    "        # for each element, we'll make a sublist to loop through\n",
    "        # that doesn't include that element\n",
    "        secondList = n[:i] + n[i+1:]\n",
    "        for j in range(len(secondList)-1):\n",
    "            thirdList = secondList[:j] + secondList[j+1:]\n",
    "            for k in range(len(thirdList)):\n",
    "                # multiply every combination of three distinct elements\n",
    "                product = n[i] * secondList[j] * thirdList[k]\n",
    "                if product > maxProduct:\n",
    "                    # update our maxProduct variable \n",
    "                    # if we find a larger value \n",
    "                    maxProduct = product\n",
    "    return maxProduct\n",
    "\n",
    "print largestProduct(n)"
   ]
  },
  {
   "cell_type": "markdown",
   "metadata": {
    "slideshow": {
     "slide_type": "slide"
    }
   },
   "source": [
    "### Big O analysis\n",
    "\n",
    "- If you have a very big file on a hard drive, and want to send it across the country, which is faster: emailing it or getting on a flight?\n"
   ]
  },
  {
   "cell_type": "markdown",
   "metadata": {
    "slideshow": {
     "slide_type": "slide"
    }
   },
   "source": [
    "- Depends on its size. Emailing scales linearly with size; flying it on a hard drive is in constant time.\n",
    "- Time (and space) complexity (asymptomtic runtime / Big O time) helps us think about questions like this: how do time and space requirements increase with the size of our data?"
   ]
  },
  {
   "cell_type": "markdown",
   "metadata": {
    "slideshow": {
     "slide_type": "slide"
    }
   },
   "source": [
    "### Runtime in Big O notation\n",
    "\n",
    "Nomenclature is \"O([runtime])\"\n",
    "\n",
    "- the key question: _at worst, how does the work you do change_, as a function of input size?\n",
    "- constant time would be O(1)\n",
    "- linear time is O(n)\n",
    "\n",
    "What is the runtime for this?\n",
    "\n",
    "```python \n",
    "for i in someList:\n",
    "    print i\n",
    "```\n"
   ]
  },
  {
   "cell_type": "markdown",
   "metadata": {
    "slideshow": {
     "slide_type": "slide"
    }
   },
   "source": [
    "- It's O(n), where n is the length of someList\n",
    "\n",
    "What about this:\n",
    "\n",
    "```python\n",
    "for i in someList:\n",
    "    print i\n",
    "for j in anotherList:\n",
    "    print j\n",
    "```\n"
   ]
  },
  {
   "cell_type": "markdown",
   "metadata": {
    "slideshow": {
     "slide_type": "slide"
    }
   },
   "source": [
    "- This loops twice. If we assume someList and anotherList are the same length, then runtime is O(2n). \n",
    "\n",
    "- In Big O analysis, we drop any additive or multiplicative constants, since we are only interested in an approximation of the rate of change. So the time complexity is still O(n)!"
   ]
  },
  {
   "cell_type": "markdown",
   "metadata": {
    "slideshow": {
     "slide_type": "slide"
    }
   },
   "source": [
    "How about if we have an outer loop and an inner loop?:\n",
    "\n",
    "```python\n",
    "for i in someList:\n",
    "    print i\n",
    "    for j in anotherList:\n",
    "        print i, j\n",
    "```\n"
   ]
  },
  {
   "cell_type": "markdown",
   "metadata": {
    "slideshow": {
     "slide_type": "slide"
    }
   },
   "source": [
    "- Now we're looping through anotherList once for *every* step in someList. It iterates n times and gets called n times.\n",
    "- So this happens n * n times = O($n^2$)\n"
   ]
  },
  {
   "cell_type": "markdown",
   "metadata": {
    "slideshow": {
     "slide_type": "slide"
    }
   },
   "source": [
    "- Space works similarly"
   ]
  },
  {
   "cell_type": "markdown",
   "metadata": {
    "slideshow": {
     "slide_type": "slide"
    }
   },
   "source": [
    "Take a few minutes to read over this introduction to Big O notation ([Part 1](https://justin.abrah.ms/computer-science/big-o-notation-explained.html), [Part 2](https://justin.abrah.ms/computer-science/how-to-calculate-big-o.html))."
   ]
  },
  {
   "cell_type": "markdown",
   "metadata": {
    "slideshow": {
     "slide_type": "fragment"
    }
   },
   "source": [
    "Now, optimize the solution above. Can you find a solution that works in O(n log n) time? \n",
    "\n",
    "_Hint: take note of the function name, and [this reference sheet](https://wiki.python.org/moin/TimeComplexity)._\n",
    "\n"
   ]
  },
  {
   "cell_type": "code",
   "execution_count": 15,
   "metadata": {
    "collapsed": false
   },
   "outputs": [
    {
     "name": "stdout",
     "output_type": "stream",
     "text": [
      "420\n",
      "1000\n"
     ]
    }
   ],
   "source": [
    "def sortFirst(n):\n",
    "    # ...\n",
    "    return\n",
    "\n",
    "def sortFirstIncludeNegatives(n):\n",
    "    \"\"\"What if there are negatives?\"\"\"\n",
    "    # ...\n",
    "    return\n",
    "\n",
    "\n",
    "print sortFirst(n)\n",
    "print sortFirstIncludeNegatives(n)"
   ]
  },
  {
   "cell_type": "markdown",
   "metadata": {
    "slideshow": {
     "slide_type": "slide"
    }
   },
   "source": [
    "How about looping over the data just once, i.e. O(n)?\n"
   ]
  },
  {
   "cell_type": "code",
   "execution_count": null,
   "metadata": {
    "collapsed": true,
    "slideshow": {
     "slide_type": "slide"
    }
   },
   "outputs": [],
   "source": [
    "def onePass(n):\n",
    "    # ...\n",
    "    return\n",
    "\n",
    "print onePass(n)"
   ]
  }
 ],
 "metadata": {
  "celltoolbar": "Slideshow",
  "kernelspec": {
   "display_name": "Python 2",
   "language": "python",
   "name": "python2"
  },
  "language_info": {
   "codemirror_mode": {
    "name": "ipython",
    "version": 2
   },
   "file_extension": ".py",
   "mimetype": "text/x-python",
   "name": "python",
   "nbconvert_exporter": "python",
   "pygments_lexer": "ipython2",
   "version": "2.7.13"
  }
 },
 "nbformat": 4,
 "nbformat_minor": 0
}
