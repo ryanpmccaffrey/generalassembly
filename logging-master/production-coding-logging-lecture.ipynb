{
 "cells": [
  {
   "cell_type": "markdown",
   "metadata": {
    "slideshow": {
     "slide_type": "slide"
    }
   },
   "source": [
    "![](https://ga-dash.s3.amazonaws.com/production/assets/logo-9f88ae6c9c3871690e33280fcf557f33.png)\n",
    "# Production coding: Logging\n",
    "Week 11 | Day 1\n"
   ]
  },
  {
   "cell_type": "markdown",
   "metadata": {
    "slideshow": {
     "slide_type": "slide"
    }
   },
   "source": [
    "### LEARNING OBJECTIVES\n",
    "*After this lesson, you will be able to:*\n",
    "- Explain the benefits of logging\n",
    "- Use the Python logger library\n",
    "- Configure Python logger"
   ]
  },
  {
   "cell_type": "markdown",
   "metadata": {
    "slideshow": {
     "slide_type": "slide"
    }
   },
   "source": [
    "## Data Scientist vs. Machine Learning Engineer\n",
    "\n",
    "<img src=\"http://i.imgur.com/S3q5GJn.png\" width=400>\n",
    "\n",
    "This is a distinction that is becoming more relevant recently. While both roles must understand the data science workflow and the ins and outs of the various machine learning algorithms, typically the output is different. The machine learning engineer's final product is a working model in production code, while the data scientist's is typically a number of visualizations and/or a prototype.\n",
    "\n",
    "Regardless of whether the code is for a prototype or for production, logging is an essential component."
   ]
  },
  {
   "cell_type": "markdown",
   "metadata": {
    "slideshow": {
     "slide_type": "slide"
    }
   },
   "source": [
    "## Logging\n",
    "\n",
    "Why log?"
   ]
  },
  {
   "cell_type": "markdown",
   "metadata": {
    "slideshow": {
     "slide_type": "slide"
    }
   },
   "source": [
    "## Because this is not ok\n",
    "\n",
    "```python\n",
    "print \"About to run this questionable function that keeps breaking\"\n",
    "\n",
    "do_someting_sketchy()\n",
    "\n",
    "print \"Yes, made it!!!\"\n",
    "\n",
    "```"
   ]
  },
  {
   "cell_type": "markdown",
   "metadata": {
    "slideshow": {
     "slide_type": "slide"
    }
   },
   "source": [
    "\n",
    "## Ad hoc `print` statements: \n",
    "- Not crazy for simple personal scripts. Not sufficient for anything more"
   ]
  },
  {
   "cell_type": "markdown",
   "metadata": {
    "slideshow": {
     "slide_type": "slide"
    }
   },
   "source": [
    "## Grown-up coding\n",
    "\n",
    "- Writing to stderr or stdout doesn't cut it for long-running scripts\n",
    "- For more mature projects, we need a more robust system of to diagnose issues and keep an audit trail of events"
   ]
  },
  {
   "cell_type": "markdown",
   "metadata": {
    "slideshow": {
     "slide_type": "slide"
    }
   },
   "source": [
    "## Python's `logging` library\n",
    "\n",
    "- Python's standard library includes ``logging``\n",
    "- It is a versatile library that includes a great deal of functionality"
   ]
  },
  {
   "cell_type": "markdown",
   "metadata": {
    "slideshow": {
     "slide_type": "slide"
    }
   },
   "source": [
    "## Code-a-long: Flask app\n",
    "\n",
    "- Create a folder on your desktop called `my_flask_api`\n",
    "- Create a text file with the following content:\n",
    "    ```python\n",
    "    from flask import Flask\n",
    "    app = Flask(__name__)\n",
    "\n",
    "    @app.route('/')\n",
    "    def hello_world():\n",
    "        print 'about to print this!'\n",
    "        return 'Hello, World!'\n",
    "\n",
    "    if __name__ == '__main__':\n",
    "        print 'about to run this thing!'\n",
    "        app.run()\n",
    "    ```\n",
    "- Save the file as `test_flask.py`\n",
    "- On your terminal, cd into the `my_flask_api` directory and type: `python test_flask.py`\n",
    "- Pull up your browser and notice the output of the print statements"
   ]
  },
  {
   "cell_type": "markdown",
   "metadata": {
    "slideshow": {
     "slide_type": "slide"
    }
   },
   "source": [
    "## Codealong: Flask app\n",
    "\n",
    "\n",
    "- Let's now improve it a bit; we'll write our output to a file\n",
    "- Better, right?\n",
    "- But notice that this file is not readable while the application is running\n",
    "- Also, imagine how this would this scale to dozens, hundreds, or thousands of users? How about as our code became increasingly complex?"
   ]
  },
  {
   "cell_type": "markdown",
   "metadata": {
    "slideshow": {
     "slide_type": "slide"
    }
   },
   "source": [
    "## A better way: the `logging` module\n",
    "\n",
    "\n",
    "We'll now add logging statements that output a .log file. (control + c to kill your existing flask instance)\n",
    "\n",
    "```python\n",
    "from flask import Flask\n",
    "import logging\n",
    "logging.basicConfig(filename='test.log', level=logging.INFO)\n",
    "logger = logging.getLogger(__name__)\n",
    "app = Flask(__name__)\n",
    "\n",
    "@app.route('/')\n",
    "def hello_world():\n",
    "    logger.info('about to print this!')\n",
    "    return 'Hello, World!'\n",
    "\n",
    "if __name__ == '__main__':\n",
    "    logger.debug('about to run this thing!')\n",
    "    app.run()\n",
    "```\n",
    "\n",
    "This configures our logging system (specifically, the \"root logger\"), by specifying a write file and a \"level\" (more on that in a moment).\n"
   ]
  },
  {
   "cell_type": "markdown",
   "metadata": {
    "slideshow": {
     "slide_type": "slide"
    }
   },
   "source": [
    "## The `logging` module\n",
    "\n",
    "- Run this code again with `python test_flask.py`\n",
    "- Refresh your browser and check the `test.log` output, is anything missing? Why might that be?"
   ]
  },
  {
   "cell_type": "markdown",
   "metadata": {
    "slideshow": {
     "slide_type": "slide"
    }
   },
   "source": [
    "## The logging hierarchy\n",
    "\n",
    "In our code, notice this line:\n",
    "```python\n",
    "logging.basicConfig(filename='test.log', level=logging.INFO)\n",
    "```\n",
    "This line configured our output so that only things at the level of INFO or more critical are written to the log.\n",
    "Go ahead and rerun the process with `level=logging.DEBUG`. What do you see now?"
   ]
  },
  {
   "cell_type": "markdown",
   "metadata": {
    "slideshow": {
     "slide_type": "slide"
    }
   },
   "source": [
    "## The logging hierarchy\n",
    "\n",
    "There are five \"levels\" of logging. You  configure the system's threshold for logging via logging.basicConfig.\n",
    "\n",
    "```python\n",
    "logger.debug('Very granular logging message, useful for debugging.')\n",
    "logger.info('Simple update on normal execution, e.g. \"Processing record {} of {}\"'.format(10,100)\n",
    "logger.warning('You\\'ve seen these in sklearn, warning about methods being deprecated')\n",
    "logger.error('Logs an error message')\n",
    "logger.critical('Well this is an issue')\n",
    "```"
   ]
  },
  {
   "cell_type": "markdown",
   "metadata": {
    "slideshow": {
     "slide_type": "slide"
    }
   },
   "source": [
    "There are other useful configuration parameters, particularly format:\n",
    "\n",
    "```python\n",
    "logging.basicConfig(filename='test.log', format='%(levelname)s: %(asctime)s: %(message)s', level=logging.DEBUG)\n",
    "```\n",
    "\n",
    "You can also change it so that the log file will be over-written every time the program is run:\n",
    "\n",
    "```python\n",
    "logging.basicConfig(filename='test.log', filemode='w', level=logging.DEBUG)\n",
    "```\n",
    "\n",
    "NB: You'll need to add this at the start of your file, as .basicConfig does nothing if it's run after your logging system is configured."
   ]
  },
  {
   "cell_type": "markdown",
   "metadata": {
    "slideshow": {
     "slide_type": "slide"
    }
   },
   "source": [
    "## Beyond the basics: Dealing with scale\n",
    "\n",
    "One thing you can imagine might happen is A LOT of text being written to the log files, especially as you scale up your application. How can you handle that?"
   ]
  },
  {
   "cell_type": "markdown",
   "metadata": {
    "slideshow": {
     "slide_type": "slide"
    }
   },
   "source": [
    "## Rotating log files\n",
    "\n",
    "One way to deal with this issue is to write to a file until it reaches a certain max size. Once that happens, you begin writing to another file. Generally, you only want to save a certain number of files so that you don't clutter up your system.\n",
    "\n",
    "[RotatingFileHandler](https://docs.python.org/3/library/logging.handlers.html#logging.handlers.RotatingFileHandler)"
   ]
  },
  {
   "cell_type": "markdown",
   "metadata": {
    "slideshow": {
     "slide_type": "slide"
    }
   },
   "source": [
    "## Timed rotating log files\n",
    "\n",
    "Another way to handle log files is to rotate them on a given schedule. For example, you could write all the data for each hour into a log file and retain only the last 24 hours or the last 72 hours.\n",
    "\n",
    "[TimedRotatingFileHandler](https://docs.python.org/3/library/logging.handlers.html#logging.handlers.TimedRotatingFileHandler)"
   ]
  },
  {
   "cell_type": "markdown",
   "metadata": {
    "slideshow": {
     "slide_type": "slide"
    }
   },
   "source": [
    "## Example: Try out the following\n",
    "\n",
    "```python\n",
    "from flask import Flask\n",
    "import logging\n",
    "from logging.handlers import TimedRotatingFileHandler\n",
    "\n",
    "logger = logging.getLogger()\n",
    "logger.setLevel(logging.DEBUG)\n",
    "\n",
    "formatter = logging.Formatter('%(asctime)s - %(levelname)s - %(message)s')\n",
    "\n",
    "fh = TimedRotatingFileHandler('test.log', when='s', interval=5, backupCount=5)\n",
    "fh.setLevel(logging.DEBUG)\n",
    "fh.setFormatter(formatter)\n",
    "logger.addHandler(fh)\n",
    "\n",
    "app = Flask(__name__)\n",
    "\n",
    "@app.route('/')\n",
    "def hello_world():\n",
    "    logger.info('about to print this!')\n",
    "    return 'Hello, World!'\n",
    "\n",
    "if __name__ == '__main__':\n",
    "    logger.debug('about to run this thing!')\n",
    "    app.run()\n",
    "```"
   ]
  },
  {
   "cell_type": "markdown",
   "metadata": {
    "slideshow": {
     "slide_type": "slide"
    }
   },
   "source": [
    "## Additional FileHandlers\n",
    "\n",
    "This file handler can send email messages:\n",
    "[SMTPFileHandler](https://docs.python.org/3/library/logging.handlers.html#logging.handlers.SMTPHandler)<br>\n",
    "\n",
    "This one can send a http request:\n",
    "[HTTPFileHandler](https://docs.python.org/3/library/logging.handlers.html#logging.handlers.HTTPHandler)\n",
    "\n",
    "Note that you can have multiple handlers with different levels. For example, maybe INFO and WARNINGS go to a log file, but CRITICAL goes to your email."
   ]
  },
  {
   "cell_type": "markdown",
   "metadata": {
    "slideshow": {
     "slide_type": "slide"
    }
   },
   "source": [
    "### Independent practice: logging\n",
    "\n",
    "Using the following starter script, your new logging knowledge, and the Postman Chrome add in, continue developing a Flask API. Try using various handlers like SMTPFileHandler. Try using additional arguments, as well as using POST and GET.\n",
    "\n",
    "The following resources should help: <br>\n",
    "[Simple Flask API](http://blog.luisrei.com/articles/flaskrest.html) <br>\n",
    "[RESTful Flask API](https://blog.miguelgrinberg.com/post/designing-a-restful-api-with-python-and-flask) <br>\n",
    "[Logging Cookbook](https://docs.python.org/2/howto/logging-cookbook.html)<br>\n",
    "\n",
    "\n",
    "```python\n",
    "from flask import Flask\n",
    "import logging\n",
    "from logging.handlers import TimedRotatingFileHandler\n",
    "from flask import request\n",
    "\n",
    "logger = logging.getLogger()\n",
    "logger.setLevel(logging.DEBUG)\n",
    "\n",
    "formatter = logging.Formatter('%(asctime)s - %(levelname)s - %(message)s')\n",
    "\n",
    "fh = TimedRotatingFileHandler('test.log', when='m', interval=5, backupCount=3)\n",
    "fh.setLevel(logging.DEBUG)\n",
    "fh.setFormatter(formatter)\n",
    "logger.addHandler(fh)\n",
    "\n",
    "app = Flask(__name__)\n",
    "\n",
    "@app.route('/')\n",
    "def hello_world():\n",
    "    logger.info('about to print this!')\n",
    "    return 'Hello, World!'\n",
    "\n",
    "@app.route('/hello')\n",
    "def say_hi():\n",
    "    if 'name' in request.args:\n",
    "\t    return 'Hello, ' + request.args['name']\n",
    "    else:\n",
    "\t    return 'Hello, John Doe'\n",
    "\n",
    "if __name__ == '__main__':\n",
    "    logger.debug('about to run this thing!')\n",
    "    app.run()\n",
    "```"
   ]
  },
  {
   "cell_type": "markdown",
   "metadata": {
    "slideshow": {
     "slide_type": "slide"
    }
   },
   "source": [
    "## Postman add-in\n",
    "\n",
    "<img src=\"http://i.imgur.com/MHl4UbS.png\">"
   ]
  },
  {
   "cell_type": "markdown",
   "metadata": {
    "slideshow": {
     "slide_type": "slide"
    }
   },
   "source": [
    "## Conclusion\n",
    "\n",
    "In this lecture we saw the following:\n",
    "- Why to log\n",
    "- When to log\n",
    "- How to log"
   ]
  },
  {
   "cell_type": "code",
   "execution_count": null,
   "metadata": {
    "collapsed": true
   },
   "outputs": [],
   "source": []
  }
 ],
 "metadata": {
  "anaconda-cloud": {},
  "celltoolbar": "Slideshow",
  "kernelspec": {
   "display_name": "Python [default]",
   "language": "python",
   "name": "python2"
  },
  "language_info": {
   "codemirror_mode": {
    "name": "ipython",
    "version": 2
   },
   "file_extension": ".py",
   "mimetype": "text/x-python",
   "name": "python",
   "nbconvert_exporter": "python",
   "pygments_lexer": "ipython2",
   "version": "2.7.12"
  }
 },
 "nbformat": 4,
 "nbformat_minor": 0
}
